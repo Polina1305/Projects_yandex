{
 "cells": [
  {
   "cell_type": "markdown",
   "metadata": {
    "toc": true
   },
   "source": [
    "<h1>Содержание<span class=\"tocSkip\"></span></h1>\n",
    "<div class=\"toc\"><ul class=\"toc-item\"><li><span><a href=\"#Откройте-файл-с-данными-и-изучите-общую-информацию.\" data-toc-modified-id=\"Откройте-файл-с-данными-и-изучите-общую-информацию.-1\"><span class=\"toc-item-num\">1&nbsp;&nbsp;</span>Откройте файл с данными и изучите общую информацию.</a></span></li><li><span><a href=\"#Предобработка-данных\" data-toc-modified-id=\"Предобработка-данных-2\"><span class=\"toc-item-num\">2&nbsp;&nbsp;</span>Предобработка данных</a></span></li><li><span><a href=\"#Посчитайте-и-добавьте-в-таблицу-новые-столбцы\" data-toc-modified-id=\"Посчитайте-и-добавьте-в-таблицу-новые-столбцы-3\"><span class=\"toc-item-num\">3&nbsp;&nbsp;</span>Посчитайте и добавьте в таблицу новые столбцы</a></span></li><li><span><a href=\"#Проведите-исследовательский-анализ-данных\" data-toc-modified-id=\"Проведите-исследовательский-анализ-данных-4\"><span class=\"toc-item-num\">4&nbsp;&nbsp;</span>Проведите исследовательский анализ данных</a></span></li><li><span><a href=\"#Общий-вывод\" data-toc-modified-id=\"Общий-вывод-5\"><span class=\"toc-item-num\">5&nbsp;&nbsp;</span>Общий вывод</a></span></li></ul></div>"
   ]
  },
  {
   "cell_type": "markdown",
   "metadata": {},
   "source": [
    "# Исследование объявлений о продаже квартир\n",
    "\n",
    "В вашем распоряжении данные сервиса Яндекс.Недвижимость — архив объявлений о продаже квартир в Санкт-Петербурге и соседних населённых пунктов за несколько лет. Нужно научиться определять рыночную стоимость объектов недвижимости. Ваша задача — установить параметры. Это позволит построить автоматизированную систему: она отследит аномалии и мошенническую деятельность. \n",
    "\n",
    "По каждой квартире на продажу доступны два вида данных. Первые вписаны пользователем, вторые — получены автоматически на основе картографических данных. Например, расстояние до центра, аэропорта, ближайшего парка и водоёма. "
   ]
  },
  {
   "cell_type": "markdown",
   "metadata": {},
   "source": [
    "### Откройте файл с данными и изучите общую информацию. "
   ]
  },
  {
   "cell_type": "code",
   "execution_count": 1,
   "metadata": {},
   "outputs": [],
   "source": [
    "import pandas as pd\n",
    "import numpy as np\n",
    "import matplotlib.pyplot as plt"
   ]
  },
  {
   "cell_type": "code",
   "execution_count": null,
   "metadata": {},
   "outputs": [],
   "source": [
    "try:\n",
    "    df = pd.read_csv('/datasets/real_estate_data.csv', sep='\\t')\n",
    "except:\n",
    "    df = pd.read_csv('real_estate_data.csv', sep='\\t')"
   ]
  },
  {
   "cell_type": "markdown",
   "metadata": {},
   "source": [
    "*выведем на экран пять строк датафрейма и убедимся на правильно заданный разделитель*"
   ]
  },
  {
   "cell_type": "code",
   "execution_count": 2,
   "metadata": {},
   "outputs": [
    {
     "data": {
      "text/html": [
       "<div>\n",
       "<style scoped>\n",
       "    .dataframe tbody tr th:only-of-type {\n",
       "        vertical-align: middle;\n",
       "    }\n",
       "\n",
       "    .dataframe tbody tr th {\n",
       "        vertical-align: top;\n",
       "    }\n",
       "\n",
       "    .dataframe thead th {\n",
       "        text-align: right;\n",
       "    }\n",
       "</style>\n",
       "<table border=\"1\" class=\"dataframe\">\n",
       "  <thead>\n",
       "    <tr style=\"text-align: right;\">\n",
       "      <th></th>\n",
       "      <th>total_images</th>\n",
       "      <th>last_price</th>\n",
       "      <th>total_area</th>\n",
       "      <th>first_day_exposition</th>\n",
       "      <th>rooms</th>\n",
       "      <th>ceiling_height</th>\n",
       "      <th>floors_total</th>\n",
       "      <th>living_area</th>\n",
       "      <th>floor</th>\n",
       "      <th>is_apartment</th>\n",
       "      <th>...</th>\n",
       "      <th>kitchen_area</th>\n",
       "      <th>balcony</th>\n",
       "      <th>locality_name</th>\n",
       "      <th>airports_nearest</th>\n",
       "      <th>cityCenters_nearest</th>\n",
       "      <th>parks_around3000</th>\n",
       "      <th>parks_nearest</th>\n",
       "      <th>ponds_around3000</th>\n",
       "      <th>ponds_nearest</th>\n",
       "      <th>days_exposition</th>\n",
       "    </tr>\n",
       "  </thead>\n",
       "  <tbody>\n",
       "    <tr>\n",
       "      <th>0</th>\n",
       "      <td>20</td>\n",
       "      <td>13000000.0</td>\n",
       "      <td>108.0</td>\n",
       "      <td>2019-03-07T00:00:00</td>\n",
       "      <td>3</td>\n",
       "      <td>2.70</td>\n",
       "      <td>16.0</td>\n",
       "      <td>51.0</td>\n",
       "      <td>8</td>\n",
       "      <td>NaN</td>\n",
       "      <td>...</td>\n",
       "      <td>25.0</td>\n",
       "      <td>NaN</td>\n",
       "      <td>Санкт-Петербург</td>\n",
       "      <td>18863.0</td>\n",
       "      <td>16028.0</td>\n",
       "      <td>1.0</td>\n",
       "      <td>482.0</td>\n",
       "      <td>2.0</td>\n",
       "      <td>755.0</td>\n",
       "      <td>NaN</td>\n",
       "    </tr>\n",
       "    <tr>\n",
       "      <th>1</th>\n",
       "      <td>7</td>\n",
       "      <td>3350000.0</td>\n",
       "      <td>40.4</td>\n",
       "      <td>2018-12-04T00:00:00</td>\n",
       "      <td>1</td>\n",
       "      <td>NaN</td>\n",
       "      <td>11.0</td>\n",
       "      <td>18.6</td>\n",
       "      <td>1</td>\n",
       "      <td>NaN</td>\n",
       "      <td>...</td>\n",
       "      <td>11.0</td>\n",
       "      <td>2.0</td>\n",
       "      <td>посёлок Шушары</td>\n",
       "      <td>12817.0</td>\n",
       "      <td>18603.0</td>\n",
       "      <td>0.0</td>\n",
       "      <td>NaN</td>\n",
       "      <td>0.0</td>\n",
       "      <td>NaN</td>\n",
       "      <td>81.0</td>\n",
       "    </tr>\n",
       "    <tr>\n",
       "      <th>2</th>\n",
       "      <td>10</td>\n",
       "      <td>5196000.0</td>\n",
       "      <td>56.0</td>\n",
       "      <td>2015-08-20T00:00:00</td>\n",
       "      <td>2</td>\n",
       "      <td>NaN</td>\n",
       "      <td>5.0</td>\n",
       "      <td>34.3</td>\n",
       "      <td>4</td>\n",
       "      <td>NaN</td>\n",
       "      <td>...</td>\n",
       "      <td>8.3</td>\n",
       "      <td>0.0</td>\n",
       "      <td>Санкт-Петербург</td>\n",
       "      <td>21741.0</td>\n",
       "      <td>13933.0</td>\n",
       "      <td>1.0</td>\n",
       "      <td>90.0</td>\n",
       "      <td>2.0</td>\n",
       "      <td>574.0</td>\n",
       "      <td>558.0</td>\n",
       "    </tr>\n",
       "    <tr>\n",
       "      <th>3</th>\n",
       "      <td>0</td>\n",
       "      <td>64900000.0</td>\n",
       "      <td>159.0</td>\n",
       "      <td>2015-07-24T00:00:00</td>\n",
       "      <td>3</td>\n",
       "      <td>NaN</td>\n",
       "      <td>14.0</td>\n",
       "      <td>NaN</td>\n",
       "      <td>9</td>\n",
       "      <td>NaN</td>\n",
       "      <td>...</td>\n",
       "      <td>NaN</td>\n",
       "      <td>0.0</td>\n",
       "      <td>Санкт-Петербург</td>\n",
       "      <td>28098.0</td>\n",
       "      <td>6800.0</td>\n",
       "      <td>2.0</td>\n",
       "      <td>84.0</td>\n",
       "      <td>3.0</td>\n",
       "      <td>234.0</td>\n",
       "      <td>424.0</td>\n",
       "    </tr>\n",
       "    <tr>\n",
       "      <th>4</th>\n",
       "      <td>2</td>\n",
       "      <td>10000000.0</td>\n",
       "      <td>100.0</td>\n",
       "      <td>2018-06-19T00:00:00</td>\n",
       "      <td>2</td>\n",
       "      <td>3.03</td>\n",
       "      <td>14.0</td>\n",
       "      <td>32.0</td>\n",
       "      <td>13</td>\n",
       "      <td>NaN</td>\n",
       "      <td>...</td>\n",
       "      <td>41.0</td>\n",
       "      <td>NaN</td>\n",
       "      <td>Санкт-Петербург</td>\n",
       "      <td>31856.0</td>\n",
       "      <td>8098.0</td>\n",
       "      <td>2.0</td>\n",
       "      <td>112.0</td>\n",
       "      <td>1.0</td>\n",
       "      <td>48.0</td>\n",
       "      <td>121.0</td>\n",
       "    </tr>\n",
       "  </tbody>\n",
       "</table>\n",
       "<p>5 rows × 22 columns</p>\n",
       "</div>"
      ],
      "text/plain": [
       "   total_images  last_price  total_area first_day_exposition  rooms  \\\n",
       "0            20  13000000.0       108.0  2019-03-07T00:00:00      3   \n",
       "1             7   3350000.0        40.4  2018-12-04T00:00:00      1   \n",
       "2            10   5196000.0        56.0  2015-08-20T00:00:00      2   \n",
       "3             0  64900000.0       159.0  2015-07-24T00:00:00      3   \n",
       "4             2  10000000.0       100.0  2018-06-19T00:00:00      2   \n",
       "\n",
       "   ceiling_height  floors_total  living_area  floor is_apartment  ...  \\\n",
       "0            2.70          16.0         51.0      8          NaN  ...   \n",
       "1             NaN          11.0         18.6      1          NaN  ...   \n",
       "2             NaN           5.0         34.3      4          NaN  ...   \n",
       "3             NaN          14.0          NaN      9          NaN  ...   \n",
       "4            3.03          14.0         32.0     13          NaN  ...   \n",
       "\n",
       "   kitchen_area  balcony    locality_name  airports_nearest  \\\n",
       "0          25.0      NaN  Санкт-Петербург           18863.0   \n",
       "1          11.0      2.0   посёлок Шушары           12817.0   \n",
       "2           8.3      0.0  Санкт-Петербург           21741.0   \n",
       "3           NaN      0.0  Санкт-Петербург           28098.0   \n",
       "4          41.0      NaN  Санкт-Петербург           31856.0   \n",
       "\n",
       "  cityCenters_nearest  parks_around3000  parks_nearest  ponds_around3000  \\\n",
       "0             16028.0               1.0          482.0               2.0   \n",
       "1             18603.0               0.0            NaN               0.0   \n",
       "2             13933.0               1.0           90.0               2.0   \n",
       "3              6800.0               2.0           84.0               3.0   \n",
       "4              8098.0               2.0          112.0               1.0   \n",
       "\n",
       "   ponds_nearest  days_exposition  \n",
       "0          755.0              NaN  \n",
       "1            NaN             81.0  \n",
       "2          574.0            558.0  \n",
       "3          234.0            424.0  \n",
       "4           48.0            121.0  \n",
       "\n",
       "[5 rows x 22 columns]"
      ]
     },
     "execution_count": 2,
     "metadata": {},
     "output_type": "execute_result"
    }
   ],
   "source": [
    "df.head(5)"
   ]
  },
  {
   "cell_type": "markdown",
   "metadata": {},
   "source": [
    "*выведем информацию о данных, которые хранятся в df*"
   ]
  },
  {
   "cell_type": "code",
   "execution_count": 3,
   "metadata": {},
   "outputs": [
    {
     "name": "stdout",
     "output_type": "stream",
     "text": [
      "<class 'pandas.core.frame.DataFrame'>\n",
      "RangeIndex: 23699 entries, 0 to 23698\n",
      "Data columns (total 22 columns):\n",
      " #   Column                Non-Null Count  Dtype  \n",
      "---  ------                --------------  -----  \n",
      " 0   total_images          23699 non-null  int64  \n",
      " 1   last_price            23699 non-null  float64\n",
      " 2   total_area            23699 non-null  float64\n",
      " 3   first_day_exposition  23699 non-null  object \n",
      " 4   rooms                 23699 non-null  int64  \n",
      " 5   ceiling_height        14504 non-null  float64\n",
      " 6   floors_total          23613 non-null  float64\n",
      " 7   living_area           21796 non-null  float64\n",
      " 8   floor                 23699 non-null  int64  \n",
      " 9   is_apartment          2775 non-null   object \n",
      " 10  studio                23699 non-null  bool   \n",
      " 11  open_plan             23699 non-null  bool   \n",
      " 12  kitchen_area          21421 non-null  float64\n",
      " 13  balcony               12180 non-null  float64\n",
      " 14  locality_name         23650 non-null  object \n",
      " 15  airports_nearest      18157 non-null  float64\n",
      " 16  cityCenters_nearest   18180 non-null  float64\n",
      " 17  parks_around3000      18181 non-null  float64\n",
      " 18  parks_nearest         8079 non-null   float64\n",
      " 19  ponds_around3000      18181 non-null  float64\n",
      " 20  ponds_nearest         9110 non-null   float64\n",
      " 21  days_exposition       20518 non-null  float64\n",
      "dtypes: bool(2), float64(14), int64(3), object(3)\n",
      "memory usage: 3.7+ MB\n"
     ]
    }
   ],
   "source": [
    "df.info()"
   ]
  },
  {
   "cell_type": "markdown",
   "metadata": {},
   "source": [
    "*Графически отобразим исходные данные*"
   ]
  },
  {
   "cell_type": "code",
   "execution_count": 4,
   "metadata": {
    "scrolled": true
   },
   "outputs": [
    {
     "data": {
      "image/png": "[encoded data removed]",
      "text/plain": [
       "<Figure size 1080x1080 with 20 Axes>"
      ]
     },
     "metadata": {
      "needs_background": "light"
     },
     "output_type": "display_data"
    }
   ],
   "source": [
    "df.hist(figsize=(15, 15))\n",
    "plt.show()"
   ]
  },
  {
   "cell_type": "markdown",
   "metadata": {},
   "source": [
    "*Изучим на количество пропусков*"
   ]
  },
  {
   "cell_type": "code",
   "execution_count": 5,
   "metadata": {},
   "outputs": [
    {
     "data": {
      "text/plain": [
       "total_images                0\n",
       "last_price                  0\n",
       "total_area                  0\n",
       "first_day_exposition        0\n",
       "rooms                       0\n",
       "ceiling_height           9195\n",
       "floors_total               86\n",
       "living_area              1903\n",
       "floor                       0\n",
       "is_apartment            20924\n",
       "studio                      0\n",
       "open_plan                   0\n",
       "kitchen_area             2278\n",
       "balcony                 11519\n",
       "locality_name              49\n",
       "airports_nearest         5542\n",
       "cityCenters_nearest      5519\n",
       "parks_around3000         5518\n",
       "parks_nearest           15620\n",
       "ponds_around3000         5518\n",
       "ponds_nearest           14589\n",
       "days_exposition          3181\n",
       "dtype: int64"
      ]
     },
     "execution_count": 5,
     "metadata": {},
     "output_type": "execute_result"
    }
   ],
   "source": [
    "df.isna().sum()"
   ]
  },
  {
   "cell_type": "markdown",
   "metadata": {},
   "source": [
    "*Посмотрим на  \"тепловую карту\" пропусков:*"
   ]
  },
  {
   "cell_type": "code",
   "execution_count": 6,
   "metadata": {},
   "outputs": [
    {
     "data": {
      "text/html": [
       "<style  type=\"text/css\" >\n",
       "#T_301a5_row0_col0,#T_301a5_row1_col0,#T_301a5_row2_col0,#T_301a5_row3_col0,#T_301a5_row4_col0,#T_301a5_row8_col0,#T_301a5_row10_col0,#T_301a5_row11_col0,#T_301a5_row14_col0{\n",
       "            background-color:  #3b4cc0;\n",
       "            color:  #f1f1f1;\n",
       "        }#T_301a5_row5_col0{\n",
       "            background-color:  #ccd9ed;\n",
       "            color:  #000000;\n",
       "        }#T_301a5_row6_col0{\n",
       "            background-color:  #3c4ec2;\n",
       "            color:  #f1f1f1;\n",
       "        }#T_301a5_row7_col0{\n",
       "            background-color:  #5673e0;\n",
       "            color:  #000000;\n",
       "        }#T_301a5_row9_col0{\n",
       "            background-color:  #b40426;\n",
       "            color:  #f1f1f1;\n",
       "        }#T_301a5_row12_col0{\n",
       "            background-color:  #5b7ae5;\n",
       "            color:  #000000;\n",
       "        }#T_301a5_row13_col0{\n",
       "            background-color:  #e9d5cb;\n",
       "            color:  #000000;\n",
       "        }#T_301a5_row15_col0,#T_301a5_row16_col0,#T_301a5_row17_col0,#T_301a5_row19_col0{\n",
       "            background-color:  #92b4fe;\n",
       "            color:  #000000;\n",
       "        }#T_301a5_row18_col0{\n",
       "            background-color:  #f49a7b;\n",
       "            color:  #000000;\n",
       "        }#T_301a5_row20_col0{\n",
       "            background-color:  #f7ad90;\n",
       "            color:  #000000;\n",
       "        }#T_301a5_row21_col0{\n",
       "            background-color:  #6a8bef;\n",
       "            color:  #000000;\n",
       "        }</style><table id=\"T_301a5_\" ><thead>    <tr>        <th class=\"blank level0\" ></th>        <th class=\"col_heading level0 col0\" >0</th>    </tr></thead><tbody>\n",
       "                <tr>\n",
       "                        <th id=\"T_301a5_level0_row0\" class=\"row_heading level0 row0\" >total_images</th>\n",
       "                        <td id=\"T_301a5_row0_col0\" class=\"data row0 col0\" >0.000000</td>\n",
       "            </tr>\n",
       "            <tr>\n",
       "                        <th id=\"T_301a5_level0_row1\" class=\"row_heading level0 row1\" >last_price</th>\n",
       "                        <td id=\"T_301a5_row1_col0\" class=\"data row1 col0\" >0.000000</td>\n",
       "            </tr>\n",
       "            <tr>\n",
       "                        <th id=\"T_301a5_level0_row2\" class=\"row_heading level0 row2\" >total_area</th>\n",
       "                        <td id=\"T_301a5_row2_col0\" class=\"data row2 col0\" >0.000000</td>\n",
       "            </tr>\n",
       "            <tr>\n",
       "                        <th id=\"T_301a5_level0_row3\" class=\"row_heading level0 row3\" >first_day_exposition</th>\n",
       "                        <td id=\"T_301a5_row3_col0\" class=\"data row3 col0\" >0.000000</td>\n",
       "            </tr>\n",
       "            <tr>\n",
       "                        <th id=\"T_301a5_level0_row4\" class=\"row_heading level0 row4\" >rooms</th>\n",
       "                        <td id=\"T_301a5_row4_col0\" class=\"data row4 col0\" >0.000000</td>\n",
       "            </tr>\n",
       "            <tr>\n",
       "                        <th id=\"T_301a5_level0_row5\" class=\"row_heading level0 row5\" >ceiling_height</th>\n",
       "                        <td id=\"T_301a5_row5_col0\" class=\"data row5 col0\" >38.800000</td>\n",
       "            </tr>\n",
       "            <tr>\n",
       "                        <th id=\"T_301a5_level0_row6\" class=\"row_heading level0 row6\" >floors_total</th>\n",
       "                        <td id=\"T_301a5_row6_col0\" class=\"data row6 col0\" >0.400000</td>\n",
       "            </tr>\n",
       "            <tr>\n",
       "                        <th id=\"T_301a5_level0_row7\" class=\"row_heading level0 row7\" >living_area</th>\n",
       "                        <td id=\"T_301a5_row7_col0\" class=\"data row7 col0\" >8.000000</td>\n",
       "            </tr>\n",
       "            <tr>\n",
       "                        <th id=\"T_301a5_level0_row8\" class=\"row_heading level0 row8\" >floor</th>\n",
       "                        <td id=\"T_301a5_row8_col0\" class=\"data row8 col0\" >0.000000</td>\n",
       "            </tr>\n",
       "            <tr>\n",
       "                        <th id=\"T_301a5_level0_row9\" class=\"row_heading level0 row9\" >is_apartment</th>\n",
       "                        <td id=\"T_301a5_row9_col0\" class=\"data row9 col0\" >88.300000</td>\n",
       "            </tr>\n",
       "            <tr>\n",
       "                        <th id=\"T_301a5_level0_row10\" class=\"row_heading level0 row10\" >studio</th>\n",
       "                        <td id=\"T_301a5_row10_col0\" class=\"data row10 col0\" >0.000000</td>\n",
       "            </tr>\n",
       "            <tr>\n",
       "                        <th id=\"T_301a5_level0_row11\" class=\"row_heading level0 row11\" >open_plan</th>\n",
       "                        <td id=\"T_301a5_row11_col0\" class=\"data row11 col0\" >0.000000</td>\n",
       "            </tr>\n",
       "            <tr>\n",
       "                        <th id=\"T_301a5_level0_row12\" class=\"row_heading level0 row12\" >kitchen_area</th>\n",
       "                        <td id=\"T_301a5_row12_col0\" class=\"data row12 col0\" >9.600000</td>\n",
       "            </tr>\n",
       "            <tr>\n",
       "                        <th id=\"T_301a5_level0_row13\" class=\"row_heading level0 row13\" >balcony</th>\n",
       "                        <td id=\"T_301a5_row13_col0\" class=\"data row13 col0\" >48.600000</td>\n",
       "            </tr>\n",
       "            <tr>\n",
       "                        <th id=\"T_301a5_level0_row14\" class=\"row_heading level0 row14\" >locality_name</th>\n",
       "                        <td id=\"T_301a5_row14_col0\" class=\"data row14 col0\" >0.200000</td>\n",
       "            </tr>\n",
       "            <tr>\n",
       "                        <th id=\"T_301a5_level0_row15\" class=\"row_heading level0 row15\" >airports_nearest</th>\n",
       "                        <td id=\"T_301a5_row15_col0\" class=\"data row15 col0\" >23.400000</td>\n",
       "            </tr>\n",
       "            <tr>\n",
       "                        <th id=\"T_301a5_level0_row16\" class=\"row_heading level0 row16\" >cityCenters_nearest</th>\n",
       "                        <td id=\"T_301a5_row16_col0\" class=\"data row16 col0\" >23.300000</td>\n",
       "            </tr>\n",
       "            <tr>\n",
       "                        <th id=\"T_301a5_level0_row17\" class=\"row_heading level0 row17\" >parks_around3000</th>\n",
       "                        <td id=\"T_301a5_row17_col0\" class=\"data row17 col0\" >23.300000</td>\n",
       "            </tr>\n",
       "            <tr>\n",
       "                        <th id=\"T_301a5_level0_row18\" class=\"row_heading level0 row18\" >parks_nearest</th>\n",
       "                        <td id=\"T_301a5_row18_col0\" class=\"data row18 col0\" >65.900000</td>\n",
       "            </tr>\n",
       "            <tr>\n",
       "                        <th id=\"T_301a5_level0_row19\" class=\"row_heading level0 row19\" >ponds_around3000</th>\n",
       "                        <td id=\"T_301a5_row19_col0\" class=\"data row19 col0\" >23.300000</td>\n",
       "            </tr>\n",
       "            <tr>\n",
       "                        <th id=\"T_301a5_level0_row20\" class=\"row_heading level0 row20\" >ponds_nearest</th>\n",
       "                        <td id=\"T_301a5_row20_col0\" class=\"data row20 col0\" >61.600000</td>\n",
       "            </tr>\n",
       "            <tr>\n",
       "                        <th id=\"T_301a5_level0_row21\" class=\"row_heading level0 row21\" >days_exposition</th>\n",
       "                        <td id=\"T_301a5_row21_col0\" class=\"data row21 col0\" >13.400000</td>\n",
       "            </tr>\n",
       "    </tbody></table>"
      ],
      "text/plain": [
       "<pandas.io.formats.style.Styler at 0x7ffb411ed580>"
      ]
     },
     "execution_count": 6,
     "metadata": {},
     "output_type": "execute_result"
    }
   ],
   "source": [
    "pd.DataFrame(round(df.isna().mean()*100,1)).style.background_gradient('coolwarm')"
   ]
  },
  {
   "cell_type": "markdown",
   "metadata": {},
   "source": [
    "*Наибольшее количество пропусков наблюдается данных добавленных пользователем, например в колонке булевого типа апартаменты (20924), высота потолков, площадь квартиры, наличие кухни, балконов. И не меньшее количество в картографических, таких как: растояние до ближайшего парка, аэропорта, число водоёмов.Надо эти пропуски тщательно изучить и постараться восстановить(заполнить) нужные.*"
   ]
  },
  {
   "cell_type": "markdown",
   "metadata": {},
   "source": [
    "**Вывод:**\n",
    "\n",
    "1. **ceiling_height** здесь надо заполнить пропущённые значения\n",
    "2. **floors_total** тип float64, a речь идёт о количестве этажей, его надо перевести в тип int, и есть пропущенные значения\n",
    "3.   **living_area** здесь надо заполнить пропущённые значения\n",
    "4.   **kitchen_area** здесь надо заполнить пропущённые значения\n",
    "5.   **balcony** тип float64 заменим на int, и заполним пропущенные значения \n",
    "6.   **locality_name** здесь надо заполнить или удалить пропущённые значения \n",
    "7.   **parks_around3000** тип float64, речь идёт о количестве парков, его надо перевести в тип int, и есть пропущенные значения\n",
    "8.  **ponds_around3000** тип float64, речь идёт о количестве водоёмов, его надо перевести в тип int, и есть пропущенные значения\n",
    "9.  **first_day_exposition** тип float64, а нам надо заменить его на datetime\n",
    "10.  **is_apartment** заменим пустые значения на False\n",
    "11. **last_price** тип float64 заменим на тип int\n",
    "12. **airports_nearest** данные в этом столбце надо привести к типу int, и заполнить нулевые значения\n",
    "13. **days_exposition** эта колонка типа float64, заменим на целочисленный int ,так как речь идёт о днях"
   ]
  },
  {
   "cell_type": "markdown",
   "metadata": {},
   "source": [
    "### Предобработка данных"
   ]
  },
  {
   "cell_type": "markdown",
   "metadata": {},
   "source": [
    "*Выведем столбцы для удобства дальнейшей работы с данными*"
   ]
  },
  {
   "cell_type": "code",
   "execution_count": 7,
   "metadata": {
    "scrolled": true
   },
   "outputs": [
    {
     "data": {
      "text/plain": [
       "Index(['total_images', 'last_price', 'total_area', 'first_day_exposition',\n",
       "       'rooms', 'ceiling_height', 'floors_total', 'living_area', 'floor',\n",
       "       'is_apartment', 'studio', 'open_plan', 'kitchen_area', 'balcony',\n",
       "       'locality_name', 'airports_nearest', 'cityCenters_nearest',\n",
       "       'parks_around3000', 'parks_nearest', 'ponds_around3000',\n",
       "       'ponds_nearest', 'days_exposition'],\n",
       "      dtype='object')"
      ]
     },
     "execution_count": 7,
     "metadata": {},
     "output_type": "execute_result"
    }
   ],
   "source": [
    "df.columns"
   ]
  },
  {
   "cell_type": "markdown",
   "metadata": {},
   "source": [
    "*Название столбца cityCenters_nearest нужно привести к нижнему регистру*"
   ]
  },
  {
   "cell_type": "code",
   "execution_count": 8,
   "metadata": {},
   "outputs": [],
   "source": [
    "df.rename(columns = {'cityCenters_nearest': 'citycenters_nearest'}, inplace = True)"
   ]
  },
  {
   "cell_type": "code",
   "execution_count": 9,
   "metadata": {},
   "outputs": [
    {
     "data": {
      "text/plain": [
       "Index(['total_images', 'last_price', 'total_area', 'first_day_exposition',\n",
       "       'rooms', 'ceiling_height', 'floors_total', 'living_area', 'floor',\n",
       "       'is_apartment', 'studio', 'open_plan', 'kitchen_area', 'balcony',\n",
       "       'locality_name', 'airports_nearest', 'citycenters_nearest',\n",
       "       'parks_around3000', 'parks_nearest', 'ponds_around3000',\n",
       "       'ponds_nearest', 'days_exposition'],\n",
       "      dtype='object')"
      ]
     },
     "execution_count": 9,
     "metadata": {},
     "output_type": "execute_result"
    }
   ],
   "source": [
    "df.columns"
   ]
  },
  {
   "cell_type": "markdown",
   "metadata": {},
   "source": [
    "*Проверим датафрейм на наличие дубликатов в данных*"
   ]
  },
  {
   "cell_type": "code",
   "execution_count": 10,
   "metadata": {},
   "outputs": [
    {
     "data": {
      "text/plain": [
       "0"
      ]
     },
     "execution_count": 10,
     "metadata": {},
     "output_type": "execute_result"
    }
   ],
   "source": [
    "df.duplicated().sum()"
   ]
  },
  {
   "cell_type": "markdown",
   "metadata": {},
   "source": [
    "*Дубликатов не оказалось, значит работаем со столбцами по порядку, изучим на наличие информации и ошибок в них.\n",
    "Посмотрим на столбец:*"
   ]
  },
  {
   "cell_type": "markdown",
   "metadata": {},
   "source": [
    "**2.1. ceiling_height — высота потолков (м):**"
   ]
  },
  {
   "cell_type": "code",
   "execution_count": 11,
   "metadata": {},
   "outputs": [
    {
     "data": {
      "text/plain": [
       "9195"
      ]
     },
     "execution_count": 11,
     "metadata": {},
     "output_type": "execute_result"
    }
   ],
   "source": [
    "df['ceiling_height'].isna().sum()"
   ]
  },
  {
   "cell_type": "code",
   "execution_count": 12,
   "metadata": {},
   "outputs": [
    {
     "data": {
      "text/plain": [
       "count    14504.000000\n",
       "mean         2.771499\n",
       "std          1.261056\n",
       "min          1.000000\n",
       "25%          2.520000\n",
       "50%          2.650000\n",
       "75%          2.800000\n",
       "max        100.000000\n",
       "Name: ceiling_height, dtype: float64"
      ]
     },
     "execution_count": 12,
     "metadata": {},
     "output_type": "execute_result"
    }
   ],
   "source": [
    "df['ceiling_height'].describe()"
   ]
  },
  {
   "cell_type": "markdown",
   "metadata": {},
   "source": [
    "*В колонке указана высота потолков, не может быть 25, 32 и выше, поэтому логично предположить, что были допущены ошибки, заменим значения*"
   ]
  },
  {
   "cell_type": "code",
   "execution_count": 13,
   "metadata": {},
   "outputs": [
    {
     "data": {
      "text/plain": [
       "array([ 25. ,  32. ,  27. ,  24. ,  26. ,  20. ,  22.6,  27.5, 100. ])"
      ]
     },
     "execution_count": 13,
     "metadata": {},
     "output_type": "execute_result"
    }
   ],
   "source": [
    "df[df['ceiling_height']>15]['ceiling_height'].unique()"
   ]
  },
  {
   "cell_type": "code",
   "execution_count": 14,
   "metadata": {},
   "outputs": [],
   "source": [
    "df['ceiling_height'] = df['ceiling_height'].replace({25.000: 2.5, 32.000: 3.2, 27.000:2.7,24.000:2.4,26.000: 2.6,20.000: 2.0,22.600:2.26,27.500:2.75,100.000:10.0})"
   ]
  },
  {
   "cell_type": "code",
   "execution_count": 15,
   "metadata": {},
   "outputs": [
    {
     "data": {
      "text/plain": [
       "<AxesSubplot:ylabel='Frequency'>"
      ]
     },
     "execution_count": 15,
     "metadata": {},
     "output_type": "execute_result"
    },
    {
     "data": {
      "image/png": "[encoded data removed]",
      "text/plain": [
       "<Figure size 432x288 with 1 Axes>"
      ]
     },
     "metadata": {
      "needs_background": "light"
     },
     "output_type": "display_data"
    }
   ],
   "source": [
    "df['ceiling_height'].sort_values().plot(y = 'ceiling_height', kind = 'hist', bins = 50, range=(2.3,4), grid = True)"
   ]
  },
  {
   "cell_type": "code",
   "execution_count": 16,
   "metadata": {},
   "outputs": [],
   "source": [
    "df['ceiling_height'].fillna(df['ceiling_height'].median(), inplace = True)"
   ]
  },
  {
   "cell_type": "code",
   "execution_count": 17,
   "metadata": {},
   "outputs": [
    {
     "data": {
      "text/plain": [
       "0"
      ]
     },
     "execution_count": 17,
     "metadata": {},
     "output_type": "execute_result"
    }
   ],
   "source": [
    "df['ceiling_height'].isna().sum()"
   ]
  },
  {
   "cell_type": "markdown",
   "metadata": {},
   "source": [
    "*Мы сначало вывели количество пропусков в столбце, их у нас было 9195, затем вывели описательную статистику по данному столбцу. В основном значения расположены в диапазоне от 2,5 до 2,8 поэтому было принять решение заполнить пропущенные значения медианным. И после данных изменений проверили на наличие пустых значений, их не осталось*"
   ]
  },
  {
   "cell_type": "markdown",
   "metadata": {},
   "source": [
    "**2.2. floors_total — всего этажей в доме:**"
   ]
  },
  {
   "cell_type": "code",
   "execution_count": 18,
   "metadata": {},
   "outputs": [
    {
     "data": {
      "text/plain": [
       "86"
      ]
     },
     "execution_count": 18,
     "metadata": {},
     "output_type": "execute_result"
    }
   ],
   "source": [
    "df['floors_total'].isna().sum()"
   ]
  },
  {
   "cell_type": "code",
   "execution_count": 19,
   "metadata": {},
   "outputs": [
    {
     "data": {
      "text/plain": [
       "count    23613.0\n",
       "mean        11.0\n",
       "std          7.0\n",
       "min          1.0\n",
       "25%          5.0\n",
       "50%          9.0\n",
       "75%         16.0\n",
       "max         60.0\n",
       "Name: floors_total, dtype: float64"
      ]
     },
     "execution_count": 19,
     "metadata": {},
     "output_type": "execute_result"
    }
   ],
   "source": [
    "round(df['floors_total'].describe())"
   ]
  },
  {
   "cell_type": "code",
   "execution_count": 20,
   "metadata": {},
   "outputs": [
    {
     "data": {
      "text/plain": [
       "<AxesSubplot:ylabel='Frequency'>"
      ]
     },
     "execution_count": 20,
     "metadata": {},
     "output_type": "execute_result"
    },
    {
     "data": {
      "image/png": "[encoded data removed]",
      "text/plain": [
       "<Figure size 432x288 with 1 Axes>"
      ]
     },
     "metadata": {
      "needs_background": "light"
     },
     "output_type": "display_data"
    }
   ],
   "source": [
    "df['floors_total'].sort_values().plot(y = 'floors_total', kind = 'hist', bins = 50, range=(0,30), grid = True)"
   ]
  },
  {
   "cell_type": "code",
   "execution_count": 21,
   "metadata": {
    "scrolled": true
   },
   "outputs": [
    {
     "name": "stdout",
     "output_type": "stream",
     "text": [
      "Процент пропущенных значений в колонке с количеством этажей: 0.4 %\n"
     ]
    }
   ],
   "source": [
    "print('Процент пропущенных значений в колонке с количеством этажей:', round(df['floors_total'].isnull().sum() * 100 / len(df), 1),'%')"
   ]
  },
  {
   "cell_type": "code",
   "execution_count": 22,
   "metadata": {},
   "outputs": [],
   "source": [
    "df.dropna(subset=['floors_total'], inplace = True)"
   ]
  },
  {
   "cell_type": "code",
   "execution_count": 23,
   "metadata": {},
   "outputs": [
    {
     "data": {
      "text/plain": [
       "0"
      ]
     },
     "execution_count": 23,
     "metadata": {},
     "output_type": "execute_result"
    }
   ],
   "source": [
    "df['floors_total'].isna().sum()"
   ]
  },
  {
   "cell_type": "code",
   "execution_count": 24,
   "metadata": {},
   "outputs": [],
   "source": [
    "df['floors_total'] = df['floors_total'].astype('int')"
   ]
  },
  {
   "cell_type": "markdown",
   "metadata": {},
   "source": [
    "<div class=\"alert alert-info\"> \n",
    "<b>Вывод:</b> \n",
    "    В колонке с количеством этажей есть пропущенные значения, их не так много, всего 86, что составляет менее одного процента от общего количества строк в данных (0,4%), поэтому было принято решение их удалить. Возможно пропуски могли возникнуть в результате не заполнения всех полей в объявлении, так как большинство объявлений заполняются в будние дни, или это одноэтажное здание, например барачного типа, где только однин этаж, и люди считают не целесообразным это указавать, мы можем только предполагать, так как не знаем истинных причин пропусков в данных.\n",
    "</div>"
   ]
  },
  {
   "cell_type": "markdown",
   "metadata": {},
   "source": [
    "**2.3. living_area — жилая площадь в квадратных метрах (м²)**\n",
    "\n",
    "**2.4. kitchen_area — площадь кухни в квадратных метрах (м²)**"
   ]
  },
  {
   "cell_type": "code",
   "execution_count": 25,
   "metadata": {},
   "outputs": [
    {
     "name": "stdout",
     "output_type": "stream",
     "text": [
      "1870\n"
     ]
    },
    {
     "data": {
      "text/plain": [
       "2231"
      ]
     },
     "execution_count": 25,
     "metadata": {},
     "output_type": "execute_result"
    }
   ],
   "source": [
    "print(df['living_area'].isna().sum())\n",
    "df['kitchen_area'].isna().sum()"
   ]
  },
  {
   "cell_type": "code",
   "execution_count": 26,
   "metadata": {
    "scrolled": true
   },
   "outputs": [
    {
     "name": "stdout",
     "output_type": "stream",
     "text": [
      "1870\n"
     ]
    },
    {
     "data": {
      "text/plain": [
       "2231"
      ]
     },
     "execution_count": 26,
     "metadata": {},
     "output_type": "execute_result"
    }
   ],
   "source": [
    "print(df['living_area'].isna().sum())\n",
    "df['kitchen_area'].isna().sum()"
   ]
  },
  {
   "cell_type": "code",
   "execution_count": 27,
   "metadata": {},
   "outputs": [
    {
     "name": "stdout",
     "output_type": "stream",
     "text": [
      "Процент пропущенных значений cтолбца с жилой площадью: 7.9 %\n"
     ]
    }
   ],
   "source": [
    "print('Процент пропущенных значений cтолбца с жилой площадью:', round(df['living_area'].isnull().sum() * 100 / len(df), 1),'%')"
   ]
  },
  {
   "cell_type": "code",
   "execution_count": 28,
   "metadata": {
    "scrolled": true
   },
   "outputs": [
    {
     "name": "stdout",
     "output_type": "stream",
     "text": [
      "Процент пропущенных значений столбца с площадью кухни: 9.4 %\n"
     ]
    }
   ],
   "source": [
    "print('Процент пропущенных значений столбца с площадью кухни:', round(df['kitchen_area'].isnull().sum() * 100 / len(df), 1),'%')"
   ]
  },
  {
   "cell_type": "markdown",
   "metadata": {},
   "source": [
    "<div class=\"alert alert-info\"> \n",
    "<b>Вывод:</b> \n",
    "    Процент пропущенных значений в столбцах с жилой площадью и площадью кухни превышает допустимый (5%), мы их оставим такими, какие они есть. Но есть мысли по восстановлению таких значений, например, отобрать квартиры с количеством комнат больше двух, так как эти квартиры уже не будут являться студиями, и в них предполагается наличие кухни, либо  у нас есть столбец 'studio' в котором нет пропусков, и его можно применять при отбросе студий-квартир. К  студиям также можно применить данный фильтр и посмотреть в них пропуски.  Жилую же площадь можно было бы расчитать путём деления квартир на группы, исходя из их общей площади и затем заменить процентным соотношением по каждой группе в отдельности, и постараться восстановить данные на сколько это возможно.\n",
    "</div>"
   ]
  },
  {
   "cell_type": "markdown",
   "metadata": {},
   "source": [
    "**2.5. balcony — число балконов:**"
   ]
  },
  {
   "cell_type": "code",
   "execution_count": 29,
   "metadata": {},
   "outputs": [],
   "source": [
    "df['balcony'] = df['balcony'].fillna(0).astype('int')"
   ]
  },
  {
   "cell_type": "markdown",
   "metadata": {},
   "source": [
    "*Количество балконов привели к типу int предварительно заменив все пустые значения на 0.*"
   ]
  },
  {
   "cell_type": "markdown",
   "metadata": {},
   "source": [
    "**2.6. locality_name — название населённого пункта:**"
   ]
  },
  {
   "cell_type": "code",
   "execution_count": 30,
   "metadata": {},
   "outputs": [
    {
     "data": {
      "text/plain": [
       "48"
      ]
     },
     "execution_count": 30,
     "metadata": {},
     "output_type": "execute_result"
    }
   ],
   "source": [
    "df['locality_name'].isna().sum()"
   ]
  },
  {
   "cell_type": "markdown",
   "metadata": {},
   "source": [
    "*Для начала удалим те квартиры, в которых не указан адрес. так как мы в дальнейшем не сможем с ними работать*"
   ]
  },
  {
   "cell_type": "code",
   "execution_count": 31,
   "metadata": {},
   "outputs": [],
   "source": [
    "df.dropna(subset=['locality_name'], inplace=True)"
   ]
  },
  {
   "cell_type": "code",
   "execution_count": 32,
   "metadata": {},
   "outputs": [
    {
     "data": {
      "text/plain": [
       "Санкт-Петербург      15651\n",
       "посёлок Мурино         520\n",
       "посёлок Шушары         439\n",
       "Всеволожск             398\n",
       "Пушкин                 369\n",
       "                     ...  \n",
       "деревня Пижма            1\n",
       "деревня Лупполово        1\n",
       "деревня Шпаньково        1\n",
       "деревня Тихковицы        1\n",
       "деревня Пельгора         1\n",
       "Name: locality_name, Length: 364, dtype: int64"
      ]
     },
     "execution_count": 32,
     "metadata": {},
     "output_type": "execute_result"
    }
   ],
   "source": [
    "df['locality_name'].value_counts()"
   ]
  },
  {
   "cell_type": "code",
   "execution_count": 33,
   "metadata": {},
   "outputs": [],
   "source": [
    "df['locality_name'] = df['locality_name'].str.replace(\"посёлок\", \"поселок\")"
   ]
  },
  {
   "cell_type": "code",
   "execution_count": 34,
   "metadata": {},
   "outputs": [
    {
     "data": {
      "text/plain": [
       "0"
      ]
     },
     "execution_count": 34,
     "metadata": {},
     "output_type": "execute_result"
    }
   ],
   "source": [
    "df['locality_name'].isna().sum()"
   ]
  },
  {
   "cell_type": "markdown",
   "metadata": {},
   "source": [
    "*В этом столбце мы удалили квартиры без адресов, и заменили значение посёлок на правильное*"
   ]
  },
  {
   "cell_type": "markdown",
   "metadata": {},
   "source": [
    "**2.7. parks_around3000 — число парков в радиусе 3 км:**"
   ]
  },
  {
   "cell_type": "code",
   "execution_count": 35,
   "metadata": {},
   "outputs": [
    {
     "data": {
      "text/plain": [
       "5500"
      ]
     },
     "execution_count": 35,
     "metadata": {},
     "output_type": "execute_result"
    }
   ],
   "source": [
    "df['parks_around3000'].isna().sum()"
   ]
  },
  {
   "cell_type": "code",
   "execution_count": 36,
   "metadata": {},
   "outputs": [],
   "source": [
    "df['parks_around3000'] = df['parks_around3000'].fillna(value=0).astype(int)"
   ]
  },
  {
   "cell_type": "code",
   "execution_count": 37,
   "metadata": {},
   "outputs": [
    {
     "data": {
      "text/plain": [
       "0"
      ]
     },
     "execution_count": 37,
     "metadata": {},
     "output_type": "execute_result"
    }
   ],
   "source": [
    "df['parks_around3000'].isna().sum()"
   ]
  },
  {
   "cell_type": "markdown",
   "metadata": {},
   "source": [
    "*Число парков привели к типу int предварительно заменив все пустые значения на 0*"
   ]
  },
  {
   "cell_type": "markdown",
   "metadata": {},
   "source": [
    "**2.8. ponds_around3000 — число водоёмов в радиусе 3 км:**"
   ]
  },
  {
   "cell_type": "code",
   "execution_count": 38,
   "metadata": {},
   "outputs": [
    {
     "data": {
      "text/plain": [
       "5500"
      ]
     },
     "execution_count": 38,
     "metadata": {},
     "output_type": "execute_result"
    }
   ],
   "source": [
    "df['ponds_around3000'].isna().sum()"
   ]
  },
  {
   "cell_type": "code",
   "execution_count": 39,
   "metadata": {},
   "outputs": [],
   "source": [
    "df['ponds_around3000'] = df['ponds_around3000'].fillna(value=0).astype(int)"
   ]
  },
  {
   "cell_type": "code",
   "execution_count": 40,
   "metadata": {},
   "outputs": [
    {
     "data": {
      "text/plain": [
       "0"
      ]
     },
     "execution_count": 40,
     "metadata": {},
     "output_type": "execute_result"
    }
   ],
   "source": [
    "df['ponds_around3000'].isna().sum()"
   ]
  },
  {
   "cell_type": "markdown",
   "metadata": {},
   "source": [
    "*Число водоёмов привели к типу int предварительно заменив все пустые значения на 0*"
   ]
  },
  {
   "cell_type": "markdown",
   "metadata": {},
   "source": [
    "**2.9. first_day_exposition  — сколько дней было размещено объявление (от публикации до снятия)**"
   ]
  },
  {
   "cell_type": "code",
   "execution_count": 41,
   "metadata": {},
   "outputs": [],
   "source": [
    "df['first_day_exposition'] = pd.to_datetime(df['first_day_exposition'], format='%Y-%m-%dT%H:%M:%S')"
   ]
  },
  {
   "cell_type": "markdown",
   "metadata": {},
   "source": [
    "*Привели столбец к формату дата*"
   ]
  },
  {
   "cell_type": "markdown",
   "metadata": {},
   "source": [
    "**2.10. is_apartment — апартаменты (булев тип)**"
   ]
  },
  {
   "cell_type": "code",
   "execution_count": 42,
   "metadata": {},
   "outputs": [
    {
     "data": {
      "text/plain": [
       "array([nan, False, True], dtype=object)"
      ]
     },
     "execution_count": 42,
     "metadata": {},
     "output_type": "execute_result"
    }
   ],
   "source": [
    "df['is_apartment'].unique()"
   ]
  },
  {
   "cell_type": "code",
   "execution_count": 43,
   "metadata": {},
   "outputs": [
    {
     "data": {
      "text/plain": [
       "20805"
      ]
     },
     "execution_count": 43,
     "metadata": {},
     "output_type": "execute_result"
    }
   ],
   "source": [
    "df['is_apartment'].isna().sum()"
   ]
  },
  {
   "cell_type": "code",
   "execution_count": 44,
   "metadata": {},
   "outputs": [],
   "source": [
    "# Выясняем количество значений в аппартаментах. Всего аппартаменты - 50. Заменяем пропущенные значения на нет\n",
    "df['is_apartment'] = df['is_apartment'].fillna(value = False)"
   ]
  },
  {
   "cell_type": "markdown",
   "metadata": {},
   "source": [
    "*Заменили пропущенные значения на False*"
   ]
  },
  {
   "cell_type": "markdown",
   "metadata": {},
   "source": [
    "**2.11. last_price — цена на момент снятия с публикации:**"
   ]
  },
  {
   "cell_type": "code",
   "execution_count": 45,
   "metadata": {},
   "outputs": [],
   "source": [
    "df['last_price'] = df['last_price'].astype(int)"
   ]
  },
  {
   "cell_type": "markdown",
   "metadata": {},
   "source": [
    "*В цене на момент снятия с публикации мы заменили тип float64 на int64, пропущенных значений не было, идём дальше*"
   ]
  },
  {
   "cell_type": "markdown",
   "metadata": {},
   "source": [
    "**2.12. airports_nearest — расстояние до ближайшего аэропорта в метрах (м)**"
   ]
  },
  {
   "cell_type": "code",
   "execution_count": 46,
   "metadata": {},
   "outputs": [
    {
     "name": "stdout",
     "output_type": "stream",
     "text": [
      "Процент пропущенных значений столбца растояния до аэропорта: 23.4 %\n"
     ]
    }
   ],
   "source": [
    "print('Процент пропущенных значений столбца растояния до аэропорта:', round(df['airports_nearest'].isnull().sum() * 100 / len(df), 1),'%')"
   ]
  },
  {
   "cell_type": "markdown",
   "metadata": {},
   "source": [
    "*Слишком много пропущенных значений, думаю логично заполнить по совпадению населённых пунктов*"
   ]
  },
  {
   "cell_type": "code",
   "execution_count": 47,
   "metadata": {},
   "outputs": [
    {
     "data": {
      "text/plain": [
       "<AxesSubplot:>"
      ]
     },
     "execution_count": 47,
     "metadata": {},
     "output_type": "execute_result"
    },
    {
     "data": {
      "image/png": "[encoded data removed]",
      "text/plain": [
       "<Figure size 432x288 with 1 Axes>"
      ]
     },
     "metadata": {
      "needs_background": "light"
     },
     "output_type": "display_data"
    }
   ],
   "source": [
    "df['airports_nearest'].plot(kind='box')"
   ]
  },
  {
   "cell_type": "markdown",
   "metadata": {},
   "source": [
    "*Выбросы есть, но они не сильно разбросаны, оставим их так как есть. Но присутствуют нулевые значения, квартира не может располагаться в самом аэропорту, просто скорее всего этот момент не посчитали нужным заполнить, либо просто пропустили. Давайте посмотрим на эти квартиры, в которых есть нулевые значения*"
   ]
  },
  {
   "cell_type": "code",
   "execution_count": 48,
   "metadata": {
    "scrolled": true
   },
   "outputs": [
    {
     "data": {
      "text/html": [
       "<div>\n",
       "<style scoped>\n",
       "    .dataframe tbody tr th:only-of-type {\n",
       "        vertical-align: middle;\n",
       "    }\n",
       "\n",
       "    .dataframe tbody tr th {\n",
       "        vertical-align: top;\n",
       "    }\n",
       "\n",
       "    .dataframe thead th {\n",
       "        text-align: right;\n",
       "    }\n",
       "</style>\n",
       "<table border=\"1\" class=\"dataframe\">\n",
       "  <thead>\n",
       "    <tr style=\"text-align: right;\">\n",
       "      <th></th>\n",
       "      <th>total_images</th>\n",
       "      <th>last_price</th>\n",
       "      <th>total_area</th>\n",
       "      <th>first_day_exposition</th>\n",
       "      <th>rooms</th>\n",
       "      <th>ceiling_height</th>\n",
       "      <th>floors_total</th>\n",
       "      <th>living_area</th>\n",
       "      <th>floor</th>\n",
       "      <th>is_apartment</th>\n",
       "      <th>...</th>\n",
       "      <th>kitchen_area</th>\n",
       "      <th>balcony</th>\n",
       "      <th>locality_name</th>\n",
       "      <th>airports_nearest</th>\n",
       "      <th>citycenters_nearest</th>\n",
       "      <th>parks_around3000</th>\n",
       "      <th>parks_nearest</th>\n",
       "      <th>ponds_around3000</th>\n",
       "      <th>ponds_nearest</th>\n",
       "      <th>days_exposition</th>\n",
       "    </tr>\n",
       "  </thead>\n",
       "  <tbody>\n",
       "    <tr>\n",
       "      <th>21085</th>\n",
       "      <td>0</td>\n",
       "      <td>7000000</td>\n",
       "      <td>34.7</td>\n",
       "      <td>2018-09-23</td>\n",
       "      <td>1</td>\n",
       "      <td>2.7</td>\n",
       "      <td>9</td>\n",
       "      <td>19.8</td>\n",
       "      <td>3</td>\n",
       "      <td>False</td>\n",
       "      <td>...</td>\n",
       "      <td>6.0</td>\n",
       "      <td>2</td>\n",
       "      <td>Санкт-Петербург</td>\n",
       "      <td>0.0</td>\n",
       "      <td>22801.0</td>\n",
       "      <td>0</td>\n",
       "      <td>NaN</td>\n",
       "      <td>0</td>\n",
       "      <td>NaN</td>\n",
       "      <td>60.0</td>\n",
       "    </tr>\n",
       "  </tbody>\n",
       "</table>\n",
       "<p>1 rows × 22 columns</p>\n",
       "</div>"
      ],
      "text/plain": [
       "       total_images  last_price  total_area first_day_exposition  rooms  \\\n",
       "21085             0     7000000        34.7           2018-09-23      1   \n",
       "\n",
       "       ceiling_height  floors_total  living_area  floor  is_apartment  ...  \\\n",
       "21085             2.7             9         19.8      3         False  ...   \n",
       "\n",
       "       kitchen_area  balcony    locality_name  airports_nearest  \\\n",
       "21085           6.0        2  Санкт-Петербург               0.0   \n",
       "\n",
       "      citycenters_nearest  parks_around3000  parks_nearest  ponds_around3000  \\\n",
       "21085             22801.0                 0            NaN                 0   \n",
       "\n",
       "       ponds_nearest  days_exposition  \n",
       "21085            NaN             60.0  \n",
       "\n",
       "[1 rows x 22 columns]"
      ]
     },
     "execution_count": 48,
     "metadata": {},
     "output_type": "execute_result"
    }
   ],
   "source": [
    "df[df['airports_nearest']==0]"
   ]
  },
  {
   "cell_type": "markdown",
   "metadata": {},
   "source": [
    "*У нас только одна квартира, с таким показателем, которая находится в Санкт-Петербурге, заменим медианное значение квартир, находящихся именно в Санкт-Петербурге*"
   ]
  },
  {
   "cell_type": "code",
   "execution_count": 49,
   "metadata": {},
   "outputs": [
    {
     "data": {
      "text/plain": [
       "26763.0"
      ]
     },
     "execution_count": 49,
     "metadata": {},
     "output_type": "execute_result"
    }
   ],
   "source": [
    "df[df['locality_name'] == 'Санкт-Петербург']['airports_nearest'].median()"
   ]
  },
  {
   "cell_type": "code",
   "execution_count": 50,
   "metadata": {
    "scrolled": true
   },
   "outputs": [
    {
     "data": {
      "text/plain": [
       "total_images                              0\n",
       "last_price                          7000000\n",
       "total_area                             34.7\n",
       "first_day_exposition    2018-09-23 00:00:00\n",
       "rooms                                     1\n",
       "ceiling_height                          2.7\n",
       "floors_total                              9\n",
       "living_area                            19.8\n",
       "floor                                     3\n",
       "is_apartment                          False\n",
       "studio                                False\n",
       "open_plan                             False\n",
       "kitchen_area                            6.0\n",
       "balcony                                   2\n",
       "locality_name               Санкт-Петербург\n",
       "airports_nearest                    26763.0\n",
       "citycenters_nearest                 22801.0\n",
       "parks_around3000                          0\n",
       "parks_nearest                           NaN\n",
       "ponds_around3000                          0\n",
       "ponds_nearest                           NaN\n",
       "days_exposition                        60.0\n",
       "Name: 21085, dtype: object"
      ]
     },
     "execution_count": 50,
     "metadata": {},
     "output_type": "execute_result"
    }
   ],
   "source": [
    "df.loc[21085, 'airports_nearest'] = df[df['locality_name'] == 'Санкт-Петербург']['airports_nearest'].median()\n",
    "df.loc[21085]"
   ]
  },
  {
   "cell_type": "markdown",
   "metadata": {},
   "source": [
    "*Пропуски заполним медианами значений airports_nearest по совпадению в locality_name*"
   ]
  },
  {
   "cell_type": "code",
   "execution_count": 51,
   "metadata": {},
   "outputs": [
    {
     "data": {
      "text/plain": [
       "locality_name\n",
       "поселок Александровская    12896.5\n",
       "Пушкин                     15766.0\n",
       "поселок Шушары             17427.0\n",
       "Павловск                   20529.5\n",
       "поселок Петро-Славянка     20605.0\n",
       "Красное Село               25723.5\n",
       "поселок Металлострой       25758.0\n",
       "Колпино                    26232.0\n",
       "поселок Усть-Ижора         26510.5\n",
       "Санкт-Петербург            26763.0\n",
       "Name: airports_nearest, dtype: float64"
      ]
     },
     "metadata": {},
     "output_type": "display_data"
    }
   ],
   "source": [
    "locality_median = df.groupby('locality_name')['airports_nearest'].median().sort_values()\n",
    "locality_median = locality_median.dropna()\n",
    "display(locality_median.head(10))"
   ]
  },
  {
   "cell_type": "markdown",
   "metadata": {},
   "source": [
    "*Напишем функцию для присваивания пропущённому значению значение медианы*"
   ]
  },
  {
   "cell_type": "code",
   "execution_count": 52,
   "metadata": {},
   "outputs": [],
   "source": [
    "def median_loc(row):\n",
    "    if row not in locality_median:\n",
    "        return np.nan\n",
    "    return locality_median[row]"
   ]
  },
  {
   "cell_type": "code",
   "execution_count": 53,
   "metadata": {},
   "outputs": [
    {
     "name": "stdout",
     "output_type": "stream",
     "text": [
      "Проверка: 26763.0\n"
     ]
    }
   ],
   "source": [
    "print('Проверка:', median_loc('Санкт-Петербург'))"
   ]
  },
  {
   "cell_type": "code",
   "execution_count": 54,
   "metadata": {
    "scrolled": true
   },
   "outputs": [
    {
     "data": {
      "text/plain": [
       "5524"
      ]
     },
     "execution_count": 54,
     "metadata": {},
     "output_type": "execute_result"
    }
   ],
   "source": [
    "df['airports_nearest'].isna().sum()"
   ]
  },
  {
   "cell_type": "code",
   "execution_count": 55,
   "metadata": {},
   "outputs": [
    {
     "data": {
      "text/plain": [
       "Int64Index([   81,   593,   604,   733,   742,   795,   974,  1336,  1872,\n",
       "             1895,  2364,  2415,  2707,  2882,  3200,  3501,  4323,  4781,\n",
       "             5216,  5444,  5908,  7272,  7521,  7542,  7592,  8018,  8628,\n",
       "             9054,  9435,  9880, 10220, 10669, 10684, 10879, 11132, 11193,\n",
       "            11446, 11457, 11796, 11801, 11872, 12401, 12446, 13106, 13470,\n",
       "            14276, 14682, 14944, 14969, 15161, 15919, 16218, 16247, 16470,\n",
       "            16580, 16825, 16927, 17757, 17791, 18222, 18292, 18315, 18557,\n",
       "            18651, 19084, 19130, 19148, 19233, 19267, 19861, 19870, 19998,\n",
       "            20104, 20977, 21075, 21399, 21668, 21769, 21881, 21955, 22554,\n",
       "            22628, 22790, 23124],\n",
       "           dtype='int64')"
      ]
     },
     "execution_count": 55,
     "metadata": {},
     "output_type": "execute_result"
    }
   ],
   "source": [
    "df.loc[(df['locality_name']=='Санкт-Петербург') & (df['airports_nearest'].isna()==True)].index"
   ]
  },
  {
   "cell_type": "code",
   "execution_count": 56,
   "metadata": {
    "scrolled": true
   },
   "outputs": [],
   "source": [
    "df.loc[df['airports_nearest'].isna()==True, 'airports_nearest'] = df['locality_name'].apply(median_loc)"
   ]
  },
  {
   "cell_type": "code",
   "execution_count": 57,
   "metadata": {},
   "outputs": [
    {
     "data": {
      "text/plain": [
       "total_images                              0\n",
       "last_price                          3500000\n",
       "total_area                             41.3\n",
       "first_day_exposition    2018-01-11 00:00:00\n",
       "rooms                                     3\n",
       "ceiling_height                         2.55\n",
       "floors_total                              5\n",
       "living_area                            29.5\n",
       "floor                                     1\n",
       "is_apartment                          False\n",
       "studio                                False\n",
       "open_plan                             False\n",
       "kitchen_area                            6.0\n",
       "balcony                                   0\n",
       "locality_name               Санкт-Петербург\n",
       "airports_nearest                    26763.0\n",
       "citycenters_nearest                 11246.0\n",
       "parks_around3000                          0\n",
       "parks_nearest                           NaN\n",
       "ponds_around3000                          0\n",
       "ponds_nearest                           NaN\n",
       "days_exposition                        23.0\n",
       "Name: 23124, dtype: object"
      ]
     },
     "execution_count": 57,
     "metadata": {},
     "output_type": "execute_result"
    }
   ],
   "source": [
    "df.loc[23124]"
   ]
  },
  {
   "cell_type": "code",
   "execution_count": 58,
   "metadata": {
    "scrolled": false
   },
   "outputs": [
    {
     "data": {
      "text/plain": [
       "5432"
      ]
     },
     "execution_count": 58,
     "metadata": {},
     "output_type": "execute_result"
    }
   ],
   "source": [
    "df['airports_nearest'].isna().sum()"
   ]
  },
  {
   "cell_type": "markdown",
   "metadata": {},
   "source": [
    "<div class=\"alert alert-info\"> \n",
    "<b>Вывод:</b> \n",
    "    Рассчитав процент пропусков в данных с расстоянием до аэропорта, мы пришли к вывод что пропусков более 20%, мы посмотрели на распределение расстояния, на выбросы, и приняли решение попробовать заполнить эти пропуски медианным, предварительно сгруппировав квартиры по населённым пунктам. Данным способом нам удалось заполнить лишь 92 значения.\n",
    "    Пропуски в данных могут быть вызваны тем, что люди просто не пользуются авиаперевозками, и данный параметр для них не является преимущественным при размещении объявления. Либо эти параметры просто были пропущены, из-за описания информации в самом объявлении.\n",
    "</div>"
   ]
  },
  {
   "cell_type": "markdown",
   "metadata": {},
   "source": [
    "**2.13. days_exposition — сколько дней было размещено объявление (от публикации до снятия)**"
   ]
  },
  {
   "cell_type": "code",
   "execution_count": 59,
   "metadata": {},
   "outputs": [],
   "source": [
    "df['days_exposition'] = df['days_exposition'].fillna(0)"
   ]
  },
  {
   "cell_type": "code",
   "execution_count": 60,
   "metadata": {},
   "outputs": [],
   "source": [
    "df['days_exposition'] = df['days_exposition'].astype('int')"
   ]
  },
  {
   "cell_type": "markdown",
   "metadata": {},
   "source": [
    "<div class=\"alert alert-info\"> \n",
    "<b>Вывод по предобработке данных</b> \n",
    "    \n",
    "<b>   </b>\n",
    "    Всего у нас 23699 записи. Многих столбцов есть пропущенные значения и некорректный тип данных, который мы исправили. По ряду признаков есть аномальные значения, это как нулевые, так и завышенные значения.\n",
    "    Где было возможно заменить значения, мы заменили, либо на ноль, либо на медианное значение. В столбце с этажами их было менее одного процента, мы их удалили. Отдельное внимание следует обратить на пропущенные значения в таких данных как жилая площадь, площадь кухни. В некоторых столбцах большой процент пропусков который мы не смогли восстановить, причинами могут быть как фактор человеческий(посчитали не важным, указали в другом месте, например всё указано в общем описании квартиры, может просто забыли), так и технические причины связанные с сменой формата данных, перенос с одного источника на другой, разная программа конвертирования данных. Но просмотрев и изучив данные мы всё же больше склоняемся над тем, что пропуски связаны с ошибочным, или не правильным оформлением объявления человеком (не возраста людей хорошо разбираются в компьютерах, некоторые могут только описать квартиру и грубо говоря поставить цену), можно и обратиться к сотрудникам, которые эту информацию предоставили, для уточнения информации, либо чтобы они нашли первоисточник, если это возможно.\n",
    "\n",
    "</div>"
   ]
  },
  {
   "cell_type": "markdown",
   "metadata": {},
   "source": [
    "### Посчитайте и добавьте в таблицу новые столбцы"
   ]
  },
  {
   "cell_type": "markdown",
   "metadata": {},
   "source": [
    "*Давайте добавим новый столбец в таблицу с ценой одного квадратного метра за квартиру и сразу цену приведём к целочисленному типу int:*"
   ]
  },
  {
   "cell_type": "code",
   "execution_count": 61,
   "metadata": {},
   "outputs": [],
   "source": [
    "df['price_m2'] = (df['last_price'] / df['total_area']).astype('int')"
   ]
  },
  {
   "cell_type": "markdown",
   "metadata": {},
   "source": [
    "*Добавим день недели публикации объявления (0 — понедельник, 1 — вторник и так далее)*"
   ]
  },
  {
   "cell_type": "code",
   "execution_count": 62,
   "metadata": {},
   "outputs": [
    {
     "data": {
      "text/plain": [
       "array([3, 1, 4, 0, 2, 6, 5])"
      ]
     },
     "execution_count": 62,
     "metadata": {},
     "output_type": "execute_result"
    }
   ],
   "source": [
    "df['weekday'] = df['first_day_exposition'].dt.weekday\n",
    "df['weekday'].unique()"
   ]
  },
  {
   "cell_type": "markdown",
   "metadata": {},
   "source": [
    "*Добавим столбец с месяцем публикации объявления:*"
   ]
  },
  {
   "cell_type": "code",
   "execution_count": 63,
   "metadata": {},
   "outputs": [
    {
     "data": {
      "text/plain": [
       "array([ 3, 12,  8,  7,  6,  9, 11,  4,  5,  2,  1, 10])"
      ]
     },
     "execution_count": 63,
     "metadata": {},
     "output_type": "execute_result"
    }
   ],
   "source": [
    "df['month'] = df['first_day_exposition'].dt.month\n",
    "df['month'].unique()"
   ]
  },
  {
   "cell_type": "markdown",
   "metadata": {},
   "source": [
    "*С годом публикации объявления:*"
   ]
  },
  {
   "cell_type": "code",
   "execution_count": 64,
   "metadata": {},
   "outputs": [
    {
     "data": {
      "text/plain": [
       "array([2019, 2018, 2015, 2017, 2016, 2014])"
      ]
     },
     "execution_count": 64,
     "metadata": {},
     "output_type": "execute_result"
    }
   ],
   "source": [
    "df['year'] = df['first_day_exposition'].dt.year\n",
    "df['year'].unique()\n"
   ]
  },
  {
   "cell_type": "markdown",
   "metadata": {},
   "source": [
    "*Создадим новую колонку, куда запишем тип этажа квартиры (значения — «‎первый», «последний», «другой»):*"
   ]
  },
  {
   "cell_type": "code",
   "execution_count": 65,
   "metadata": {},
   "outputs": [
    {
     "data": {
      "text/plain": [
       "array(['другой', 'первый', 'последний'], dtype=object)"
      ]
     },
     "execution_count": 65,
     "metadata": {},
     "output_type": "execute_result"
    }
   ],
   "source": [
    "def floor_group(row):\n",
    "    if row['floor'] == 1:\n",
    "        return 'первый'\n",
    "    elif row['floor'] == row['floors_total']:\n",
    "        return 'последний'\n",
    "    else:\n",
    "        return 'другой'\n",
    "df['floor_category'] = df.apply(floor_group, axis=1)\n",
    "df['floor_category'].unique()"
   ]
  },
  {
   "cell_type": "markdown",
   "metadata": {},
   "source": [
    "*Рассчитаем расстояние до центра города в километрах (переведите из м в км и округлите до целых значений), и запишем изменения в этот же столбец*"
   ]
  },
  {
   "cell_type": "code",
   "execution_count": 66,
   "metadata": {},
   "outputs": [],
   "source": [
    "df['citycenters_nearest'] = df['citycenters_nearest'].fillna(999999)"
   ]
  },
  {
   "cell_type": "code",
   "execution_count": 67,
   "metadata": {
    "scrolled": true
   },
   "outputs": [],
   "source": [
    "df['citycenters_nearest'] = df['citycenters_nearest'].apply(lambda x: x/1000)"
   ]
  },
  {
   "cell_type": "markdown",
   "metadata": {},
   "source": [
    "### Проведите исследовательский анализ данных"
   ]
  },
  {
   "cell_type": "markdown",
   "metadata": {},
   "source": [
    "**Изучим данные с общей площадью**"
   ]
  },
  {
   "cell_type": "code",
   "execution_count": 68,
   "metadata": {},
   "outputs": [
    {
     "data": {
      "image/png": "[encoded data removed]",
      "text/plain": [
       "<Figure size 720x288 with 1 Axes>"
      ]
     },
     "metadata": {
      "needs_background": "light"
     },
     "output_type": "display_data"
    }
   ],
   "source": [
    "df['total_area'].plot(bins = 100, kind = 'hist', range = (15, 200), figsize = (10, 4), title = 'Площадь квартир', grid = True)\n",
    "plt.xlabel('Квадратные метры')\n",
    "plt.ylabel('Количество квартир')\n",
    "plt.show()"
   ]
  },
  {
   "cell_type": "code",
   "execution_count": 69,
   "metadata": {},
   "outputs": [
    {
     "data": {
      "text/plain": [
       "45.0    419\n",
       "42.0    383\n",
       "31.0    346\n",
       "60.0    346\n",
       "44.0    343\n",
       "Name: total_area, dtype: int64"
      ]
     },
     "execution_count": 69,
     "metadata": {},
     "output_type": "execute_result"
    }
   ],
   "source": [
    "df['total_area'].value_counts().head(5)"
   ]
  },
  {
   "cell_type": "code",
   "execution_count": 70,
   "metadata": {},
   "outputs": [
    {
     "data": {
      "text/plain": [
       "19540    900.0\n",
       "12859    631.2\n",
       "3117     631.0\n",
       "15651    618.0\n",
       "5358     590.0\n",
       "Name: total_area, dtype: float64"
      ]
     },
     "execution_count": 70,
     "metadata": {},
     "output_type": "execute_result"
    }
   ],
   "source": [
    "df['total_area'].sort_values(ascending = False).head(5)"
   ]
  },
  {
   "cell_type": "code",
   "execution_count": 71,
   "metadata": {},
   "outputs": [
    {
     "data": {
      "text/plain": [
       "count    23565.0\n",
       "mean        60.0\n",
       "std         36.0\n",
       "min         12.0\n",
       "25%         40.0\n",
       "50%         52.0\n",
       "75%         70.0\n",
       "max        900.0\n",
       "Name: total_area, dtype: float64"
      ]
     },
     "execution_count": 71,
     "metadata": {},
     "output_type": "execute_result"
    }
   ],
   "source": [
    "round(df['total_area'].describe())"
   ]
  },
  {
   "cell_type": "markdown",
   "metadata": {},
   "source": [
    "**Вывод: посмотрев на площадь квартир графически и рассчитав необходимые показатели мы видим, что наиболее часто продаются квартиры с площадью  в диапазоне от 31 до 60 квадратных метров, есть выбросы, которые мы не включили в график, это квартиры с площадью более 500 квадратов, мы их оставим, так как при расчёты показателей описательной статистики они не сильно повлияли на медиану и процентили.**"
   ]
  },
  {
   "cell_type": "markdown",
   "metadata": {},
   "source": [
    "**Изучим  жилую площадь квартир**"
   ]
  },
  {
   "cell_type": "code",
   "execution_count": 72,
   "metadata": {},
   "outputs": [
    {
     "data": {
      "image/png": "[encoded data removed]",
      "text/plain": [
       "<Figure size 720x288 with 1 Axes>"
      ]
     },
     "metadata": {
      "needs_background": "light"
     },
     "output_type": "display_data"
    }
   ],
   "source": [
    "df['living_area'].plot(bins = 50, kind = 'hist', range = (9, 100), figsize = (10, 4), title = 'Жилая площадь', grid = True)\n",
    "plt.xlabel('Квадратные метры')\n",
    "plt.ylabel('Количество квартир')\n",
    "plt.show()"
   ]
  },
  {
   "cell_type": "code",
   "execution_count": 73,
   "metadata": {},
   "outputs": [
    {
     "data": {
      "text/plain": [
       "18.0    882\n",
       "17.0    673\n",
       "30.0    598\n",
       "16.0    483\n",
       "20.0    479\n",
       "28.0    422\n",
       "31.0    379\n",
       "19.0    327\n",
       "32.0    317\n",
       "29.0    317\n",
       "Name: living_area, dtype: int64"
      ]
     },
     "execution_count": 73,
     "metadata": {},
     "output_type": "execute_result"
    }
   ],
   "source": [
    "df['living_area'].value_counts().head(10)"
   ]
  },
  {
   "cell_type": "code",
   "execution_count": 74,
   "metadata": {},
   "outputs": [
    {
     "data": {
      "text/plain": [
       "19540    410.0\n",
       "5358     409.0\n",
       "12401    348.0\n",
       "4237     332.0\n",
       "12859    322.0\n",
       "Name: living_area, dtype: float64"
      ]
     },
     "execution_count": 74,
     "metadata": {},
     "output_type": "execute_result"
    }
   ],
   "source": [
    "round(df['living_area'].sort_values(ascending = False).head(5))"
   ]
  },
  {
   "cell_type": "code",
   "execution_count": 75,
   "metadata": {},
   "outputs": [
    {
     "data": {
      "text/plain": [
       "count    21700.0\n",
       "mean        34.0\n",
       "std         22.0\n",
       "min          2.0\n",
       "25%         19.0\n",
       "50%         30.0\n",
       "75%         42.0\n",
       "max        410.0\n",
       "Name: living_area, dtype: float64"
      ]
     },
     "execution_count": 75,
     "metadata": {},
     "output_type": "execute_result"
    }
   ],
   "source": [
    "round(df['living_area'].describe())"
   ]
  },
  {
   "cell_type": "markdown",
   "metadata": {},
   "source": [
    "<div class=\"alert alert-info\"> \n",
    "<b>Вывод:</b> \n",
    "Наибольшее количество продаваемых квартир имеют жилую площадь в диапазоне от 16 до 50 квадратных метров, встречаются квартиры с жилой площадью более 300 квадратных метров, но на медианное значение эти квартиры не оказывают существенное значения, поэтому не будем удалять эти выбросы, оставим так как есть.\n",
    "\n",
    "</div>"
   ]
  },
  {
   "cell_type": "markdown",
   "metadata": {},
   "source": [
    "**Изучим площадь кухни:**"
   ]
  },
  {
   "cell_type": "code",
   "execution_count": 76,
   "metadata": {
    "scrolled": true
   },
   "outputs": [
    {
     "data": {
      "image/png": "[encoded data removed]",
      "text/plain": [
       "<Figure size 720x288 with 1 Axes>"
      ]
     },
     "metadata": {
      "needs_background": "light"
     },
     "output_type": "display_data"
    }
   ],
   "source": [
    "df['kitchen_area'].plot(bins = 50, kind = 'hist', range = (0, 30), figsize = (10, 4), title = 'Площадь кухни', grid = True)\n",
    "plt.xlabel('Квадратные метры')\n",
    "plt.ylabel('Количество квартир')\n",
    "plt.show()"
   ]
  },
  {
   "cell_type": "code",
   "execution_count": 77,
   "metadata": {},
   "outputs": [
    {
     "data": {
      "text/plain": [
       "6.0     1298\n",
       "10.0    1259\n",
       "8.0     1108\n",
       "9.0     1099\n",
       "7.0     1062\n",
       "Name: kitchen_area, dtype: int64"
      ]
     },
     "execution_count": 77,
     "metadata": {},
     "output_type": "execute_result"
    }
   ],
   "source": [
    "df['kitchen_area'].value_counts().head(5)"
   ]
  },
  {
   "cell_type": "code",
   "execution_count": 78,
   "metadata": {
    "scrolled": true
   },
   "outputs": [
    {
     "data": {
      "text/plain": [
       "19540    112.0\n",
       "20215    107.0\n",
       "2489     100.7\n",
       "5358     100.0\n",
       "16239     93.2\n",
       "Name: kitchen_area, dtype: float64"
      ]
     },
     "execution_count": 78,
     "metadata": {},
     "output_type": "execute_result"
    }
   ],
   "source": [
    "df['kitchen_area'].sort_values(ascending = False).head(5)"
   ]
  },
  {
   "cell_type": "code",
   "execution_count": 79,
   "metadata": {},
   "outputs": [
    {
     "data": {
      "text/plain": [
       "count    21343.0\n",
       "mean        11.0\n",
       "std          6.0\n",
       "min          1.0\n",
       "25%          7.0\n",
       "50%          9.0\n",
       "75%         12.0\n",
       "max        112.0\n",
       "Name: kitchen_area, dtype: float64"
      ]
     },
     "execution_count": 79,
     "metadata": {},
     "output_type": "execute_result"
    }
   ],
   "source": [
    "round(df['kitchen_area'].describe())"
   ]
  },
  {
   "cell_type": "markdown",
   "metadata": {},
   "source": [
    "**Вывод: наиболее распространены квартиры с площадью кухни не более 10 квадратных метров, но есть и такие в которых площадь превышает 100 квадратов, эти выбросы также трогать не будем, так как они не сильно влияют на описательную статистику.** "
   ]
  },
  {
   "cell_type": "markdown",
   "metadata": {},
   "source": [
    "**Изучим цену объекта:**"
   ]
  },
  {
   "cell_type": "code",
   "execution_count": 80,
   "metadata": {},
   "outputs": [
    {
     "data": {
      "image/png": "[encoded data removed]",
      "text/plain": [
       "<Figure size 720x288 with 1 Axes>"
      ]
     },
     "metadata": {
      "needs_background": "light"
     },
     "output_type": "display_data"
    }
   ],
   "source": [
    "df['last_price'].plot(bins = 50, kind = 'hist', range = (0, 20000000), figsize = (10, 4), title = 'Стоимость квартир', grid = True)\n",
    "plt.xlabel('Стоимость')\n",
    "plt.ylabel('Количество квартир')\n",
    "plt.show()"
   ]
  },
  {
   "cell_type": "code",
   "execution_count": 81,
   "metadata": {},
   "outputs": [
    {
     "data": {
      "text/plain": [
       "4500000    341\n",
       "3500000    289\n",
       "4000000    260\n",
       "4300000    260\n",
       "4200000    258\n",
       "Name: last_price, dtype: int64"
      ]
     },
     "execution_count": 81,
     "metadata": {},
     "output_type": "execute_result"
    }
   ],
   "source": [
    "df['last_price'].value_counts().head(5)"
   ]
  },
  {
   "cell_type": "code",
   "execution_count": 82,
   "metadata": {},
   "outputs": [
    {
     "data": {
      "text/plain": [
       "12971    763000000\n",
       "19540    420000000\n",
       "14706    401300000\n",
       "1436     330000000\n",
       "15651    300000000\n",
       "Name: last_price, dtype: int64"
      ]
     },
     "execution_count": 82,
     "metadata": {},
     "output_type": "execute_result"
    }
   ],
   "source": [
    "df['last_price'].sort_values(ascending = False).head(5)"
   ]
  },
  {
   "cell_type": "code",
   "execution_count": 83,
   "metadata": {},
   "outputs": [
    {
     "data": {
      "text/plain": [
       "count        23565.0\n",
       "mean       6540058.0\n",
       "std       10910935.0\n",
       "min          12190.0\n",
       "25%        3400000.0\n",
       "50%        4646000.0\n",
       "75%        6790000.0\n",
       "max      763000000.0\n",
       "Name: last_price, dtype: float64"
      ]
     },
     "execution_count": 83,
     "metadata": {},
     "output_type": "execute_result"
    }
   ],
   "source": [
    "round(df['last_price'].describe())"
   ]
  },
  {
   "cell_type": "markdown",
   "metadata": {},
   "source": [
    "**Вывод: наибольшее количество квартир имеют стоимость 3,5 - 4,5 млн.руб.. Встречаются квартиры со стоимостью свыше 300 млн.руб., при расчёте описательной статистики мы посмотрели на показатели, и эти выбросы не повлияли на расчет медианы и процентилей удалять выбросы не будем.**"
   ]
  },
  {
   "cell_type": "markdown",
   "metadata": {},
   "source": [
    "<div class=\"alert alert-info\"> \n",
    "<b>Вывод:</b> \n",
    "    В колонке с ценой квартиры минимальное значение равно 12190 рублей. Данные надо проверять, возможно в них допушена ошибка с переводом из тысяч рублей в рубли. Также можно предположить, что продавец квартиры мог разместить квартиру сдаваемую в аренду не в том разделе, но мы не станем убирать эти выбивающиеся значения (на будущее всё таки стоит спросить об этой квартире и в целом о неадекватных значениях у сотрудников, предоставивших данные)\n",
    "    \n",
    "</div>"
   ]
  },
  {
   "cell_type": "markdown",
   "metadata": {},
   "source": [
    "**Изучим данные с количеством комнат:**"
   ]
  },
  {
   "cell_type": "code",
   "execution_count": 84,
   "metadata": {},
   "outputs": [
    {
     "data": {
      "image/png": "[encoded data removed]",
      "text/plain": [
       "<Figure size 720x288 with 1 Axes>"
      ]
     },
     "metadata": {
      "needs_background": "light"
     },
     "output_type": "display_data"
    }
   ],
   "source": [
    "df['rooms'].plot(bins = 20, kind = 'hist', range = (0, 10), figsize = (10, 4), title = 'Комнаты', grid = True)\n",
    "plt.xlabel('Количество комнат')\n",
    "plt.ylabel('Количество квартир')\n",
    "plt.show()"
   ]
  },
  {
   "cell_type": "code",
   "execution_count": 85,
   "metadata": {},
   "outputs": [
    {
     "data": {
      "text/plain": [
       "1    8004\n",
       "2    7897\n",
       "3    5779\n",
       "4    1172\n",
       "5     325\n",
       "Name: rooms, dtype: int64"
      ]
     },
     "execution_count": 85,
     "metadata": {},
     "output_type": "execute_result"
    }
   ],
   "source": [
    "df['rooms'].value_counts().head(5)"
   ]
  },
  {
   "cell_type": "code",
   "execution_count": 86,
   "metadata": {},
   "outputs": [
    {
     "data": {
      "text/plain": [
       "14498    19\n",
       "18848    16\n",
       "5358     15\n",
       "20829    14\n",
       "866      14\n",
       "19540    12\n",
       "648      11\n",
       "9688     11\n",
       "18891    10\n",
       "18119    10\n",
       "Name: rooms, dtype: int64"
      ]
     },
     "execution_count": 86,
     "metadata": {},
     "output_type": "execute_result"
    }
   ],
   "source": [
    "df['rooms'].sort_values(ascending=False).head(10)"
   ]
  },
  {
   "cell_type": "markdown",
   "metadata": {},
   "source": [
    "**Вывод: наибольшее количество продаваемых квартир имеют одну, две или три комнаты, реже встречаются четыре и пять. Также в датафрейме есть квартиры с 19-тью комнатами, ничего удалять не будем, оставим эти данными такими.**"
   ]
  },
  {
   "cell_type": "markdown",
   "metadata": {},
   "source": [
    "**Посмотрим на высоту потолков:**"
   ]
  },
  {
   "cell_type": "code",
   "execution_count": 87,
   "metadata": {},
   "outputs": [
    {
     "data": {
      "image/png": "[encoded data removed]",
      "text/plain": [
       "<Figure size 720x288 with 1 Axes>"
      ]
     },
     "metadata": {
      "needs_background": "light"
     },
     "output_type": "display_data"
    }
   ],
   "source": [
    "df['ceiling_height'].plot(bins = 15, kind = 'hist', range = (2.3,4.2), figsize = (10, 4), title = 'Высота потолков', grid = True)\n",
    "plt.xlabel('Высота, м2')\n",
    "plt.ylabel('Количество квартир')\n",
    "plt.show()"
   ]
  },
  {
   "cell_type": "code",
   "execution_count": 88,
   "metadata": {},
   "outputs": [
    {
     "data": {
      "text/plain": [
       "2.65    9758\n",
       "2.50    3522\n",
       "2.60    1646\n",
       "2.70    1579\n",
       "3.00    1108\n",
       "Name: ceiling_height, dtype: int64"
      ]
     },
     "execution_count": 88,
     "metadata": {},
     "output_type": "execute_result"
    }
   ],
   "source": [
    "df['ceiling_height'].value_counts().head(5)"
   ]
  },
  {
   "cell_type": "code",
   "execution_count": 89,
   "metadata": {},
   "outputs": [
    {
     "data": {
      "text/plain": [
       "15061    14.0\n",
       "22309    10.3\n",
       "22869    10.0\n",
       "5863      8.3\n",
       "17442     8.0\n",
       "Name: ceiling_height, dtype: float64"
      ]
     },
     "execution_count": 89,
     "metadata": {},
     "output_type": "execute_result"
    }
   ],
   "source": [
    "df['ceiling_height'].sort_values(ascending = False).head(5)"
   ]
  },
  {
   "cell_type": "code",
   "execution_count": 90,
   "metadata": {},
   "outputs": [
    {
     "data": {
      "text/plain": [
       "count    23565.00\n",
       "mean         2.70\n",
       "std          0.25\n",
       "min          1.00\n",
       "25%          2.60\n",
       "50%          2.65\n",
       "75%          2.70\n",
       "max         14.00\n",
       "Name: ceiling_height, dtype: float64"
      ]
     },
     "execution_count": 90,
     "metadata": {},
     "output_type": "execute_result"
    }
   ],
   "source": [
    "round(df['ceiling_height'].describe(),2)"
   ]
  },
  {
   "cell_type": "markdown",
   "metadata": {},
   "source": [
    "**Вывод: по графику видно, что в основном в квартирах указана высота потолков с 2,5 - 3,0 метров, есть и выбросы с показателем в 14, 10, 8 метров.** "
   ]
  },
  {
   "cell_type": "markdown",
   "metadata": {},
   "source": [
    "**Изучим этаж квартиры**"
   ]
  },
  {
   "cell_type": "code",
   "execution_count": 91,
   "metadata": {},
   "outputs": [
    {
     "data": {
      "image/png": "[encoded data removed]",
      "text/plain": [
       "<Figure size 720x288 with 1 Axes>"
      ]
     },
     "metadata": {
      "needs_background": "light"
     },
     "output_type": "display_data"
    }
   ],
   "source": [
    "df['floor'].plot(bins = 15, kind = 'hist', range = (0,30), figsize = (10, 4), title = 'Этаж', grid = True)\n",
    "plt.xlabel('Номер этажа')\n",
    "plt.ylabel('Количество квартир')\n",
    "plt.show()"
   ]
  },
  {
   "cell_type": "code",
   "execution_count": 92,
   "metadata": {},
   "outputs": [
    {
     "data": {
      "text/plain": [
       "2    3351\n",
       "3    3061\n",
       "1    2909\n",
       "4    2793\n",
       "5    2612\n",
       "Name: floor, dtype: int64"
      ]
     },
     "execution_count": 92,
     "metadata": {},
     "output_type": "execute_result"
    }
   ],
   "source": [
    "df['floor'].value_counts().head(5)"
   ]
  },
  {
   "cell_type": "code",
   "execution_count": 93,
   "metadata": {},
   "outputs": [
    {
     "data": {
      "text/plain": [
       "18218    33\n",
       "11575    32\n",
       "18629    31\n",
       "1917     30\n",
       "11079    29\n",
       "Name: floor, dtype: int64"
      ]
     },
     "execution_count": 93,
     "metadata": {},
     "output_type": "execute_result"
    }
   ],
   "source": [
    "df['floor'].sort_values(ascending = False).head(5)"
   ]
  },
  {
   "cell_type": "code",
   "execution_count": 94,
   "metadata": {},
   "outputs": [
    {
     "data": {
      "text/plain": [
       "count    23565.0\n",
       "mean         6.0\n",
       "std          5.0\n",
       "min          1.0\n",
       "25%          2.0\n",
       "50%          4.0\n",
       "75%          8.0\n",
       "max         33.0\n",
       "Name: floor, dtype: float64"
      ]
     },
     "execution_count": 94,
     "metadata": {},
     "output_type": "execute_result"
    }
   ],
   "source": [
    "round(df['floor'].describe())"
   ]
  },
  {
   "cell_type": "markdown",
   "metadata": {},
   "source": [
    "**Наибольшее количество квартир находятся до пятого этажа, чаще всего это квартиры на четвертом этаже, и есть квартиры в высотных домах с этажом выше 30-го.**"
   ]
  },
  {
   "cell_type": "markdown",
   "metadata": {},
   "source": [
    "\n",
    "**Посмотрим на тип этажа квартиры («первый», «последний», «другой»):**"
   ]
  },
  {
   "cell_type": "code",
   "execution_count": 95,
   "metadata": {},
   "outputs": [
    {
     "data": {
      "image/png": "[encoded data removed]",
      "text/plain": [
       "<Figure size 360x216 with 1 Axes>"
      ]
     },
     "metadata": {
      "needs_background": "light"
     },
     "output_type": "display_data"
    }
   ],
   "source": [
    "df['floor_category'].hist(figsize= (5,3), bins=3, rwidth= .9)\n",
    "plt.show()"
   ]
  },
  {
   "cell_type": "code",
   "execution_count": 96,
   "metadata": {},
   "outputs": [
    {
     "data": {
      "text/plain": [
       "другой       17326\n",
       "последний     3330\n",
       "первый        2909\n",
       "Name: floor_category, dtype: int64"
      ]
     },
     "execution_count": 96,
     "metadata": {},
     "output_type": "execute_result"
    }
   ],
   "source": [
    "df['floor_category'].value_counts().head(5)"
   ]
  },
  {
   "cell_type": "markdown",
   "metadata": {},
   "source": [
    "**Вывод: Продаваемые квартиры в основном находятся не на первом, и не на последнем этажах, а в середине дома.** "
   ]
  },
  {
   "cell_type": "markdown",
   "metadata": {},
   "source": [
    "**Посмотрим на общее количество этажей в доме:**"
   ]
  },
  {
   "cell_type": "code",
   "execution_count": 97,
   "metadata": {},
   "outputs": [
    {
     "data": {
      "image/png": "[encoded data removed]",
      "text/plain": [
       "<Figure size 720x288 with 1 Axes>"
      ]
     },
     "metadata": {
      "needs_background": "light"
     },
     "output_type": "display_data"
    }
   ],
   "source": [
    "df['floors_total'].plot(bins = 15, kind = 'hist', range = (0,30), figsize = (10, 4), title = 'Этажи', grid = True,  rwidth= .9)\n",
    "plt.xlabel('Количество этажей')\n",
    "plt.ylabel('Количество квартир')\n",
    "plt.show()"
   ]
  },
  {
   "cell_type": "code",
   "execution_count": 98,
   "metadata": {},
   "outputs": [
    {
     "data": {
      "text/plain": [
       "5     5775\n",
       "9     3758\n",
       "16    1375\n",
       "12    1361\n",
       "4     1193\n",
       "Name: floors_total, dtype: int64"
      ]
     },
     "execution_count": 98,
     "metadata": {},
     "output_type": "execute_result"
    }
   ],
   "source": [
    "df['floors_total'].value_counts().head(5)"
   ]
  },
  {
   "cell_type": "code",
   "execution_count": 99,
   "metadata": {},
   "outputs": [
    {
     "data": {
      "text/plain": [
       "2253     60\n",
       "16731    52\n",
       "16934    37\n",
       "5807     36\n",
       "11079    36\n",
       "Name: floors_total, dtype: int64"
      ]
     },
     "execution_count": 99,
     "metadata": {},
     "output_type": "execute_result"
    }
   ],
   "source": [
    "df['floors_total'].sort_values(ascending = False).head(5)"
   ]
  },
  {
   "cell_type": "markdown",
   "metadata": {},
   "source": [
    "**Вывод: преобладают в основном пятиэтажные, и девятиэтажные дома, также есть дома с этажами выше тридцатого.**"
   ]
  },
  {
   "cell_type": "markdown",
   "metadata": {},
   "source": [
    "**Изучим расстояние до центра города в метрах:**"
   ]
  },
  {
   "cell_type": "code",
   "execution_count": 100,
   "metadata": {},
   "outputs": [
    {
     "data": {
      "image/png": "[encoded data removed]",
      "text/plain": [
       "<Figure size 720x288 with 1 Axes>"
      ]
     },
     "metadata": {
      "needs_background": "light"
     },
     "output_type": "display_data"
    }
   ],
   "source": [
    "df['citycenters_nearest'].plot(bins = 15, kind = 'hist', range = (0,30), figsize = (10, 4), title = 'Расстояние до центра города', grid = True,  rwidth= .9)\n",
    "plt.xlabel('расстояние, м.')\n",
    "plt.ylabel('Количество квартир')\n",
    "plt.show()"
   ]
  },
  {
   "cell_type": "code",
   "execution_count": 101,
   "metadata": {},
   "outputs": [
    {
     "data": {
      "text/plain": [
       "count    23565.0\n",
       "mean        11.0\n",
       "std          7.0\n",
       "min          1.0\n",
       "25%          5.0\n",
       "50%          9.0\n",
       "75%         16.0\n",
       "max         60.0\n",
       "Name: floors_total, dtype: float64"
      ]
     },
     "execution_count": 101,
     "metadata": {},
     "output_type": "execute_result"
    }
   ],
   "source": [
    "round(df['floors_total'].describe())"
   ]
  },
  {
   "cell_type": "markdown",
   "metadata": {},
   "source": [
    "**Вывод: Квартиры в основном находятся не далеко от центра города, наибольшее количество расположено в 9 километрах от центра, есть квартиры и с более дальним расстоянием в 60 километров от центра**"
   ]
  },
  {
   "cell_type": "markdown",
   "metadata": {},
   "source": [
    "**Посмотрим на расстояние до ближайшего аэропорта**"
   ]
  },
  {
   "cell_type": "code",
   "execution_count": 102,
   "metadata": {},
   "outputs": [
    {
     "data": {
      "image/png": "[encoded data removed]",
      "text/plain": [
       "<Figure size 720x288 with 1 Axes>"
      ]
     },
     "metadata": {
      "needs_background": "light"
     },
     "output_type": "display_data"
    }
   ],
   "source": [
    "df['airports_nearest'].plot(bins = 15, kind = 'hist', range = (0,80000), figsize = (10, 4), title = 'Расстояние до аэропорта', grid = True,  rwidth= .9)\n",
    "plt.xlabel('расстояние, м.')\n",
    "plt.ylabel('Количество квартир')\n",
    "plt.show()"
   ]
  },
  {
   "cell_type": "code",
   "execution_count": 103,
   "metadata": {},
   "outputs": [
    {
     "data": {
      "text/plain": [
       "26763.0    86\n",
       "37434.0    61\n",
       "21928.0    32\n",
       "44870.0    30\n",
       "39946.0    30\n",
       "Name: airports_nearest, dtype: int64"
      ]
     },
     "execution_count": 103,
     "metadata": {},
     "output_type": "execute_result"
    }
   ],
   "source": [
    "df['airports_nearest'].value_counts().head(5)"
   ]
  },
  {
   "cell_type": "code",
   "execution_count": 104,
   "metadata": {},
   "outputs": [
    {
     "data": {
      "text/plain": [
       "count    18133.0\n",
       "mean     28790.0\n",
       "std      12604.0\n",
       "min       6450.0\n",
       "25%      18591.0\n",
       "50%      26763.0\n",
       "75%      37227.0\n",
       "max      84869.0\n",
       "Name: airports_nearest, dtype: float64"
      ]
     },
     "execution_count": 104,
     "metadata": {},
     "output_type": "execute_result"
    }
   ],
   "source": [
    "round(df['airports_nearest'].describe())"
   ]
  },
  {
   "cell_type": "markdown",
   "metadata": {},
   "source": [
    "**Вывод: самое минимальное расстояние составило 0 метров, скорее всего тут были допущены ошибки, первый процентиль составил 21 км, а медианное значение равно 27 км.**"
   ]
  },
  {
   "cell_type": "markdown",
   "metadata": {},
   "source": [
    "**Изучим данные с расстоянием до ближайшего парка:**"
   ]
  },
  {
   "cell_type": "code",
   "execution_count": 105,
   "metadata": {},
   "outputs": [
    {
     "data": {
      "image/png": "[encoded data removed]",
      "text/plain": [
       "<Figure size 720x288 with 1 Axes>"
      ]
     },
     "metadata": {
      "needs_background": "light"
     },
     "output_type": "display_data"
    }
   ],
   "source": [
    "df['parks_nearest'].plot(bins = 15, kind = 'hist', range = (0,2000), figsize = (10, 4), title = 'Расстояние до парка', grid = True,  rwidth= .9)\n",
    "plt.xlabel('расстояние, м.')\n",
    "plt.ylabel('Количество квартир')\n",
    "plt.show()"
   ]
  },
  {
   "cell_type": "code",
   "execution_count": 106,
   "metadata": {},
   "outputs": [
    {
     "data": {
      "text/plain": [
       "441.0    67\n",
       "392.0    41\n",
       "173.0    41\n",
       "456.0    40\n",
       "471.0    31\n",
       "Name: parks_nearest, dtype: int64"
      ]
     },
     "execution_count": 106,
     "metadata": {},
     "output_type": "execute_result"
    }
   ],
   "source": [
    "df['parks_nearest'].value_counts().head(5)"
   ]
  },
  {
   "cell_type": "code",
   "execution_count": 107,
   "metadata": {},
   "outputs": [
    {
     "data": {
      "text/plain": [
       "count    8030.0\n",
       "mean      491.0\n",
       "std       342.0\n",
       "min         1.0\n",
       "25%       288.0\n",
       "50%       455.0\n",
       "75%       612.0\n",
       "max      3190.0\n",
       "Name: parks_nearest, dtype: float64"
      ]
     },
     "execution_count": 107,
     "metadata": {},
     "output_type": "execute_result"
    }
   ],
   "source": [
    "round(df['parks_nearest'].describe())"
   ]
  },
  {
   "cell_type": "markdown",
   "metadata": {},
   "source": [
    "**Вывод: парки то квартир располагаются не на удалении, медианное значение составило 454 метра, и сортировка квартир это тоже подтверждает. Самое далёкое расположение парка составило  более трёх километров, но надо учесть что у нас очень много нулевых значений, поэтому точно сказать что эти показатели точные, нельзя.**"
   ]
  },
  {
   "cell_type": "markdown",
   "metadata": {},
   "source": [
    "**Посмотрим на день и месяц публикации объявления.**"
   ]
  },
  {
   "cell_type": "code",
   "execution_count": 108,
   "metadata": {
    "scrolled": true
   },
   "outputs": [
    {
     "data": {
      "image/png": "[encoded data removed]",
      "text/plain": [
       "<Figure size 720x288 with 1 Axes>"
      ]
     },
     "metadata": {
      "needs_background": "light"
     },
     "output_type": "display_data"
    },
    {
     "data": {
      "image/png": "[encoded data removed]",
      "text/plain": [
       "<Figure size 720x288 with 1 Axes>"
      ]
     },
     "metadata": {
      "needs_background": "light"
     },
     "output_type": "display_data"
    },
    {
     "data": {
      "image/png": "[encoded data removed]",
      "text/plain": [
       "<Figure size 720x288 with 1 Axes>"
      ]
     },
     "metadata": {
      "needs_background": "light"
     },
     "output_type": "display_data"
    }
   ],
   "source": [
    "df['weekday'].plot(bins = 15, kind = 'hist', range = (0,8), figsize = (10, 4), title = 'День публикации', grid = True,  rwidth= .9)\n",
    "plt.xlabel('Номер дня недели')\n",
    "plt.ylabel('Количество квартир')\n",
    "plt.show()\n",
    "\n",
    "df['month'].plot(bins = 15, kind = 'hist', range = (0,13), figsize = (10, 4), title = 'Месяц публикации', grid = True,  rwidth= .9)\n",
    "plt.xlabel('Номер месяца')\n",
    "plt.ylabel('Количество квартир')\n",
    "plt.show()\n",
    "\n",
    "df['year'].plot(bins = 15, kind = 'hist', range = (2013, 2020), figsize = (10, 4), title = 'Год публикации', grid = True,  rwidth= .9)\n",
    "plt.xlabel('Год')\n",
    "plt.ylabel('Количество квартир')\n",
    "plt.show()"
   ]
  },
  {
   "cell_type": "code",
   "execution_count": 109,
   "metadata": {},
   "outputs": [
    {
     "data": {
      "text/plain": [
       "count    23565.0\n",
       "mean         3.0\n",
       "std          2.0\n",
       "min          0.0\n",
       "25%          1.0\n",
       "50%          3.0\n",
       "75%          4.0\n",
       "max          6.0\n",
       "Name: weekday, dtype: float64"
      ]
     },
     "execution_count": 109,
     "metadata": {},
     "output_type": "execute_result"
    }
   ],
   "source": [
    "round(df['weekday'].describe())"
   ]
  },
  {
   "cell_type": "code",
   "execution_count": 110,
   "metadata": {},
   "outputs": [
    {
     "data": {
      "text/plain": [
       "2     2636\n",
       "3     2575\n",
       "11    2360\n",
       "4     2356\n",
       "10    2108\n",
       "Name: month, dtype: int64"
      ]
     },
     "execution_count": 110,
     "metadata": {},
     "output_type": "execute_result"
    }
   ],
   "source": [
    "df['month'].value_counts().head(5)"
   ]
  },
  {
   "cell_type": "code",
   "execution_count": 111,
   "metadata": {},
   "outputs": [
    {
     "data": {
      "text/plain": [
       "2018    8486\n",
       "2017    8161\n",
       "2019    2871\n",
       "2016    2745\n",
       "2015    1166\n",
       "Name: year, dtype: int64"
      ]
     },
     "execution_count": 111,
     "metadata": {},
     "output_type": "execute_result"
    }
   ],
   "source": [
    "df['year'].value_counts().head(5)"
   ]
  },
  {
   "cell_type": "markdown",
   "metadata": {},
   "source": [
    "**Вывод: Публикация квартир преобладает в 2018 году, будние дни люди предпочитают больше, в выходные опубликовано наименьшее количество квартир. Значимых отличий в месяце публикации не наблюдается, но лидируют зимние месяцы.**"
   ]
  },
  {
   "cell_type": "markdown",
   "metadata": {},
   "source": [
    "**Изучим, как быстро продавались квартиры:**"
   ]
  },
  {
   "cell_type": "code",
   "execution_count": 112,
   "metadata": {
    "scrolled": true
   },
   "outputs": [
    {
     "data": {
      "image/png": "[encoded data removed]",
      "text/plain": [
       "<Figure size 720x288 with 1 Axes>"
      ]
     },
     "metadata": {
      "needs_background": "light"
     },
     "output_type": "display_data"
    }
   ],
   "source": [
    "df[df['days_exposition'] !=0]['days_exposition'].plot(bins = 15, kind = 'hist', range = (0, 1500), figsize = (10, 4), title = 'Дни продажи', grid = True,  rwidth= .9)\n",
    "plt.xlabel('Количество дней')\n",
    "plt.ylabel('Количество квартир')\n",
    "plt.show()"
   ]
  },
  {
   "cell_type": "code",
   "execution_count": 113,
   "metadata": {},
   "outputs": [
    {
     "data": {
      "text/plain": [
       "(1.0, 1000.0)"
      ]
     },
     "execution_count": 113,
     "metadata": {},
     "output_type": "execute_result"
    },
    {
     "data": {
      "image/png": "[encoded data removed]",
      "text/plain": [
       "<Figure size 432x288 with 1 Axes>"
      ]
     },
     "metadata": {
      "needs_background": "light"
     },
     "output_type": "display_data"
    }
   ],
   "source": [
    "plt.boxplot(df[df['days_exposition']!=0]['days_exposition'])\n",
    "plt.ylim(1,1000)"
   ]
  },
  {
   "cell_type": "code",
   "execution_count": 114,
   "metadata": {
    "scrolled": true
   },
   "outputs": [
    {
     "data": {
      "text/plain": [
       "45    879\n",
       "60    538\n",
       "7     234\n",
       "30    208\n",
       "90    200\n",
       "Name: days_exposition, dtype: int64"
      ]
     },
     "execution_count": 114,
     "metadata": {},
     "output_type": "execute_result"
    }
   ],
   "source": [
    "df[df['days_exposition']!=0]['days_exposition'].value_counts().head(5)"
   ]
  },
  {
   "cell_type": "code",
   "execution_count": 115,
   "metadata": {},
   "outputs": [
    {
     "data": {
      "text/plain": [
       "18843    1580\n",
       "1109     1572\n",
       "9553     1553\n",
       "1885     1513\n",
       "20969    1512\n",
       "Name: days_exposition, dtype: int64"
      ]
     },
     "execution_count": 115,
     "metadata": {},
     "output_type": "execute_result"
    }
   ],
   "source": [
    "df[df['days_exposition']!=0]['days_exposition'].sort_values(ascending = False).head(5)"
   ]
  },
  {
   "cell_type": "code",
   "execution_count": 116,
   "metadata": {
    "scrolled": true
   },
   "outputs": [
    {
     "data": {
      "text/plain": [
       "count    20394.0\n",
       "mean       181.0\n",
       "std        220.0\n",
       "min          1.0\n",
       "25%         45.0\n",
       "50%         95.0\n",
       "75%        231.0\n",
       "max       1580.0\n",
       "Name: days_exposition, dtype: float64"
      ]
     },
     "execution_count": 116,
     "metadata": {},
     "output_type": "execute_result"
    }
   ],
   "source": [
    "round(df[df['days_exposition']!=0]['days_exposition'].describe())"
   ]
  },
  {
   "cell_type": "markdown",
   "metadata": {},
   "source": [
    "**Вывод: Рассчитанное медианное время продажи составило 95 дней (большинство квартир продаётся быстро до 95 дней), а среднее время продажи - 181 день. Показатель высокий с длительностью продажи ниже уровня 95 дней. Стоит отметить, что есть много квартир, проданных за пару дней после публикации, и те, которые продавались больше 1500 дней.**\n",
    "\n",
    "**Продажи можно считать быстрыми, продажа которых составляет 45 дней и меньше. Долгой продажей - 230 дней и выше.**"
   ]
  },
  {
   "cell_type": "code",
   "execution_count": 117,
   "metadata": {},
   "outputs": [
    {
     "data": {
      "image/png": "[encoded data removed]",
      "text/plain": [
       "<Figure size 720x288 with 1 Axes>"
      ]
     },
     "metadata": {
      "needs_background": "light"
     },
     "output_type": "display_data"
    }
   ],
   "source": [
    "df[df['days_exposition'] >= 550]['days_exposition'].plot(bins = 15, kind = 'hist', range = (500, 2000), figsize = (10, 4), title = 'Дни продажи', grid = True,  rwidth= .9)\n",
    "plt.xlabel('Количество дней')\n",
    "plt.ylabel('Количество квартир')\n",
    "plt.show()"
   ]
  },
  {
   "attachments": {
    "image.png": {
     "image/png": "[encoded data removed]"
    }
   },
   "cell_type": "markdown",
   "metadata": {},
   "source": [
    "Наткнулась в интернете на идею, что надо посмотреть на условия размещения объявлений на Яндекс Недвижимость, и нашла такую таблицу\n",
    "![image.png](attachment:image.png)"
   ]
  },
  {
   "cell_type": "markdown",
   "metadata": {},
   "source": [
    "Надо пересмотреть наши данные с квартирами, и применить фильтрацию, именно по эти цифрам, немного сомнительно, что многие сроки продажи совпадают со временем публикации на сайте, просто объявление могло слетесь с публикации и засчитаться как проданная, и эти действия могут привести к ошибочным данным.\n"
   ]
  },
  {
   "cell_type": "code",
   "execution_count": 118,
   "metadata": {
    "scrolled": false
   },
   "outputs": [
    {
     "name": "stdout",
     "output_type": "stream",
     "text": [
      "Количество квартир проданных в срок в 45 дней: 879\n",
      "Количество квартир проданных в срок в 60 дней: 538\n",
      "Количество квартир проданных в срок в 90 дней: 200\n"
     ]
    }
   ],
   "source": [
    "print('Количество квартир проданных в срок в 45 дней:', len(df[df['days_exposition']==45]))\n",
    "print('Количество квартир проданных в срок в 60 дней:', len(df[df['days_exposition']==60]))\n",
    "print('Количество квартир проданных в срок в 90 дней:', len(df[df['days_exposition']==90]))"
   ]
  },
  {
   "cell_type": "markdown",
   "metadata": {},
   "source": [
    "Теперь надо определиться с очень длинным сроком размещения объявлений, по рассчитанным данным межквартильный размах в диапазоне 45 - 231 дней, и по построенному боксплоту видим, что усы упираются примерно в значение 500 дней. Поэтому целесообразно считать нормальным сроком размещения период  до 500 дней. Но удалить эти значения мы не можем, так как не уверены в них, и это удаление может исказить действительную картину продаж. Скорее всего надо обратиться к сотрудникам которые нам их предоставили и уточнить данные."
   ]
  },
  {
   "cell_type": "markdown",
   "metadata": {},
   "source": [
    "**Теперь посмотрим какие факторы больше всего влияют на общую (полную) стоимость объекта**\n",
    "\n",
    "**Изучим, зависит ли цена от:**\n",
    "1. общей площади;\n",
    "2. жилой площади;\n",
    "3. площади кухни;\n",
    "4. количества комнат;\n",
    "5. этажа, на котором расположена квартира (первый, последний, другой);\n",
    "6. даты размещения (день недели, месяц, год)."
   ]
  },
  {
   "cell_type": "markdown",
   "metadata": {},
   "source": [
    "**4.1. Зависимось цены и общей площади:**"
   ]
  },
  {
   "cell_type": "code",
   "execution_count": 119,
   "metadata": {
    "scrolled": true
   },
   "outputs": [
    {
     "name": "stdout",
     "output_type": "stream",
     "text": [
      "Корреляция цены и общей площади равна: 0.6536213939252808\n"
     ]
    },
    {
     "data": {
      "image/png": "[encoded data removed]",
      "text/plain": [
       "<Figure size 360x288 with 1 Axes>"
      ]
     },
     "metadata": {
      "needs_background": "light"
     },
     "output_type": "display_data"
    }
   ],
   "source": [
    "print('Корреляция цены и общей площади равна:', df['total_area'].corr(df['last_price']))\n",
    "df.pivot_table(index = 'total_area', values = 'last_price').plot(style = 'o', grid = True, figsize = (5,4))\n",
    "plt.title('Диаграмма рассеяния цены и общей площади квартиры',  fontsize = 12)\n",
    "plt.xlabel('Общая площадь')\n",
    "plt.ylabel('Цена')\n",
    "plt.show()"
   ]
  },
  {
   "cell_type": "markdown",
   "metadata": {},
   "source": [
    "**Вывод: зависимость между ценой и общей площадью квартиры составила 0,65, это значит, что связь этих параметров выше среднего, и с увеличением площади растёт стоимость квартиры, наблюдается положительная корреляция.**"
   ]
  },
  {
   "cell_type": "markdown",
   "metadata": {},
   "source": [
    "**4.2. Зависимось цены и жилой площади:**"
   ]
  },
  {
   "cell_type": "code",
   "execution_count": 120,
   "metadata": {},
   "outputs": [
    {
     "name": "stdout",
     "output_type": "stream",
     "text": [
      "Корреляция цены и жилой площади равна: 0.5663795524388772\n"
     ]
    },
    {
     "data": {
      "image/png": "[encoded data removed]",
      "text/plain": [
       "<Figure size 360x288 with 1 Axes>"
      ]
     },
     "metadata": {
      "needs_background": "light"
     },
     "output_type": "display_data"
    }
   ],
   "source": [
    "print('Корреляция цены и жилой площади равна:', df['last_price'].corr(df['living_area']))\n",
    "df.pivot_table(index = 'living_area', values = 'last_price').plot(style = 'o', grid = True, figsize = (5,4))\n",
    "plt.title('Диаграмма рассеяния цены и жилой площади квартиры',  fontsize = 12)\n",
    "plt.xlabel('Жилая площадь')\n",
    "plt.ylabel('Цена')\n",
    "plt.show()"
   ]
  },
  {
   "cell_type": "markdown",
   "metadata": {},
   "source": [
    "**Вывод: рассчитанная корреляция показывает, что показатели связаны между собой, связь положительная выше среднего, с ростом жилой площади растёт общая стоимость квартиры, показатель составил 0,59.**"
   ]
  },
  {
   "cell_type": "markdown",
   "metadata": {},
   "source": [
    "**4.3. Зависимось цены и площади кухни:**"
   ]
  },
  {
   "cell_type": "code",
   "execution_count": 121,
   "metadata": {},
   "outputs": [
    {
     "name": "stdout",
     "output_type": "stream",
     "text": [
      "Корреляция цены и площади кухни равна: 0.5203617949655245\n"
     ]
    },
    {
     "data": {
      "image/png": "[encoded data removed]",
      "text/plain": [
       "<Figure size 360x288 with 1 Axes>"
      ]
     },
     "metadata": {
      "needs_background": "light"
     },
     "output_type": "display_data"
    }
   ],
   "source": [
    "print('Корреляция цены и площади кухни равна:', df['last_price'].corr(df['kitchen_area']))\n",
    "df.pivot_table(index = 'kitchen_area', values = 'last_price').plot(style = 'o', grid = True, figsize = (5,4))\n",
    "plt.title('Диаграмма рассеяния цены и площади кухни',  fontsize = 12)\n",
    "plt.xlabel('Площадь кухни')\n",
    "plt.ylabel('Цена')\n",
    "plt.show()"
   ]
  },
  {
   "cell_type": "markdown",
   "metadata": {},
   "source": [
    "**Вывод: положительный коэффициент корреляции в 0,51 показывает на связь между ценой и площадью кухни, с ростом площади кухни будет увеличиваться цена за продаваемую квартиру, но  она не сильная, и утверждать что цена на прямую зависит от размера кухни мы не можем, надо смотреть на другие показатели.**"
   ]
  },
  {
   "cell_type": "markdown",
   "metadata": {},
   "source": [
    "**4.4. Зависимось цены и количества комнат:**"
   ]
  },
  {
   "cell_type": "code",
   "execution_count": 122,
   "metadata": {},
   "outputs": [
    {
     "name": "stdout",
     "output_type": "stream",
     "text": [
      "            last_price     rooms\n",
      "last_price    1.000000  0.618623\n",
      "rooms         0.618623  1.000000\n"
     ]
    },
    {
     "data": {
      "image/png": "[encoded data removed]",
      "text/plain": [
       "<Figure size 360x360 with 1 Axes>"
      ]
     },
     "metadata": {
      "needs_background": "light"
     },
     "output_type": "display_data"
    }
   ],
   "source": [
    "print(df.query('rooms > 0 and rooms < 7').pivot_table(index='floor', values=['rooms', 'last_price']).corr())\n",
    "df.query('rooms > 0 and rooms < 7').pivot_table(index='rooms', values='last_price').plot(grid=True, style='o-', figsize=(5, 5))\n",
    "plt.title('Диаграмма рассеяния цены и количества комнат',  fontsize = 12)\n",
    "plt.xlabel('Количество комнат')\n",
    "plt.ylabel('Цена')\n",
    "plt.show()"
   ]
  },
  {
   "cell_type": "markdown",
   "metadata": {},
   "source": [
    "**Вывод: корреляция показывает положительную связь между ценой квартиры и количеством комнат, а значит что с увеличением количества комнат цена продаваемлй квартиры будет больше, что и логично, нам пришлось обрезать данные используя условие, если оставить данные так как есть, то в них есть выбросы в районе 12 этажа, тут надо либо просить уточнить информацию у сотрудников, либо смотреть на ошибки в них.**"
   ]
  },
  {
   "cell_type": "markdown",
   "metadata": {},
   "source": [
    "**4.5. Зависимось цены и этажа, на котором расположена квартира (первый, последний, другой):**"
   ]
  },
  {
   "cell_type": "code",
   "execution_count": 123,
   "metadata": {},
   "outputs": [
    {
     "data": {
      "image/png": "[encoded data removed]",
      "text/plain": [
       "<Figure size 360x288 with 1 Axes>"
      ]
     },
     "metadata": {
      "needs_background": "light"
     },
     "output_type": "display_data"
    }
   ],
   "source": [
    "df.pivot_table(index = 'floor_category', values = 'last_price', aggfunc='median').plot(style = 'o-', grid = True, figsize = (5,4))\n",
    "plt.title('Диаграмма рассеяния цены и этажа',  fontsize = 12)\n",
    "plt.xlabel('Этаж')\n",
    "plt.ylabel('Цена')\n",
    "plt.show()"
   ]
  },
  {
   "cell_type": "markdown",
   "metadata": {},
   "source": [
    "**Вывод: столбец с этажом у нас категориальная переменная, поэтому корреляцию мы не высчитывали. По графику можем сказать, что цена зависит от этажа, стоимость квартиры на первом этаже меньше, чем стоимость квартиры на последнем этаже, наиболее высокие цены наблюдаются на других этажах между первым и последним.**"
   ]
  },
  {
   "cell_type": "markdown",
   "metadata": {},
   "source": [
    "**4.6. Зависимось цены и даты размещения (день недели, месяц, год):**"
   ]
  },
  {
   "cell_type": "code",
   "execution_count": 124,
   "metadata": {},
   "outputs": [
    {
     "name": "stdout",
     "output_type": "stream",
     "text": [
      "Корреляция цены и дня размещения равна: 0.0013569211122710747\n"
     ]
    },
    {
     "data": {
      "image/png": "[encoded data removed]",
      "text/plain": [
       "<Figure size 360x288 with 1 Axes>"
      ]
     },
     "metadata": {
      "needs_background": "light"
     },
     "output_type": "display_data"
    },
    {
     "name": "stdout",
     "output_type": "stream",
     "text": [
      "Корреляция цены и месяца размещения равна: 0.0027259571647347564\n"
     ]
    },
    {
     "data": {
      "image/png": "[encoded data removed]",
      "text/plain": [
       "<Figure size 360x288 with 1 Axes>"
      ]
     },
     "metadata": {
      "needs_background": "light"
     },
     "output_type": "display_data"
    },
    {
     "name": "stdout",
     "output_type": "stream",
     "text": [
      "Корреляция цены и года размещения равна: -0.04286415271361107\n"
     ]
    },
    {
     "data": {
      "image/png": "[encoded data removed]",
      "text/plain": [
       "<Figure size 360x288 with 1 Axes>"
      ]
     },
     "metadata": {
      "needs_background": "light"
     },
     "output_type": "display_data"
    }
   ],
   "source": [
    "print('Корреляция цены и дня размещения равна:', df['last_price'].corr(df['weekday']))\n",
    "df.pivot_table(index = 'weekday', values = 'last_price').plot(style = 'o-', grid = True, figsize = (5,4))\n",
    "plt.title('Диаграмма рассеяния цены и днём размещения',  fontsize = 12)\n",
    "plt.xlabel('День недели')\n",
    "plt.ylabel('Цена')\n",
    "plt.show()\n",
    "\n",
    "print('Корреляция цены и месяца размещения равна:', df['last_price'].corr(df['month']))\n",
    "df.pivot_table(index = 'month', values = 'last_price').plot(style = 'o-', grid = True, figsize = (5,4))\n",
    "plt.title('Диаграмма рассеяния цены и месяца размещения',  fontsize = 12)\n",
    "plt.xlabel('Месяц')\n",
    "plt.ylabel('Цена')\n",
    "plt.show()\n",
    "\n",
    "print('Корреляция цены и года размещения равна:', df['last_price'].corr(df['year']))\n",
    "df.pivot_table(index = 'year', values = 'last_price').plot(style = 'o-', grid = True, figsize = (5,4))\n",
    "plt.title('Диаграмма рассеяния цены и года размещения',  fontsize = 12)\n",
    "plt.xlabel('Год')\n",
    "plt.ylabel('Цена')\n",
    "plt.show()"
   ]
  },
  {
   "cell_type": "markdown",
   "metadata": {},
   "source": [
    "**Вывод: связи между ценой и датой публикации нет, показатели близки к нулю. Год публикации квартиры имееет тенденцию снижения вплоть до 2018 года, что, вероятно, вызвано кризисом 2014-2015 годов. В 2019 году цены снова стали повышаться, о чём свидетельствует рост курса доллара, увеличении цен на все строительные материалы и коммунальные услуги в стране. Это всего лишь предположение, график не информативный, необходимо иметь более свежую информацию**"
   ]
  },
  {
   "cell_type": "markdown",
   "metadata": {},
   "source": [
    "<div class=\"alert alert-info\"> \n",
    "\n",
    "<b>Рассмотрим динамику цены и площади продаваемых квартир</b> \n",
    "\n",
    "</div>"
   ]
  },
  {
   "cell_type": "code",
   "execution_count": 125,
   "metadata": {},
   "outputs": [
    {
     "data": {
      "text/plain": [
       "Text(0, 0.5, 'Цена')"
      ]
     },
     "execution_count": 125,
     "metadata": {},
     "output_type": "execute_result"
    },
    {
     "data": {
      "image/png": "[encoded data removed]",
      "text/plain": [
       "<Figure size 1080x288 with 1 Axes>"
      ]
     },
     "metadata": {
      "needs_background": "light"
     },
     "output_type": "display_data"
    }
   ],
   "source": [
    "df.query('total_area > 30 and total_area < 60').pivot_table(index = 'total_area', values = 'last_price', aggfunc = 'mean').plot(xlim = (30, 60), grid=True, figsize = (15, 4), title = 'Динамика зависимости цены квартиры и их площади')\n",
    "plt.xlabel('Площадь')\n",
    "plt.ylabel('Цена')"
   ]
  },
  {
   "cell_type": "markdown",
   "metadata": {},
   "source": [
    "**Чтобы посмотреть на то, зависит ли цена от площади продаваемой квартиры мы решили выбрать диапазон самых продаваемых квартир по площади, это были квартиры от 31 до 60 кв.м. На графике виден один выброс с площадью 38 кв.м., но всё равно заметна тенденция к увеличению стоимости за продаваемую квартиру.**"
   ]
  },
  {
   "cell_type": "markdown",
   "metadata": {},
   "source": [
    "**Посчитаем среднюю цену одного квадратного метра в 10 населённых пунктах с наибольшим числом объявлений.**"
   ]
  },
  {
   "cell_type": "code",
   "execution_count": 126,
   "metadata": {},
   "outputs": [
    {
     "data": {
      "text/html": [
       "<div>\n",
       "<style scoped>\n",
       "    .dataframe tbody tr th:only-of-type {\n",
       "        vertical-align: middle;\n",
       "    }\n",
       "\n",
       "    .dataframe tbody tr th {\n",
       "        vertical-align: top;\n",
       "    }\n",
       "\n",
       "    .dataframe thead th {\n",
       "        text-align: right;\n",
       "    }\n",
       "</style>\n",
       "<table border=\"1\" class=\"dataframe\">\n",
       "  <thead>\n",
       "    <tr style=\"text-align: right;\">\n",
       "      <th></th>\n",
       "      <th>count</th>\n",
       "      <th>mean</th>\n",
       "    </tr>\n",
       "    <tr>\n",
       "      <th>locality_name</th>\n",
       "      <th></th>\n",
       "      <th></th>\n",
       "    </tr>\n",
       "  </thead>\n",
       "  <tbody>\n",
       "    <tr>\n",
       "      <th>Санкт-Петербург</th>\n",
       "      <td>15651</td>\n",
       "      <td>114868</td>\n",
       "    </tr>\n",
       "    <tr>\n",
       "      <th>Пушкин</th>\n",
       "      <td>369</td>\n",
       "      <td>103125</td>\n",
       "    </tr>\n",
       "    <tr>\n",
       "      <th>деревня Кудрово</th>\n",
       "      <td>299</td>\n",
       "      <td>92473</td>\n",
       "    </tr>\n",
       "    <tr>\n",
       "      <th>поселок Парголово</th>\n",
       "      <td>327</td>\n",
       "      <td>90175</td>\n",
       "    </tr>\n",
       "    <tr>\n",
       "      <th>поселок Мурино</th>\n",
       "      <td>552</td>\n",
       "      <td>85629</td>\n",
       "    </tr>\n",
       "    <tr>\n",
       "      <th>поселок Шушары</th>\n",
       "      <td>439</td>\n",
       "      <td>78550</td>\n",
       "    </tr>\n",
       "    <tr>\n",
       "      <th>Колпино</th>\n",
       "      <td>338</td>\n",
       "      <td>75424</td>\n",
       "    </tr>\n",
       "    <tr>\n",
       "      <th>Гатчина</th>\n",
       "      <td>307</td>\n",
       "      <td>68745</td>\n",
       "    </tr>\n",
       "    <tr>\n",
       "      <th>Всеволожск</th>\n",
       "      <td>398</td>\n",
       "      <td>68654</td>\n",
       "    </tr>\n",
       "    <tr>\n",
       "      <th>Выборг</th>\n",
       "      <td>237</td>\n",
       "      <td>58141</td>\n",
       "    </tr>\n",
       "  </tbody>\n",
       "</table>\n",
       "</div>"
      ],
      "text/plain": [
       "                   count    mean\n",
       "locality_name                   \n",
       "Санкт-Петербург    15651  114868\n",
       "Пушкин               369  103125\n",
       "деревня Кудрово      299   92473\n",
       "поселок Парголово    327   90175\n",
       "поселок Мурино       552   85629\n",
       "поселок Шушары       439   78550\n",
       "Колпино              338   75424\n",
       "Гатчина              307   68745\n",
       "Всеволожск           398   68654\n",
       "Выборг               237   58141"
      ]
     },
     "execution_count": 126,
     "metadata": {},
     "output_type": "execute_result"
    }
   ],
   "source": [
    "top_10 = df['locality_name'].value_counts().head(10)\n",
    "pivot_top_10 = (df.query('locality_name in @top_10.index').pivot_table(index='locality_name', values='price_m2', aggfunc = ['count', 'mean'])).astype('int')\n",
    "pivot_top_10.columns = ['count', 'mean']\n",
    "pivot_top_10.sort_values(by = 'mean', ascending=False)"
   ]
  },
  {
   "cell_type": "markdown",
   "metadata": {},
   "source": [
    "**Теперь выделим населённые пункты с самой высокой и низкой стоимостью квадратного метра**"
   ]
  },
  {
   "cell_type": "code",
   "execution_count": 127,
   "metadata": {},
   "outputs": [
    {
     "name": "stdout",
     "output_type": "stream",
     "text": [
      "Населённый пункт с самой высокой стоимостью квадратного метра:\n"
     ]
    },
    {
     "data": {
      "text/html": [
       "<div>\n",
       "<style scoped>\n",
       "    .dataframe tbody tr th:only-of-type {\n",
       "        vertical-align: middle;\n",
       "    }\n",
       "\n",
       "    .dataframe tbody tr th {\n",
       "        vertical-align: top;\n",
       "    }\n",
       "\n",
       "    .dataframe thead th {\n",
       "        text-align: right;\n",
       "    }\n",
       "</style>\n",
       "<table border=\"1\" class=\"dataframe\">\n",
       "  <thead>\n",
       "    <tr style=\"text-align: right;\">\n",
       "      <th></th>\n",
       "      <th>count</th>\n",
       "      <th>mean</th>\n",
       "    </tr>\n",
       "    <tr>\n",
       "      <th>locality_name</th>\n",
       "      <th></th>\n",
       "      <th></th>\n",
       "    </tr>\n",
       "  </thead>\n",
       "  <tbody>\n",
       "    <tr>\n",
       "      <th>Санкт-Петербург</th>\n",
       "      <td>15651</td>\n",
       "      <td>114868</td>\n",
       "    </tr>\n",
       "  </tbody>\n",
       "</table>\n",
       "</div>"
      ],
      "text/plain": [
       "                 count    mean\n",
       "locality_name                 \n",
       "Санкт-Петербург  15651  114868"
      ]
     },
     "metadata": {},
     "output_type": "display_data"
    },
    {
     "name": "stdout",
     "output_type": "stream",
     "text": [
      "Населённый пункт с самой низкой стоимостью квадратного метра:\n"
     ]
    },
    {
     "data": {
      "text/html": [
       "<div>\n",
       "<style scoped>\n",
       "    .dataframe tbody tr th:only-of-type {\n",
       "        vertical-align: middle;\n",
       "    }\n",
       "\n",
       "    .dataframe tbody tr th {\n",
       "        vertical-align: top;\n",
       "    }\n",
       "\n",
       "    .dataframe thead th {\n",
       "        text-align: right;\n",
       "    }\n",
       "</style>\n",
       "<table border=\"1\" class=\"dataframe\">\n",
       "  <thead>\n",
       "    <tr style=\"text-align: right;\">\n",
       "      <th></th>\n",
       "      <th>count</th>\n",
       "      <th>mean</th>\n",
       "    </tr>\n",
       "    <tr>\n",
       "      <th>locality_name</th>\n",
       "      <th></th>\n",
       "      <th></th>\n",
       "    </tr>\n",
       "  </thead>\n",
       "  <tbody>\n",
       "    <tr>\n",
       "      <th>Выборг</th>\n",
       "      <td>237</td>\n",
       "      <td>58141</td>\n",
       "    </tr>\n",
       "  </tbody>\n",
       "</table>\n",
       "</div>"
      ],
      "text/plain": [
       "               count   mean\n",
       "locality_name              \n",
       "Выборг           237  58141"
      ]
     },
     "execution_count": 127,
     "metadata": {},
     "output_type": "execute_result"
    }
   ],
   "source": [
    "print('Населённый пункт с самой высокой стоимостью квадратного метра:')\n",
    "display(pivot_top_10[pivot_top_10['mean'] == pivot_top_10['mean'].max()])\n",
    "print('Населённый пункт с самой низкой стоимостью квадратного метра:')\n",
    "pivot_top_10[pivot_top_10['mean'] == pivot_top_10['mean'].min()]"
   ]
  },
  {
   "cell_type": "markdown",
   "metadata": {},
   "source": [
    "**Вывод: Наибольшая средняя стоимость квадратного метра продаваемой квартиры и количество продаваемых квартир в Санкт-Петербурге. Все остальные населённые пункты располагаются в Ленинградской области, не далеко от Санкт-Петербурга(кроме Выборга), у них хорошая инфрастурктура и из-за их располажения стоимость квадратного метра тоже высока. Из топ-10 наименьшее количество продаваемых квартир и наименьшая стоимость в небольшом по численности населения пункте Выборге, расположенном на большом расстоянии от Санкт-Петербурга.**"
   ]
  },
  {
   "cell_type": "markdown",
   "metadata": {},
   "source": [
    "**Вычислим среднюю цену каждого километра**"
   ]
  },
  {
   "cell_type": "code",
   "execution_count": 128,
   "metadata": {},
   "outputs": [
    {
     "data": {
      "text/html": [
       "<div>\n",
       "<style scoped>\n",
       "    .dataframe tbody tr th:only-of-type {\n",
       "        vertical-align: middle;\n",
       "    }\n",
       "\n",
       "    .dataframe tbody tr th {\n",
       "        vertical-align: top;\n",
       "    }\n",
       "\n",
       "    .dataframe thead th {\n",
       "        text-align: right;\n",
       "    }\n",
       "</style>\n",
       "<table border=\"1\" class=\"dataframe\">\n",
       "  <thead>\n",
       "    <tr style=\"text-align: right;\">\n",
       "      <th></th>\n",
       "      <th>price_m2</th>\n",
       "    </tr>\n",
       "    <tr>\n",
       "      <th>citycenters_nearest</th>\n",
       "      <th></th>\n",
       "    </tr>\n",
       "  </thead>\n",
       "  <tbody>\n",
       "    <tr>\n",
       "      <th>0</th>\n",
       "      <td>187323</td>\n",
       "    </tr>\n",
       "    <tr>\n",
       "      <th>1</th>\n",
       "      <td>166603</td>\n",
       "    </tr>\n",
       "    <tr>\n",
       "      <th>2</th>\n",
       "      <td>146662</td>\n",
       "    </tr>\n",
       "    <tr>\n",
       "      <th>3</th>\n",
       "      <td>129526</td>\n",
       "    </tr>\n",
       "    <tr>\n",
       "      <th>4</th>\n",
       "      <td>137412</td>\n",
       "    </tr>\n",
       "    <tr>\n",
       "      <th>5</th>\n",
       "      <td>146977</td>\n",
       "    </tr>\n",
       "    <tr>\n",
       "      <th>6</th>\n",
       "      <td>152277</td>\n",
       "    </tr>\n",
       "    <tr>\n",
       "      <th>7</th>\n",
       "      <td>141399</td>\n",
       "    </tr>\n",
       "    <tr>\n",
       "      <th>8</th>\n",
       "      <td>120538</td>\n",
       "    </tr>\n",
       "    <tr>\n",
       "      <th>9</th>\n",
       "      <td>110027</td>\n",
       "    </tr>\n",
       "    <tr>\n",
       "      <th>10</th>\n",
       "      <td>111489</td>\n",
       "    </tr>\n",
       "    <tr>\n",
       "      <th>11</th>\n",
       "      <td>106617</td>\n",
       "    </tr>\n",
       "    <tr>\n",
       "      <th>12</th>\n",
       "      <td>108283</td>\n",
       "    </tr>\n",
       "    <tr>\n",
       "      <th>13</th>\n",
       "      <td>107140</td>\n",
       "    </tr>\n",
       "    <tr>\n",
       "      <th>14</th>\n",
       "      <td>104979</td>\n",
       "    </tr>\n",
       "    <tr>\n",
       "      <th>15</th>\n",
       "      <td>101859</td>\n",
       "    </tr>\n",
       "    <tr>\n",
       "      <th>16</th>\n",
       "      <td>100082</td>\n",
       "    </tr>\n",
       "    <tr>\n",
       "      <th>17</th>\n",
       "      <td>94665</td>\n",
       "    </tr>\n",
       "    <tr>\n",
       "      <th>18</th>\n",
       "      <td>94814</td>\n",
       "    </tr>\n",
       "    <tr>\n",
       "      <th>19</th>\n",
       "      <td>95433</td>\n",
       "    </tr>\n",
       "    <tr>\n",
       "      <th>20</th>\n",
       "      <td>107045</td>\n",
       "    </tr>\n",
       "    <tr>\n",
       "      <th>21</th>\n",
       "      <td>91492</td>\n",
       "    </tr>\n",
       "    <tr>\n",
       "      <th>22</th>\n",
       "      <td>88714</td>\n",
       "    </tr>\n",
       "    <tr>\n",
       "      <th>23</th>\n",
       "      <td>92720</td>\n",
       "    </tr>\n",
       "    <tr>\n",
       "      <th>24</th>\n",
       "      <td>82439</td>\n",
       "    </tr>\n",
       "    <tr>\n",
       "      <th>25</th>\n",
       "      <td>90436</td>\n",
       "    </tr>\n",
       "    <tr>\n",
       "      <th>26</th>\n",
       "      <td>75171</td>\n",
       "    </tr>\n",
       "    <tr>\n",
       "      <th>27</th>\n",
       "      <td>132115</td>\n",
       "    </tr>\n",
       "    <tr>\n",
       "      <th>28</th>\n",
       "      <td>81840</td>\n",
       "    </tr>\n",
       "    <tr>\n",
       "      <th>29</th>\n",
       "      <td>62481</td>\n",
       "    </tr>\n",
       "  </tbody>\n",
       "</table>\n",
       "</div>"
      ],
      "text/plain": [
       "                     price_m2\n",
       "citycenters_nearest          \n",
       "0                      187323\n",
       "1                      166603\n",
       "2                      146662\n",
       "3                      129526\n",
       "4                      137412\n",
       "5                      146977\n",
       "6                      152277\n",
       "7                      141399\n",
       "8                      120538\n",
       "9                      110027\n",
       "10                     111489\n",
       "11                     106617\n",
       "12                     108283\n",
       "13                     107140\n",
       "14                     104979\n",
       "15                     101859\n",
       "16                     100082\n",
       "17                      94665\n",
       "18                      94814\n",
       "19                      95433\n",
       "20                     107045\n",
       "21                      91492\n",
       "22                      88714\n",
       "23                      92720\n",
       "24                      82439\n",
       "25                      90436\n",
       "26                      75171\n",
       "27                     132115\n",
       "28                      81840\n",
       "29                      62481"
      ]
     },
     "execution_count": 128,
     "metadata": {},
     "output_type": "execute_result"
    },
    {
     "data": {
      "image/png": "[encoded data removed]",
      "text/plain": [
       "<Figure size 720x288 with 1 Axes>"
      ]
     },
     "metadata": {
      "needs_background": "light"
     },
     "output_type": "display_data"
    }
   ],
   "source": [
    "df['citycenters_nearest'] = df['citycenters_nearest'].astype('int')\n",
    "pivot_table_km = df.query('locality_name == \"Санкт-Петербург\" and citycenters_nearest !=999').pivot_table(index = 'citycenters_nearest', values = 'price_m2', aggfunc = 'mean').astype('int')\n",
    "pivot_table_km.plot(xlim = (0, 15), grid=True, figsize = (10, 4), title = 'Средняя цена километра')\n",
    "plt.xlabel('До центра, км.')\n",
    "plt.ylabel('Цена')\n",
    "pivot_table_km"
   ]
  },
  {
   "cell_type": "markdown",
   "metadata": {},
   "source": [
    "**Вывод: На графике видно, что снижение идет до трёх километров, затем снова подьём до 6 километров, выберем нижний пик равняясь на три километра и будем считать центральной зоной расстояние до 7 км, дальше средняя цена на квартиры имеет тенденцию к снижению.**"
   ]
  },
  {
   "cell_type": "markdown",
   "metadata": {},
   "source": [
    "**Посмотрим сколько квартир в Санкт-Петербурге находятся в данном радиусе от центра**"
   ]
  },
  {
   "cell_type": "code",
   "execution_count": 129,
   "metadata": {},
   "outputs": [
    {
     "data": {
      "text/plain": [
       "3298"
      ]
     },
     "execution_count": 129,
     "metadata": {},
     "output_type": "execute_result"
    }
   ],
   "source": [
    "len(df.query('locality_name == \"Санкт-Петербург\" and citycenters_nearest < 7'))"
   ]
  },
  {
   "cell_type": "markdown",
   "metadata": {},
   "source": [
    "**В Санкт-Петербурге 3305 таких квартир.**"
   ]
  },
  {
   "cell_type": "markdown",
   "metadata": {},
   "source": [
    "### Общий вывод"
   ]
  },
  {
   "cell_type": "markdown",
   "metadata": {},
   "source": [
    "**Мы работали с архивом объявлений за несколько лет о продаже квартир в Санкт-Петербурге и соседних населённых пунктах.**\n",
    "\n",
    "**Проведя исследовательский анализ можно сделать следующие выводы:**\n",
    "\n",
    "**• наиболее часто продаются квартиры площадью от 31 до 60 квадратных метров;**\n",
    "\n",
    "**• квартиры в большинстве имеет жилую площадь в диапазоне 16-20 квадратных метров;**\n",
    "\n",
    "**• чаще распространены квартиры с площадью кухни не более 10 квадратных метров;**\n",
    "\n",
    "**• большинство квартир имеют стоимость 3,5 - 4,5 млн.руб**\n",
    "\n",
    "**• наибольшее количество продаваемых квартир имеют одну, две или три комнаты;**\n",
    "\n",
    "**• в основном в квартирах указана высота потолков с 2,5 - 3,0 метров;**\n",
    "\n",
    "**• продаваемые квартиры в основном находятся не на первом, и не на последнем этажах, а в середине дома;**\n",
    "\n",
    "**• преобладают в основном пятиэтажные, и девятиэтажные дома;**\n",
    "\n",
    "**• квартиры в основном находятся не далеко от центра города;**\n",
    "\n",
    "\n",
    "**Факторы, влияющие на стоимость:**\n",
    "\n",
    "**• общая площадь квартиры;**\n",
    "\n",
    "**• жилая площадь;**\n",
    "\n",
    "**• количество комнат.**\n",
    "\n",
    "**На стоимость больше влияет площадь квартиры, чем число комнат, скорее всего это обьясняется тем, что комнат может быть меньше, но сами они большие по площади.**\n",
    "\n",
    "**Цена зависит от этажа, стоимость квартиры на первом этаже меньше, чем стоимость квартиры на последнем этаже, наиболее высокие цены наблюдаются на других этажах между первым и последним.**\n",
    "\n",
    "**Рассчитанное медианное время продажи составило 95 дней (большинство квартир продаётся быстро до 95 дней), а среднее время продажи - 181 день.** \n",
    "\n",
    "**Публикация квартир преобладает в 2018 году, будние дни люди предпочитают больше.**\n",
    "\n",
    "**Стоимость квартиры также зависит от удалённости от центра города, например квадратный метр в Санкт-Петербурге - 114848, а в Выборге - 58141 (он наиболее удалён от центра города)**\n"
   ]
  }
 ],
 "metadata": {
  "ExecuteTimeLog": [
   {
    "duration": 703,
    "start_time": "2022-10-08T21:02:00.776Z"
   },
   {
    "duration": 88,
    "start_time": "2022-10-08T21:02:06.146Z"
   },
   {
    "duration": 13,
    "start_time": "2022-10-08T21:02:25.743Z"
   },
   {
    "duration": 103,
    "start_time": "2022-10-08T21:02:39.559Z"
   },
   {
    "duration": 79,
    "start_time": "2022-10-08T21:03:03.404Z"
   },
   {
    "duration": 12,
    "start_time": "2022-10-08T21:04:10.517Z"
   },
   {
    "duration": 84,
    "start_time": "2022-10-08T21:04:33.789Z"
   },
   {
    "duration": 23,
    "start_time": "2022-10-08T21:04:36.666Z"
   },
   {
    "duration": 13,
    "start_time": "2022-10-08T21:05:07.387Z"
   },
   {
    "duration": 8,
    "start_time": "2022-10-08T21:07:59.705Z"
   },
   {
    "duration": 9,
    "start_time": "2022-10-08T21:08:26.758Z"
   },
   {
    "duration": 39,
    "start_time": "2022-10-08T21:10:40.910Z"
   },
   {
    "duration": 22,
    "start_time": "2022-10-08T21:10:58.895Z"
   },
   {
    "duration": 2155,
    "start_time": "2022-10-08T21:12:16.105Z"
   },
   {
    "duration": 1982,
    "start_time": "2022-10-08T21:16:45.105Z"
   },
   {
    "duration": 1903,
    "start_time": "2022-10-08T21:16:54.822Z"
   },
   {
    "duration": 1726,
    "start_time": "2022-10-08T21:17:01.977Z"
   },
   {
    "duration": 53,
    "start_time": "2022-10-09T15:33:04.274Z"
   },
   {
    "duration": 717,
    "start_time": "2022-10-09T15:33:13.685Z"
   },
   {
    "duration": 38,
    "start_time": "2022-10-09T15:33:14.404Z"
   },
   {
    "duration": 18,
    "start_time": "2022-10-09T15:33:14.443Z"
   },
   {
    "duration": 2511,
    "start_time": "2022-10-09T15:33:14.463Z"
   },
   {
    "duration": 14,
    "start_time": "2022-10-09T15:33:16.976Z"
   },
   {
    "duration": 55,
    "start_time": "2022-10-09T15:33:19.070Z"
   },
   {
    "duration": 8,
    "start_time": "2022-10-09T15:57:07.528Z"
   },
   {
    "duration": 5,
    "start_time": "2022-10-09T15:57:24.225Z"
   },
   {
    "duration": 37,
    "start_time": "2022-10-09T16:50:02.251Z"
   },
   {
    "duration": 6,
    "start_time": "2022-10-09T16:50:09.783Z"
   },
   {
    "duration": 8,
    "start_time": "2022-10-09T16:51:20.007Z"
   },
   {
    "duration": 10,
    "start_time": "2022-10-09T16:51:37.492Z"
   },
   {
    "duration": 5,
    "start_time": "2022-10-09T16:53:41.378Z"
   },
   {
    "duration": 28,
    "start_time": "2022-10-09T16:58:05.723Z"
   },
   {
    "duration": 23,
    "start_time": "2022-10-09T16:58:22.109Z"
   },
   {
    "duration": 8,
    "start_time": "2022-10-09T17:00:55.596Z"
   },
   {
    "duration": 5,
    "start_time": "2022-10-09T17:01:09.595Z"
   },
   {
    "duration": 16,
    "start_time": "2022-10-09T17:06:32.861Z"
   },
   {
    "duration": 9,
    "start_time": "2022-10-09T17:06:44.513Z"
   },
   {
    "duration": 9,
    "start_time": "2022-10-09T17:07:47.711Z"
   },
   {
    "duration": 8,
    "start_time": "2022-10-09T17:25:51.740Z"
   },
   {
    "duration": 9,
    "start_time": "2022-10-09T17:26:05.138Z"
   },
   {
    "duration": 14,
    "start_time": "2022-10-09T17:26:09.487Z"
   },
   {
    "duration": 5,
    "start_time": "2022-10-09T17:26:21.190Z"
   },
   {
    "duration": 6,
    "start_time": "2022-10-09T17:27:06.775Z"
   },
   {
    "duration": 8,
    "start_time": "2022-10-09T17:30:23.341Z"
   },
   {
    "duration": 9,
    "start_time": "2022-10-09T17:32:21.448Z"
   },
   {
    "duration": 7,
    "start_time": "2022-10-09T17:32:50.504Z"
   },
   {
    "duration": 8,
    "start_time": "2022-10-09T17:32:56.735Z"
   },
   {
    "duration": 10,
    "start_time": "2022-10-09T17:33:10.105Z"
   },
   {
    "duration": 21,
    "start_time": "2022-10-09T17:34:39.230Z"
   },
   {
    "duration": 4,
    "start_time": "2022-10-09T17:35:48.609Z"
   },
   {
    "duration": 9,
    "start_time": "2022-10-09T17:35:55.084Z"
   },
   {
    "duration": 11,
    "start_time": "2022-10-09T17:36:58.762Z"
   },
   {
    "duration": 19,
    "start_time": "2022-10-09T17:37:20.050Z"
   },
   {
    "duration": 52,
    "start_time": "2022-10-09T17:38:12.822Z"
   },
   {
    "duration": 10,
    "start_time": "2022-10-09T17:38:20.806Z"
   },
   {
    "duration": 5,
    "start_time": "2022-10-09T17:38:42.717Z"
   },
   {
    "duration": 10,
    "start_time": "2022-10-09T17:47:46.026Z"
   },
   {
    "duration": 44,
    "start_time": "2022-10-09T17:48:12.604Z"
   },
   {
    "duration": 11,
    "start_time": "2022-10-09T17:48:19.289Z"
   },
   {
    "duration": 211,
    "start_time": "2022-10-09T17:49:48.944Z"
   },
   {
    "duration": 174,
    "start_time": "2022-10-09T17:50:52.788Z"
   },
   {
    "duration": 210,
    "start_time": "2022-10-09T17:51:05.030Z"
   },
   {
    "duration": 201,
    "start_time": "2022-10-09T17:51:16.571Z"
   },
   {
    "duration": 203,
    "start_time": "2022-10-09T17:51:25.819Z"
   },
   {
    "duration": 9,
    "start_time": "2022-10-09T17:51:51.561Z"
   },
   {
    "duration": 7,
    "start_time": "2022-10-09T17:52:12.715Z"
   },
   {
    "duration": 10,
    "start_time": "2022-10-09T17:52:32.293Z"
   },
   {
    "duration": 10,
    "start_time": "2022-10-09T17:52:48.485Z"
   },
   {
    "duration": 8,
    "start_time": "2022-10-09T17:53:14.096Z"
   },
   {
    "duration": 4,
    "start_time": "2022-10-09T17:53:24.924Z"
   },
   {
    "duration": 4,
    "start_time": "2022-10-09T17:53:28.133Z"
   },
   {
    "duration": 7,
    "start_time": "2022-10-09T17:53:33.961Z"
   },
   {
    "duration": 9,
    "start_time": "2022-10-09T17:53:51.887Z"
   },
   {
    "duration": 12,
    "start_time": "2022-10-09T17:54:10.910Z"
   },
   {
    "duration": 52,
    "start_time": "2022-10-09T17:55:35.002Z"
   },
   {
    "duration": 57,
    "start_time": "2022-10-09T18:29:28.562Z"
   },
   {
    "duration": 5,
    "start_time": "2022-10-09T18:29:56.258Z"
   },
   {
    "duration": 5,
    "start_time": "2022-10-09T18:30:16.515Z"
   },
   {
    "duration": 106,
    "start_time": "2022-10-09T18:31:26.628Z"
   },
   {
    "duration": 143,
    "start_time": "2022-10-09T18:31:26.736Z"
   },
   {
    "duration": 21,
    "start_time": "2022-10-09T18:31:26.881Z"
   },
   {
    "duration": 2134,
    "start_time": "2022-10-09T18:31:26.905Z"
   },
   {
    "duration": 24,
    "start_time": "2022-10-09T18:31:29.041Z"
   },
   {
    "duration": 5,
    "start_time": "2022-10-09T18:31:29.067Z"
   },
   {
    "duration": 7,
    "start_time": "2022-10-09T18:31:29.074Z"
   },
   {
    "duration": 7,
    "start_time": "2022-10-09T18:31:29.083Z"
   },
   {
    "duration": 34,
    "start_time": "2022-10-09T18:31:29.093Z"
   },
   {
    "duration": 8,
    "start_time": "2022-10-09T18:31:29.153Z"
   },
   {
    "duration": 10,
    "start_time": "2022-10-09T18:31:29.163Z"
   },
   {
    "duration": 80,
    "start_time": "2022-10-09T18:31:29.175Z"
   },
   {
    "duration": 9,
    "start_time": "2022-10-09T18:31:29.257Z"
   },
   {
    "duration": 6,
    "start_time": "2022-10-09T18:31:29.268Z"
   },
   {
    "duration": 12,
    "start_time": "2022-10-09T18:31:29.276Z"
   },
   {
    "duration": 6,
    "start_time": "2022-10-09T18:31:29.290Z"
   },
   {
    "duration": 226,
    "start_time": "2022-10-09T18:33:40.477Z"
   },
   {
    "duration": 7,
    "start_time": "2022-10-09T18:35:37.313Z"
   },
   {
    "duration": 42,
    "start_time": "2022-10-09T18:36:06.265Z"
   },
   {
    "duration": 10,
    "start_time": "2022-10-09T18:36:13.566Z"
   },
   {
    "duration": 7,
    "start_time": "2022-10-09T18:36:30.186Z"
   },
   {
    "duration": 14,
    "start_time": "2022-10-09T18:38:28.310Z"
   },
   {
    "duration": 10,
    "start_time": "2022-10-09T18:38:36.596Z"
   },
   {
    "duration": 7,
    "start_time": "2022-10-09T18:39:01.947Z"
   },
   {
    "duration": 117,
    "start_time": "2022-10-09T18:52:30.324Z"
   },
   {
    "duration": 31,
    "start_time": "2022-10-09T18:52:30.444Z"
   },
   {
    "duration": 37,
    "start_time": "2022-10-09T18:52:30.477Z"
   },
   {
    "duration": 2428,
    "start_time": "2022-10-09T18:52:30.518Z"
   },
   {
    "duration": 11,
    "start_time": "2022-10-09T18:52:32.953Z"
   },
   {
    "duration": 5,
    "start_time": "2022-10-09T18:52:32.966Z"
   },
   {
    "duration": 9,
    "start_time": "2022-10-09T18:52:32.973Z"
   },
   {
    "duration": 7,
    "start_time": "2022-10-09T18:52:32.985Z"
   },
   {
    "duration": 67,
    "start_time": "2022-10-09T18:52:32.994Z"
   },
   {
    "duration": 6,
    "start_time": "2022-10-09T18:52:38.261Z"
   },
   {
    "duration": 14,
    "start_time": "2022-10-09T18:52:43.292Z"
   },
   {
    "duration": 9,
    "start_time": "2022-10-09T20:20:13.065Z"
   },
   {
    "duration": 10,
    "start_time": "2022-10-09T20:20:28.169Z"
   },
   {
    "duration": 8,
    "start_time": "2022-10-09T20:20:35.217Z"
   },
   {
    "duration": 6,
    "start_time": "2022-10-09T20:20:58.437Z"
   },
   {
    "duration": 6,
    "start_time": "2022-10-09T20:23:51.965Z"
   },
   {
    "duration": 11,
    "start_time": "2022-10-09T20:24:12.238Z"
   },
   {
    "duration": 45,
    "start_time": "2022-10-09T20:26:15.386Z"
   },
   {
    "duration": 48,
    "start_time": "2022-10-09T20:28:27.057Z"
   },
   {
    "duration": 39,
    "start_time": "2022-10-09T20:28:30.935Z"
   },
   {
    "duration": 270,
    "start_time": "2022-10-09T20:28:39.590Z"
   },
   {
    "duration": 219,
    "start_time": "2022-10-09T20:28:47.860Z"
   },
   {
    "duration": 207,
    "start_time": "2022-10-09T20:29:11.885Z"
   },
   {
    "duration": 461,
    "start_time": "2022-10-09T20:30:11.306Z"
   },
   {
    "duration": 214,
    "start_time": "2022-10-09T20:30:27.331Z"
   },
   {
    "duration": 6,
    "start_time": "2022-10-09T20:31:05.735Z"
   },
   {
    "duration": 6,
    "start_time": "2022-10-09T20:31:26.437Z"
   },
   {
    "duration": 6,
    "start_time": "2022-10-09T20:32:24.649Z"
   },
   {
    "duration": 6,
    "start_time": "2022-10-09T20:32:27.905Z"
   },
   {
    "duration": 98,
    "start_time": "2022-10-09T20:32:37.683Z"
   },
   {
    "duration": 31,
    "start_time": "2022-10-09T20:32:37.783Z"
   },
   {
    "duration": 32,
    "start_time": "2022-10-09T20:32:37.816Z"
   },
   {
    "duration": 2143,
    "start_time": "2022-10-09T20:32:37.852Z"
   },
   {
    "duration": 14,
    "start_time": "2022-10-09T20:32:39.997Z"
   },
   {
    "duration": 27,
    "start_time": "2022-10-09T20:32:40.013Z"
   },
   {
    "duration": 14,
    "start_time": "2022-10-09T20:32:40.042Z"
   },
   {
    "duration": 22,
    "start_time": "2022-10-09T20:32:40.059Z"
   },
   {
    "duration": 38,
    "start_time": "2022-10-09T20:32:40.083Z"
   },
   {
    "duration": 5,
    "start_time": "2022-10-09T20:32:40.125Z"
   },
   {
    "duration": 14,
    "start_time": "2022-10-09T20:32:40.132Z"
   },
   {
    "duration": 225,
    "start_time": "2022-10-09T20:32:40.148Z"
   },
   {
    "duration": 5,
    "start_time": "2022-10-09T20:32:40.375Z"
   },
   {
    "duration": 9,
    "start_time": "2022-10-09T20:32:40.382Z"
   },
   {
    "duration": 17,
    "start_time": "2022-10-09T20:32:40.393Z"
   },
   {
    "duration": 19,
    "start_time": "2022-10-09T20:32:40.606Z"
   },
   {
    "duration": 7,
    "start_time": "2022-10-09T20:32:48.077Z"
   },
   {
    "duration": 14,
    "start_time": "2022-10-09T20:32:51.911Z"
   },
   {
    "duration": 16,
    "start_time": "2022-10-09T20:33:12.062Z"
   },
   {
    "duration": 8,
    "start_time": "2022-10-09T20:33:19.675Z"
   },
   {
    "duration": 13,
    "start_time": "2022-10-09T20:33:34.347Z"
   },
   {
    "duration": 11,
    "start_time": "2022-10-09T20:35:26.962Z"
   },
   {
    "duration": 13,
    "start_time": "2022-10-09T20:35:37.259Z"
   },
   {
    "duration": 406,
    "start_time": "2022-10-09T20:35:44.351Z"
   },
   {
    "duration": 5,
    "start_time": "2022-10-09T20:35:47.060Z"
   },
   {
    "duration": 6,
    "start_time": "2022-10-09T20:35:48.586Z"
   },
   {
    "duration": 6,
    "start_time": "2022-10-09T20:35:56.810Z"
   },
   {
    "duration": 9,
    "start_time": "2022-10-09T20:41:08.810Z"
   },
   {
    "duration": 180,
    "start_time": "2022-10-09T20:41:17.386Z"
   },
   {
    "duration": 6,
    "start_time": "2022-10-09T20:41:55.190Z"
   },
   {
    "duration": 13,
    "start_time": "2022-10-09T20:42:16.844Z"
   },
   {
    "duration": 121,
    "start_time": "2022-10-09T21:16:42.204Z"
   },
   {
    "duration": 6,
    "start_time": "2022-10-09T21:20:33.638Z"
   },
   {
    "duration": 7,
    "start_time": "2022-10-09T21:21:42.831Z"
   },
   {
    "duration": 8,
    "start_time": "2022-10-09T21:21:59.373Z"
   },
   {
    "duration": 7,
    "start_time": "2022-10-09T21:22:08.998Z"
   },
   {
    "duration": 13,
    "start_time": "2022-10-09T21:26:18.685Z"
   },
   {
    "duration": 7,
    "start_time": "2022-10-09T21:26:50.002Z"
   },
   {
    "duration": 59,
    "start_time": "2022-10-09T21:27:27.330Z"
   },
   {
    "duration": 55,
    "start_time": "2022-10-09T21:27:46.821Z"
   },
   {
    "duration": 44,
    "start_time": "2022-10-09T21:28:33.892Z"
   },
   {
    "duration": 11,
    "start_time": "2022-10-09T21:32:12.137Z"
   },
   {
    "duration": 10,
    "start_time": "2022-10-09T21:32:23.890Z"
   },
   {
    "duration": 14,
    "start_time": "2022-10-09T21:32:46.474Z"
   },
   {
    "duration": 10,
    "start_time": "2022-10-09T21:32:50.244Z"
   },
   {
    "duration": 12,
    "start_time": "2022-10-09T21:33:14.651Z"
   },
   {
    "duration": 8,
    "start_time": "2022-10-09T21:33:27.495Z"
   },
   {
    "duration": 7,
    "start_time": "2022-10-09T21:38:08.519Z"
   },
   {
    "duration": 4,
    "start_time": "2022-10-09T21:38:24.388Z"
   },
   {
    "duration": 226,
    "start_time": "2022-10-09T21:38:28.989Z"
   },
   {
    "duration": 246,
    "start_time": "2022-10-09T21:39:32.413Z"
   },
   {
    "duration": 224,
    "start_time": "2022-10-09T21:39:41.251Z"
   },
   {
    "duration": 206,
    "start_time": "2022-10-09T21:39:49.996Z"
   },
   {
    "duration": 103,
    "start_time": "2022-10-09T21:40:10.633Z"
   },
   {
    "duration": 27,
    "start_time": "2022-10-09T21:40:10.738Z"
   },
   {
    "duration": 23,
    "start_time": "2022-10-09T21:40:10.767Z"
   },
   {
    "duration": 2166,
    "start_time": "2022-10-09T21:40:10.792Z"
   },
   {
    "duration": 14,
    "start_time": "2022-10-09T21:40:12.961Z"
   },
   {
    "duration": 5,
    "start_time": "2022-10-09T21:40:12.977Z"
   },
   {
    "duration": 6,
    "start_time": "2022-10-09T21:40:12.984Z"
   },
   {
    "duration": 6,
    "start_time": "2022-10-09T21:40:12.992Z"
   },
   {
    "duration": 55,
    "start_time": "2022-10-09T21:40:13.000Z"
   },
   {
    "duration": 5,
    "start_time": "2022-10-09T21:40:13.058Z"
   },
   {
    "duration": 15,
    "start_time": "2022-10-09T21:40:13.064Z"
   },
   {
    "duration": 5,
    "start_time": "2022-10-09T21:40:13.081Z"
   },
   {
    "duration": 8,
    "start_time": "2022-10-09T21:40:13.088Z"
   },
   {
    "duration": 488,
    "start_time": "2022-10-09T21:40:13.098Z"
   },
   {
    "duration": 5,
    "start_time": "2022-10-09T21:40:13.588Z"
   },
   {
    "duration": 1901,
    "start_time": "2022-10-09T21:53:35.236Z"
   },
   {
    "duration": 44,
    "start_time": "2022-10-09T21:54:08.412Z"
   },
   {
    "duration": 2292,
    "start_time": "2022-10-09T21:54:30.628Z"
   },
   {
    "duration": 1423,
    "start_time": "2022-10-09T21:54:44.355Z"
   },
   {
    "duration": 1511,
    "start_time": "2022-10-09T21:54:58.367Z"
   },
   {
    "duration": 2108,
    "start_time": "2022-10-09T21:55:07.126Z"
   },
   {
    "duration": 9,
    "start_time": "2022-10-09T21:59:55.695Z"
   },
   {
    "duration": 53,
    "start_time": "2022-10-09T22:02:19.732Z"
   },
   {
    "duration": 13,
    "start_time": "2022-10-09T22:03:38.168Z"
   },
   {
    "duration": 7,
    "start_time": "2022-10-09T22:04:07.794Z"
   },
   {
    "duration": 5,
    "start_time": "2022-10-09T22:04:45.741Z"
   },
   {
    "duration": 5,
    "start_time": "2022-10-09T22:04:47.754Z"
   },
   {
    "duration": 7,
    "start_time": "2022-10-09T22:05:22.218Z"
   },
   {
    "duration": 13,
    "start_time": "2022-10-09T22:08:43.015Z"
   },
   {
    "duration": 7,
    "start_time": "2022-10-09T22:08:59.780Z"
   },
   {
    "duration": 6,
    "start_time": "2022-10-09T22:09:16.233Z"
   },
   {
    "duration": 7,
    "start_time": "2022-10-09T22:12:07.565Z"
   },
   {
    "duration": 6,
    "start_time": "2022-10-09T22:14:38.102Z"
   },
   {
    "duration": 10,
    "start_time": "2022-10-09T22:15:16.443Z"
   },
   {
    "duration": 8,
    "start_time": "2022-10-09T22:15:46.884Z"
   },
   {
    "duration": 38,
    "start_time": "2022-10-09T22:17:34.776Z"
   },
   {
    "duration": 9,
    "start_time": "2022-10-09T22:17:38.515Z"
   },
   {
    "duration": 16,
    "start_time": "2022-10-09T22:19:27.918Z"
   },
   {
    "duration": 6,
    "start_time": "2022-10-09T22:19:42.247Z"
   },
   {
    "duration": 6,
    "start_time": "2022-10-09T22:23:42.042Z"
   },
   {
    "duration": 8,
    "start_time": "2022-10-09T22:24:03.228Z"
   },
   {
    "duration": 5,
    "start_time": "2022-10-09T22:24:29.554Z"
   },
   {
    "duration": 6,
    "start_time": "2022-10-09T22:28:23.514Z"
   },
   {
    "duration": 8,
    "start_time": "2022-10-09T22:28:27.461Z"
   },
   {
    "duration": 5,
    "start_time": "2022-10-09T22:28:36.824Z"
   },
   {
    "duration": 5,
    "start_time": "2022-10-09T22:28:43.985Z"
   },
   {
    "duration": 5,
    "start_time": "2022-10-09T22:32:06.575Z"
   },
   {
    "duration": 4,
    "start_time": "2022-10-09T22:32:59.739Z"
   },
   {
    "duration": 5,
    "start_time": "2022-10-09T22:33:01.140Z"
   },
   {
    "duration": 8,
    "start_time": "2022-10-09T22:41:21.032Z"
   },
   {
    "duration": 6,
    "start_time": "2022-10-09T22:41:28.297Z"
   },
   {
    "duration": 72,
    "start_time": "2022-10-09T22:42:24.643Z"
   },
   {
    "duration": 46,
    "start_time": "2022-10-09T22:42:38.818Z"
   },
   {
    "duration": 6,
    "start_time": "2022-10-09T22:42:45.503Z"
   },
   {
    "duration": 8,
    "start_time": "2022-10-09T22:44:09.552Z"
   },
   {
    "duration": 4,
    "start_time": "2022-10-09T22:44:16.108Z"
   },
   {
    "duration": 7,
    "start_time": "2022-10-09T22:47:09.325Z"
   },
   {
    "duration": 6,
    "start_time": "2022-10-09T22:47:23.290Z"
   },
   {
    "duration": 96,
    "start_time": "2022-10-09T22:47:44.899Z"
   },
   {
    "duration": 29,
    "start_time": "2022-10-09T22:47:44.997Z"
   },
   {
    "duration": 31,
    "start_time": "2022-10-09T22:47:45.028Z"
   },
   {
    "duration": 1847,
    "start_time": "2022-10-09T22:47:45.061Z"
   },
   {
    "duration": 10,
    "start_time": "2022-10-09T22:47:46.910Z"
   },
   {
    "duration": 9,
    "start_time": "2022-10-09T22:47:46.922Z"
   },
   {
    "duration": 22,
    "start_time": "2022-10-09T22:47:46.932Z"
   },
   {
    "duration": 13,
    "start_time": "2022-10-09T22:47:46.956Z"
   },
   {
    "duration": 39,
    "start_time": "2022-10-09T22:47:46.971Z"
   },
   {
    "duration": 6,
    "start_time": "2022-10-09T22:47:47.013Z"
   },
   {
    "duration": 20,
    "start_time": "2022-10-09T22:47:47.020Z"
   },
   {
    "duration": 7,
    "start_time": "2022-10-09T22:47:47.053Z"
   },
   {
    "duration": 13,
    "start_time": "2022-10-09T22:47:47.062Z"
   },
   {
    "duration": 212,
    "start_time": "2022-10-09T22:47:47.077Z"
   },
   {
    "duration": 5,
    "start_time": "2022-10-09T22:47:47.291Z"
   },
   {
    "duration": 15,
    "start_time": "2022-10-09T22:47:47.298Z"
   },
   {
    "duration": 13,
    "start_time": "2022-10-09T22:47:47.315Z"
   },
   {
    "duration": 11,
    "start_time": "2022-10-09T22:47:47.330Z"
   },
   {
    "duration": 204,
    "start_time": "2022-10-09T22:47:47.353Z"
   },
   {
    "duration": 5,
    "start_time": "2022-10-09T22:47:47.559Z"
   },
   {
    "duration": 7,
    "start_time": "2022-10-09T22:47:47.566Z"
   },
   {
    "duration": 4,
    "start_time": "2022-10-09T22:47:47.575Z"
   },
   {
    "duration": 9,
    "start_time": "2022-10-09T22:47:47.581Z"
   },
   {
    "duration": 7,
    "start_time": "2022-10-09T22:47:47.592Z"
   },
   {
    "duration": 7,
    "start_time": "2022-10-09T22:47:47.601Z"
   },
   {
    "duration": 7,
    "start_time": "2022-10-09T22:47:47.610Z"
   },
   {
    "duration": 37,
    "start_time": "2022-10-09T22:47:47.618Z"
   },
   {
    "duration": 4,
    "start_time": "2022-10-09T22:47:47.660Z"
   },
   {
    "duration": 12,
    "start_time": "2022-10-09T22:47:47.666Z"
   },
   {
    "duration": 14,
    "start_time": "2022-10-09T22:47:47.680Z"
   },
   {
    "duration": 9,
    "start_time": "2022-10-09T22:47:47.696Z"
   },
   {
    "duration": 17,
    "start_time": "2022-10-09T22:47:47.707Z"
   },
   {
    "duration": 33,
    "start_time": "2022-10-09T22:47:47.726Z"
   },
   {
    "duration": 7,
    "start_time": "2022-10-09T22:47:47.761Z"
   },
   {
    "duration": 5,
    "start_time": "2022-10-09T22:47:47.770Z"
   },
   {
    "duration": 7,
    "start_time": "2022-10-09T22:47:47.777Z"
   },
   {
    "duration": 6,
    "start_time": "2022-10-09T22:47:47.786Z"
   },
   {
    "duration": 5,
    "start_time": "2022-10-09T22:47:47.794Z"
   },
   {
    "duration": 6,
    "start_time": "2022-10-09T22:47:47.801Z"
   },
   {
    "duration": 48,
    "start_time": "2022-10-09T22:47:47.809Z"
   },
   {
    "duration": 6,
    "start_time": "2022-10-09T22:47:51.064Z"
   },
   {
    "duration": 94,
    "start_time": "2022-10-09T22:48:26.472Z"
   },
   {
    "duration": 27,
    "start_time": "2022-10-09T22:48:26.569Z"
   },
   {
    "duration": 14,
    "start_time": "2022-10-09T22:48:26.598Z"
   },
   {
    "duration": 2214,
    "start_time": "2022-10-09T22:48:26.614Z"
   },
   {
    "duration": 9,
    "start_time": "2022-10-09T22:48:28.830Z"
   },
   {
    "duration": 14,
    "start_time": "2022-10-09T22:48:28.841Z"
   },
   {
    "duration": 9,
    "start_time": "2022-10-09T22:48:28.856Z"
   },
   {
    "duration": 13,
    "start_time": "2022-10-09T22:48:28.867Z"
   },
   {
    "duration": 29,
    "start_time": "2022-10-09T22:48:28.881Z"
   },
   {
    "duration": 5,
    "start_time": "2022-10-09T22:48:28.912Z"
   },
   {
    "duration": 15,
    "start_time": "2022-10-09T22:48:28.919Z"
   },
   {
    "duration": 19,
    "start_time": "2022-10-09T22:48:28.936Z"
   },
   {
    "duration": 19,
    "start_time": "2022-10-09T22:48:28.957Z"
   },
   {
    "duration": 210,
    "start_time": "2022-10-09T22:48:28.978Z"
   },
   {
    "duration": 4,
    "start_time": "2022-10-09T22:48:29.190Z"
   },
   {
    "duration": 24,
    "start_time": "2022-10-09T22:48:29.196Z"
   },
   {
    "duration": 15,
    "start_time": "2022-10-09T22:48:29.221Z"
   },
   {
    "duration": 15,
    "start_time": "2022-10-09T22:48:29.238Z"
   },
   {
    "duration": 213,
    "start_time": "2022-10-09T22:48:29.255Z"
   },
   {
    "duration": 5,
    "start_time": "2022-10-09T22:48:29.469Z"
   },
   {
    "duration": 12,
    "start_time": "2022-10-09T22:48:29.476Z"
   },
   {
    "duration": 16,
    "start_time": "2022-10-09T22:48:29.490Z"
   },
   {
    "duration": 17,
    "start_time": "2022-10-09T22:48:29.508Z"
   },
   {
    "duration": 7,
    "start_time": "2022-10-09T22:48:29.527Z"
   },
   {
    "duration": 6,
    "start_time": "2022-10-09T22:48:29.536Z"
   },
   {
    "duration": 11,
    "start_time": "2022-10-09T22:48:29.543Z"
   },
   {
    "duration": 20,
    "start_time": "2022-10-09T22:48:29.555Z"
   },
   {
    "duration": 8,
    "start_time": "2022-10-09T22:48:29.578Z"
   },
   {
    "duration": 18,
    "start_time": "2022-10-09T22:48:29.587Z"
   },
   {
    "duration": 14,
    "start_time": "2022-10-09T22:48:29.607Z"
   },
   {
    "duration": 12,
    "start_time": "2022-10-09T22:48:29.623Z"
   },
   {
    "duration": 19,
    "start_time": "2022-10-09T22:48:29.637Z"
   },
   {
    "duration": 12,
    "start_time": "2022-10-09T22:48:29.658Z"
   },
   {
    "duration": 12,
    "start_time": "2022-10-09T22:48:29.671Z"
   },
   {
    "duration": 6,
    "start_time": "2022-10-09T22:48:29.685Z"
   },
   {
    "duration": 8,
    "start_time": "2022-10-09T22:48:29.692Z"
   },
   {
    "duration": 11,
    "start_time": "2022-10-09T22:48:29.702Z"
   },
   {
    "duration": 9,
    "start_time": "2022-10-09T22:48:29.715Z"
   },
   {
    "duration": 7,
    "start_time": "2022-10-09T22:48:29.726Z"
   },
   {
    "duration": 21,
    "start_time": "2022-10-09T22:48:29.734Z"
   },
   {
    "duration": 5,
    "start_time": "2022-10-09T22:48:35.205Z"
   },
   {
    "duration": 141,
    "start_time": "2022-10-09T22:48:48.669Z"
   },
   {
    "duration": 5,
    "start_time": "2022-10-09T22:48:53.856Z"
   },
   {
    "duration": 6,
    "start_time": "2022-10-09T22:49:11.932Z"
   },
   {
    "duration": 7,
    "start_time": "2022-10-09T22:50:00.826Z"
   },
   {
    "duration": 6,
    "start_time": "2022-10-09T22:51:18.494Z"
   },
   {
    "duration": 10,
    "start_time": "2022-10-09T23:01:46.325Z"
   },
   {
    "duration": 8,
    "start_time": "2022-10-10T06:34:31.216Z"
   },
   {
    "duration": 8,
    "start_time": "2022-10-10T06:36:44.900Z"
   },
   {
    "duration": 7,
    "start_time": "2022-10-10T06:37:29.270Z"
   },
   {
    "duration": 55,
    "start_time": "2022-10-10T06:37:35.867Z"
   },
   {
    "duration": 5,
    "start_time": "2022-10-10T06:37:42.970Z"
   },
   {
    "duration": 750,
    "start_time": "2022-10-10T06:39:48.766Z"
   },
   {
    "duration": 8,
    "start_time": "2022-10-10T06:40:06.641Z"
   },
   {
    "duration": 9,
    "start_time": "2022-10-10T06:42:36.499Z"
   },
   {
    "duration": 9,
    "start_time": "2022-10-10T06:42:44.809Z"
   },
   {
    "duration": 8,
    "start_time": "2022-10-10T06:42:59.856Z"
   },
   {
    "duration": 13,
    "start_time": "2022-10-10T06:43:24.634Z"
   },
   {
    "duration": 8,
    "start_time": "2022-10-10T06:43:29.920Z"
   },
   {
    "duration": 8,
    "start_time": "2022-10-10T06:44:38.145Z"
   },
   {
    "duration": 8,
    "start_time": "2022-10-10T06:46:29.843Z"
   },
   {
    "duration": 6,
    "start_time": "2022-10-10T06:48:39.122Z"
   },
   {
    "duration": 281,
    "start_time": "2022-10-10T06:51:34.887Z"
   },
   {
    "duration": 275,
    "start_time": "2022-10-10T06:51:50.908Z"
   },
   {
    "duration": 12,
    "start_time": "2022-10-10T08:56:32.760Z"
   },
   {
    "duration": 9,
    "start_time": "2022-10-10T08:58:36.373Z"
   },
   {
    "duration": 5,
    "start_time": "2022-10-10T08:58:45.287Z"
   },
   {
    "duration": 99,
    "start_time": "2022-10-10T09:01:10.777Z"
   },
   {
    "duration": 122,
    "start_time": "2022-10-10T09:01:17.855Z"
   },
   {
    "duration": 4,
    "start_time": "2022-10-10T09:01:28.696Z"
   },
   {
    "duration": 22,
    "start_time": "2022-10-10T09:01:32.345Z"
   },
   {
    "duration": 62,
    "start_time": "2022-10-10T09:01:46.621Z"
   },
   {
    "duration": 7,
    "start_time": "2022-10-10T09:01:59.132Z"
   },
   {
    "duration": 15,
    "start_time": "2022-10-10T09:02:04.495Z"
   },
   {
    "duration": 15,
    "start_time": "2022-10-10T09:02:19.085Z"
   },
   {
    "duration": 14,
    "start_time": "2022-10-10T09:02:30.865Z"
   },
   {
    "duration": 64,
    "start_time": "2022-10-10T09:14:29.076Z"
   },
   {
    "duration": 17,
    "start_time": "2022-10-10T09:14:44.727Z"
   },
   {
    "duration": 25,
    "start_time": "2022-10-10T09:14:56.273Z"
   },
   {
    "duration": 13,
    "start_time": "2022-10-10T09:15:24.208Z"
   },
   {
    "duration": 10,
    "start_time": "2022-10-10T09:16:29.518Z"
   },
   {
    "duration": 7,
    "start_time": "2022-10-10T09:41:53.577Z"
   },
   {
    "duration": 6,
    "start_time": "2022-10-10T09:42:07.117Z"
   },
   {
    "duration": 166,
    "start_time": "2022-10-10T09:42:10.951Z"
   },
   {
    "duration": 218,
    "start_time": "2022-10-10T09:42:33.615Z"
   },
   {
    "duration": 290,
    "start_time": "2022-10-10T09:42:38.546Z"
   },
   {
    "duration": 283,
    "start_time": "2022-10-10T09:42:57.120Z"
   },
   {
    "duration": 316,
    "start_time": "2022-10-10T09:43:19.163Z"
   },
   {
    "duration": 115,
    "start_time": "2022-10-10T09:43:30.789Z"
   },
   {
    "duration": 295,
    "start_time": "2022-10-10T09:43:37.091Z"
   },
   {
    "duration": 314,
    "start_time": "2022-10-10T09:44:05.889Z"
   },
   {
    "duration": 290,
    "start_time": "2022-10-10T09:44:24.986Z"
   },
   {
    "duration": 291,
    "start_time": "2022-10-10T09:44:29.941Z"
   },
   {
    "duration": 300,
    "start_time": "2022-10-10T10:17:06.939Z"
   },
   {
    "duration": 75,
    "start_time": "2022-10-10T10:17:56.419Z"
   },
   {
    "duration": 369,
    "start_time": "2022-10-10T10:18:01.254Z"
   },
   {
    "duration": 288,
    "start_time": "2022-10-10T10:23:00.450Z"
   },
   {
    "duration": 289,
    "start_time": "2022-10-10T10:23:54.723Z"
   },
   {
    "duration": 102,
    "start_time": "2022-10-10T10:24:36.530Z"
   },
   {
    "duration": 274,
    "start_time": "2022-10-10T10:24:44.928Z"
   },
   {
    "duration": 319,
    "start_time": "2022-10-10T10:25:03.022Z"
   },
   {
    "duration": 306,
    "start_time": "2022-10-10T10:25:39.396Z"
   },
   {
    "duration": 9,
    "start_time": "2022-10-10T11:07:24.582Z"
   },
   {
    "duration": 8,
    "start_time": "2022-10-10T11:07:59.350Z"
   },
   {
    "duration": 8,
    "start_time": "2022-10-10T11:08:17.944Z"
   },
   {
    "duration": 9,
    "start_time": "2022-10-10T11:08:50.586Z"
   },
   {
    "duration": 10,
    "start_time": "2022-10-10T11:09:11.372Z"
   },
   {
    "duration": 8,
    "start_time": "2022-10-10T11:17:20.845Z"
   },
   {
    "duration": 326,
    "start_time": "2022-10-10T11:17:42.532Z"
   },
   {
    "duration": 833,
    "start_time": "2022-10-10T11:17:54.104Z"
   },
   {
    "duration": 317,
    "start_time": "2022-10-10T11:18:06.817Z"
   },
   {
    "duration": 302,
    "start_time": "2022-10-10T11:18:17.541Z"
   },
   {
    "duration": 310,
    "start_time": "2022-10-10T11:18:25.209Z"
   },
   {
    "duration": 345,
    "start_time": "2022-10-10T11:18:31.873Z"
   },
   {
    "duration": 11,
    "start_time": "2022-10-10T11:20:37.236Z"
   },
   {
    "duration": 10,
    "start_time": "2022-10-10T11:20:53.170Z"
   },
   {
    "duration": 12,
    "start_time": "2022-10-10T11:20:57.472Z"
   },
   {
    "duration": 11,
    "start_time": "2022-10-10T11:24:23.630Z"
   },
   {
    "duration": 277,
    "start_time": "2022-10-10T11:29:24.467Z"
   },
   {
    "duration": 10,
    "start_time": "2022-10-10T11:30:29.572Z"
   },
   {
    "duration": 9,
    "start_time": "2022-10-10T11:31:16.311Z"
   },
   {
    "duration": 11,
    "start_time": "2022-10-10T11:31:27.692Z"
   },
   {
    "duration": 11,
    "start_time": "2022-10-10T11:31:39.053Z"
   },
   {
    "duration": 8,
    "start_time": "2022-10-10T11:32:11.604Z"
   },
   {
    "duration": 12,
    "start_time": "2022-10-10T11:32:19.048Z"
   },
   {
    "duration": 13,
    "start_time": "2022-10-10T11:32:23.877Z"
   },
   {
    "duration": 6,
    "start_time": "2022-10-10T12:18:00.894Z"
   },
   {
    "duration": 288,
    "start_time": "2022-10-10T12:18:35.717Z"
   },
   {
    "duration": 309,
    "start_time": "2022-10-10T12:18:52.567Z"
   },
   {
    "duration": 316,
    "start_time": "2022-10-10T12:19:02.430Z"
   },
   {
    "duration": 101,
    "start_time": "2022-10-10T12:19:12.868Z"
   },
   {
    "duration": 301,
    "start_time": "2022-10-10T12:19:18.973Z"
   },
   {
    "duration": 12,
    "start_time": "2022-10-10T12:20:27.795Z"
   },
   {
    "duration": 10,
    "start_time": "2022-10-10T12:20:32.300Z"
   },
   {
    "duration": 8,
    "start_time": "2022-10-10T12:20:40.394Z"
   },
   {
    "duration": 7,
    "start_time": "2022-10-10T12:20:53.410Z"
   },
   {
    "duration": 14,
    "start_time": "2022-10-10T12:21:06.128Z"
   },
   {
    "duration": 9,
    "start_time": "2022-10-10T12:22:28.287Z"
   },
   {
    "duration": 11,
    "start_time": "2022-10-10T12:23:40.551Z"
   },
   {
    "duration": 199,
    "start_time": "2022-10-10T12:27:15.283Z"
   },
   {
    "duration": 283,
    "start_time": "2022-10-10T12:27:22.625Z"
   },
   {
    "duration": 245,
    "start_time": "2022-10-10T12:27:36.829Z"
   },
   {
    "duration": 211,
    "start_time": "2022-10-10T12:27:48.803Z"
   },
   {
    "duration": 209,
    "start_time": "2022-10-10T12:27:56.298Z"
   },
   {
    "duration": 213,
    "start_time": "2022-10-10T12:28:08.196Z"
   },
   {
    "duration": 334,
    "start_time": "2022-10-10T12:28:22.588Z"
   },
   {
    "duration": 255,
    "start_time": "2022-10-10T12:36:19.383Z"
   },
   {
    "duration": 241,
    "start_time": "2022-10-10T12:36:33.143Z"
   },
   {
    "duration": 269,
    "start_time": "2022-10-10T12:36:37.310Z"
   },
   {
    "duration": 9,
    "start_time": "2022-10-10T12:44:53.540Z"
   },
   {
    "duration": 8,
    "start_time": "2022-10-10T12:45:15.014Z"
   },
   {
    "duration": 10,
    "start_time": "2022-10-10T12:45:29.347Z"
   },
   {
    "duration": 11,
    "start_time": "2022-10-10T12:45:45.739Z"
   },
   {
    "duration": 8,
    "start_time": "2022-10-10T12:49:23.473Z"
   },
   {
    "duration": 59,
    "start_time": "2022-10-10T12:49:32.066Z"
   },
   {
    "duration": 54,
    "start_time": "2022-10-10T12:49:49.389Z"
   },
   {
    "duration": 17,
    "start_time": "2022-10-10T12:49:57.849Z"
   },
   {
    "duration": 13,
    "start_time": "2022-10-10T12:51:24.960Z"
   },
   {
    "duration": 287,
    "start_time": "2022-10-10T12:51:49.381Z"
   },
   {
    "duration": 386,
    "start_time": "2022-10-10T12:51:56.217Z"
   },
   {
    "duration": 343,
    "start_time": "2022-10-10T12:52:02.962Z"
   },
   {
    "duration": 302,
    "start_time": "2022-10-10T12:52:05.775Z"
   },
   {
    "duration": 11,
    "start_time": "2022-10-10T12:52:11.473Z"
   },
   {
    "duration": 10,
    "start_time": "2022-10-10T12:52:32.139Z"
   },
   {
    "duration": 10,
    "start_time": "2022-10-10T12:52:38.709Z"
   },
   {
    "duration": 228,
    "start_time": "2022-10-10T12:52:43.779Z"
   },
   {
    "duration": 11,
    "start_time": "2022-10-10T12:52:51.242Z"
   },
   {
    "duration": 10,
    "start_time": "2022-10-10T12:52:57.516Z"
   },
   {
    "duration": 460,
    "start_time": "2022-10-10T12:53:02.771Z"
   },
   {
    "duration": 11,
    "start_time": "2022-10-10T12:53:06.803Z"
   },
   {
    "duration": 1286,
    "start_time": "2022-10-10T13:08:47.618Z"
   },
   {
    "duration": 6,
    "start_time": "2022-10-10T13:08:51.035Z"
   },
   {
    "duration": 253,
    "start_time": "2022-10-10T13:09:05.395Z"
   },
   {
    "duration": 236,
    "start_time": "2022-10-10T13:09:12.651Z"
   },
   {
    "duration": 6,
    "start_time": "2022-10-10T13:09:31.474Z"
   },
   {
    "duration": 238,
    "start_time": "2022-10-10T13:09:46.131Z"
   },
   {
    "duration": 221,
    "start_time": "2022-10-10T13:09:54.289Z"
   },
   {
    "duration": 196,
    "start_time": "2022-10-10T13:09:58.624Z"
   },
   {
    "duration": 201,
    "start_time": "2022-10-10T13:10:12.568Z"
   },
   {
    "duration": 190,
    "start_time": "2022-10-10T13:10:58.404Z"
   },
   {
    "duration": 200,
    "start_time": "2022-10-10T13:12:19.954Z"
   },
   {
    "duration": 8,
    "start_time": "2022-10-10T13:12:28.901Z"
   },
   {
    "duration": 6,
    "start_time": "2022-10-10T13:12:52.349Z"
   },
   {
    "duration": 7,
    "start_time": "2022-10-10T13:12:59.492Z"
   },
   {
    "duration": 183,
    "start_time": "2022-10-10T13:21:52.585Z"
   },
   {
    "duration": 190,
    "start_time": "2022-10-10T13:22:08.938Z"
   },
   {
    "duration": 177,
    "start_time": "2022-10-10T13:22:15.648Z"
   },
   {
    "duration": 912,
    "start_time": "2022-10-10T13:22:26.732Z"
   },
   {
    "duration": 213,
    "start_time": "2022-10-10T13:23:11.286Z"
   },
   {
    "duration": 189,
    "start_time": "2022-10-10T13:23:18.136Z"
   },
   {
    "duration": 178,
    "start_time": "2022-10-10T13:23:26.312Z"
   },
   {
    "duration": 7,
    "start_time": "2022-10-10T14:14:47.837Z"
   },
   {
    "duration": 9,
    "start_time": "2022-10-10T14:15:25.717Z"
   },
   {
    "duration": 7,
    "start_time": "2022-10-10T14:17:26.566Z"
   },
   {
    "duration": 8,
    "start_time": "2022-10-10T14:18:12.733Z"
   },
   {
    "duration": 6,
    "start_time": "2022-10-10T14:18:32.144Z"
   },
   {
    "duration": 10,
    "start_time": "2022-10-10T14:18:48.541Z"
   },
   {
    "duration": 6,
    "start_time": "2022-10-10T14:20:30.153Z"
   },
   {
    "duration": 10,
    "start_time": "2022-10-10T14:20:34.281Z"
   },
   {
    "duration": 5,
    "start_time": "2022-10-10T14:20:55.093Z"
   },
   {
    "duration": 4,
    "start_time": "2022-10-10T14:20:56.723Z"
   },
   {
    "duration": 10,
    "start_time": "2022-10-10T14:20:58.677Z"
   },
   {
    "duration": 6,
    "start_time": "2022-10-10T14:21:46.735Z"
   },
   {
    "duration": 9,
    "start_time": "2022-10-10T14:21:48.741Z"
   },
   {
    "duration": 211,
    "start_time": "2022-10-10T14:21:59.338Z"
   },
   {
    "duration": 9,
    "start_time": "2022-10-10T14:22:16.807Z"
   },
   {
    "duration": 6,
    "start_time": "2022-10-10T14:22:37.478Z"
   },
   {
    "duration": 6,
    "start_time": "2022-10-10T14:22:38.876Z"
   },
   {
    "duration": 188,
    "start_time": "2022-10-10T14:22:56.701Z"
   },
   {
    "duration": 7,
    "start_time": "2022-10-10T14:23:00.745Z"
   },
   {
    "duration": 9,
    "start_time": "2022-10-10T14:23:03.568Z"
   },
   {
    "duration": 12,
    "start_time": "2022-10-10T14:26:09.866Z"
   },
   {
    "duration": 178,
    "start_time": "2022-10-10T14:35:07.850Z"
   },
   {
    "duration": 161,
    "start_time": "2022-10-10T14:35:26.256Z"
   },
   {
    "duration": 170,
    "start_time": "2022-10-10T14:35:31.162Z"
   },
   {
    "duration": 176,
    "start_time": "2022-10-10T14:36:06.886Z"
   },
   {
    "duration": 179,
    "start_time": "2022-10-10T14:36:19.432Z"
   },
   {
    "duration": 191,
    "start_time": "2022-10-10T14:36:27.331Z"
   },
   {
    "duration": 171,
    "start_time": "2022-10-10T14:36:39.678Z"
   },
   {
    "duration": 175,
    "start_time": "2022-10-10T14:36:46.058Z"
   },
   {
    "duration": 6,
    "start_time": "2022-10-10T14:39:56.721Z"
   },
   {
    "duration": 9,
    "start_time": "2022-10-10T14:40:11.748Z"
   },
   {
    "duration": 9,
    "start_time": "2022-10-10T14:40:26.056Z"
   },
   {
    "duration": 7,
    "start_time": "2022-10-10T14:43:01.717Z"
   },
   {
    "duration": 6,
    "start_time": "2022-10-10T14:43:15.913Z"
   },
   {
    "duration": 370,
    "start_time": "2022-10-10T14:48:09.145Z"
   },
   {
    "duration": 6,
    "start_time": "2022-10-10T14:48:25.229Z"
   },
   {
    "duration": 18,
    "start_time": "2022-10-10T14:48:41.039Z"
   },
   {
    "duration": 4,
    "start_time": "2022-10-10T14:50:28.721Z"
   },
   {
    "duration": 337,
    "start_time": "2022-10-10T14:50:43.533Z"
   },
   {
    "duration": 9,
    "start_time": "2022-10-10T14:51:05.222Z"
   },
   {
    "duration": 9,
    "start_time": "2022-10-10T14:51:20.137Z"
   },
   {
    "duration": 9,
    "start_time": "2022-10-10T14:51:34.365Z"
   },
   {
    "duration": 9,
    "start_time": "2022-10-10T14:52:33.904Z"
   },
   {
    "duration": 169,
    "start_time": "2022-10-10T14:52:41.896Z"
   },
   {
    "duration": 367,
    "start_time": "2022-10-10T14:52:50.673Z"
   },
   {
    "duration": 198,
    "start_time": "2022-10-10T14:53:05.580Z"
   },
   {
    "duration": 202,
    "start_time": "2022-10-10T14:59:34.585Z"
   },
   {
    "duration": 2387,
    "start_time": "2022-10-10T15:01:33.455Z"
   },
   {
    "duration": 192,
    "start_time": "2022-10-10T15:01:58.859Z"
   },
   {
    "duration": 155,
    "start_time": "2022-10-10T15:02:05.364Z"
   },
   {
    "duration": 123,
    "start_time": "2022-10-10T15:02:26.080Z"
   },
   {
    "duration": 126,
    "start_time": "2022-10-10T15:02:31.844Z"
   },
   {
    "duration": 80,
    "start_time": "2022-10-10T15:02:38.960Z"
   },
   {
    "duration": 116,
    "start_time": "2022-10-10T15:02:43.441Z"
   },
   {
    "duration": 111,
    "start_time": "2022-10-10T15:05:56.212Z"
   },
   {
    "duration": 125,
    "start_time": "2022-10-10T15:06:11.264Z"
   },
   {
    "duration": 15,
    "start_time": "2022-10-10T15:06:20.431Z"
   },
   {
    "duration": 110,
    "start_time": "2022-10-10T15:06:24.482Z"
   },
   {
    "duration": 16,
    "start_time": "2022-10-10T15:11:34.628Z"
   },
   {
    "duration": 8,
    "start_time": "2022-10-10T15:11:54.677Z"
   },
   {
    "duration": 166,
    "start_time": "2022-10-10T15:16:27.615Z"
   },
   {
    "duration": 47,
    "start_time": "2022-10-10T15:17:44.610Z"
   },
   {
    "duration": 165,
    "start_time": "2022-10-10T15:17:52.314Z"
   },
   {
    "duration": 211,
    "start_time": "2022-10-10T15:18:21.459Z"
   },
   {
    "duration": 167,
    "start_time": "2022-10-10T15:18:37.241Z"
   },
   {
    "duration": 5,
    "start_time": "2022-10-10T15:18:56.287Z"
   },
   {
    "duration": 7,
    "start_time": "2022-10-10T15:20:50.816Z"
   },
   {
    "duration": 172,
    "start_time": "2022-10-10T15:23:36.614Z"
   },
   {
    "duration": 171,
    "start_time": "2022-10-10T15:24:30.477Z"
   },
   {
    "duration": 6,
    "start_time": "2022-10-10T15:24:51.872Z"
   },
   {
    "duration": 12,
    "start_time": "2022-10-10T15:25:23.530Z"
   },
   {
    "duration": 6,
    "start_time": "2022-10-10T15:26:15.194Z"
   },
   {
    "duration": 7,
    "start_time": "2022-10-10T15:26:24.188Z"
   },
   {
    "duration": 7,
    "start_time": "2022-10-10T15:26:28.097Z"
   },
   {
    "duration": 65,
    "start_time": "2022-10-10T15:30:07.919Z"
   },
   {
    "duration": 59,
    "start_time": "2022-10-10T15:30:18.367Z"
   },
   {
    "duration": 160,
    "start_time": "2022-10-10T15:30:27.822Z"
   },
   {
    "duration": 163,
    "start_time": "2022-10-10T15:30:50.670Z"
   },
   {
    "duration": 176,
    "start_time": "2022-10-10T15:31:00.804Z"
   },
   {
    "duration": 165,
    "start_time": "2022-10-10T15:31:09.054Z"
   },
   {
    "duration": 5,
    "start_time": "2022-10-10T15:31:31.384Z"
   },
   {
    "duration": 6,
    "start_time": "2022-10-10T15:32:04.692Z"
   },
   {
    "duration": 9,
    "start_time": "2022-10-10T15:32:59.008Z"
   },
   {
    "duration": 22,
    "start_time": "2022-10-10T15:34:38.384Z"
   },
   {
    "duration": 21,
    "start_time": "2022-10-10T15:34:43.679Z"
   },
   {
    "duration": 7,
    "start_time": "2022-10-10T15:34:55.898Z"
   },
   {
    "duration": 69,
    "start_time": "2022-10-10T15:35:13.374Z"
   },
   {
    "duration": 488,
    "start_time": "2022-10-10T15:35:40.203Z"
   },
   {
    "duration": 33,
    "start_time": "2022-10-10T15:35:51.725Z"
   },
   {
    "duration": 250,
    "start_time": "2022-10-10T15:36:35.253Z"
   },
   {
    "duration": 92,
    "start_time": "2022-10-10T15:37:18.212Z"
   },
   {
    "duration": 22,
    "start_time": "2022-10-10T15:37:18.307Z"
   },
   {
    "duration": 45,
    "start_time": "2022-10-10T15:37:18.330Z"
   },
   {
    "duration": 3129,
    "start_time": "2022-10-10T15:37:18.378Z"
   },
   {
    "duration": 13,
    "start_time": "2022-10-10T15:37:21.509Z"
   },
   {
    "duration": 14,
    "start_time": "2022-10-10T15:37:21.524Z"
   },
   {
    "duration": 21,
    "start_time": "2022-10-10T15:37:21.557Z"
   },
   {
    "duration": 11,
    "start_time": "2022-10-10T15:37:21.580Z"
   },
   {
    "duration": 47,
    "start_time": "2022-10-10T15:37:21.593Z"
   },
   {
    "duration": 5,
    "start_time": "2022-10-10T15:37:21.643Z"
   },
   {
    "duration": 20,
    "start_time": "2022-10-10T15:37:21.650Z"
   },
   {
    "duration": 18,
    "start_time": "2022-10-10T15:37:21.672Z"
   },
   {
    "duration": 5,
    "start_time": "2022-10-10T15:37:21.692Z"
   },
   {
    "duration": 216,
    "start_time": "2022-10-10T15:37:21.699Z"
   },
   {
    "duration": 4,
    "start_time": "2022-10-10T15:37:21.917Z"
   },
   {
    "duration": 10,
    "start_time": "2022-10-10T15:37:21.923Z"
   },
   {
    "duration": 8,
    "start_time": "2022-10-10T15:37:21.934Z"
   },
   {
    "duration": 16,
    "start_time": "2022-10-10T15:37:21.944Z"
   },
   {
    "duration": 212,
    "start_time": "2022-10-10T15:37:21.962Z"
   },
   {
    "duration": 4,
    "start_time": "2022-10-10T15:37:22.176Z"
   },
   {
    "duration": 19,
    "start_time": "2022-10-10T15:37:22.182Z"
   },
   {
    "duration": 9,
    "start_time": "2022-10-10T15:37:22.202Z"
   },
   {
    "duration": 11,
    "start_time": "2022-10-10T15:37:22.213Z"
   },
   {
    "duration": 5,
    "start_time": "2022-10-10T15:37:22.226Z"
   },
   {
    "duration": 11,
    "start_time": "2022-10-10T15:37:22.232Z"
   },
   {
    "duration": 18,
    "start_time": "2022-10-10T15:37:22.245Z"
   },
   {
    "duration": 13,
    "start_time": "2022-10-10T15:37:22.265Z"
   },
   {
    "duration": 4,
    "start_time": "2022-10-10T15:37:22.283Z"
   },
   {
    "duration": 12,
    "start_time": "2022-10-10T15:37:22.288Z"
   },
   {
    "duration": 16,
    "start_time": "2022-10-10T15:37:22.302Z"
   },
   {
    "duration": 9,
    "start_time": "2022-10-10T15:37:22.321Z"
   },
   {
    "duration": 27,
    "start_time": "2022-10-10T15:37:22.332Z"
   },
   {
    "duration": 9,
    "start_time": "2022-10-10T15:37:22.361Z"
   },
   {
    "duration": 10,
    "start_time": "2022-10-10T15:37:22.372Z"
   },
   {
    "duration": 10,
    "start_time": "2022-10-10T15:37:22.384Z"
   },
   {
    "duration": 16,
    "start_time": "2022-10-10T15:37:22.395Z"
   },
   {
    "duration": 13,
    "start_time": "2022-10-10T15:37:22.413Z"
   },
   {
    "duration": 19,
    "start_time": "2022-10-10T15:37:22.427Z"
   },
   {
    "duration": 15,
    "start_time": "2022-10-10T15:37:22.448Z"
   },
   {
    "duration": 32,
    "start_time": "2022-10-10T15:37:22.464Z"
   },
   {
    "duration": 12,
    "start_time": "2022-10-10T15:37:22.498Z"
   },
   {
    "duration": 12,
    "start_time": "2022-10-10T15:37:22.511Z"
   },
   {
    "duration": 8,
    "start_time": "2022-10-10T15:37:22.525Z"
   },
   {
    "duration": 6,
    "start_time": "2022-10-10T15:37:22.535Z"
   },
   {
    "duration": 7,
    "start_time": "2022-10-10T15:37:22.543Z"
   },
   {
    "duration": 17,
    "start_time": "2022-10-10T15:37:22.552Z"
   },
   {
    "duration": 10,
    "start_time": "2022-10-10T15:37:22.571Z"
   },
   {
    "duration": 7,
    "start_time": "2022-10-10T15:37:22.583Z"
   },
   {
    "duration": 386,
    "start_time": "2022-10-10T15:37:22.592Z"
   },
   {
    "duration": 3,
    "start_time": "2022-10-10T15:37:22.980Z"
   },
   {
    "duration": 17,
    "start_time": "2022-10-10T15:37:22.985Z"
   },
   {
    "duration": 301,
    "start_time": "2022-10-10T15:37:23.004Z"
   },
   {
    "duration": 7,
    "start_time": "2022-10-10T15:37:23.307Z"
   },
   {
    "duration": 27,
    "start_time": "2022-10-10T15:37:23.315Z"
   },
   {
    "duration": 11,
    "start_time": "2022-10-10T15:37:23.344Z"
   },
   {
    "duration": 203,
    "start_time": "2022-10-10T15:37:23.357Z"
   },
   {
    "duration": 6,
    "start_time": "2022-10-10T15:37:23.562Z"
   },
   {
    "duration": 15,
    "start_time": "2022-10-10T15:37:23.570Z"
   },
   {
    "duration": 16,
    "start_time": "2022-10-10T15:37:23.587Z"
   },
   {
    "duration": 219,
    "start_time": "2022-10-10T15:37:23.605Z"
   },
   {
    "duration": 7,
    "start_time": "2022-10-10T15:37:23.825Z"
   },
   {
    "duration": 10,
    "start_time": "2022-10-10T15:37:23.833Z"
   },
   {
    "duration": 9,
    "start_time": "2022-10-10T15:37:23.854Z"
   },
   {
    "duration": 249,
    "start_time": "2022-10-10T15:37:23.865Z"
   },
   {
    "duration": 8,
    "start_time": "2022-10-10T15:37:24.116Z"
   },
   {
    "duration": 22,
    "start_time": "2022-10-10T15:37:24.126Z"
   },
   {
    "duration": 12,
    "start_time": "2022-10-10T15:37:24.153Z"
   },
   {
    "duration": 190,
    "start_time": "2022-10-10T15:37:24.167Z"
   },
   {
    "duration": 6,
    "start_time": "2022-10-10T15:37:24.359Z"
   },
   {
    "duration": 12,
    "start_time": "2022-10-10T15:37:24.367Z"
   },
   {
    "duration": 193,
    "start_time": "2022-10-10T15:37:24.380Z"
   },
   {
    "duration": 6,
    "start_time": "2022-10-10T15:37:24.575Z"
   },
   {
    "duration": 11,
    "start_time": "2022-10-10T15:37:24.583Z"
   },
   {
    "duration": 10,
    "start_time": "2022-10-10T15:37:24.596Z"
   },
   {
    "duration": 190,
    "start_time": "2022-10-10T15:37:24.608Z"
   },
   {
    "duration": 7,
    "start_time": "2022-10-10T15:37:24.799Z"
   },
   {
    "duration": 10,
    "start_time": "2022-10-10T15:37:24.808Z"
   },
   {
    "duration": 22,
    "start_time": "2022-10-10T15:37:24.820Z"
   },
   {
    "duration": 119,
    "start_time": "2022-10-10T15:37:24.855Z"
   },
   {
    "duration": 8,
    "start_time": "2022-10-10T15:37:24.976Z"
   },
   {
    "duration": 201,
    "start_time": "2022-10-10T15:37:24.985Z"
   },
   {
    "duration": 6,
    "start_time": "2022-10-10T15:37:25.193Z"
   },
   {
    "duration": 14,
    "start_time": "2022-10-10T15:37:25.201Z"
   },
   {
    "duration": 180,
    "start_time": "2022-10-10T15:37:25.217Z"
   },
   {
    "duration": 11,
    "start_time": "2022-10-10T15:37:25.399Z"
   },
   {
    "duration": 447,
    "start_time": "2022-10-10T15:37:25.412Z"
   },
   {
    "duration": 4,
    "start_time": "2022-10-10T15:37:44.377Z"
   },
   {
    "duration": 7,
    "start_time": "2022-10-10T15:37:50.813Z"
   },
   {
    "duration": 406,
    "start_time": "2022-10-10T15:38:11.769Z"
   },
   {
    "duration": 10,
    "start_time": "2022-10-10T15:40:40.140Z"
   },
   {
    "duration": 10,
    "start_time": "2022-10-10T15:41:26.261Z"
   },
   {
    "duration": 11,
    "start_time": "2022-10-10T15:41:46.070Z"
   },
   {
    "duration": 18,
    "start_time": "2022-10-10T15:41:50.219Z"
   },
   {
    "duration": 6,
    "start_time": "2022-10-10T15:42:08.713Z"
   },
   {
    "duration": 318,
    "start_time": "2022-10-10T15:42:31.186Z"
   },
   {
    "duration": 9,
    "start_time": "2022-10-10T15:43:20.808Z"
   },
   {
    "duration": 9,
    "start_time": "2022-10-10T15:43:37.049Z"
   },
   {
    "duration": 22,
    "start_time": "2022-10-10T15:43:54.053Z"
   },
   {
    "duration": 16,
    "start_time": "2022-10-10T15:44:09.918Z"
   },
   {
    "duration": 9,
    "start_time": "2022-10-10T15:44:18.465Z"
   },
   {
    "duration": 178,
    "start_time": "2022-10-10T15:44:20.848Z"
   },
   {
    "duration": 208,
    "start_time": "2022-10-10T15:44:31.776Z"
   },
   {
    "duration": 10,
    "start_time": "2022-10-10T15:44:49.793Z"
   },
   {
    "duration": 193,
    "start_time": "2022-10-10T15:45:36.916Z"
   },
   {
    "duration": 192,
    "start_time": "2022-10-10T15:45:45.812Z"
   },
   {
    "duration": 201,
    "start_time": "2022-10-10T15:46:13.166Z"
   },
   {
    "duration": 188,
    "start_time": "2022-10-10T15:46:18.826Z"
   },
   {
    "duration": 9,
    "start_time": "2022-10-10T15:47:01.800Z"
   },
   {
    "duration": 9,
    "start_time": "2022-10-10T15:47:07.812Z"
   },
   {
    "duration": 7,
    "start_time": "2022-10-10T16:18:58.126Z"
   },
   {
    "duration": 7,
    "start_time": "2022-10-10T16:19:14.513Z"
   },
   {
    "duration": 10,
    "start_time": "2022-10-10T16:19:39.490Z"
   },
   {
    "duration": 200,
    "start_time": "2022-10-10T16:27:54.305Z"
   },
   {
    "duration": 176,
    "start_time": "2022-10-10T16:28:05.113Z"
   },
   {
    "duration": 171,
    "start_time": "2022-10-10T16:28:11.267Z"
   },
   {
    "duration": 185,
    "start_time": "2022-10-10T16:28:17.103Z"
   },
   {
    "duration": 184,
    "start_time": "2022-10-10T16:28:23.804Z"
   },
   {
    "duration": 209,
    "start_time": "2022-10-10T16:28:42.959Z"
   },
   {
    "duration": 8,
    "start_time": "2022-10-10T16:29:10.643Z"
   },
   {
    "duration": 11,
    "start_time": "2022-10-10T16:29:12.276Z"
   },
   {
    "duration": 260,
    "start_time": "2022-10-10T16:49:35.104Z"
   },
   {
    "duration": 561,
    "start_time": "2022-10-10T16:50:27.197Z"
   },
   {
    "duration": 565,
    "start_time": "2022-10-10T16:50:55.081Z"
   },
   {
    "duration": 542,
    "start_time": "2022-10-10T16:51:02.481Z"
   },
   {
    "duration": 547,
    "start_time": "2022-10-10T16:51:22.772Z"
   },
   {
    "duration": 555,
    "start_time": "2022-10-10T16:52:40.971Z"
   },
   {
    "duration": 515,
    "start_time": "2022-10-10T16:52:52.813Z"
   },
   {
    "duration": 553,
    "start_time": "2022-10-10T16:53:09.732Z"
   },
   {
    "duration": 514,
    "start_time": "2022-10-10T16:53:58.468Z"
   },
   {
    "duration": 478,
    "start_time": "2022-10-10T16:54:43.459Z"
   },
   {
    "duration": 505,
    "start_time": "2022-10-10T16:54:55.614Z"
   },
   {
    "duration": 7,
    "start_time": "2022-10-10T16:55:10.778Z"
   },
   {
    "duration": 548,
    "start_time": "2022-10-10T16:55:25.936Z"
   },
   {
    "duration": 559,
    "start_time": "2022-10-10T16:55:46.077Z"
   },
   {
    "duration": 519,
    "start_time": "2022-10-10T16:55:59.583Z"
   },
   {
    "duration": 12,
    "start_time": "2022-10-10T17:02:11.195Z"
   },
   {
    "duration": 11,
    "start_time": "2022-10-10T17:04:05.567Z"
   },
   {
    "duration": 11,
    "start_time": "2022-10-10T17:05:02.254Z"
   },
   {
    "duration": 6,
    "start_time": "2022-10-10T17:05:10.429Z"
   },
   {
    "duration": 10,
    "start_time": "2022-10-10T17:07:26.054Z"
   },
   {
    "duration": 1582,
    "start_time": "2022-10-10T17:39:29.368Z"
   },
   {
    "duration": 346,
    "start_time": "2022-10-10T17:39:46.646Z"
   },
   {
    "duration": 406,
    "start_time": "2022-10-10T17:40:09.597Z"
   },
   {
    "duration": 11,
    "start_time": "2022-10-10T17:40:21.640Z"
   },
   {
    "duration": 1781,
    "start_time": "2022-10-10T17:48:55.700Z"
   },
   {
    "duration": 1531,
    "start_time": "2022-10-10T17:49:11.370Z"
   },
   {
    "duration": 1283,
    "start_time": "2022-10-10T17:49:26.102Z"
   },
   {
    "duration": 1094,
    "start_time": "2022-10-10T17:49:39.023Z"
   },
   {
    "duration": 6,
    "start_time": "2022-10-10T17:49:51.394Z"
   },
   {
    "duration": 5,
    "start_time": "2022-10-10T17:50:13.210Z"
   },
   {
    "duration": 8,
    "start_time": "2022-10-10T18:23:30.374Z"
   },
   {
    "duration": 81,
    "start_time": "2022-10-10T18:23:40.113Z"
   },
   {
    "duration": 77,
    "start_time": "2022-10-10T18:23:56.656Z"
   },
   {
    "duration": 20,
    "start_time": "2022-10-10T18:24:21.546Z"
   },
   {
    "duration": 167,
    "start_time": "2022-10-10T18:28:40.687Z"
   },
   {
    "duration": 9,
    "start_time": "2022-10-10T18:29:54.186Z"
   },
   {
    "duration": 10,
    "start_time": "2022-10-10T18:29:59.825Z"
   },
   {
    "duration": 9,
    "start_time": "2022-10-10T18:30:59.129Z"
   },
   {
    "duration": 9,
    "start_time": "2022-10-10T18:31:02.741Z"
   },
   {
    "duration": 46,
    "start_time": "2022-10-10T19:08:25.650Z"
   },
   {
    "duration": 7,
    "start_time": "2022-10-10T19:08:48.284Z"
   },
   {
    "duration": 6,
    "start_time": "2022-10-10T19:09:05.274Z"
   },
   {
    "duration": 1311,
    "start_time": "2022-10-10T19:09:21.856Z"
   },
   {
    "duration": 37,
    "start_time": "2022-10-10T19:09:23.169Z"
   },
   {
    "duration": 0,
    "start_time": "2022-10-10T19:09:23.211Z"
   },
   {
    "duration": 0,
    "start_time": "2022-10-10T19:09:23.212Z"
   },
   {
    "duration": 0,
    "start_time": "2022-10-10T19:09:23.213Z"
   },
   {
    "duration": 0,
    "start_time": "2022-10-10T19:09:23.216Z"
   },
   {
    "duration": 0,
    "start_time": "2022-10-10T19:09:23.217Z"
   },
   {
    "duration": 0,
    "start_time": "2022-10-10T19:09:23.218Z"
   },
   {
    "duration": 0,
    "start_time": "2022-10-10T19:09:23.220Z"
   },
   {
    "duration": 0,
    "start_time": "2022-10-10T19:09:23.233Z"
   },
   {
    "duration": 0,
    "start_time": "2022-10-10T19:09:23.235Z"
   },
   {
    "duration": 0,
    "start_time": "2022-10-10T19:09:23.237Z"
   },
   {
    "duration": 0,
    "start_time": "2022-10-10T19:09:23.238Z"
   },
   {
    "duration": 0,
    "start_time": "2022-10-10T19:09:23.239Z"
   },
   {
    "duration": 0,
    "start_time": "2022-10-10T19:09:23.240Z"
   },
   {
    "duration": 0,
    "start_time": "2022-10-10T19:09:23.241Z"
   },
   {
    "duration": 0,
    "start_time": "2022-10-10T19:09:23.242Z"
   },
   {
    "duration": 0,
    "start_time": "2022-10-10T19:09:23.243Z"
   },
   {
    "duration": 0,
    "start_time": "2022-10-10T19:09:23.244Z"
   },
   {
    "duration": 0,
    "start_time": "2022-10-10T19:09:23.246Z"
   },
   {
    "duration": 0,
    "start_time": "2022-10-10T19:09:23.247Z"
   },
   {
    "duration": 0,
    "start_time": "2022-10-10T19:09:23.249Z"
   },
   {
    "duration": 0,
    "start_time": "2022-10-10T19:09:23.250Z"
   },
   {
    "duration": 0,
    "start_time": "2022-10-10T19:09:23.251Z"
   },
   {
    "duration": 0,
    "start_time": "2022-10-10T19:09:23.252Z"
   },
   {
    "duration": 0,
    "start_time": "2022-10-10T19:09:23.253Z"
   },
   {
    "duration": 0,
    "start_time": "2022-10-10T19:09:23.254Z"
   },
   {
    "duration": 0,
    "start_time": "2022-10-10T19:09:23.254Z"
   },
   {
    "duration": 0,
    "start_time": "2022-10-10T19:09:23.255Z"
   },
   {
    "duration": 0,
    "start_time": "2022-10-10T19:09:23.256Z"
   },
   {
    "duration": 0,
    "start_time": "2022-10-10T19:09:23.257Z"
   },
   {
    "duration": 0,
    "start_time": "2022-10-10T19:09:23.258Z"
   },
   {
    "duration": 0,
    "start_time": "2022-10-10T19:09:23.259Z"
   },
   {
    "duration": 0,
    "start_time": "2022-10-10T19:09:23.262Z"
   },
   {
    "duration": 0,
    "start_time": "2022-10-10T19:09:23.263Z"
   },
   {
    "duration": 0,
    "start_time": "2022-10-10T19:09:23.264Z"
   },
   {
    "duration": 0,
    "start_time": "2022-10-10T19:09:23.266Z"
   },
   {
    "duration": 0,
    "start_time": "2022-10-10T19:09:23.267Z"
   },
   {
    "duration": 0,
    "start_time": "2022-10-10T19:09:23.268Z"
   },
   {
    "duration": 0,
    "start_time": "2022-10-10T19:09:23.269Z"
   },
   {
    "duration": 0,
    "start_time": "2022-10-10T19:09:23.270Z"
   },
   {
    "duration": 0,
    "start_time": "2022-10-10T19:09:23.334Z"
   },
   {
    "duration": 0,
    "start_time": "2022-10-10T19:09:23.335Z"
   },
   {
    "duration": 0,
    "start_time": "2022-10-10T19:09:23.336Z"
   },
   {
    "duration": 0,
    "start_time": "2022-10-10T19:09:23.338Z"
   },
   {
    "duration": 0,
    "start_time": "2022-10-10T19:09:23.339Z"
   },
   {
    "duration": 0,
    "start_time": "2022-10-10T19:09:23.340Z"
   },
   {
    "duration": 0,
    "start_time": "2022-10-10T19:09:23.341Z"
   },
   {
    "duration": 0,
    "start_time": "2022-10-10T19:09:23.343Z"
   },
   {
    "duration": 0,
    "start_time": "2022-10-10T19:09:23.344Z"
   },
   {
    "duration": 0,
    "start_time": "2022-10-10T19:09:23.345Z"
   },
   {
    "duration": 0,
    "start_time": "2022-10-10T19:09:23.346Z"
   },
   {
    "duration": 0,
    "start_time": "2022-10-10T19:09:23.347Z"
   },
   {
    "duration": 0,
    "start_time": "2022-10-10T19:09:23.349Z"
   },
   {
    "duration": 0,
    "start_time": "2022-10-10T19:09:23.350Z"
   },
   {
    "duration": 0,
    "start_time": "2022-10-10T19:09:23.351Z"
   },
   {
    "duration": 0,
    "start_time": "2022-10-10T19:09:23.353Z"
   },
   {
    "duration": 0,
    "start_time": "2022-10-10T19:09:23.354Z"
   },
   {
    "duration": 0,
    "start_time": "2022-10-10T19:09:23.355Z"
   },
   {
    "duration": 0,
    "start_time": "2022-10-10T19:09:23.357Z"
   },
   {
    "duration": 0,
    "start_time": "2022-10-10T19:09:23.358Z"
   },
   {
    "duration": 0,
    "start_time": "2022-10-10T19:09:23.359Z"
   },
   {
    "duration": 0,
    "start_time": "2022-10-10T19:09:23.361Z"
   },
   {
    "duration": 0,
    "start_time": "2022-10-10T19:09:23.362Z"
   },
   {
    "duration": 0,
    "start_time": "2022-10-10T19:09:23.363Z"
   },
   {
    "duration": 0,
    "start_time": "2022-10-10T19:09:23.365Z"
   },
   {
    "duration": 0,
    "start_time": "2022-10-10T19:09:23.366Z"
   },
   {
    "duration": 0,
    "start_time": "2022-10-10T19:09:23.367Z"
   },
   {
    "duration": 0,
    "start_time": "2022-10-10T19:09:23.369Z"
   },
   {
    "duration": 0,
    "start_time": "2022-10-10T19:09:23.370Z"
   },
   {
    "duration": 0,
    "start_time": "2022-10-10T19:09:23.371Z"
   },
   {
    "duration": 0,
    "start_time": "2022-10-10T19:09:23.434Z"
   },
   {
    "duration": 0,
    "start_time": "2022-10-10T19:09:23.435Z"
   },
   {
    "duration": 0,
    "start_time": "2022-10-10T19:09:23.436Z"
   },
   {
    "duration": 0,
    "start_time": "2022-10-10T19:09:23.437Z"
   },
   {
    "duration": 0,
    "start_time": "2022-10-10T19:09:23.438Z"
   },
   {
    "duration": 0,
    "start_time": "2022-10-10T19:09:23.439Z"
   },
   {
    "duration": 0,
    "start_time": "2022-10-10T19:09:23.441Z"
   },
   {
    "duration": 0,
    "start_time": "2022-10-10T19:09:23.442Z"
   },
   {
    "duration": 0,
    "start_time": "2022-10-10T19:09:23.444Z"
   },
   {
    "duration": 0,
    "start_time": "2022-10-10T19:09:23.445Z"
   },
   {
    "duration": 0,
    "start_time": "2022-10-10T19:09:23.446Z"
   },
   {
    "duration": 0,
    "start_time": "2022-10-10T19:09:23.447Z"
   },
   {
    "duration": 0,
    "start_time": "2022-10-10T19:09:23.448Z"
   },
   {
    "duration": 0,
    "start_time": "2022-10-10T19:09:23.449Z"
   },
   {
    "duration": 0,
    "start_time": "2022-10-10T19:09:23.451Z"
   },
   {
    "duration": 0,
    "start_time": "2022-10-10T19:09:23.452Z"
   },
   {
    "duration": 0,
    "start_time": "2022-10-10T19:09:23.453Z"
   },
   {
    "duration": 0,
    "start_time": "2022-10-10T19:09:23.455Z"
   },
   {
    "duration": 0,
    "start_time": "2022-10-10T19:09:23.456Z"
   },
   {
    "duration": 0,
    "start_time": "2022-10-10T19:09:23.457Z"
   },
   {
    "duration": 0,
    "start_time": "2022-10-10T19:09:23.458Z"
   },
   {
    "duration": 0,
    "start_time": "2022-10-10T19:09:23.459Z"
   },
   {
    "duration": 0,
    "start_time": "2022-10-10T19:09:23.459Z"
   },
   {
    "duration": 0,
    "start_time": "2022-10-10T19:09:23.460Z"
   },
   {
    "duration": 0,
    "start_time": "2022-10-10T19:09:23.461Z"
   },
   {
    "duration": 0,
    "start_time": "2022-10-10T19:09:23.464Z"
   },
   {
    "duration": 0,
    "start_time": "2022-10-10T19:09:23.465Z"
   },
   {
    "duration": 0,
    "start_time": "2022-10-10T19:09:23.466Z"
   },
   {
    "duration": 0,
    "start_time": "2022-10-10T19:09:23.467Z"
   },
   {
    "duration": 0,
    "start_time": "2022-10-10T19:09:23.468Z"
   },
   {
    "duration": 0,
    "start_time": "2022-10-10T19:09:23.469Z"
   },
   {
    "duration": 93,
    "start_time": "2022-10-10T19:09:50.281Z"
   },
   {
    "duration": 10,
    "start_time": "2022-10-10T19:09:53.882Z"
   },
   {
    "duration": 85,
    "start_time": "2022-10-10T19:10:02.397Z"
   },
   {
    "duration": 95,
    "start_time": "2022-10-10T19:10:07.487Z"
   },
   {
    "duration": 49,
    "start_time": "2022-10-10T19:10:07.584Z"
   },
   {
    "duration": 24,
    "start_time": "2022-10-10T19:10:07.635Z"
   },
   {
    "duration": 2056,
    "start_time": "2022-10-10T19:10:07.661Z"
   },
   {
    "duration": 21,
    "start_time": "2022-10-10T19:10:09.718Z"
   },
   {
    "duration": 10,
    "start_time": "2022-10-10T19:10:09.741Z"
   },
   {
    "duration": 6,
    "start_time": "2022-10-10T19:10:09.758Z"
   },
   {
    "duration": 13,
    "start_time": "2022-10-10T19:10:09.768Z"
   },
   {
    "duration": 55,
    "start_time": "2022-10-10T19:10:09.783Z"
   },
   {
    "duration": 5,
    "start_time": "2022-10-10T19:10:09.841Z"
   },
   {
    "duration": 24,
    "start_time": "2022-10-10T19:10:09.850Z"
   },
   {
    "duration": 18,
    "start_time": "2022-10-10T19:10:09.876Z"
   },
   {
    "duration": 13,
    "start_time": "2022-10-10T19:10:09.896Z"
   },
   {
    "duration": 257,
    "start_time": "2022-10-10T19:10:09.910Z"
   },
   {
    "duration": 6,
    "start_time": "2022-10-10T19:10:10.169Z"
   },
   {
    "duration": 19,
    "start_time": "2022-10-10T19:10:10.176Z"
   },
   {
    "duration": 15,
    "start_time": "2022-10-10T19:10:10.197Z"
   },
   {
    "duration": 21,
    "start_time": "2022-10-10T19:10:10.214Z"
   },
   {
    "duration": 229,
    "start_time": "2022-10-10T19:10:10.237Z"
   },
   {
    "duration": 5,
    "start_time": "2022-10-10T19:10:10.468Z"
   },
   {
    "duration": 7,
    "start_time": "2022-10-10T19:10:10.475Z"
   },
   {
    "duration": 8,
    "start_time": "2022-10-10T19:10:10.484Z"
   },
   {
    "duration": 14,
    "start_time": "2022-10-10T19:10:10.494Z"
   },
   {
    "duration": 6,
    "start_time": "2022-10-10T19:10:10.534Z"
   },
   {
    "duration": 8,
    "start_time": "2022-10-10T19:10:10.542Z"
   },
   {
    "duration": 6,
    "start_time": "2022-10-10T19:10:10.552Z"
   },
   {
    "duration": 8,
    "start_time": "2022-10-10T19:10:10.560Z"
   },
   {
    "duration": 20,
    "start_time": "2022-10-10T19:10:10.574Z"
   },
   {
    "duration": 41,
    "start_time": "2022-10-10T19:10:10.596Z"
   },
   {
    "duration": 12,
    "start_time": "2022-10-10T19:10:10.639Z"
   },
   {
    "duration": 9,
    "start_time": "2022-10-10T19:10:10.653Z"
   },
   {
    "duration": 17,
    "start_time": "2022-10-10T19:10:10.664Z"
   },
   {
    "duration": 15,
    "start_time": "2022-10-10T19:10:10.683Z"
   },
   {
    "duration": 39,
    "start_time": "2022-10-10T19:10:10.701Z"
   },
   {
    "duration": 13,
    "start_time": "2022-10-10T19:10:10.742Z"
   },
   {
    "duration": 13,
    "start_time": "2022-10-10T19:10:10.757Z"
   },
   {
    "duration": 7,
    "start_time": "2022-10-10T19:10:10.773Z"
   },
   {
    "duration": 6,
    "start_time": "2022-10-10T19:10:10.782Z"
   },
   {
    "duration": 12,
    "start_time": "2022-10-10T19:10:10.789Z"
   },
   {
    "duration": 42,
    "start_time": "2022-10-10T19:10:10.803Z"
   },
   {
    "duration": 26,
    "start_time": "2022-10-10T19:10:10.848Z"
   },
   {
    "duration": 20,
    "start_time": "2022-10-10T19:10:10.876Z"
   },
   {
    "duration": 13,
    "start_time": "2022-10-10T19:10:10.897Z"
   },
   {
    "duration": 15,
    "start_time": "2022-10-10T19:10:10.912Z"
   },
   {
    "duration": 13,
    "start_time": "2022-10-10T19:10:10.928Z"
   },
   {
    "duration": 7,
    "start_time": "2022-10-10T19:10:10.942Z"
   },
   {
    "duration": 5,
    "start_time": "2022-10-10T19:10:10.951Z"
   },
   {
    "duration": 16,
    "start_time": "2022-10-10T19:10:10.958Z"
   },
   {
    "duration": 0,
    "start_time": "2022-10-10T19:10:10.977Z"
   },
   {
    "duration": 0,
    "start_time": "2022-10-10T19:10:10.978Z"
   },
   {
    "duration": 0,
    "start_time": "2022-10-10T19:10:10.980Z"
   },
   {
    "duration": 0,
    "start_time": "2022-10-10T19:10:10.982Z"
   },
   {
    "duration": 0,
    "start_time": "2022-10-10T19:10:10.983Z"
   },
   {
    "duration": 0,
    "start_time": "2022-10-10T19:10:10.984Z"
   },
   {
    "duration": 0,
    "start_time": "2022-10-10T19:10:10.986Z"
   },
   {
    "duration": 0,
    "start_time": "2022-10-10T19:10:10.987Z"
   },
   {
    "duration": 0,
    "start_time": "2022-10-10T19:10:10.988Z"
   },
   {
    "duration": 0,
    "start_time": "2022-10-10T19:10:10.990Z"
   },
   {
    "duration": 0,
    "start_time": "2022-10-10T19:10:10.991Z"
   },
   {
    "duration": 0,
    "start_time": "2022-10-10T19:10:10.993Z"
   },
   {
    "duration": 0,
    "start_time": "2022-10-10T19:10:10.994Z"
   },
   {
    "duration": 0,
    "start_time": "2022-10-10T19:10:10.996Z"
   },
   {
    "duration": 0,
    "start_time": "2022-10-10T19:10:11.034Z"
   },
   {
    "duration": 0,
    "start_time": "2022-10-10T19:10:11.035Z"
   },
   {
    "duration": 0,
    "start_time": "2022-10-10T19:10:11.036Z"
   },
   {
    "duration": 0,
    "start_time": "2022-10-10T19:10:11.038Z"
   },
   {
    "duration": 0,
    "start_time": "2022-10-10T19:10:11.039Z"
   },
   {
    "duration": 0,
    "start_time": "2022-10-10T19:10:11.040Z"
   },
   {
    "duration": 0,
    "start_time": "2022-10-10T19:10:11.042Z"
   },
   {
    "duration": 0,
    "start_time": "2022-10-10T19:10:11.044Z"
   },
   {
    "duration": 0,
    "start_time": "2022-10-10T19:10:11.046Z"
   },
   {
    "duration": 0,
    "start_time": "2022-10-10T19:10:11.047Z"
   },
   {
    "duration": 0,
    "start_time": "2022-10-10T19:10:11.048Z"
   },
   {
    "duration": 0,
    "start_time": "2022-10-10T19:10:11.050Z"
   },
   {
    "duration": 0,
    "start_time": "2022-10-10T19:10:11.051Z"
   },
   {
    "duration": 0,
    "start_time": "2022-10-10T19:10:11.053Z"
   },
   {
    "duration": 0,
    "start_time": "2022-10-10T19:10:11.054Z"
   },
   {
    "duration": 0,
    "start_time": "2022-10-10T19:10:11.056Z"
   },
   {
    "duration": 1,
    "start_time": "2022-10-10T19:10:11.057Z"
   },
   {
    "duration": 0,
    "start_time": "2022-10-10T19:10:11.060Z"
   },
   {
    "duration": 0,
    "start_time": "2022-10-10T19:10:11.061Z"
   },
   {
    "duration": 0,
    "start_time": "2022-10-10T19:10:11.062Z"
   },
   {
    "duration": 0,
    "start_time": "2022-10-10T19:10:11.064Z"
   },
   {
    "duration": 0,
    "start_time": "2022-10-10T19:10:11.065Z"
   },
   {
    "duration": 0,
    "start_time": "2022-10-10T19:10:11.067Z"
   },
   {
    "duration": 0,
    "start_time": "2022-10-10T19:10:11.068Z"
   },
   {
    "duration": 0,
    "start_time": "2022-10-10T19:10:11.069Z"
   },
   {
    "duration": 0,
    "start_time": "2022-10-10T19:10:11.070Z"
   },
   {
    "duration": 0,
    "start_time": "2022-10-10T19:10:11.073Z"
   },
   {
    "duration": 0,
    "start_time": "2022-10-10T19:10:11.074Z"
   },
   {
    "duration": 0,
    "start_time": "2022-10-10T19:10:11.135Z"
   },
   {
    "duration": 0,
    "start_time": "2022-10-10T19:10:11.136Z"
   },
   {
    "duration": 0,
    "start_time": "2022-10-10T19:10:11.138Z"
   },
   {
    "duration": 0,
    "start_time": "2022-10-10T19:10:11.140Z"
   },
   {
    "duration": 0,
    "start_time": "2022-10-10T19:10:11.141Z"
   },
   {
    "duration": 0,
    "start_time": "2022-10-10T19:10:11.142Z"
   },
   {
    "duration": 0,
    "start_time": "2022-10-10T19:10:11.144Z"
   },
   {
    "duration": 0,
    "start_time": "2022-10-10T19:10:11.145Z"
   },
   {
    "duration": 0,
    "start_time": "2022-10-10T19:10:11.146Z"
   },
   {
    "duration": 1,
    "start_time": "2022-10-10T19:10:11.147Z"
   },
   {
    "duration": 0,
    "start_time": "2022-10-10T19:10:11.149Z"
   },
   {
    "duration": 0,
    "start_time": "2022-10-10T19:10:11.151Z"
   },
   {
    "duration": 10,
    "start_time": "2022-10-10T19:12:30.430Z"
   },
   {
    "duration": 6,
    "start_time": "2022-10-10T19:13:04.450Z"
   },
   {
    "duration": 6,
    "start_time": "2022-10-10T19:14:02.838Z"
   },
   {
    "duration": 4,
    "start_time": "2022-10-10T20:25:42.389Z"
   },
   {
    "duration": 8,
    "start_time": "2022-10-10T20:25:42.395Z"
   },
   {
    "duration": 10,
    "start_time": "2022-10-10T20:25:42.405Z"
   },
   {
    "duration": 6,
    "start_time": "2022-10-10T20:25:42.417Z"
   },
   {
    "duration": 8,
    "start_time": "2022-10-10T20:25:42.426Z"
   },
   {
    "duration": 392,
    "start_time": "2022-10-10T20:25:42.435Z"
   },
   {
    "duration": 6,
    "start_time": "2022-10-10T20:25:42.828Z"
   },
   {
    "duration": 11,
    "start_time": "2022-10-10T20:25:42.836Z"
   },
   {
    "duration": 262,
    "start_time": "2022-10-10T20:25:42.848Z"
   },
   {
    "duration": 6,
    "start_time": "2022-10-10T20:25:43.112Z"
   },
   {
    "duration": 19,
    "start_time": "2022-10-10T20:25:43.120Z"
   },
   {
    "duration": 37,
    "start_time": "2022-10-10T20:25:43.141Z"
   },
   {
    "duration": 184,
    "start_time": "2022-10-10T20:25:43.180Z"
   },
   {
    "duration": 5,
    "start_time": "2022-10-10T20:25:43.367Z"
   },
   {
    "duration": 8,
    "start_time": "2022-10-10T20:25:43.374Z"
   },
   {
    "duration": 9,
    "start_time": "2022-10-10T20:25:43.384Z"
   },
   {
    "duration": 209,
    "start_time": "2022-10-10T20:25:43.395Z"
   },
   {
    "duration": 5,
    "start_time": "2022-10-10T20:25:43.606Z"
   },
   {
    "duration": 23,
    "start_time": "2022-10-10T20:25:43.613Z"
   },
   {
    "duration": 9,
    "start_time": "2022-10-10T20:25:43.638Z"
   },
   {
    "duration": 219,
    "start_time": "2022-10-10T20:25:43.649Z"
   },
   {
    "duration": 6,
    "start_time": "2022-10-10T20:25:43.870Z"
   },
   {
    "duration": 12,
    "start_time": "2022-10-10T20:25:43.877Z"
   },
   {
    "duration": 11,
    "start_time": "2022-10-10T20:25:43.890Z"
   },
   {
    "duration": 174,
    "start_time": "2022-10-10T20:25:43.902Z"
   },
   {
    "duration": 5,
    "start_time": "2022-10-10T20:25:44.078Z"
   },
   {
    "duration": 9,
    "start_time": "2022-10-10T20:25:44.084Z"
   },
   {
    "duration": 186,
    "start_time": "2022-10-10T20:25:44.094Z"
   },
   {
    "duration": 6,
    "start_time": "2022-10-10T20:25:44.281Z"
   },
   {
    "duration": 8,
    "start_time": "2022-10-10T20:25:44.289Z"
   },
   {
    "duration": 8,
    "start_time": "2022-10-10T20:25:44.299Z"
   },
   {
    "duration": 186,
    "start_time": "2022-10-10T20:25:44.309Z"
   },
   {
    "duration": 6,
    "start_time": "2022-10-10T20:25:44.496Z"
   },
   {
    "duration": 8,
    "start_time": "2022-10-10T20:25:44.503Z"
   },
   {
    "duration": 25,
    "start_time": "2022-10-10T20:25:44.512Z"
   },
   {
    "duration": 195,
    "start_time": "2022-10-10T20:25:44.538Z"
   },
   {
    "duration": 6,
    "start_time": "2022-10-10T20:25:44.735Z"
   },
   {
    "duration": 158,
    "start_time": "2022-10-10T20:25:44.743Z"
   },
   {
    "duration": 5,
    "start_time": "2022-10-10T20:25:44.904Z"
   },
   {
    "duration": 7,
    "start_time": "2022-10-10T20:25:44.911Z"
   },
   {
    "duration": 153,
    "start_time": "2022-10-10T20:25:44.936Z"
   },
   {
    "duration": 9,
    "start_time": "2022-10-10T20:25:45.091Z"
   },
   {
    "duration": 196,
    "start_time": "2022-10-10T20:25:45.101Z"
   },
   {
    "duration": 6,
    "start_time": "2022-10-10T20:25:45.299Z"
   },
   {
    "duration": 10,
    "start_time": "2022-10-10T20:25:45.306Z"
   },
   {
    "duration": 165,
    "start_time": "2022-10-10T20:25:45.318Z"
   },
   {
    "duration": 6,
    "start_time": "2022-10-10T20:25:45.485Z"
   },
   {
    "duration": 13,
    "start_time": "2022-10-10T20:25:45.492Z"
   },
   {
    "duration": 614,
    "start_time": "2022-10-10T20:25:45.506Z"
   },
   {
    "duration": 14,
    "start_time": "2022-10-10T20:25:46.122Z"
   },
   {
    "duration": 4,
    "start_time": "2022-10-10T20:25:46.138Z"
   },
   {
    "duration": 6,
    "start_time": "2022-10-10T20:25:46.144Z"
   },
   {
    "duration": 637,
    "start_time": "2022-10-10T20:25:46.152Z"
   },
   {
    "duration": 343,
    "start_time": "2022-10-10T20:25:46.791Z"
   },
   {
    "duration": 5,
    "start_time": "2022-10-10T20:25:47.136Z"
   },
   {
    "duration": 2097,
    "start_time": "2022-10-10T20:29:43.999Z"
   },
   {
    "duration": 552,
    "start_time": "2022-10-10T20:30:13.762Z"
   },
   {
    "duration": 49,
    "start_time": "2022-10-10T20:30:40.692Z"
   },
   {
    "duration": 972,
    "start_time": "2022-10-10T20:32:05.070Z"
   },
   {
    "duration": 1155,
    "start_time": "2022-10-10T20:33:10.965Z"
   },
   {
    "duration": 164,
    "start_time": "2022-10-10T20:33:33.964Z"
   },
   {
    "duration": 169,
    "start_time": "2022-10-10T20:33:46.388Z"
   },
   {
    "duration": 141,
    "start_time": "2022-10-10T20:34:19.354Z"
   },
   {
    "duration": 174,
    "start_time": "2022-10-10T20:35:46.371Z"
   },
   {
    "duration": 78,
    "start_time": "2022-10-10T20:37:13.320Z"
   },
   {
    "duration": 11,
    "start_time": "2022-10-10T20:38:50.764Z"
   },
   {
    "duration": 9,
    "start_time": "2022-10-10T20:39:07.348Z"
   },
   {
    "duration": 9,
    "start_time": "2022-10-10T20:39:38.518Z"
   },
   {
    "duration": 12,
    "start_time": "2022-10-10T20:41:32.256Z"
   },
   {
    "duration": 9,
    "start_time": "2022-10-10T20:48:32.696Z"
   },
   {
    "duration": 102,
    "start_time": "2022-10-10T21:03:55.636Z"
   },
   {
    "duration": 18,
    "start_time": "2022-10-11T06:21:09.681Z"
   },
   {
    "duration": 157,
    "start_time": "2022-10-11T06:22:50.951Z"
   },
   {
    "duration": 17,
    "start_time": "2022-10-11T06:23:24.231Z"
   },
   {
    "duration": 20,
    "start_time": "2022-10-11T06:23:30.763Z"
   },
   {
    "duration": 133,
    "start_time": "2022-10-11T06:24:35.267Z"
   },
   {
    "duration": 141,
    "start_time": "2022-10-11T06:24:41.081Z"
   },
   {
    "duration": 134,
    "start_time": "2022-10-11T06:25:10.275Z"
   },
   {
    "duration": 135,
    "start_time": "2022-10-11T06:25:32.636Z"
   },
   {
    "duration": 143,
    "start_time": "2022-10-11T06:26:19.590Z"
   },
   {
    "duration": 303,
    "start_time": "2022-10-11T06:27:05.720Z"
   },
   {
    "duration": 132,
    "start_time": "2022-10-11T06:27:13.332Z"
   },
   {
    "duration": 59,
    "start_time": "2022-10-11T06:29:06.225Z"
   },
   {
    "duration": 138,
    "start_time": "2022-10-11T06:29:14.932Z"
   },
   {
    "duration": 192,
    "start_time": "2022-10-11T06:33:26.498Z"
   },
   {
    "duration": 191,
    "start_time": "2022-10-11T06:33:51.834Z"
   },
   {
    "duration": 200,
    "start_time": "2022-10-11T06:34:19.165Z"
   },
   {
    "duration": 185,
    "start_time": "2022-10-11T06:34:30.769Z"
   },
   {
    "duration": 28,
    "start_time": "2022-10-11T06:35:56.303Z"
   },
   {
    "duration": 134,
    "start_time": "2022-10-11T06:36:07.150Z"
   },
   {
    "duration": 168,
    "start_time": "2022-10-11T06:37:02.364Z"
   },
   {
    "duration": 133,
    "start_time": "2022-10-11T06:37:34.276Z"
   },
   {
    "duration": 140,
    "start_time": "2022-10-11T06:39:00.274Z"
   },
   {
    "duration": 170,
    "start_time": "2022-10-11T06:39:15.825Z"
   },
   {
    "duration": 172,
    "start_time": "2022-10-11T06:40:45.033Z"
   },
   {
    "duration": 148,
    "start_time": "2022-10-11T06:41:18.175Z"
   },
   {
    "duration": 151,
    "start_time": "2022-10-11T06:41:23.220Z"
   },
   {
    "duration": 154,
    "start_time": "2022-10-11T06:43:10.368Z"
   },
   {
    "duration": 134,
    "start_time": "2022-10-11T06:43:46.087Z"
   },
   {
    "duration": 171,
    "start_time": "2022-10-11T06:44:02.118Z"
   },
   {
    "duration": 171,
    "start_time": "2022-10-11T06:44:36.994Z"
   },
   {
    "duration": 145,
    "start_time": "2022-10-11T06:52:38.460Z"
   },
   {
    "duration": 176,
    "start_time": "2022-10-11T06:53:39.094Z"
   },
   {
    "duration": 1307,
    "start_time": "2022-10-11T06:57:52.562Z"
   },
   {
    "duration": 1130,
    "start_time": "2022-10-11T06:57:55.265Z"
   },
   {
    "duration": 155,
    "start_time": "2022-10-11T06:59:04.843Z"
   },
   {
    "duration": 1481,
    "start_time": "2022-10-11T07:04:22.406Z"
   },
   {
    "duration": 1624,
    "start_time": "2022-10-11T07:04:26.960Z"
   },
   {
    "duration": 171,
    "start_time": "2022-10-11T07:04:40.613Z"
   },
   {
    "duration": 284,
    "start_time": "2022-10-11T08:04:57.598Z"
   },
   {
    "duration": 338,
    "start_time": "2022-10-11T08:05:45.298Z"
   },
   {
    "duration": 19,
    "start_time": "2022-10-11T08:06:16.690Z"
   },
   {
    "duration": 26,
    "start_time": "2022-10-11T08:08:16.353Z"
   },
   {
    "duration": 19,
    "start_time": "2022-10-11T08:08:36.014Z"
   },
   {
    "duration": 20,
    "start_time": "2022-10-11T08:08:57.372Z"
   },
   {
    "duration": 125,
    "start_time": "2022-10-11T08:10:49.368Z"
   },
   {
    "duration": 143,
    "start_time": "2022-10-11T08:10:58.644Z"
   },
   {
    "duration": 146,
    "start_time": "2022-10-11T08:11:05.083Z"
   },
   {
    "duration": 15,
    "start_time": "2022-10-11T08:11:31.213Z"
   },
   {
    "duration": 134,
    "start_time": "2022-10-11T08:11:51.989Z"
   },
   {
    "duration": 134,
    "start_time": "2022-10-11T08:12:02.085Z"
   },
   {
    "duration": 138,
    "start_time": "2022-10-11T08:13:10.046Z"
   },
   {
    "duration": 13,
    "start_time": "2022-10-11T08:13:59.119Z"
   },
   {
    "duration": 137,
    "start_time": "2022-10-11T08:14:13.434Z"
   },
   {
    "duration": 157,
    "start_time": "2022-10-11T08:15:52.306Z"
   },
   {
    "duration": 159,
    "start_time": "2022-10-11T08:18:58.676Z"
   },
   {
    "duration": 189,
    "start_time": "2022-10-11T08:24:16.205Z"
   },
   {
    "duration": 59,
    "start_time": "2022-10-11T08:25:04.948Z"
   },
   {
    "duration": 137,
    "start_time": "2022-10-11T08:25:09.014Z"
   },
   {
    "duration": 143,
    "start_time": "2022-10-11T08:49:37.957Z"
   },
   {
    "duration": 152,
    "start_time": "2022-10-11T08:49:43.290Z"
   },
   {
    "duration": 147,
    "start_time": "2022-10-11T08:54:53.717Z"
   },
   {
    "duration": 153,
    "start_time": "2022-10-11T08:55:49.649Z"
   },
   {
    "duration": 150,
    "start_time": "2022-10-11T08:58:53.181Z"
   },
   {
    "duration": 165,
    "start_time": "2022-10-11T08:59:03.738Z"
   },
   {
    "duration": 152,
    "start_time": "2022-10-11T08:59:23.178Z"
   },
   {
    "duration": 160,
    "start_time": "2022-10-11T09:04:42.574Z"
   },
   {
    "duration": 168,
    "start_time": "2022-10-11T09:05:35.364Z"
   },
   {
    "duration": 19,
    "start_time": "2022-10-11T09:05:56.610Z"
   },
   {
    "duration": 155,
    "start_time": "2022-10-11T09:06:02.540Z"
   },
   {
    "duration": 19,
    "start_time": "2022-10-11T09:06:52.721Z"
   },
   {
    "duration": 294,
    "start_time": "2022-10-11T09:07:00.923Z"
   },
   {
    "duration": 138,
    "start_time": "2022-10-11T09:07:11.022Z"
   },
   {
    "duration": 145,
    "start_time": "2022-10-11T09:07:32.873Z"
   },
   {
    "duration": 151,
    "start_time": "2022-10-11T09:07:47.619Z"
   },
   {
    "duration": 134,
    "start_time": "2022-10-11T09:08:12.286Z"
   },
   {
    "duration": 43,
    "start_time": "2022-10-11T09:08:56.938Z"
   },
   {
    "duration": 68,
    "start_time": "2022-10-11T09:09:01.753Z"
   },
   {
    "duration": 355,
    "start_time": "2022-10-11T09:09:06.248Z"
   },
   {
    "duration": 160,
    "start_time": "2022-10-11T09:19:09.244Z"
   },
   {
    "duration": 2055,
    "start_time": "2022-10-11T09:42:13.018Z"
   },
   {
    "duration": 2184,
    "start_time": "2022-10-11T09:42:15.914Z"
   },
   {
    "duration": 1116,
    "start_time": "2022-10-11T09:42:33.434Z"
   },
   {
    "duration": 477,
    "start_time": "2022-10-11T09:43:01.036Z"
   },
   {
    "duration": 475,
    "start_time": "2022-10-11T09:43:26.486Z"
   },
   {
    "duration": 469,
    "start_time": "2022-10-11T09:45:32.368Z"
   },
   {
    "duration": 4,
    "start_time": "2022-10-11T10:18:30.094Z"
   },
   {
    "duration": 6,
    "start_time": "2022-10-11T10:18:46.048Z"
   },
   {
    "duration": 5,
    "start_time": "2022-10-11T10:20:47.181Z"
   },
   {
    "duration": 9,
    "start_time": "2022-10-11T10:21:07.486Z"
   },
   {
    "duration": 9,
    "start_time": "2022-10-11T10:21:24.358Z"
   },
   {
    "duration": 8,
    "start_time": "2022-10-11T10:21:28.502Z"
   },
   {
    "duration": 8,
    "start_time": "2022-10-11T10:21:41.775Z"
   },
   {
    "duration": 17,
    "start_time": "2022-10-11T10:31:34.885Z"
   },
   {
    "duration": 20,
    "start_time": "2022-10-11T10:31:49.006Z"
   },
   {
    "duration": 27,
    "start_time": "2022-10-11T10:32:25.805Z"
   },
   {
    "duration": 22,
    "start_time": "2022-10-11T10:32:31.137Z"
   },
   {
    "duration": 30,
    "start_time": "2022-10-11T10:33:47.724Z"
   },
   {
    "duration": 23,
    "start_time": "2022-10-11T10:34:59.592Z"
   },
   {
    "duration": 2057,
    "start_time": "2022-10-11T10:36:43.905Z"
   },
   {
    "duration": 1918,
    "start_time": "2022-10-11T10:39:13.064Z"
   },
   {
    "duration": 46,
    "start_time": "2022-10-11T10:39:32.417Z"
   },
   {
    "duration": 54,
    "start_time": "2022-10-11T10:39:52.794Z"
   },
   {
    "duration": 30,
    "start_time": "2022-10-11T10:40:17.184Z"
   },
   {
    "duration": 6,
    "start_time": "2022-10-11T10:44:32.821Z"
   },
   {
    "duration": 31,
    "start_time": "2022-10-11T10:45:21.431Z"
   },
   {
    "duration": 53,
    "start_time": "2022-10-11T10:45:31.561Z"
   },
   {
    "duration": 103,
    "start_time": "2022-10-11T10:45:45.067Z"
   },
   {
    "duration": 32,
    "start_time": "2022-10-11T10:47:25.047Z"
   },
   {
    "duration": 102,
    "start_time": "2022-10-11T10:47:43.419Z"
   },
   {
    "duration": 22,
    "start_time": "2022-10-11T10:48:05.708Z"
   },
   {
    "duration": 58,
    "start_time": "2022-10-11T10:48:13.025Z"
   },
   {
    "duration": 31,
    "start_time": "2022-10-11T10:48:39.991Z"
   },
   {
    "duration": 22,
    "start_time": "2022-10-11T10:49:19.104Z"
   },
   {
    "duration": 4,
    "start_time": "2022-10-11T10:51:03.322Z"
   },
   {
    "duration": 3,
    "start_time": "2022-10-11T10:51:25.198Z"
   },
   {
    "duration": 22,
    "start_time": "2022-10-11T10:51:51.137Z"
   },
   {
    "duration": 22,
    "start_time": "2022-10-11T11:01:42.021Z"
   },
   {
    "duration": 22,
    "start_time": "2022-10-11T11:01:52.215Z"
   },
   {
    "duration": 28,
    "start_time": "2022-10-11T11:01:55.867Z"
   },
   {
    "duration": 24,
    "start_time": "2022-10-11T11:02:41.689Z"
   },
   {
    "duration": 432,
    "start_time": "2022-10-11T11:03:07.187Z"
   },
   {
    "duration": 179,
    "start_time": "2022-10-11T11:03:17.550Z"
   },
   {
    "duration": 23,
    "start_time": "2022-10-11T11:03:26.603Z"
   },
   {
    "duration": 23,
    "start_time": "2022-10-11T11:03:38.229Z"
   },
   {
    "duration": 32,
    "start_time": "2022-10-11T11:03:52.923Z"
   },
   {
    "duration": 28,
    "start_time": "2022-10-11T11:04:09.095Z"
   },
   {
    "duration": 35,
    "start_time": "2022-10-11T11:04:19.034Z"
   },
   {
    "duration": 24,
    "start_time": "2022-10-11T11:04:28.654Z"
   },
   {
    "duration": 20,
    "start_time": "2022-10-11T11:04:32.807Z"
   },
   {
    "duration": 31,
    "start_time": "2022-10-11T11:05:41.306Z"
   },
   {
    "duration": 23,
    "start_time": "2022-10-11T11:06:18.952Z"
   },
   {
    "duration": 26,
    "start_time": "2022-10-11T11:07:27.039Z"
   },
   {
    "duration": 26,
    "start_time": "2022-10-11T11:07:45.261Z"
   },
   {
    "duration": 25,
    "start_time": "2022-10-11T11:07:57.019Z"
   },
   {
    "duration": 24,
    "start_time": "2022-10-11T11:08:01.250Z"
   },
   {
    "duration": 28,
    "start_time": "2022-10-11T11:08:18.155Z"
   },
   {
    "duration": 27,
    "start_time": "2022-10-11T11:08:36.739Z"
   },
   {
    "duration": 26,
    "start_time": "2022-10-11T11:08:56.042Z"
   },
   {
    "duration": 26,
    "start_time": "2022-10-11T11:09:02.398Z"
   },
   {
    "duration": 43,
    "start_time": "2022-10-11T11:09:29.081Z"
   },
   {
    "duration": 42,
    "start_time": "2022-10-11T11:09:35.558Z"
   },
   {
    "duration": 12,
    "start_time": "2022-10-11T11:09:45.646Z"
   },
   {
    "duration": 13,
    "start_time": "2022-10-11T11:09:59.556Z"
   },
   {
    "duration": 522,
    "start_time": "2022-10-11T11:11:02.243Z"
   },
   {
    "duration": 12,
    "start_time": "2022-10-11T11:11:08.217Z"
   },
   {
    "duration": 12,
    "start_time": "2022-10-11T11:11:26.650Z"
   },
   {
    "duration": 13,
    "start_time": "2022-10-11T11:11:43.707Z"
   },
   {
    "duration": 8,
    "start_time": "2022-10-11T11:11:48.119Z"
   },
   {
    "duration": 209,
    "start_time": "2022-10-11T11:12:27.567Z"
   },
   {
    "duration": 30,
    "start_time": "2022-10-11T11:12:38.958Z"
   },
   {
    "duration": 30,
    "start_time": "2022-10-11T11:13:28.684Z"
   },
   {
    "duration": 31,
    "start_time": "2022-10-11T11:14:29.010Z"
   },
   {
    "duration": 31,
    "start_time": "2022-10-11T11:14:34.992Z"
   },
   {
    "duration": 30,
    "start_time": "2022-10-11T11:15:14.012Z"
   },
   {
    "duration": 38,
    "start_time": "2022-10-11T11:15:36.723Z"
   },
   {
    "duration": 48,
    "start_time": "2022-10-11T11:18:07.696Z"
   },
   {
    "duration": 37,
    "start_time": "2022-10-11T11:18:15.231Z"
   },
   {
    "duration": 30,
    "start_time": "2022-10-11T11:18:23.628Z"
   },
   {
    "duration": 28,
    "start_time": "2022-10-11T11:18:29.129Z"
   },
   {
    "duration": 33,
    "start_time": "2022-10-11T11:18:48.133Z"
   },
   {
    "duration": 23,
    "start_time": "2022-10-11T11:19:01.585Z"
   },
   {
    "duration": 34,
    "start_time": "2022-10-11T11:19:04.605Z"
   },
   {
    "duration": 35,
    "start_time": "2022-10-11T11:19:14.599Z"
   },
   {
    "duration": 27,
    "start_time": "2022-10-11T11:20:42.566Z"
   },
   {
    "duration": 26,
    "start_time": "2022-10-11T11:20:54.906Z"
   },
   {
    "duration": 29,
    "start_time": "2022-10-11T11:21:06.685Z"
   },
   {
    "duration": 27,
    "start_time": "2022-10-11T11:21:16.135Z"
   },
   {
    "duration": 30,
    "start_time": "2022-10-11T12:22:08.432Z"
   },
   {
    "duration": 27,
    "start_time": "2022-10-11T12:22:21.163Z"
   },
   {
    "duration": 28,
    "start_time": "2022-10-11T12:23:18.178Z"
   },
   {
    "duration": 26,
    "start_time": "2022-10-11T12:23:23.627Z"
   },
   {
    "duration": 32,
    "start_time": "2022-10-11T12:23:45.673Z"
   },
   {
    "duration": 26,
    "start_time": "2022-10-11T12:23:53.185Z"
   },
   {
    "duration": 1476,
    "start_time": "2022-10-11T12:24:13.725Z"
   },
   {
    "duration": 31,
    "start_time": "2022-10-11T12:24:30.084Z"
   },
   {
    "duration": 35,
    "start_time": "2022-10-11T12:25:06.545Z"
   },
   {
    "duration": 36,
    "start_time": "2022-10-11T12:25:15.401Z"
   },
   {
    "duration": 49,
    "start_time": "2022-10-11T12:25:46.369Z"
   },
   {
    "duration": 43,
    "start_time": "2022-10-11T12:26:36.394Z"
   },
   {
    "duration": 25,
    "start_time": "2022-10-11T13:59:55.749Z"
   },
   {
    "duration": 39,
    "start_time": "2022-10-11T14:01:26.796Z"
   },
   {
    "duration": 6,
    "start_time": "2022-10-11T14:03:10.957Z"
   },
   {
    "duration": 123,
    "start_time": "2022-10-11T14:03:57.546Z"
   },
   {
    "duration": 33,
    "start_time": "2022-10-11T14:04:09.320Z"
   },
   {
    "duration": 29,
    "start_time": "2022-10-11T14:27:45.836Z"
   },
   {
    "duration": 12,
    "start_time": "2022-10-11T14:31:58.866Z"
   },
   {
    "duration": 26,
    "start_time": "2022-10-11T14:33:24.064Z"
   },
   {
    "duration": 26,
    "start_time": "2022-10-11T14:34:10.490Z"
   },
   {
    "duration": 18,
    "start_time": "2022-10-11T14:40:21.714Z"
   },
   {
    "duration": 171,
    "start_time": "2022-10-11T14:40:50.449Z"
   },
   {
    "duration": 183,
    "start_time": "2022-10-11T14:41:15.795Z"
   },
   {
    "duration": 21,
    "start_time": "2022-10-11T14:42:15.788Z"
   },
   {
    "duration": 187,
    "start_time": "2022-10-11T14:42:30.730Z"
   },
   {
    "duration": 174,
    "start_time": "2022-10-11T14:43:19.282Z"
   },
   {
    "duration": 174,
    "start_time": "2022-10-11T14:43:25.196Z"
   },
   {
    "duration": 32,
    "start_time": "2022-10-11T14:44:38.038Z"
   },
   {
    "duration": 28,
    "start_time": "2022-10-11T14:44:44.745Z"
   },
   {
    "duration": 264,
    "start_time": "2022-10-11T14:45:01.834Z"
   },
   {
    "duration": 178,
    "start_time": "2022-10-11T14:45:27.451Z"
   },
   {
    "duration": 188,
    "start_time": "2022-10-11T14:46:05.761Z"
   },
   {
    "duration": 330,
    "start_time": "2022-10-11T14:46:59.269Z"
   },
   {
    "duration": 173,
    "start_time": "2022-10-11T14:47:08.307Z"
   },
   {
    "duration": 29,
    "start_time": "2022-10-11T14:51:31.024Z"
   },
   {
    "duration": 174,
    "start_time": "2022-10-11T14:52:12.809Z"
   },
   {
    "duration": 169,
    "start_time": "2022-10-11T14:54:02.408Z"
   },
   {
    "duration": 30,
    "start_time": "2022-10-11T14:56:09.142Z"
   },
   {
    "duration": 149,
    "start_time": "2022-10-11T14:56:15.051Z"
   },
   {
    "duration": 165,
    "start_time": "2022-10-11T15:00:33.431Z"
   },
   {
    "duration": 766,
    "start_time": "2022-10-11T15:05:23.859Z"
   },
   {
    "duration": 28,
    "start_time": "2022-10-11T15:05:24.626Z"
   },
   {
    "duration": 14,
    "start_time": "2022-10-11T15:05:24.655Z"
   },
   {
    "duration": 1783,
    "start_time": "2022-10-11T15:05:24.670Z"
   },
   {
    "duration": 9,
    "start_time": "2022-10-11T15:05:26.455Z"
   },
   {
    "duration": 5,
    "start_time": "2022-10-11T15:05:26.465Z"
   },
   {
    "duration": 6,
    "start_time": "2022-10-11T15:05:26.472Z"
   },
   {
    "duration": 6,
    "start_time": "2022-10-11T15:05:26.480Z"
   },
   {
    "duration": 28,
    "start_time": "2022-10-11T15:05:26.488Z"
   },
   {
    "duration": 4,
    "start_time": "2022-10-11T15:05:26.518Z"
   },
   {
    "duration": 18,
    "start_time": "2022-10-11T15:05:26.523Z"
   },
   {
    "duration": 6,
    "start_time": "2022-10-11T15:05:26.542Z"
   },
   {
    "duration": 7,
    "start_time": "2022-10-11T15:05:26.549Z"
   },
   {
    "duration": 201,
    "start_time": "2022-10-11T15:05:26.557Z"
   },
   {
    "duration": 5,
    "start_time": "2022-10-11T15:05:26.759Z"
   },
   {
    "duration": 6,
    "start_time": "2022-10-11T15:05:26.766Z"
   },
   {
    "duration": 8,
    "start_time": "2022-10-11T15:05:26.773Z"
   },
   {
    "duration": 9,
    "start_time": "2022-10-11T15:05:26.782Z"
   },
   {
    "duration": 200,
    "start_time": "2022-10-11T15:05:26.793Z"
   },
   {
    "duration": 4,
    "start_time": "2022-10-11T15:05:26.995Z"
   },
   {
    "duration": 15,
    "start_time": "2022-10-11T15:05:27.001Z"
   },
   {
    "duration": 7,
    "start_time": "2022-10-11T15:05:27.017Z"
   },
   {
    "duration": 10,
    "start_time": "2022-10-11T15:05:27.025Z"
   },
   {
    "duration": 5,
    "start_time": "2022-10-11T15:05:27.037Z"
   },
   {
    "duration": 13,
    "start_time": "2022-10-11T15:05:27.044Z"
   },
   {
    "duration": 8,
    "start_time": "2022-10-11T15:05:27.058Z"
   },
   {
    "duration": 13,
    "start_time": "2022-10-11T15:05:27.067Z"
   },
   {
    "duration": 15,
    "start_time": "2022-10-11T15:05:27.084Z"
   },
   {
    "duration": 7,
    "start_time": "2022-10-11T15:05:27.100Z"
   },
   {
    "duration": 11,
    "start_time": "2022-10-11T15:05:27.108Z"
   },
   {
    "duration": 12,
    "start_time": "2022-10-11T15:05:27.121Z"
   },
   {
    "duration": 17,
    "start_time": "2022-10-11T15:05:27.135Z"
   },
   {
    "duration": 11,
    "start_time": "2022-10-11T15:05:27.154Z"
   },
   {
    "duration": 10,
    "start_time": "2022-10-11T15:05:27.167Z"
   },
   {
    "duration": 5,
    "start_time": "2022-10-11T15:05:27.179Z"
   },
   {
    "duration": 6,
    "start_time": "2022-10-11T15:05:27.186Z"
   },
   {
    "duration": 6,
    "start_time": "2022-10-11T15:05:27.194Z"
   },
   {
    "duration": 10,
    "start_time": "2022-10-11T15:05:27.201Z"
   },
   {
    "duration": 23,
    "start_time": "2022-10-11T15:05:27.213Z"
   },
   {
    "duration": 9,
    "start_time": "2022-10-11T15:05:27.238Z"
   },
   {
    "duration": 9,
    "start_time": "2022-10-11T15:05:27.249Z"
   },
   {
    "duration": 8,
    "start_time": "2022-10-11T15:05:27.260Z"
   },
   {
    "duration": 13,
    "start_time": "2022-10-11T15:05:27.270Z"
   },
   {
    "duration": 7,
    "start_time": "2022-10-11T15:05:27.284Z"
   },
   {
    "duration": 6,
    "start_time": "2022-10-11T15:05:27.292Z"
   },
   {
    "duration": 5,
    "start_time": "2022-10-11T15:05:27.299Z"
   },
   {
    "duration": 29,
    "start_time": "2022-10-11T15:05:27.306Z"
   },
   {
    "duration": 5,
    "start_time": "2022-10-11T15:05:27.337Z"
   },
   {
    "duration": 7,
    "start_time": "2022-10-11T15:05:27.344Z"
   },
   {
    "duration": 9,
    "start_time": "2022-10-11T15:05:27.352Z"
   },
   {
    "duration": 7,
    "start_time": "2022-10-11T15:05:27.363Z"
   },
   {
    "duration": 8,
    "start_time": "2022-10-11T15:05:27.372Z"
   },
   {
    "duration": 407,
    "start_time": "2022-10-11T15:05:27.381Z"
   },
   {
    "duration": 4,
    "start_time": "2022-10-11T15:05:27.790Z"
   },
   {
    "duration": 12,
    "start_time": "2022-10-11T15:05:27.796Z"
   },
   {
    "duration": 278,
    "start_time": "2022-10-11T15:05:27.809Z"
   },
   {
    "duration": 7,
    "start_time": "2022-10-11T15:05:28.090Z"
   },
   {
    "duration": 21,
    "start_time": "2022-10-11T15:05:28.098Z"
   },
   {
    "duration": 10,
    "start_time": "2022-10-11T15:05:28.121Z"
   },
   {
    "duration": 199,
    "start_time": "2022-10-11T15:05:28.133Z"
   },
   {
    "duration": 6,
    "start_time": "2022-10-11T15:05:28.333Z"
   },
   {
    "duration": 7,
    "start_time": "2022-10-11T15:05:28.341Z"
   },
   {
    "duration": 9,
    "start_time": "2022-10-11T15:05:28.350Z"
   },
   {
    "duration": 221,
    "start_time": "2022-10-11T15:05:28.360Z"
   },
   {
    "duration": 6,
    "start_time": "2022-10-11T15:05:28.582Z"
   },
   {
    "duration": 8,
    "start_time": "2022-10-11T15:05:28.589Z"
   },
   {
    "duration": 12,
    "start_time": "2022-10-11T15:05:28.598Z"
   },
   {
    "duration": 258,
    "start_time": "2022-10-11T15:05:28.612Z"
   },
   {
    "duration": 6,
    "start_time": "2022-10-11T15:05:28.873Z"
   },
   {
    "duration": 12,
    "start_time": "2022-10-11T15:05:28.880Z"
   },
   {
    "duration": 9,
    "start_time": "2022-10-11T15:05:28.893Z"
   },
   {
    "duration": 194,
    "start_time": "2022-10-11T15:05:28.903Z"
   },
   {
    "duration": 5,
    "start_time": "2022-10-11T15:05:29.099Z"
   },
   {
    "duration": 9,
    "start_time": "2022-10-11T15:05:29.105Z"
   },
   {
    "duration": 173,
    "start_time": "2022-10-11T15:05:29.116Z"
   },
   {
    "duration": 6,
    "start_time": "2022-10-11T15:05:29.291Z"
   },
   {
    "duration": 7,
    "start_time": "2022-10-11T15:05:29.298Z"
   },
   {
    "duration": 26,
    "start_time": "2022-10-11T15:05:29.307Z"
   },
   {
    "duration": 154,
    "start_time": "2022-10-11T15:05:29.335Z"
   },
   {
    "duration": 5,
    "start_time": "2022-10-11T15:05:29.491Z"
   },
   {
    "duration": 7,
    "start_time": "2022-10-11T15:05:29.498Z"
   },
   {
    "duration": 25,
    "start_time": "2022-10-11T15:05:29.510Z"
   },
   {
    "duration": 210,
    "start_time": "2022-10-11T15:05:29.537Z"
   },
   {
    "duration": 10,
    "start_time": "2022-10-11T15:05:29.749Z"
   },
   {
    "duration": 172,
    "start_time": "2022-10-11T15:05:29.761Z"
   },
   {
    "duration": 6,
    "start_time": "2022-10-11T15:05:29.935Z"
   },
   {
    "duration": 15,
    "start_time": "2022-10-11T15:05:29.943Z"
   },
   {
    "duration": 169,
    "start_time": "2022-10-11T15:05:29.959Z"
   },
   {
    "duration": 8,
    "start_time": "2022-10-11T15:05:30.130Z"
   },
   {
    "duration": 184,
    "start_time": "2022-10-11T15:05:30.139Z"
   },
   {
    "duration": 10,
    "start_time": "2022-10-11T15:05:30.325Z"
   },
   {
    "duration": 28,
    "start_time": "2022-10-11T15:05:30.336Z"
   },
   {
    "duration": 168,
    "start_time": "2022-10-11T15:05:30.365Z"
   },
   {
    "duration": 7,
    "start_time": "2022-10-11T15:05:30.534Z"
   },
   {
    "duration": 31,
    "start_time": "2022-10-11T15:05:30.542Z"
   },
   {
    "duration": 479,
    "start_time": "2022-10-11T15:05:30.574Z"
   },
   {
    "duration": 7,
    "start_time": "2022-10-11T15:05:31.055Z"
   },
   {
    "duration": 23,
    "start_time": "2022-10-11T15:05:31.063Z"
   },
   {
    "duration": 33,
    "start_time": "2022-10-11T15:05:31.088Z"
   },
   {
    "duration": 182,
    "start_time": "2022-10-11T15:05:31.122Z"
   },
   {
    "duration": 84,
    "start_time": "2022-10-11T15:05:31.305Z"
   },
   {
    "duration": 9,
    "start_time": "2022-10-11T15:05:31.390Z"
   },
   {
    "duration": 38,
    "start_time": "2022-10-11T15:05:31.401Z"
   },
   {
    "duration": 39,
    "start_time": "2022-10-11T15:05:31.440Z"
   },
   {
    "duration": 155,
    "start_time": "2022-10-11T15:05:31.481Z"
   },
   {
    "duration": 170,
    "start_time": "2022-10-11T15:05:31.638Z"
   },
   {
    "duration": 239,
    "start_time": "2022-10-11T15:05:31.810Z"
   },
   {
    "duration": 167,
    "start_time": "2022-10-11T15:05:32.051Z"
   },
   {
    "duration": 140,
    "start_time": "2022-10-11T15:05:32.220Z"
   },
   {
    "duration": 464,
    "start_time": "2022-10-11T15:05:32.362Z"
   },
   {
    "duration": 29,
    "start_time": "2022-10-11T15:05:32.832Z"
   },
   {
    "duration": 30,
    "start_time": "2022-10-11T15:05:32.862Z"
   },
   {
    "duration": 28,
    "start_time": "2022-10-11T15:05:32.894Z"
   },
   {
    "duration": 187,
    "start_time": "2022-10-11T15:05:32.924Z"
   },
   {
    "duration": 154,
    "start_time": "2022-10-11T15:05:33.112Z"
   },
   {
    "duration": 361,
    "start_time": "2022-10-11T15:11:42.216Z"
   },
   {
    "duration": 25,
    "start_time": "2022-10-11T15:12:02.285Z"
   },
   {
    "duration": 17,
    "start_time": "2022-10-11T15:12:47.540Z"
   },
   {
    "duration": 138,
    "start_time": "2022-10-11T15:13:26.999Z"
   },
   {
    "duration": 142,
    "start_time": "2022-10-11T15:13:45.247Z"
   },
   {
    "duration": 156,
    "start_time": "2022-10-11T15:13:50.201Z"
   },
   {
    "duration": 146,
    "start_time": "2022-10-11T15:13:54.648Z"
   },
   {
    "duration": 145,
    "start_time": "2022-10-11T15:13:55.510Z"
   },
   {
    "duration": 159,
    "start_time": "2022-10-11T15:13:56.652Z"
   },
   {
    "duration": 245,
    "start_time": "2022-10-11T15:13:57.535Z"
   },
   {
    "duration": 138,
    "start_time": "2022-10-11T15:14:16.952Z"
   },
   {
    "duration": 16,
    "start_time": "2022-10-11T15:14:25.420Z"
   },
   {
    "duration": 124,
    "start_time": "2022-10-11T15:14:43.368Z"
   },
   {
    "duration": 168,
    "start_time": "2022-10-11T15:19:35.308Z"
   },
   {
    "duration": 181,
    "start_time": "2022-10-11T15:20:33.715Z"
   },
   {
    "duration": 4,
    "start_time": "2022-10-11T15:29:47.246Z"
   },
   {
    "duration": 30,
    "start_time": "2022-10-11T15:29:57.711Z"
   },
   {
    "duration": 29,
    "start_time": "2022-10-11T15:30:09.211Z"
   },
   {
    "duration": 175,
    "start_time": "2022-10-11T15:30:41.296Z"
   },
   {
    "duration": 122,
    "start_time": "2022-10-11T15:31:26.451Z"
   },
   {
    "duration": 1905,
    "start_time": "2022-10-11T15:31:38.952Z"
   },
   {
    "duration": 204,
    "start_time": "2022-10-11T15:32:16.230Z"
   },
   {
    "duration": 129,
    "start_time": "2022-10-11T15:32:42.343Z"
   },
   {
    "duration": 4,
    "start_time": "2022-10-11T15:33:05.868Z"
   },
   {
    "duration": 150,
    "start_time": "2022-10-11T15:33:13.902Z"
   },
   {
    "duration": 151,
    "start_time": "2022-10-11T15:34:25.462Z"
   },
   {
    "duration": 159,
    "start_time": "2022-10-11T15:34:35.033Z"
   },
   {
    "duration": 170,
    "start_time": "2022-10-11T15:35:19.098Z"
   },
   {
    "duration": 164,
    "start_time": "2022-10-11T15:36:27.189Z"
   },
   {
    "duration": 135,
    "start_time": "2022-10-11T15:38:52.426Z"
   },
   {
    "duration": 220,
    "start_time": "2022-10-11T15:38:56.585Z"
   },
   {
    "duration": 171,
    "start_time": "2022-10-11T15:40:58.273Z"
   },
   {
    "duration": 156,
    "start_time": "2022-10-11T15:44:52.529Z"
   },
   {
    "duration": 152,
    "start_time": "2022-10-11T15:45:38.895Z"
   },
   {
    "duration": 171,
    "start_time": "2022-10-11T15:46:07.988Z"
   },
   {
    "duration": 188,
    "start_time": "2022-10-11T15:46:48.379Z"
   },
   {
    "duration": 212,
    "start_time": "2022-10-11T15:47:36.144Z"
   },
   {
    "duration": 167,
    "start_time": "2022-10-11T15:47:58.795Z"
   },
   {
    "duration": 39,
    "start_time": "2022-10-11T15:49:01.200Z"
   },
   {
    "duration": 64,
    "start_time": "2022-10-11T15:49:21.752Z"
   },
   {
    "duration": 16,
    "start_time": "2022-10-11T15:49:28.262Z"
   },
   {
    "duration": 15,
    "start_time": "2022-10-11T15:49:32.093Z"
   },
   {
    "duration": 15,
    "start_time": "2022-10-11T16:11:10.910Z"
   },
   {
    "duration": 181,
    "start_time": "2022-10-11T16:11:20.131Z"
   },
   {
    "duration": 153,
    "start_time": "2022-10-11T16:12:56.846Z"
   },
   {
    "duration": 173,
    "start_time": "2022-10-11T16:14:16.933Z"
   },
   {
    "duration": 12,
    "start_time": "2022-10-11T16:23:17.069Z"
   },
   {
    "duration": 9,
    "start_time": "2022-10-11T16:23:56.783Z"
   },
   {
    "duration": 12,
    "start_time": "2022-10-11T16:24:16.289Z"
   },
   {
    "duration": 9,
    "start_time": "2022-10-11T16:24:22.864Z"
   },
   {
    "duration": 750,
    "start_time": "2022-10-11T17:24:12.838Z"
   },
   {
    "duration": 29,
    "start_time": "2022-10-11T17:24:13.589Z"
   },
   {
    "duration": 23,
    "start_time": "2022-10-11T17:24:13.620Z"
   },
   {
    "duration": 1736,
    "start_time": "2022-10-11T17:24:13.645Z"
   },
   {
    "duration": 12,
    "start_time": "2022-10-11T17:24:15.382Z"
   },
   {
    "duration": 20,
    "start_time": "2022-10-11T17:24:15.396Z"
   },
   {
    "duration": 14,
    "start_time": "2022-10-11T17:24:15.418Z"
   },
   {
    "duration": 15,
    "start_time": "2022-10-11T17:24:15.433Z"
   },
   {
    "duration": 51,
    "start_time": "2022-10-11T17:24:15.449Z"
   },
   {
    "duration": 4,
    "start_time": "2022-10-11T17:24:15.502Z"
   },
   {
    "duration": 16,
    "start_time": "2022-10-11T17:24:15.508Z"
   },
   {
    "duration": 17,
    "start_time": "2022-10-11T17:24:15.525Z"
   },
   {
    "duration": 9,
    "start_time": "2022-10-11T17:24:15.544Z"
   },
   {
    "duration": 211,
    "start_time": "2022-10-11T17:24:15.554Z"
   },
   {
    "duration": 4,
    "start_time": "2022-10-11T17:24:15.766Z"
   },
   {
    "duration": 11,
    "start_time": "2022-10-11T17:24:15.772Z"
   },
   {
    "duration": 12,
    "start_time": "2022-10-11T17:24:15.785Z"
   },
   {
    "duration": 13,
    "start_time": "2022-10-11T17:24:15.799Z"
   },
   {
    "duration": 176,
    "start_time": "2022-10-11T17:24:15.813Z"
   },
   {
    "duration": 4,
    "start_time": "2022-10-11T17:24:15.991Z"
   },
   {
    "duration": 15,
    "start_time": "2022-10-11T17:24:15.996Z"
   },
   {
    "duration": 20,
    "start_time": "2022-10-11T17:24:16.012Z"
   },
   {
    "duration": 9,
    "start_time": "2022-10-11T17:24:16.034Z"
   },
   {
    "duration": 14,
    "start_time": "2022-10-11T17:24:16.045Z"
   },
   {
    "duration": 8,
    "start_time": "2022-10-11T17:24:16.060Z"
   },
   {
    "duration": 9,
    "start_time": "2022-10-11T17:24:16.070Z"
   },
   {
    "duration": 17,
    "start_time": "2022-10-11T17:24:16.080Z"
   },
   {
    "duration": 5,
    "start_time": "2022-10-11T17:24:16.102Z"
   },
   {
    "duration": 16,
    "start_time": "2022-10-11T17:24:16.108Z"
   },
   {
    "duration": 15,
    "start_time": "2022-10-11T17:24:16.125Z"
   },
   {
    "duration": 13,
    "start_time": "2022-10-11T17:24:16.142Z"
   },
   {
    "duration": 34,
    "start_time": "2022-10-11T17:24:16.156Z"
   },
   {
    "duration": 33,
    "start_time": "2022-10-11T17:24:16.192Z"
   },
   {
    "duration": 20,
    "start_time": "2022-10-11T17:24:16.227Z"
   },
   {
    "duration": 20,
    "start_time": "2022-10-11T17:24:16.249Z"
   },
   {
    "duration": 12,
    "start_time": "2022-10-11T17:24:16.271Z"
   },
   {
    "duration": 21,
    "start_time": "2022-10-11T17:24:16.285Z"
   },
   {
    "duration": 29,
    "start_time": "2022-10-11T17:24:16.308Z"
   },
   {
    "duration": 18,
    "start_time": "2022-10-11T17:24:16.339Z"
   },
   {
    "duration": 23,
    "start_time": "2022-10-11T17:24:16.360Z"
   },
   {
    "duration": 21,
    "start_time": "2022-10-11T17:24:16.385Z"
   },
   {
    "duration": 11,
    "start_time": "2022-10-11T17:24:16.408Z"
   },
   {
    "duration": 31,
    "start_time": "2022-10-11T17:24:16.421Z"
   },
   {
    "duration": 21,
    "start_time": "2022-10-11T17:24:16.455Z"
   },
   {
    "duration": 10,
    "start_time": "2022-10-11T17:24:16.478Z"
   },
   {
    "duration": 11,
    "start_time": "2022-10-11T17:24:16.490Z"
   },
   {
    "duration": 21,
    "start_time": "2022-10-11T17:24:16.503Z"
   },
   {
    "duration": 13,
    "start_time": "2022-10-11T17:24:16.525Z"
   },
   {
    "duration": 15,
    "start_time": "2022-10-11T17:24:16.540Z"
   },
   {
    "duration": 23,
    "start_time": "2022-10-11T17:24:16.556Z"
   },
   {
    "duration": 7,
    "start_time": "2022-10-11T17:24:16.580Z"
   },
   {
    "duration": 11,
    "start_time": "2022-10-11T17:24:16.589Z"
   },
   {
    "duration": 391,
    "start_time": "2022-10-11T17:24:16.601Z"
   },
   {
    "duration": 4,
    "start_time": "2022-10-11T17:24:16.994Z"
   },
   {
    "duration": 21,
    "start_time": "2022-10-11T17:24:16.999Z"
   },
   {
    "duration": 264,
    "start_time": "2022-10-11T17:24:17.021Z"
   },
   {
    "duration": 7,
    "start_time": "2022-10-11T17:24:17.286Z"
   },
   {
    "duration": 8,
    "start_time": "2022-10-11T17:24:17.295Z"
   },
   {
    "duration": 30,
    "start_time": "2022-10-11T17:24:17.304Z"
   },
   {
    "duration": 209,
    "start_time": "2022-10-11T17:24:17.336Z"
   },
   {
    "duration": 7,
    "start_time": "2022-10-11T17:24:17.547Z"
   },
   {
    "duration": 7,
    "start_time": "2022-10-11T17:24:17.555Z"
   },
   {
    "duration": 10,
    "start_time": "2022-10-11T17:24:17.563Z"
   },
   {
    "duration": 228,
    "start_time": "2022-10-11T17:24:17.574Z"
   },
   {
    "duration": 6,
    "start_time": "2022-10-11T17:24:17.804Z"
   },
   {
    "duration": 8,
    "start_time": "2022-10-11T17:24:17.811Z"
   },
   {
    "duration": 21,
    "start_time": "2022-10-11T17:24:17.820Z"
   },
   {
    "duration": 228,
    "start_time": "2022-10-11T17:24:17.842Z"
   },
   {
    "duration": 6,
    "start_time": "2022-10-11T17:24:18.071Z"
   },
   {
    "duration": 10,
    "start_time": "2022-10-11T17:24:18.078Z"
   },
   {
    "duration": 10,
    "start_time": "2022-10-11T17:24:18.089Z"
   },
   {
    "duration": 188,
    "start_time": "2022-10-11T17:24:18.100Z"
   },
   {
    "duration": 6,
    "start_time": "2022-10-11T17:24:18.289Z"
   },
   {
    "duration": 8,
    "start_time": "2022-10-11T17:24:18.297Z"
   },
   {
    "duration": 171,
    "start_time": "2022-10-11T17:24:18.306Z"
   },
   {
    "duration": 6,
    "start_time": "2022-10-11T17:24:18.478Z"
   },
   {
    "duration": 7,
    "start_time": "2022-10-11T17:24:18.485Z"
   },
   {
    "duration": 9,
    "start_time": "2022-10-11T17:24:18.493Z"
   },
   {
    "duration": 172,
    "start_time": "2022-10-11T17:24:18.504Z"
   },
   {
    "duration": 4,
    "start_time": "2022-10-11T17:24:18.678Z"
   },
   {
    "duration": 11,
    "start_time": "2022-10-11T17:24:18.684Z"
   },
   {
    "duration": 9,
    "start_time": "2022-10-11T17:24:18.701Z"
   },
   {
    "duration": 236,
    "start_time": "2022-10-11T17:24:18.712Z"
   },
   {
    "duration": 6,
    "start_time": "2022-10-11T17:24:18.950Z"
   },
   {
    "duration": 202,
    "start_time": "2022-10-11T17:24:18.958Z"
   },
   {
    "duration": 6,
    "start_time": "2022-10-11T17:24:19.161Z"
   },
   {
    "duration": 9,
    "start_time": "2022-10-11T17:24:19.168Z"
   },
   {
    "duration": 163,
    "start_time": "2022-10-11T17:24:19.178Z"
   },
   {
    "duration": 8,
    "start_time": "2022-10-11T17:24:19.342Z"
   },
   {
    "duration": 166,
    "start_time": "2022-10-11T17:24:19.352Z"
   },
   {
    "duration": 15,
    "start_time": "2022-10-11T17:24:19.520Z"
   },
   {
    "duration": 8,
    "start_time": "2022-10-11T17:24:19.537Z"
   },
   {
    "duration": 176,
    "start_time": "2022-10-11T17:24:19.546Z"
   },
   {
    "duration": 11,
    "start_time": "2022-10-11T17:24:19.724Z"
   },
   {
    "duration": 17,
    "start_time": "2022-10-11T17:24:19.737Z"
   },
   {
    "duration": 482,
    "start_time": "2022-10-11T17:24:19.756Z"
   },
   {
    "duration": 8,
    "start_time": "2022-10-11T17:24:20.239Z"
   },
   {
    "duration": 5,
    "start_time": "2022-10-11T17:24:20.249Z"
   },
   {
    "duration": 8,
    "start_time": "2022-10-11T17:24:20.255Z"
   },
   {
    "duration": 175,
    "start_time": "2022-10-11T17:24:20.264Z"
   },
   {
    "duration": 81,
    "start_time": "2022-10-11T17:24:20.440Z"
   },
   {
    "duration": 18,
    "start_time": "2022-10-11T17:24:20.522Z"
   },
   {
    "duration": 10,
    "start_time": "2022-10-11T17:24:20.541Z"
   },
   {
    "duration": 11,
    "start_time": "2022-10-11T17:24:20.553Z"
   },
   {
    "duration": 152,
    "start_time": "2022-10-11T17:24:20.570Z"
   },
   {
    "duration": 158,
    "start_time": "2022-10-11T17:24:20.724Z"
   },
   {
    "duration": 240,
    "start_time": "2022-10-11T17:24:20.883Z"
   },
   {
    "duration": 171,
    "start_time": "2022-10-11T17:24:21.124Z"
   },
   {
    "duration": 152,
    "start_time": "2022-10-11T17:24:21.297Z"
   },
   {
    "duration": 466,
    "start_time": "2022-10-11T17:24:21.451Z"
   },
   {
    "duration": 34,
    "start_time": "2022-10-11T17:24:21.919Z"
   },
   {
    "duration": 11,
    "start_time": "2022-10-11T17:24:21.955Z"
   },
   {
    "duration": 199,
    "start_time": "2022-10-11T17:24:21.967Z"
   },
   {
    "duration": 11,
    "start_time": "2022-10-11T17:24:22.168Z"
   },
   {
    "duration": 1976,
    "start_time": "2022-10-11T17:28:14.541Z"
   },
   {
    "duration": 2234,
    "start_time": "2022-10-11T17:29:30.087Z"
   },
   {
    "duration": 2515,
    "start_time": "2022-10-11T17:29:45.044Z"
   },
   {
    "duration": 11,
    "start_time": "2022-10-11T17:38:41.845Z"
   },
   {
    "duration": 11,
    "start_time": "2022-10-11T17:38:57.317Z"
   },
   {
    "duration": 10,
    "start_time": "2022-10-11T17:39:24.644Z"
   },
   {
    "duration": 10,
    "start_time": "2022-10-11T17:39:41.132Z"
   },
   {
    "duration": 9,
    "start_time": "2022-10-11T17:39:55.441Z"
   },
   {
    "duration": 9,
    "start_time": "2022-10-11T17:40:27.446Z"
   },
   {
    "duration": 12,
    "start_time": "2022-10-11T17:41:56.397Z"
   },
   {
    "duration": 761,
    "start_time": "2022-10-11T17:42:24.106Z"
   },
   {
    "duration": 29,
    "start_time": "2022-10-11T17:42:24.869Z"
   },
   {
    "duration": 16,
    "start_time": "2022-10-11T17:42:24.899Z"
   },
   {
    "duration": 1837,
    "start_time": "2022-10-11T17:42:24.916Z"
   },
   {
    "duration": 10,
    "start_time": "2022-10-11T17:42:26.755Z"
   },
   {
    "duration": 3,
    "start_time": "2022-10-11T17:42:26.767Z"
   },
   {
    "duration": 6,
    "start_time": "2022-10-11T17:42:26.771Z"
   },
   {
    "duration": 6,
    "start_time": "2022-10-11T17:42:26.778Z"
   },
   {
    "duration": 27,
    "start_time": "2022-10-11T17:42:26.786Z"
   },
   {
    "duration": 4,
    "start_time": "2022-10-11T17:42:26.816Z"
   },
   {
    "duration": 18,
    "start_time": "2022-10-11T17:42:26.822Z"
   },
   {
    "duration": 7,
    "start_time": "2022-10-11T17:42:26.841Z"
   },
   {
    "duration": 6,
    "start_time": "2022-10-11T17:42:26.849Z"
   },
   {
    "duration": 213,
    "start_time": "2022-10-11T17:42:26.857Z"
   },
   {
    "duration": 5,
    "start_time": "2022-10-11T17:42:27.071Z"
   },
   {
    "duration": 8,
    "start_time": "2022-10-11T17:42:27.077Z"
   },
   {
    "duration": 5,
    "start_time": "2022-10-11T17:42:27.087Z"
   },
   {
    "duration": 11,
    "start_time": "2022-10-11T17:42:27.093Z"
   },
   {
    "duration": 201,
    "start_time": "2022-10-11T17:42:27.106Z"
   },
   {
    "duration": 4,
    "start_time": "2022-10-11T17:42:27.309Z"
   },
   {
    "duration": 19,
    "start_time": "2022-10-11T17:42:27.315Z"
   },
   {
    "duration": 5,
    "start_time": "2022-10-11T17:42:27.336Z"
   },
   {
    "duration": 12,
    "start_time": "2022-10-11T17:42:27.343Z"
   },
   {
    "duration": 8,
    "start_time": "2022-10-11T17:42:27.357Z"
   },
   {
    "duration": 19,
    "start_time": "2022-10-11T17:42:27.366Z"
   },
   {
    "duration": 6,
    "start_time": "2022-10-11T17:42:27.387Z"
   },
   {
    "duration": 15,
    "start_time": "2022-10-11T17:42:27.395Z"
   },
   {
    "duration": 5,
    "start_time": "2022-10-11T17:42:27.412Z"
   },
   {
    "duration": 11,
    "start_time": "2022-10-11T17:42:27.419Z"
   },
   {
    "duration": 23,
    "start_time": "2022-10-11T17:42:27.431Z"
   },
   {
    "duration": 8,
    "start_time": "2022-10-11T17:42:27.456Z"
   },
   {
    "duration": 23,
    "start_time": "2022-10-11T17:42:27.466Z"
   },
   {
    "duration": 8,
    "start_time": "2022-10-11T17:42:27.491Z"
   },
   {
    "duration": 7,
    "start_time": "2022-10-11T17:42:27.500Z"
   },
   {
    "duration": 10,
    "start_time": "2022-10-11T17:42:27.509Z"
   },
   {
    "duration": 7,
    "start_time": "2022-10-11T17:42:27.521Z"
   },
   {
    "duration": 8,
    "start_time": "2022-10-11T17:42:27.529Z"
   },
   {
    "duration": 5,
    "start_time": "2022-10-11T17:42:27.539Z"
   },
   {
    "duration": 10,
    "start_time": "2022-10-11T17:42:27.546Z"
   },
   {
    "duration": 22,
    "start_time": "2022-10-11T17:42:27.557Z"
   },
   {
    "duration": 15,
    "start_time": "2022-10-11T17:42:27.583Z"
   },
   {
    "duration": 9,
    "start_time": "2022-10-11T17:42:27.600Z"
   },
   {
    "duration": 8,
    "start_time": "2022-10-11T17:42:27.610Z"
   },
   {
    "duration": 6,
    "start_time": "2022-10-11T17:42:27.619Z"
   },
   {
    "duration": 5,
    "start_time": "2022-10-11T17:42:27.626Z"
   },
   {
    "duration": 28,
    "start_time": "2022-10-11T17:42:27.632Z"
   },
   {
    "duration": 17,
    "start_time": "2022-10-11T17:42:27.662Z"
   },
   {
    "duration": 5,
    "start_time": "2022-10-11T17:42:27.681Z"
   },
   {
    "duration": 6,
    "start_time": "2022-10-11T17:42:27.687Z"
   },
   {
    "duration": 9,
    "start_time": "2022-10-11T17:42:27.694Z"
   },
   {
    "duration": 6,
    "start_time": "2022-10-11T17:42:27.704Z"
   },
   {
    "duration": 8,
    "start_time": "2022-10-11T17:42:27.712Z"
   },
   {
    "duration": 382,
    "start_time": "2022-10-11T17:42:27.721Z"
   },
   {
    "duration": 3,
    "start_time": "2022-10-11T17:42:28.104Z"
   },
   {
    "duration": 14,
    "start_time": "2022-10-11T17:42:28.109Z"
   },
   {
    "duration": 263,
    "start_time": "2022-10-11T17:42:28.124Z"
   },
   {
    "duration": 6,
    "start_time": "2022-10-11T17:42:28.389Z"
   },
   {
    "duration": 19,
    "start_time": "2022-10-11T17:42:28.397Z"
   },
   {
    "duration": 16,
    "start_time": "2022-10-11T17:42:28.418Z"
   },
   {
    "duration": 190,
    "start_time": "2022-10-11T17:42:28.436Z"
   },
   {
    "duration": 5,
    "start_time": "2022-10-11T17:42:28.633Z"
   },
   {
    "duration": 9,
    "start_time": "2022-10-11T17:42:28.640Z"
   },
   {
    "duration": 8,
    "start_time": "2022-10-11T17:42:28.651Z"
   },
   {
    "duration": 213,
    "start_time": "2022-10-11T17:42:28.660Z"
   },
   {
    "duration": 6,
    "start_time": "2022-10-11T17:42:28.874Z"
   },
   {
    "duration": 14,
    "start_time": "2022-10-11T17:42:28.881Z"
   },
   {
    "duration": 9,
    "start_time": "2022-10-11T17:42:28.896Z"
   },
   {
    "duration": 218,
    "start_time": "2022-10-11T17:42:28.907Z"
   },
   {
    "duration": 10,
    "start_time": "2022-10-11T17:42:29.127Z"
   },
   {
    "duration": 7,
    "start_time": "2022-10-11T17:42:29.138Z"
   },
   {
    "duration": 8,
    "start_time": "2022-10-11T17:42:29.147Z"
   },
   {
    "duration": 179,
    "start_time": "2022-10-11T17:42:29.157Z"
   },
   {
    "duration": 5,
    "start_time": "2022-10-11T17:42:29.338Z"
   },
   {
    "duration": 8,
    "start_time": "2022-10-11T17:42:29.345Z"
   },
   {
    "duration": 182,
    "start_time": "2022-10-11T17:42:29.355Z"
   },
   {
    "duration": 7,
    "start_time": "2022-10-11T17:42:29.538Z"
   },
   {
    "duration": 7,
    "start_time": "2022-10-11T17:42:29.547Z"
   },
   {
    "duration": 8,
    "start_time": "2022-10-11T17:42:29.556Z"
   },
   {
    "duration": 187,
    "start_time": "2022-10-11T17:42:29.566Z"
   },
   {
    "duration": 6,
    "start_time": "2022-10-11T17:42:29.755Z"
   },
   {
    "duration": 16,
    "start_time": "2022-10-11T17:42:29.763Z"
   },
   {
    "duration": 14,
    "start_time": "2022-10-11T17:42:29.781Z"
   },
   {
    "duration": 109,
    "start_time": "2022-10-11T17:42:29.797Z"
   },
   {
    "duration": 7,
    "start_time": "2022-10-11T17:42:29.907Z"
   },
   {
    "duration": 240,
    "start_time": "2022-10-11T17:42:29.915Z"
   },
   {
    "duration": 5,
    "start_time": "2022-10-11T17:42:30.157Z"
   },
   {
    "duration": 21,
    "start_time": "2022-10-11T17:42:30.164Z"
   },
   {
    "duration": 153,
    "start_time": "2022-10-11T17:42:30.186Z"
   },
   {
    "duration": 8,
    "start_time": "2022-10-11T17:42:30.341Z"
   },
   {
    "duration": 175,
    "start_time": "2022-10-11T17:42:30.351Z"
   },
   {
    "duration": 9,
    "start_time": "2022-10-11T17:42:30.528Z"
   },
   {
    "duration": 28,
    "start_time": "2022-10-11T17:42:30.539Z"
   },
   {
    "duration": 177,
    "start_time": "2022-10-11T17:42:30.569Z"
   },
   {
    "duration": 6,
    "start_time": "2022-10-11T17:42:30.748Z"
   },
   {
    "duration": 35,
    "start_time": "2022-10-11T17:42:30.756Z"
   },
   {
    "duration": 502,
    "start_time": "2022-10-11T17:42:30.793Z"
   },
   {
    "duration": 13,
    "start_time": "2022-10-11T17:42:31.296Z"
   },
   {
    "duration": 7,
    "start_time": "2022-10-11T17:42:31.310Z"
   },
   {
    "duration": 17,
    "start_time": "2022-10-11T17:42:31.319Z"
   },
   {
    "duration": 176,
    "start_time": "2022-10-11T17:42:31.338Z"
   },
   {
    "duration": 91,
    "start_time": "2022-10-11T17:42:31.516Z"
   },
   {
    "duration": 9,
    "start_time": "2022-10-11T17:42:31.608Z"
   },
   {
    "duration": 21,
    "start_time": "2022-10-11T17:42:31.619Z"
   },
   {
    "duration": 9,
    "start_time": "2022-10-11T17:42:31.642Z"
   },
   {
    "duration": 157,
    "start_time": "2022-10-11T17:42:31.652Z"
   },
   {
    "duration": 173,
    "start_time": "2022-10-11T17:42:31.811Z"
   },
   {
    "duration": 234,
    "start_time": "2022-10-11T17:42:31.985Z"
   },
   {
    "duration": 170,
    "start_time": "2022-10-11T17:42:32.221Z"
   },
   {
    "duration": 146,
    "start_time": "2022-10-11T17:42:32.392Z"
   },
   {
    "duration": 465,
    "start_time": "2022-10-11T17:42:32.539Z"
   },
   {
    "duration": 34,
    "start_time": "2022-10-11T17:42:33.005Z"
   },
   {
    "duration": 12,
    "start_time": "2022-10-11T17:42:33.041Z"
   },
   {
    "duration": 207,
    "start_time": "2022-10-11T17:42:33.055Z"
   },
   {
    "duration": 10,
    "start_time": "2022-10-11T17:42:33.263Z"
   },
   {
    "duration": 1045,
    "start_time": "2022-10-11T18:05:21.671Z"
   },
   {
    "duration": 37,
    "start_time": "2022-10-11T18:05:22.719Z"
   },
   {
    "duration": 19,
    "start_time": "2022-10-11T18:05:22.758Z"
   },
   {
    "duration": 2172,
    "start_time": "2022-10-11T18:05:22.779Z"
   },
   {
    "duration": 16,
    "start_time": "2022-10-11T18:05:24.954Z"
   },
   {
    "duration": 20,
    "start_time": "2022-10-11T18:05:24.972Z"
   },
   {
    "duration": 25,
    "start_time": "2022-10-11T18:05:24.994Z"
   },
   {
    "duration": 10,
    "start_time": "2022-10-11T18:05:25.021Z"
   },
   {
    "duration": 54,
    "start_time": "2022-10-11T18:05:25.033Z"
   },
   {
    "duration": 7,
    "start_time": "2022-10-11T18:05:25.091Z"
   },
   {
    "duration": 28,
    "start_time": "2022-10-11T18:05:25.100Z"
   },
   {
    "duration": 9,
    "start_time": "2022-10-11T18:05:25.130Z"
   },
   {
    "duration": 9,
    "start_time": "2022-10-11T18:05:25.141Z"
   },
   {
    "duration": 321,
    "start_time": "2022-10-11T18:05:25.152Z"
   },
   {
    "duration": 15,
    "start_time": "2022-10-11T18:05:25.476Z"
   },
   {
    "duration": 16,
    "start_time": "2022-10-11T18:05:25.493Z"
   },
   {
    "duration": 10,
    "start_time": "2022-10-11T18:05:25.511Z"
   },
   {
    "duration": 14,
    "start_time": "2022-10-11T18:05:25.524Z"
   },
   {
    "duration": 291,
    "start_time": "2022-10-11T18:05:25.540Z"
   },
   {
    "duration": 6,
    "start_time": "2022-10-11T18:05:25.833Z"
   },
   {
    "duration": 9,
    "start_time": "2022-10-11T18:05:25.841Z"
   },
   {
    "duration": 16,
    "start_time": "2022-10-11T18:05:25.852Z"
   },
   {
    "duration": 32,
    "start_time": "2022-10-11T18:05:25.871Z"
   },
   {
    "duration": 9,
    "start_time": "2022-10-11T18:05:25.905Z"
   },
   {
    "duration": 20,
    "start_time": "2022-10-11T18:05:25.916Z"
   },
   {
    "duration": 12,
    "start_time": "2022-10-11T18:05:25.939Z"
   },
   {
    "duration": 8,
    "start_time": "2022-10-11T18:05:25.953Z"
   },
   {
    "duration": 10,
    "start_time": "2022-10-11T18:05:25.968Z"
   },
   {
    "duration": 21,
    "start_time": "2022-10-11T18:05:25.980Z"
   },
   {
    "duration": 19,
    "start_time": "2022-10-11T18:05:26.004Z"
   },
   {
    "duration": 13,
    "start_time": "2022-10-11T18:05:26.025Z"
   },
   {
    "duration": 51,
    "start_time": "2022-10-11T18:05:26.041Z"
   },
   {
    "duration": 8,
    "start_time": "2022-10-11T18:05:26.095Z"
   },
   {
    "duration": 14,
    "start_time": "2022-10-11T18:05:26.106Z"
   },
   {
    "duration": 17,
    "start_time": "2022-10-11T18:05:26.121Z"
   },
   {
    "duration": 11,
    "start_time": "2022-10-11T18:05:26.140Z"
   },
   {
    "duration": 12,
    "start_time": "2022-10-11T18:05:26.153Z"
   },
   {
    "duration": 13,
    "start_time": "2022-10-11T18:05:26.167Z"
   },
   {
    "duration": 4,
    "start_time": "2022-10-11T18:05:26.190Z"
   },
   {
    "duration": 21,
    "start_time": "2022-10-11T18:05:26.197Z"
   },
   {
    "duration": 16,
    "start_time": "2022-10-11T18:05:26.220Z"
   },
   {
    "duration": 12,
    "start_time": "2022-10-11T18:05:26.238Z"
   },
   {
    "duration": 12,
    "start_time": "2022-10-11T18:05:26.252Z"
   },
   {
    "duration": 22,
    "start_time": "2022-10-11T18:05:26.267Z"
   },
   {
    "duration": 6,
    "start_time": "2022-10-11T18:05:26.292Z"
   },
   {
    "duration": 13,
    "start_time": "2022-10-11T18:05:26.300Z"
   },
   {
    "duration": 23,
    "start_time": "2022-10-11T18:05:26.314Z"
   },
   {
    "duration": 12,
    "start_time": "2022-10-11T18:05:26.339Z"
   },
   {
    "duration": 9,
    "start_time": "2022-10-11T18:05:26.355Z"
   },
   {
    "duration": 25,
    "start_time": "2022-10-11T18:05:26.367Z"
   },
   {
    "duration": 14,
    "start_time": "2022-10-11T18:05:26.394Z"
   },
   {
    "duration": 25,
    "start_time": "2022-10-11T18:05:26.410Z"
   },
   {
    "duration": 537,
    "start_time": "2022-10-11T18:05:26.437Z"
   },
   {
    "duration": 14,
    "start_time": "2022-10-11T18:05:26.975Z"
   },
   {
    "duration": 29,
    "start_time": "2022-10-11T18:05:26.992Z"
   },
   {
    "duration": 332,
    "start_time": "2022-10-11T18:05:27.024Z"
   },
   {
    "duration": 8,
    "start_time": "2022-10-11T18:05:27.358Z"
   },
   {
    "duration": 38,
    "start_time": "2022-10-11T18:05:27.368Z"
   },
   {
    "duration": 14,
    "start_time": "2022-10-11T18:05:27.408Z"
   },
   {
    "duration": 300,
    "start_time": "2022-10-11T18:05:27.425Z"
   },
   {
    "duration": 10,
    "start_time": "2022-10-11T18:05:27.727Z"
   },
   {
    "duration": 10,
    "start_time": "2022-10-11T18:05:27.739Z"
   },
   {
    "duration": 10,
    "start_time": "2022-10-11T18:05:27.751Z"
   },
   {
    "duration": 242,
    "start_time": "2022-10-11T18:05:27.762Z"
   },
   {
    "duration": 9,
    "start_time": "2022-10-11T18:05:28.005Z"
   },
   {
    "duration": 13,
    "start_time": "2022-10-11T18:05:28.016Z"
   },
   {
    "duration": 10,
    "start_time": "2022-10-11T18:05:28.032Z"
   },
   {
    "duration": 294,
    "start_time": "2022-10-11T18:05:28.045Z"
   },
   {
    "duration": 8,
    "start_time": "2022-10-11T18:05:28.345Z"
   },
   {
    "duration": 11,
    "start_time": "2022-10-11T18:05:28.356Z"
   },
   {
    "duration": 27,
    "start_time": "2022-10-11T18:05:28.370Z"
   },
   {
    "duration": 198,
    "start_time": "2022-10-11T18:05:28.399Z"
   },
   {
    "duration": 8,
    "start_time": "2022-10-11T18:05:28.599Z"
   },
   {
    "duration": 8,
    "start_time": "2022-10-11T18:05:28.609Z"
   },
   {
    "duration": 216,
    "start_time": "2022-10-11T18:05:28.619Z"
   },
   {
    "duration": 8,
    "start_time": "2022-10-11T18:05:28.837Z"
   },
   {
    "duration": 13,
    "start_time": "2022-10-11T18:05:28.847Z"
   },
   {
    "duration": 35,
    "start_time": "2022-10-11T18:05:28.862Z"
   },
   {
    "duration": 232,
    "start_time": "2022-10-11T18:05:28.899Z"
   },
   {
    "duration": 9,
    "start_time": "2022-10-11T18:05:29.133Z"
   },
   {
    "duration": 14,
    "start_time": "2022-10-11T18:05:29.144Z"
   },
   {
    "duration": 12,
    "start_time": "2022-10-11T18:05:29.189Z"
   },
   {
    "duration": 304,
    "start_time": "2022-10-11T18:05:29.203Z"
   },
   {
    "duration": 12,
    "start_time": "2022-10-11T18:05:29.509Z"
   },
   {
    "duration": 199,
    "start_time": "2022-10-11T18:05:29.523Z"
   },
   {
    "duration": 9,
    "start_time": "2022-10-11T18:05:29.724Z"
   },
   {
    "duration": 10,
    "start_time": "2022-10-11T18:05:29.735Z"
   },
   {
    "duration": 209,
    "start_time": "2022-10-11T18:05:29.748Z"
   },
   {
    "duration": 10,
    "start_time": "2022-10-11T18:05:29.959Z"
   },
   {
    "duration": 223,
    "start_time": "2022-10-11T18:05:29.971Z"
   },
   {
    "duration": 7,
    "start_time": "2022-10-11T18:05:30.196Z"
   },
   {
    "duration": 25,
    "start_time": "2022-10-11T18:05:30.205Z"
   },
   {
    "duration": 223,
    "start_time": "2022-10-11T18:05:30.232Z"
   },
   {
    "duration": 9,
    "start_time": "2022-10-11T18:05:30.458Z"
   },
   {
    "duration": 42,
    "start_time": "2022-10-11T18:05:30.470Z"
   },
   {
    "duration": 588,
    "start_time": "2022-10-11T18:05:30.515Z"
   },
   {
    "duration": 13,
    "start_time": "2022-10-11T18:05:31.105Z"
   },
   {
    "duration": 25,
    "start_time": "2022-10-11T18:05:31.120Z"
   },
   {
    "duration": 17,
    "start_time": "2022-10-11T18:05:31.148Z"
   },
   {
    "duration": 218,
    "start_time": "2022-10-11T18:05:31.167Z"
   },
   {
    "duration": 154,
    "start_time": "2022-10-11T18:05:31.387Z"
   },
   {
    "duration": 13,
    "start_time": "2022-10-11T18:05:31.543Z"
   },
   {
    "duration": 38,
    "start_time": "2022-10-11T18:05:31.558Z"
   },
   {
    "duration": 33,
    "start_time": "2022-10-11T18:05:31.598Z"
   },
   {
    "duration": 170,
    "start_time": "2022-10-11T18:05:31.633Z"
   },
   {
    "duration": 395,
    "start_time": "2022-10-11T18:05:31.805Z"
   },
   {
    "duration": 217,
    "start_time": "2022-10-11T18:05:32.202Z"
   },
   {
    "duration": 210,
    "start_time": "2022-10-11T18:05:32.422Z"
   },
   {
    "duration": 175,
    "start_time": "2022-10-11T18:05:32.634Z"
   },
   {
    "duration": 596,
    "start_time": "2022-10-11T18:05:32.811Z"
   },
   {
    "duration": 56,
    "start_time": "2022-10-11T18:05:33.410Z"
   },
   {
    "duration": 32,
    "start_time": "2022-10-11T18:05:33.468Z"
   },
   {
    "duration": 251,
    "start_time": "2022-10-11T18:05:33.502Z"
   },
   {
    "duration": 13,
    "start_time": "2022-10-11T18:05:33.755Z"
   },
   {
    "duration": 5,
    "start_time": "2022-10-11T18:39:08.186Z"
   },
   {
    "duration": 879,
    "start_time": "2022-10-11T18:39:16.808Z"
   },
   {
    "duration": 37,
    "start_time": "2022-10-11T18:39:17.691Z"
   },
   {
    "duration": 23,
    "start_time": "2022-10-11T18:39:17.730Z"
   },
   {
    "duration": 2265,
    "start_time": "2022-10-11T18:39:17.755Z"
   },
   {
    "duration": 13,
    "start_time": "2022-10-11T18:39:20.022Z"
   },
   {
    "duration": 25,
    "start_time": "2022-10-11T18:39:20.092Z"
   },
   {
    "duration": 22,
    "start_time": "2022-10-11T18:39:20.119Z"
   },
   {
    "duration": 49,
    "start_time": "2022-10-11T18:39:20.143Z"
   },
   {
    "duration": 48,
    "start_time": "2022-10-11T18:39:20.194Z"
   },
   {
    "duration": 52,
    "start_time": "2022-10-11T18:39:20.243Z"
   },
   {
    "duration": 34,
    "start_time": "2022-10-11T18:39:20.298Z"
   },
   {
    "duration": 15,
    "start_time": "2022-10-11T18:39:20.335Z"
   },
   {
    "duration": 11,
    "start_time": "2022-10-11T18:39:20.389Z"
   },
   {
    "duration": 514,
    "start_time": "2022-10-11T18:39:20.406Z"
   },
   {
    "duration": 6,
    "start_time": "2022-10-11T18:39:20.921Z"
   },
   {
    "duration": 65,
    "start_time": "2022-10-11T18:39:20.928Z"
   },
   {
    "duration": 25,
    "start_time": "2022-10-11T18:39:20.997Z"
   },
   {
    "duration": 12,
    "start_time": "2022-10-11T18:39:21.025Z"
   },
   {
    "duration": 667,
    "start_time": "2022-10-11T18:39:21.040Z"
   },
   {
    "duration": 8,
    "start_time": "2022-10-11T18:39:21.710Z"
   },
   {
    "duration": 11,
    "start_time": "2022-10-11T18:39:21.720Z"
   },
   {
    "duration": 66,
    "start_time": "2022-10-11T18:39:21.733Z"
   },
   {
    "duration": 22,
    "start_time": "2022-10-11T18:39:21.801Z"
   },
   {
    "duration": 14,
    "start_time": "2022-10-11T18:39:21.826Z"
   },
   {
    "duration": 9,
    "start_time": "2022-10-11T18:39:21.843Z"
   },
   {
    "duration": 27,
    "start_time": "2022-10-11T18:39:21.890Z"
   },
   {
    "duration": 10,
    "start_time": "2022-10-11T18:39:21.920Z"
   },
   {
    "duration": 20,
    "start_time": "2022-10-11T18:39:21.933Z"
   },
   {
    "duration": 48,
    "start_time": "2022-10-11T18:39:21.989Z"
   },
   {
    "duration": 21,
    "start_time": "2022-10-11T18:39:22.039Z"
   },
   {
    "duration": 24,
    "start_time": "2022-10-11T18:39:22.099Z"
   },
   {
    "duration": 29,
    "start_time": "2022-10-11T18:39:22.126Z"
   },
   {
    "duration": 57,
    "start_time": "2022-10-11T18:39:22.190Z"
   },
   {
    "duration": 45,
    "start_time": "2022-10-11T18:39:22.249Z"
   },
   {
    "duration": 19,
    "start_time": "2022-10-11T18:39:22.295Z"
   },
   {
    "duration": 5,
    "start_time": "2022-10-11T18:39:22.316Z"
   },
   {
    "duration": 5,
    "start_time": "2022-10-11T18:39:22.323Z"
   },
   {
    "duration": 6,
    "start_time": "2022-10-11T18:39:22.330Z"
   },
   {
    "duration": 5,
    "start_time": "2022-10-11T18:39:22.338Z"
   },
   {
    "duration": 9,
    "start_time": "2022-10-11T18:39:22.345Z"
   },
   {
    "duration": 36,
    "start_time": "2022-10-11T18:39:22.361Z"
   },
   {
    "duration": 6,
    "start_time": "2022-10-11T18:39:22.404Z"
   },
   {
    "duration": 8,
    "start_time": "2022-10-11T18:39:22.413Z"
   },
   {
    "duration": 9,
    "start_time": "2022-10-11T18:39:22.423Z"
   },
   {
    "duration": 17,
    "start_time": "2022-10-11T18:39:22.433Z"
   },
   {
    "duration": 11,
    "start_time": "2022-10-11T18:39:22.452Z"
   },
   {
    "duration": 6,
    "start_time": "2022-10-11T18:39:22.465Z"
   },
   {
    "duration": 5,
    "start_time": "2022-10-11T18:39:22.473Z"
   },
   {
    "duration": 18,
    "start_time": "2022-10-11T18:39:22.479Z"
   },
   {
    "duration": 22,
    "start_time": "2022-10-11T18:39:22.498Z"
   },
   {
    "duration": 9,
    "start_time": "2022-10-11T18:39:22.522Z"
   },
   {
    "duration": 8,
    "start_time": "2022-10-11T18:39:22.532Z"
   },
   {
    "duration": 8,
    "start_time": "2022-10-11T18:39:22.541Z"
   },
   {
    "duration": 483,
    "start_time": "2022-10-11T18:39:22.551Z"
   },
   {
    "duration": 4,
    "start_time": "2022-10-11T18:39:23.036Z"
   },
   {
    "duration": 17,
    "start_time": "2022-10-11T18:39:23.043Z"
   },
   {
    "duration": 299,
    "start_time": "2022-10-11T18:39:23.063Z"
   },
   {
    "duration": 7,
    "start_time": "2022-10-11T18:39:23.364Z"
   },
   {
    "duration": 23,
    "start_time": "2022-10-11T18:39:23.373Z"
   },
   {
    "duration": 28,
    "start_time": "2022-10-11T18:39:23.398Z"
   },
   {
    "duration": 209,
    "start_time": "2022-10-11T18:39:23.428Z"
   },
   {
    "duration": 7,
    "start_time": "2022-10-11T18:39:23.639Z"
   },
   {
    "duration": 12,
    "start_time": "2022-10-11T18:39:23.648Z"
   },
   {
    "duration": 29,
    "start_time": "2022-10-11T18:39:23.661Z"
   },
   {
    "duration": 220,
    "start_time": "2022-10-11T18:39:23.696Z"
   },
   {
    "duration": 7,
    "start_time": "2022-10-11T18:39:23.918Z"
   },
   {
    "duration": 8,
    "start_time": "2022-10-11T18:39:23.926Z"
   },
   {
    "duration": 10,
    "start_time": "2022-10-11T18:39:23.936Z"
   },
   {
    "duration": 287,
    "start_time": "2022-10-11T18:39:23.949Z"
   },
   {
    "duration": 6,
    "start_time": "2022-10-11T18:39:24.238Z"
   },
   {
    "duration": 13,
    "start_time": "2022-10-11T18:39:24.245Z"
   },
   {
    "duration": 14,
    "start_time": "2022-10-11T18:39:24.259Z"
   },
   {
    "duration": 207,
    "start_time": "2022-10-11T18:39:24.290Z"
   },
   {
    "duration": 7,
    "start_time": "2022-10-11T18:39:24.505Z"
   },
   {
    "duration": 16,
    "start_time": "2022-10-11T18:39:24.514Z"
   },
   {
    "duration": 186,
    "start_time": "2022-10-11T18:39:24.531Z"
   },
   {
    "duration": 6,
    "start_time": "2022-10-11T18:39:24.719Z"
   },
   {
    "duration": 7,
    "start_time": "2022-10-11T18:39:24.726Z"
   },
   {
    "duration": 9,
    "start_time": "2022-10-11T18:39:24.735Z"
   },
   {
    "duration": 207,
    "start_time": "2022-10-11T18:39:24.746Z"
   },
   {
    "duration": 6,
    "start_time": "2022-10-11T18:39:24.955Z"
   },
   {
    "duration": 9,
    "start_time": "2022-10-11T18:39:24.964Z"
   },
   {
    "duration": 26,
    "start_time": "2022-10-11T18:39:24.974Z"
   },
   {
    "duration": 144,
    "start_time": "2022-10-11T18:39:25.002Z"
   },
   {
    "duration": 8,
    "start_time": "2022-10-11T18:39:25.148Z"
   },
   {
    "duration": 298,
    "start_time": "2022-10-11T18:39:25.158Z"
   },
   {
    "duration": 7,
    "start_time": "2022-10-11T18:39:25.457Z"
   },
   {
    "duration": 25,
    "start_time": "2022-10-11T18:39:25.465Z"
   },
   {
    "duration": 178,
    "start_time": "2022-10-11T18:39:25.492Z"
   },
   {
    "duration": 23,
    "start_time": "2022-10-11T18:39:25.672Z"
   },
   {
    "duration": 203,
    "start_time": "2022-10-11T18:39:25.697Z"
   },
   {
    "duration": 8,
    "start_time": "2022-10-11T18:39:25.902Z"
   },
   {
    "duration": 12,
    "start_time": "2022-10-11T18:39:25.912Z"
   },
   {
    "duration": 210,
    "start_time": "2022-10-11T18:39:25.926Z"
   },
   {
    "duration": 7,
    "start_time": "2022-10-11T18:39:26.138Z"
   },
   {
    "duration": 13,
    "start_time": "2022-10-11T18:39:26.146Z"
   },
   {
    "duration": 576,
    "start_time": "2022-10-11T18:39:26.160Z"
   },
   {
    "duration": 10,
    "start_time": "2022-10-11T18:39:26.738Z"
   },
   {
    "duration": 6,
    "start_time": "2022-10-11T18:39:26.750Z"
   },
   {
    "duration": 9,
    "start_time": "2022-10-11T18:39:26.758Z"
   },
   {
    "duration": 209,
    "start_time": "2022-10-11T18:39:26.768Z"
   },
   {
    "duration": 132,
    "start_time": "2022-10-11T18:39:26.978Z"
   },
   {
    "duration": 14,
    "start_time": "2022-10-11T18:39:27.113Z"
   },
   {
    "duration": 10,
    "start_time": "2022-10-11T18:39:27.129Z"
   },
   {
    "duration": 11,
    "start_time": "2022-10-11T18:39:27.141Z"
   },
   {
    "duration": 181,
    "start_time": "2022-10-11T18:39:27.153Z"
   },
   {
    "duration": 210,
    "start_time": "2022-10-11T18:39:27.335Z"
   },
   {
    "duration": 263,
    "start_time": "2022-10-11T18:39:27.548Z"
   },
   {
    "duration": 201,
    "start_time": "2022-10-11T18:39:27.813Z"
   },
   {
    "duration": 187,
    "start_time": "2022-10-11T18:39:28.016Z"
   },
   {
    "duration": 579,
    "start_time": "2022-10-11T18:39:28.205Z"
   },
   {
    "duration": 42,
    "start_time": "2022-10-11T18:39:28.786Z"
   },
   {
    "duration": 13,
    "start_time": "2022-10-11T18:39:28.830Z"
   },
   {
    "duration": 241,
    "start_time": "2022-10-11T18:39:28.845Z"
   },
   {
    "duration": 20,
    "start_time": "2022-10-11T18:39:29.091Z"
   },
   {
    "duration": 17,
    "start_time": "2022-10-11T18:41:44.906Z"
   },
   {
    "duration": 16,
    "start_time": "2022-10-11T19:23:27.863Z"
   },
   {
    "duration": 827,
    "start_time": "2022-10-11T19:23:33.114Z"
   },
   {
    "duration": 32,
    "start_time": "2022-10-11T19:23:33.943Z"
   },
   {
    "duration": 34,
    "start_time": "2022-10-11T19:23:33.976Z"
   },
   {
    "duration": 2104,
    "start_time": "2022-10-11T19:23:34.012Z"
   },
   {
    "duration": 14,
    "start_time": "2022-10-11T19:23:36.118Z"
   },
   {
    "duration": 4,
    "start_time": "2022-10-11T19:23:36.135Z"
   },
   {
    "duration": 5,
    "start_time": "2022-10-11T19:23:36.141Z"
   },
   {
    "duration": 9,
    "start_time": "2022-10-11T19:23:36.147Z"
   },
   {
    "duration": 67,
    "start_time": "2022-10-11T19:23:36.157Z"
   },
   {
    "duration": 5,
    "start_time": "2022-10-11T19:23:36.228Z"
   },
   {
    "duration": 13,
    "start_time": "2022-10-11T19:23:36.235Z"
   },
   {
    "duration": 8,
    "start_time": "2022-10-11T19:23:36.250Z"
   },
   {
    "duration": 35,
    "start_time": "2022-10-11T19:23:36.260Z"
   },
   {
    "duration": 287,
    "start_time": "2022-10-11T19:23:36.297Z"
   },
   {
    "duration": 18,
    "start_time": "2022-10-11T19:23:36.586Z"
   },
   {
    "duration": 10,
    "start_time": "2022-10-11T19:23:36.609Z"
   },
   {
    "duration": 7,
    "start_time": "2022-10-11T19:23:36.621Z"
   },
   {
    "duration": 11,
    "start_time": "2022-10-11T19:23:36.630Z"
   },
   {
    "duration": 232,
    "start_time": "2022-10-11T19:23:36.642Z"
   },
   {
    "duration": 19,
    "start_time": "2022-10-11T19:23:36.876Z"
   },
   {
    "duration": 20,
    "start_time": "2022-10-11T19:23:36.897Z"
   },
   {
    "duration": 6,
    "start_time": "2022-10-11T19:23:36.920Z"
   },
   {
    "duration": 12,
    "start_time": "2022-10-11T19:23:36.928Z"
   },
   {
    "duration": 5,
    "start_time": "2022-10-11T19:23:36.943Z"
   },
   {
    "duration": 9,
    "start_time": "2022-10-11T19:23:36.950Z"
   },
   {
    "duration": 8,
    "start_time": "2022-10-11T19:23:36.961Z"
   },
   {
    "duration": 53,
    "start_time": "2022-10-11T19:23:36.971Z"
   },
   {
    "duration": 6,
    "start_time": "2022-10-11T19:23:37.029Z"
   },
   {
    "duration": 7,
    "start_time": "2022-10-11T19:23:37.038Z"
   },
   {
    "duration": 12,
    "start_time": "2022-10-11T19:23:37.048Z"
   },
   {
    "duration": 10,
    "start_time": "2022-10-11T19:23:37.061Z"
   },
   {
    "duration": 35,
    "start_time": "2022-10-11T19:23:37.073Z"
   },
   {
    "duration": 6,
    "start_time": "2022-10-11T19:23:37.110Z"
   },
   {
    "duration": 7,
    "start_time": "2022-10-11T19:23:37.118Z"
   },
   {
    "duration": 6,
    "start_time": "2022-10-11T19:23:37.127Z"
   },
   {
    "duration": 5,
    "start_time": "2022-10-11T19:23:37.135Z"
   },
   {
    "duration": 6,
    "start_time": "2022-10-11T19:23:37.142Z"
   },
   {
    "duration": 40,
    "start_time": "2022-10-11T19:23:37.150Z"
   },
   {
    "duration": 7,
    "start_time": "2022-10-11T19:23:37.193Z"
   },
   {
    "duration": 17,
    "start_time": "2022-10-11T19:23:37.205Z"
   },
   {
    "duration": 8,
    "start_time": "2022-10-11T19:23:37.224Z"
   },
   {
    "duration": 10,
    "start_time": "2022-10-11T19:23:37.233Z"
   },
   {
    "duration": 23,
    "start_time": "2022-10-11T19:23:37.245Z"
   },
   {
    "duration": 10,
    "start_time": "2022-10-11T19:23:37.270Z"
   },
   {
    "duration": 8,
    "start_time": "2022-10-11T19:23:37.282Z"
   },
   {
    "duration": 15,
    "start_time": "2022-10-11T19:23:37.300Z"
   },
   {
    "duration": 6,
    "start_time": "2022-10-11T19:23:37.317Z"
   },
   {
    "duration": 8,
    "start_time": "2022-10-11T19:23:37.325Z"
   },
   {
    "duration": 7,
    "start_time": "2022-10-11T19:23:37.335Z"
   },
   {
    "duration": 19,
    "start_time": "2022-10-11T19:23:37.344Z"
   },
   {
    "duration": 9,
    "start_time": "2022-10-11T19:23:37.365Z"
   },
   {
    "duration": 36,
    "start_time": "2022-10-11T19:23:37.377Z"
   },
   {
    "duration": 507,
    "start_time": "2022-10-11T19:23:37.416Z"
   },
   {
    "duration": 5,
    "start_time": "2022-10-11T19:23:37.925Z"
   },
   {
    "duration": 19,
    "start_time": "2022-10-11T19:23:37.931Z"
   },
   {
    "duration": 26,
    "start_time": "2022-10-11T19:23:37.952Z"
   },
   {
    "duration": 386,
    "start_time": "2022-10-11T19:23:37.989Z"
   },
   {
    "duration": 31,
    "start_time": "2022-10-11T19:23:38.378Z"
   },
   {
    "duration": 11,
    "start_time": "2022-10-11T19:23:38.411Z"
   },
   {
    "duration": 10,
    "start_time": "2022-10-11T19:23:38.424Z"
   },
   {
    "duration": 253,
    "start_time": "2022-10-11T19:23:38.436Z"
   },
   {
    "duration": 12,
    "start_time": "2022-10-11T19:23:38.693Z"
   },
   {
    "duration": 15,
    "start_time": "2022-10-11T19:23:38.709Z"
   },
   {
    "duration": 15,
    "start_time": "2022-10-11T19:23:38.726Z"
   },
   {
    "duration": 249,
    "start_time": "2022-10-11T19:23:38.743Z"
   },
   {
    "duration": 14,
    "start_time": "2022-10-11T19:23:39.000Z"
   },
   {
    "duration": 11,
    "start_time": "2022-10-11T19:23:39.017Z"
   },
   {
    "duration": 13,
    "start_time": "2022-10-11T19:23:39.030Z"
   },
   {
    "duration": 288,
    "start_time": "2022-10-11T19:23:39.046Z"
   },
   {
    "duration": 8,
    "start_time": "2022-10-11T19:23:39.336Z"
   },
   {
    "duration": 16,
    "start_time": "2022-10-11T19:23:39.346Z"
   },
   {
    "duration": 41,
    "start_time": "2022-10-11T19:23:39.365Z"
   },
   {
    "duration": 198,
    "start_time": "2022-10-11T19:23:39.414Z"
   },
   {
    "duration": 6,
    "start_time": "2022-10-11T19:23:39.615Z"
   },
   {
    "duration": 9,
    "start_time": "2022-10-11T19:23:39.623Z"
   },
   {
    "duration": 227,
    "start_time": "2022-10-11T19:23:39.634Z"
   },
   {
    "duration": 7,
    "start_time": "2022-10-11T19:23:39.862Z"
   },
   {
    "duration": 24,
    "start_time": "2022-10-11T19:23:39.871Z"
   },
   {
    "duration": 25,
    "start_time": "2022-10-11T19:23:39.896Z"
   },
   {
    "duration": 185,
    "start_time": "2022-10-11T19:23:39.923Z"
   },
   {
    "duration": 7,
    "start_time": "2022-10-11T19:23:40.110Z"
   },
   {
    "duration": 11,
    "start_time": "2022-10-11T19:23:40.123Z"
   },
   {
    "duration": 12,
    "start_time": "2022-10-11T19:23:40.137Z"
   },
   {
    "duration": 258,
    "start_time": "2022-10-11T19:23:40.151Z"
   },
   {
    "duration": 9,
    "start_time": "2022-10-11T19:23:40.411Z"
   },
   {
    "duration": 205,
    "start_time": "2022-10-11T19:23:40.422Z"
   },
   {
    "duration": 7,
    "start_time": "2022-10-11T19:23:40.628Z"
   },
   {
    "duration": 8,
    "start_time": "2022-10-11T19:23:40.637Z"
   },
   {
    "duration": 239,
    "start_time": "2022-10-11T19:23:40.647Z"
   },
   {
    "duration": 19,
    "start_time": "2022-10-11T19:23:40.889Z"
   },
   {
    "duration": 213,
    "start_time": "2022-10-11T19:23:40.910Z"
   },
   {
    "duration": 7,
    "start_time": "2022-10-11T19:23:41.126Z"
   },
   {
    "duration": 11,
    "start_time": "2022-10-11T19:23:41.135Z"
   },
   {
    "duration": 267,
    "start_time": "2022-10-11T19:23:41.148Z"
   },
   {
    "duration": 9,
    "start_time": "2022-10-11T19:23:41.419Z"
   },
   {
    "duration": 33,
    "start_time": "2022-10-11T19:23:41.431Z"
   },
   {
    "duration": 709,
    "start_time": "2022-10-11T19:23:41.466Z"
   },
   {
    "duration": 22,
    "start_time": "2022-10-11T19:23:42.177Z"
   },
   {
    "duration": 42,
    "start_time": "2022-10-11T19:23:42.201Z"
   },
   {
    "duration": 15,
    "start_time": "2022-10-11T19:23:42.246Z"
   },
   {
    "duration": 264,
    "start_time": "2022-10-11T19:23:42.263Z"
   },
   {
    "duration": 115,
    "start_time": "2022-10-11T19:23:42.529Z"
   },
   {
    "duration": 10,
    "start_time": "2022-10-11T19:23:42.646Z"
   },
   {
    "duration": 15,
    "start_time": "2022-10-11T19:23:42.658Z"
   },
   {
    "duration": 20,
    "start_time": "2022-10-11T19:23:42.689Z"
   },
   {
    "duration": 184,
    "start_time": "2022-10-11T19:23:42.711Z"
   },
   {
    "duration": 291,
    "start_time": "2022-10-11T19:23:42.898Z"
   },
   {
    "duration": 187,
    "start_time": "2022-10-11T19:23:43.199Z"
   },
   {
    "duration": 209,
    "start_time": "2022-10-11T19:23:43.390Z"
   },
   {
    "duration": 174,
    "start_time": "2022-10-11T19:23:43.605Z"
   },
   {
    "duration": 605,
    "start_time": "2022-10-11T19:23:43.781Z"
   },
   {
    "duration": 41,
    "start_time": "2022-10-11T19:23:44.389Z"
   },
   {
    "duration": 18,
    "start_time": "2022-10-11T19:23:44.433Z"
   },
   {
    "duration": 231,
    "start_time": "2022-10-11T19:23:44.452Z"
   },
   {
    "duration": 22,
    "start_time": "2022-10-11T19:23:44.686Z"
   },
   {
    "duration": 32,
    "start_time": "2022-10-11T19:23:50.308Z"
   },
   {
    "duration": 132,
    "start_time": "2022-10-11T20:42:28.454Z"
   },
   {
    "duration": 936,
    "start_time": "2022-10-11T20:52:33.270Z"
   },
   {
    "duration": 40,
    "start_time": "2022-10-11T20:52:34.208Z"
   },
   {
    "duration": 52,
    "start_time": "2022-10-11T20:52:34.253Z"
   },
   {
    "duration": 2356,
    "start_time": "2022-10-11T20:52:34.311Z"
   },
   {
    "duration": 10,
    "start_time": "2022-10-11T20:52:36.669Z"
   },
   {
    "duration": 20,
    "start_time": "2022-10-11T20:52:36.680Z"
   },
   {
    "duration": 46,
    "start_time": "2022-10-11T20:52:36.702Z"
   },
   {
    "duration": 12,
    "start_time": "2022-10-11T20:52:36.750Z"
   },
   {
    "duration": 60,
    "start_time": "2022-10-11T20:52:36.764Z"
   },
   {
    "duration": 19,
    "start_time": "2022-10-11T20:52:36.829Z"
   },
   {
    "duration": 15,
    "start_time": "2022-10-11T20:52:36.850Z"
   },
   {
    "duration": 7,
    "start_time": "2022-10-11T20:52:36.867Z"
   },
   {
    "duration": 9,
    "start_time": "2022-10-11T20:52:36.875Z"
   },
   {
    "duration": 296,
    "start_time": "2022-10-11T20:52:36.886Z"
   },
   {
    "duration": 6,
    "start_time": "2022-10-11T20:52:37.184Z"
   },
   {
    "duration": 51,
    "start_time": "2022-10-11T20:52:37.198Z"
   },
   {
    "duration": 9,
    "start_time": "2022-10-11T20:52:37.251Z"
   },
   {
    "duration": 12,
    "start_time": "2022-10-11T20:52:37.262Z"
   },
   {
    "duration": 286,
    "start_time": "2022-10-11T20:52:37.276Z"
   },
   {
    "duration": 5,
    "start_time": "2022-10-11T20:52:37.564Z"
   },
   {
    "duration": 5,
    "start_time": "2022-10-11T20:52:37.571Z"
   },
   {
    "duration": 40,
    "start_time": "2022-10-11T20:52:37.588Z"
   },
   {
    "duration": 22,
    "start_time": "2022-10-11T20:52:37.631Z"
   },
   {
    "duration": 6,
    "start_time": "2022-10-11T20:52:37.655Z"
   },
   {
    "duration": 7,
    "start_time": "2022-10-11T20:52:37.662Z"
   },
   {
    "duration": 6,
    "start_time": "2022-10-11T20:52:37.670Z"
   },
   {
    "duration": 7,
    "start_time": "2022-10-11T20:52:37.678Z"
   },
   {
    "duration": 47,
    "start_time": "2022-10-11T20:52:37.691Z"
   },
   {
    "duration": 9,
    "start_time": "2022-10-11T20:52:37.744Z"
   },
   {
    "duration": 11,
    "start_time": "2022-10-11T20:52:37.755Z"
   },
   {
    "duration": 9,
    "start_time": "2022-10-11T20:52:37.768Z"
   },
   {
    "duration": 47,
    "start_time": "2022-10-11T20:52:37.779Z"
   },
   {
    "duration": 18,
    "start_time": "2022-10-11T20:52:37.835Z"
   },
   {
    "duration": 14,
    "start_time": "2022-10-11T20:52:37.855Z"
   },
   {
    "duration": 12,
    "start_time": "2022-10-11T20:52:37.870Z"
   },
   {
    "duration": 25,
    "start_time": "2022-10-11T20:52:37.884Z"
   },
   {
    "duration": 37,
    "start_time": "2022-10-11T20:52:37.911Z"
   },
   {
    "duration": 6,
    "start_time": "2022-10-11T20:52:37.950Z"
   },
   {
    "duration": 6,
    "start_time": "2022-10-11T20:52:37.958Z"
   },
   {
    "duration": 11,
    "start_time": "2022-10-11T20:52:37.966Z"
   },
   {
    "duration": 8,
    "start_time": "2022-10-11T20:52:37.979Z"
   },
   {
    "duration": 61,
    "start_time": "2022-10-11T20:52:37.989Z"
   },
   {
    "duration": 7,
    "start_time": "2022-10-11T20:52:38.052Z"
   },
   {
    "duration": 7,
    "start_time": "2022-10-11T20:52:38.060Z"
   },
   {
    "duration": 8,
    "start_time": "2022-10-11T20:52:38.068Z"
   },
   {
    "duration": 6,
    "start_time": "2022-10-11T20:52:38.078Z"
   },
   {
    "duration": 14,
    "start_time": "2022-10-11T20:52:38.086Z"
   },
   {
    "duration": 43,
    "start_time": "2022-10-11T20:52:38.102Z"
   },
   {
    "duration": 9,
    "start_time": "2022-10-11T20:52:38.147Z"
   },
   {
    "duration": 11,
    "start_time": "2022-10-11T20:52:38.158Z"
   },
   {
    "duration": 8,
    "start_time": "2022-10-11T20:52:38.171Z"
   },
   {
    "duration": 19,
    "start_time": "2022-10-11T20:52:38.181Z"
   },
   {
    "duration": 590,
    "start_time": "2022-10-11T20:52:38.202Z"
   },
   {
    "duration": 8,
    "start_time": "2022-10-11T20:52:38.797Z"
   },
   {
    "duration": 49,
    "start_time": "2022-10-11T20:52:38.810Z"
   },
   {
    "duration": 354,
    "start_time": "2022-10-11T20:52:38.861Z"
   },
   {
    "duration": 19,
    "start_time": "2022-10-11T20:52:39.228Z"
   },
   {
    "duration": 14,
    "start_time": "2022-10-11T20:52:39.253Z"
   },
   {
    "duration": 13,
    "start_time": "2022-10-11T20:52:39.269Z"
   },
   {
    "duration": 279,
    "start_time": "2022-10-11T20:52:39.283Z"
   },
   {
    "duration": 7,
    "start_time": "2022-10-11T20:52:39.564Z"
   },
   {
    "duration": 28,
    "start_time": "2022-10-11T20:52:39.573Z"
   },
   {
    "duration": 61,
    "start_time": "2022-10-11T20:52:39.602Z"
   },
   {
    "duration": 287,
    "start_time": "2022-10-11T20:52:39.665Z"
   },
   {
    "duration": 9,
    "start_time": "2022-10-11T20:52:39.954Z"
   },
   {
    "duration": 32,
    "start_time": "2022-10-11T20:52:39.965Z"
   },
   {
    "duration": 16,
    "start_time": "2022-10-11T20:52:39.999Z"
   },
   {
    "duration": 397,
    "start_time": "2022-10-11T20:52:40.017Z"
   },
   {
    "duration": 12,
    "start_time": "2022-10-11T20:52:40.416Z"
   },
   {
    "duration": 23,
    "start_time": "2022-10-11T20:52:40.430Z"
   },
   {
    "duration": 10,
    "start_time": "2022-10-11T20:52:40.455Z"
   },
   {
    "duration": 206,
    "start_time": "2022-10-11T20:52:40.467Z"
   },
   {
    "duration": 42,
    "start_time": "2022-10-11T20:52:40.675Z"
   },
   {
    "duration": 12,
    "start_time": "2022-10-11T20:52:40.723Z"
   },
   {
    "duration": 262,
    "start_time": "2022-10-11T20:52:40.737Z"
   },
   {
    "duration": 9,
    "start_time": "2022-10-11T20:52:41.001Z"
   },
   {
    "duration": 42,
    "start_time": "2022-10-11T20:52:41.013Z"
   },
   {
    "duration": 10,
    "start_time": "2022-10-11T20:52:41.057Z"
   },
   {
    "duration": 212,
    "start_time": "2022-10-11T20:52:41.069Z"
   },
   {
    "duration": 9,
    "start_time": "2022-10-11T20:52:41.284Z"
   },
   {
    "duration": 56,
    "start_time": "2022-10-11T20:52:41.294Z"
   },
   {
    "duration": 10,
    "start_time": "2022-10-11T20:52:41.357Z"
   },
   {
    "duration": 274,
    "start_time": "2022-10-11T20:52:41.369Z"
   },
   {
    "duration": 12,
    "start_time": "2022-10-11T20:52:41.657Z"
   },
   {
    "duration": 279,
    "start_time": "2022-10-11T20:52:41.670Z"
   },
   {
    "duration": 11,
    "start_time": "2022-10-11T20:52:41.951Z"
   },
   {
    "duration": 18,
    "start_time": "2022-10-11T20:52:41.964Z"
   },
   {
    "duration": 255,
    "start_time": "2022-10-11T20:52:41.984Z"
   },
   {
    "duration": 10,
    "start_time": "2022-10-11T20:52:42.241Z"
   },
   {
    "duration": 293,
    "start_time": "2022-10-11T20:52:42.253Z"
   },
   {
    "duration": 8,
    "start_time": "2022-10-11T20:52:42.549Z"
   },
   {
    "duration": 25,
    "start_time": "2022-10-11T20:52:42.560Z"
   },
   {
    "duration": 322,
    "start_time": "2022-10-11T20:52:42.588Z"
   },
   {
    "duration": 12,
    "start_time": "2022-10-11T20:52:42.916Z"
   },
   {
    "duration": 73,
    "start_time": "2022-10-11T20:52:42.934Z"
   },
   {
    "duration": 774,
    "start_time": "2022-10-11T20:52:43.010Z"
   },
   {
    "duration": 41,
    "start_time": "2022-10-11T20:52:43.786Z"
   },
   {
    "duration": 23,
    "start_time": "2022-10-11T20:52:43.829Z"
   },
   {
    "duration": 6,
    "start_time": "2022-10-11T20:52:43.854Z"
   },
   {
    "duration": 209,
    "start_time": "2022-10-11T20:52:43.862Z"
   },
   {
    "duration": 114,
    "start_time": "2022-10-11T20:52:44.074Z"
   },
   {
    "duration": 13,
    "start_time": "2022-10-11T20:52:44.192Z"
   },
   {
    "duration": 48,
    "start_time": "2022-10-11T20:52:44.210Z"
   },
   {
    "duration": 16,
    "start_time": "2022-10-11T20:52:44.261Z"
   },
   {
    "duration": 208,
    "start_time": "2022-10-11T20:52:44.279Z"
   },
   {
    "duration": 321,
    "start_time": "2022-10-11T20:52:44.491Z"
   },
   {
    "duration": 178,
    "start_time": "2022-10-11T20:52:44.819Z"
   },
   {
    "duration": 264,
    "start_time": "2022-10-11T20:52:44.999Z"
   },
   {
    "duration": 261,
    "start_time": "2022-10-11T20:52:45.265Z"
   },
   {
    "duration": 603,
    "start_time": "2022-10-11T20:52:45.534Z"
   },
   {
    "duration": 37,
    "start_time": "2022-10-11T20:52:46.141Z"
   },
   {
    "duration": 30,
    "start_time": "2022-10-11T20:52:46.180Z"
   },
   {
    "duration": 252,
    "start_time": "2022-10-11T20:52:46.218Z"
   },
   {
    "duration": 35,
    "start_time": "2022-10-11T20:52:46.471Z"
   },
   {
    "duration": 1018,
    "start_time": "2022-10-12T11:56:35.747Z"
   },
   {
    "duration": 27,
    "start_time": "2022-10-12T11:56:36.767Z"
   },
   {
    "duration": 18,
    "start_time": "2022-10-12T11:56:36.795Z"
   },
   {
    "duration": 1650,
    "start_time": "2022-10-12T11:56:36.814Z"
   },
   {
    "duration": 8,
    "start_time": "2022-10-12T11:56:38.466Z"
   },
   {
    "duration": 3,
    "start_time": "2022-10-12T11:56:38.476Z"
   },
   {
    "duration": 6,
    "start_time": "2022-10-12T11:56:38.480Z"
   },
   {
    "duration": 6,
    "start_time": "2022-10-12T11:56:38.487Z"
   },
   {
    "duration": 33,
    "start_time": "2022-10-12T11:56:38.495Z"
   },
   {
    "duration": 4,
    "start_time": "2022-10-12T11:56:38.530Z"
   },
   {
    "duration": 13,
    "start_time": "2022-10-12T11:56:38.535Z"
   },
   {
    "duration": 6,
    "start_time": "2022-10-12T11:56:38.549Z"
   },
   {
    "duration": 6,
    "start_time": "2022-10-12T11:56:38.556Z"
   },
   {
    "duration": 188,
    "start_time": "2022-10-12T11:56:38.563Z"
   },
   {
    "duration": 4,
    "start_time": "2022-10-12T11:56:38.753Z"
   },
   {
    "duration": 6,
    "start_time": "2022-10-12T11:56:38.758Z"
   },
   {
    "duration": 7,
    "start_time": "2022-10-12T11:56:38.766Z"
   },
   {
    "duration": 9,
    "start_time": "2022-10-12T11:56:38.775Z"
   },
   {
    "duration": 235,
    "start_time": "2022-10-12T11:56:48.911Z"
   },
   {
    "duration": 4,
    "start_time": "2022-10-12T11:59:46.180Z"
   },
   {
    "duration": 5,
    "start_time": "2022-10-12T12:00:56.637Z"
   },
   {
    "duration": 5,
    "start_time": "2022-10-12T12:02:07.153Z"
   },
   {
    "duration": 4,
    "start_time": "2022-10-12T12:02:12.327Z"
   },
   {
    "duration": 5,
    "start_time": "2022-10-12T12:02:18.449Z"
   },
   {
    "duration": 4,
    "start_time": "2022-10-12T12:02:43.844Z"
   },
   {
    "duration": 5,
    "start_time": "2022-10-12T12:03:12.421Z"
   },
   {
    "duration": 44,
    "start_time": "2022-10-12T12:16:33.888Z"
   },
   {
    "duration": 7,
    "start_time": "2022-10-12T12:17:03.927Z"
   },
   {
    "duration": 4,
    "start_time": "2022-10-12T12:17:15.487Z"
   },
   {
    "duration": 4,
    "start_time": "2022-10-12T12:17:21.591Z"
   },
   {
    "duration": 6,
    "start_time": "2022-10-12T12:18:29.588Z"
   },
   {
    "duration": 5,
    "start_time": "2022-10-12T12:28:07.424Z"
   },
   {
    "duration": 5,
    "start_time": "2022-10-12T12:28:29.165Z"
   },
   {
    "duration": 5,
    "start_time": "2022-10-12T12:29:27.237Z"
   },
   {
    "duration": 4,
    "start_time": "2022-10-12T12:29:37.879Z"
   },
   {
    "duration": 5,
    "start_time": "2022-10-12T12:29:48.826Z"
   },
   {
    "duration": 710,
    "start_time": "2022-10-12T12:30:18.194Z"
   },
   {
    "duration": 36,
    "start_time": "2022-10-12T12:30:18.906Z"
   },
   {
    "duration": 16,
    "start_time": "2022-10-12T12:30:18.944Z"
   },
   {
    "duration": 1687,
    "start_time": "2022-10-12T12:30:18.962Z"
   },
   {
    "duration": 9,
    "start_time": "2022-10-12T12:30:20.650Z"
   },
   {
    "duration": 13,
    "start_time": "2022-10-12T12:30:20.660Z"
   },
   {
    "duration": 11,
    "start_time": "2022-10-12T12:30:20.674Z"
   },
   {
    "duration": 12,
    "start_time": "2022-10-12T12:30:20.687Z"
   },
   {
    "duration": 45,
    "start_time": "2022-10-12T12:30:20.701Z"
   },
   {
    "duration": 4,
    "start_time": "2022-10-12T12:30:20.749Z"
   },
   {
    "duration": 13,
    "start_time": "2022-10-12T12:30:20.755Z"
   },
   {
    "duration": 9,
    "start_time": "2022-10-12T12:30:20.769Z"
   },
   {
    "duration": 10,
    "start_time": "2022-10-12T12:30:20.779Z"
   },
   {
    "duration": 184,
    "start_time": "2022-10-12T12:30:20.791Z"
   },
   {
    "duration": 4,
    "start_time": "2022-10-12T12:30:20.976Z"
   },
   {
    "duration": 12,
    "start_time": "2022-10-12T12:30:20.982Z"
   },
   {
    "duration": 8,
    "start_time": "2022-10-12T12:30:20.995Z"
   },
   {
    "duration": 19,
    "start_time": "2022-10-12T12:30:21.004Z"
   },
   {
    "duration": 190,
    "start_time": "2022-10-12T12:30:21.025Z"
   },
   {
    "duration": 7,
    "start_time": "2022-10-12T12:30:21.217Z"
   },
   {
    "duration": 12,
    "start_time": "2022-10-12T12:30:21.225Z"
   },
   {
    "duration": 5,
    "start_time": "2022-10-12T12:30:29.031Z"
   },
   {
    "duration": 673,
    "start_time": "2022-10-12T12:30:46.272Z"
   },
   {
    "duration": 30,
    "start_time": "2022-10-12T12:30:46.947Z"
   },
   {
    "duration": 18,
    "start_time": "2022-10-12T12:30:46.979Z"
   },
   {
    "duration": 1788,
    "start_time": "2022-10-12T12:30:47.000Z"
   },
   {
    "duration": 9,
    "start_time": "2022-10-12T12:30:48.791Z"
   },
   {
    "duration": 9,
    "start_time": "2022-10-12T12:30:48.802Z"
   },
   {
    "duration": 5,
    "start_time": "2022-10-12T12:30:48.812Z"
   },
   {
    "duration": 6,
    "start_time": "2022-10-12T12:30:48.819Z"
   },
   {
    "duration": 28,
    "start_time": "2022-10-12T12:30:48.826Z"
   },
   {
    "duration": 4,
    "start_time": "2022-10-12T12:30:48.857Z"
   },
   {
    "duration": 19,
    "start_time": "2022-10-12T12:30:48.863Z"
   },
   {
    "duration": 9,
    "start_time": "2022-10-12T12:30:48.884Z"
   },
   {
    "duration": 31,
    "start_time": "2022-10-12T12:30:48.895Z"
   },
   {
    "duration": 282,
    "start_time": "2022-10-12T12:30:48.928Z"
   },
   {
    "duration": 11,
    "start_time": "2022-10-12T12:30:49.211Z"
   },
   {
    "duration": 14,
    "start_time": "2022-10-12T12:30:49.224Z"
   },
   {
    "duration": 9,
    "start_time": "2022-10-12T12:30:49.240Z"
   },
   {
    "duration": 11,
    "start_time": "2022-10-12T12:30:49.251Z"
   },
   {
    "duration": 200,
    "start_time": "2022-10-12T12:30:49.263Z"
   },
   {
    "duration": 4,
    "start_time": "2022-10-12T12:30:49.465Z"
   },
   {
    "duration": 10,
    "start_time": "2022-10-12T12:30:49.470Z"
   },
   {
    "duration": 6,
    "start_time": "2022-10-12T12:32:52.126Z"
   },
   {
    "duration": 5,
    "start_time": "2022-10-12T12:33:06.291Z"
   },
   {
    "duration": 9,
    "start_time": "2022-10-12T12:41:05.202Z"
   },
   {
    "duration": 8,
    "start_time": "2022-10-12T12:41:10.611Z"
   },
   {
    "duration": 8,
    "start_time": "2022-10-12T12:41:14.588Z"
   },
   {
    "duration": 8,
    "start_time": "2022-10-12T12:41:34.883Z"
   },
   {
    "duration": 71,
    "start_time": "2022-10-12T12:43:23.645Z"
   },
   {
    "duration": 11,
    "start_time": "2022-10-12T12:43:33.834Z"
   },
   {
    "duration": 10,
    "start_time": "2022-10-12T12:44:32.120Z"
   },
   {
    "duration": 436,
    "start_time": "2022-10-12T12:45:01.722Z"
   },
   {
    "duration": 12,
    "start_time": "2022-10-12T12:45:21.038Z"
   },
   {
    "duration": 8,
    "start_time": "2022-10-12T12:45:45.625Z"
   },
   {
    "duration": 11,
    "start_time": "2022-10-12T12:45:49.578Z"
   },
   {
    "duration": 7,
    "start_time": "2022-10-12T12:51:28.505Z"
   },
   {
    "duration": 9,
    "start_time": "2022-10-12T12:52:22.222Z"
   },
   {
    "duration": 9,
    "start_time": "2022-10-12T12:54:10.235Z"
   },
   {
    "duration": 6,
    "start_time": "2022-10-12T13:12:03.887Z"
   },
   {
    "duration": 7,
    "start_time": "2022-10-12T13:13:37.840Z"
   },
   {
    "duration": 5,
    "start_time": "2022-10-12T13:13:50.015Z"
   },
   {
    "duration": 78,
    "start_time": "2022-10-12T13:14:00.111Z"
   },
   {
    "duration": 54,
    "start_time": "2022-10-12T13:14:03.494Z"
   },
   {
    "duration": 8,
    "start_time": "2022-10-12T13:14:08.563Z"
   },
   {
    "duration": 5,
    "start_time": "2022-10-12T13:14:24.585Z"
   },
   {
    "duration": 5,
    "start_time": "2022-10-12T13:14:39.138Z"
   },
   {
    "duration": 9,
    "start_time": "2022-10-12T13:14:48.033Z"
   },
   {
    "duration": 6,
    "start_time": "2022-10-12T13:15:14.894Z"
   },
   {
    "duration": 7,
    "start_time": "2022-10-12T13:16:02.610Z"
   },
   {
    "duration": 6,
    "start_time": "2022-10-12T13:16:33.063Z"
   },
   {
    "duration": 15,
    "start_time": "2022-10-12T13:16:52.551Z"
   },
   {
    "duration": 4,
    "start_time": "2022-10-12T13:17:03.240Z"
   },
   {
    "duration": 7,
    "start_time": "2022-10-12T13:17:06.220Z"
   },
   {
    "duration": 127,
    "start_time": "2022-10-12T13:17:22.961Z"
   },
   {
    "duration": 9,
    "start_time": "2022-10-12T14:28:19.490Z"
   },
   {
    "duration": 7,
    "start_time": "2022-10-12T14:29:04.161Z"
   },
   {
    "duration": 6,
    "start_time": "2022-10-12T14:29:32.792Z"
   },
   {
    "duration": 5,
    "start_time": "2022-10-12T14:38:05.186Z"
   },
   {
    "duration": 6,
    "start_time": "2022-10-12T14:42:37.429Z"
   },
   {
    "duration": 9,
    "start_time": "2022-10-12T14:43:39.977Z"
   },
   {
    "duration": 7,
    "start_time": "2022-10-12T14:43:53.215Z"
   },
   {
    "duration": 7,
    "start_time": "2022-10-12T14:43:59.684Z"
   },
   {
    "duration": 7,
    "start_time": "2022-10-12T14:44:55.483Z"
   },
   {
    "duration": 7,
    "start_time": "2022-10-12T14:45:14.142Z"
   },
   {
    "duration": 8,
    "start_time": "2022-10-12T14:45:54.671Z"
   },
   {
    "duration": 93,
    "start_time": "2022-10-12T14:51:08.584Z"
   },
   {
    "duration": 22,
    "start_time": "2022-10-12T14:54:58.337Z"
   },
   {
    "duration": 6,
    "start_time": "2022-10-12T14:59:43.665Z"
   },
   {
    "duration": 7,
    "start_time": "2022-10-12T14:59:52.218Z"
   },
   {
    "duration": 76,
    "start_time": "2022-10-12T15:00:33.390Z"
   },
   {
    "duration": 7,
    "start_time": "2022-10-12T15:01:17.487Z"
   },
   {
    "duration": 8,
    "start_time": "2022-10-12T15:06:06.429Z"
   },
   {
    "duration": 9,
    "start_time": "2022-10-12T15:08:06.363Z"
   },
   {
    "duration": 9,
    "start_time": "2022-10-12T15:11:20.874Z"
   },
   {
    "duration": 3,
    "start_time": "2022-10-12T15:11:52.815Z"
   },
   {
    "duration": 10,
    "start_time": "2022-10-12T15:11:57.501Z"
   },
   {
    "duration": 9,
    "start_time": "2022-10-12T15:12:22.170Z"
   },
   {
    "duration": 9,
    "start_time": "2022-10-12T15:12:56.055Z"
   },
   {
    "duration": 2,
    "start_time": "2022-10-12T15:13:35.880Z"
   },
   {
    "duration": 10,
    "start_time": "2022-10-12T15:13:38.318Z"
   },
   {
    "duration": 4,
    "start_time": "2022-10-12T15:14:11.641Z"
   },
   {
    "duration": 4,
    "start_time": "2022-10-12T15:14:13.793Z"
   },
   {
    "duration": 4,
    "start_time": "2022-10-12T15:14:39.531Z"
   },
   {
    "duration": 4,
    "start_time": "2022-10-12T15:14:45.558Z"
   },
   {
    "duration": 24,
    "start_time": "2022-10-12T15:16:33.188Z"
   },
   {
    "duration": 4,
    "start_time": "2022-10-12T15:17:02.736Z"
   },
   {
    "duration": 20,
    "start_time": "2022-10-12T15:17:06.748Z"
   },
   {
    "duration": 7,
    "start_time": "2022-10-12T15:17:11.502Z"
   },
   {
    "duration": 10,
    "start_time": "2022-10-12T15:18:41.395Z"
   },
   {
    "duration": 653,
    "start_time": "2022-10-12T15:18:54.367Z"
   },
   {
    "duration": 26,
    "start_time": "2022-10-12T15:18:55.022Z"
   },
   {
    "duration": 28,
    "start_time": "2022-10-12T15:18:55.049Z"
   },
   {
    "duration": 1674,
    "start_time": "2022-10-12T15:18:55.079Z"
   },
   {
    "duration": 10,
    "start_time": "2022-10-12T15:18:56.755Z"
   },
   {
    "duration": 6,
    "start_time": "2022-10-12T15:18:56.767Z"
   },
   {
    "duration": 8,
    "start_time": "2022-10-12T15:18:56.774Z"
   },
   {
    "duration": 7,
    "start_time": "2022-10-12T15:18:56.783Z"
   },
   {
    "duration": 31,
    "start_time": "2022-10-12T15:18:56.791Z"
   },
   {
    "duration": 4,
    "start_time": "2022-10-12T15:18:56.824Z"
   },
   {
    "duration": 17,
    "start_time": "2022-10-12T15:18:56.830Z"
   },
   {
    "duration": 7,
    "start_time": "2022-10-12T15:18:56.848Z"
   },
   {
    "duration": 8,
    "start_time": "2022-10-12T15:18:56.856Z"
   },
   {
    "duration": 190,
    "start_time": "2022-10-12T15:18:56.865Z"
   },
   {
    "duration": 5,
    "start_time": "2022-10-12T15:18:57.057Z"
   },
   {
    "duration": 7,
    "start_time": "2022-10-12T15:18:57.063Z"
   },
   {
    "duration": 6,
    "start_time": "2022-10-12T15:18:57.071Z"
   },
   {
    "duration": 22,
    "start_time": "2022-10-12T15:18:57.079Z"
   },
   {
    "duration": 203,
    "start_time": "2022-10-12T15:18:57.103Z"
   },
   {
    "duration": 4,
    "start_time": "2022-10-12T15:18:57.308Z"
   },
   {
    "duration": 6,
    "start_time": "2022-10-12T15:18:57.321Z"
   },
   {
    "duration": 10,
    "start_time": "2022-10-12T15:18:57.328Z"
   },
   {
    "duration": 6,
    "start_time": "2022-10-12T15:18:57.339Z"
   },
   {
    "duration": 9,
    "start_time": "2022-10-12T15:18:57.346Z"
   },
   {
    "duration": 8,
    "start_time": "2022-10-12T15:18:57.356Z"
   },
   {
    "duration": 9,
    "start_time": "2022-10-12T15:18:57.366Z"
   },
   {
    "duration": 11,
    "start_time": "2022-10-12T15:18:57.376Z"
   },
   {
    "duration": 9,
    "start_time": "2022-10-12T15:18:57.391Z"
   },
   {
    "duration": 22,
    "start_time": "2022-10-12T15:18:57.401Z"
   },
   {
    "duration": 9,
    "start_time": "2022-10-12T15:18:57.424Z"
   },
   {
    "duration": 10,
    "start_time": "2022-10-12T15:18:57.435Z"
   },
   {
    "duration": 18,
    "start_time": "2022-10-12T15:18:57.446Z"
   },
   {
    "duration": 6,
    "start_time": "2022-10-12T15:18:57.465Z"
   },
   {
    "duration": 8,
    "start_time": "2022-10-12T15:18:57.473Z"
   },
   {
    "duration": 16,
    "start_time": "2022-10-12T15:18:57.482Z"
   },
   {
    "duration": 6,
    "start_time": "2022-10-12T15:18:57.500Z"
   },
   {
    "duration": 4,
    "start_time": "2022-10-12T15:18:57.522Z"
   },
   {
    "duration": 7,
    "start_time": "2022-10-12T15:18:57.528Z"
   },
   {
    "duration": 10,
    "start_time": "2022-10-12T15:18:57.537Z"
   },
   {
    "duration": 12,
    "start_time": "2022-10-12T15:18:57.549Z"
   },
   {
    "duration": 9,
    "start_time": "2022-10-12T15:18:57.562Z"
   },
   {
    "duration": 11,
    "start_time": "2022-10-12T15:18:57.573Z"
   },
   {
    "duration": 10,
    "start_time": "2022-10-12T15:18:57.585Z"
   },
   {
    "duration": 12,
    "start_time": "2022-10-12T15:18:57.596Z"
   },
   {
    "duration": 22,
    "start_time": "2022-10-12T15:18:57.609Z"
   },
   {
    "duration": 87,
    "start_time": "2022-10-12T15:18:57.633Z"
   },
   {
    "duration": 22,
    "start_time": "2022-10-12T15:18:57.722Z"
   },
   {
    "duration": 9,
    "start_time": "2022-10-12T15:19:28.922Z"
   },
   {
    "duration": 8,
    "start_time": "2022-10-12T15:19:55.770Z"
   },
   {
    "duration": 11,
    "start_time": "2022-10-12T15:27:05.343Z"
   },
   {
    "duration": 9,
    "start_time": "2022-10-12T15:27:23.381Z"
   },
   {
    "duration": 82,
    "start_time": "2022-10-12T15:27:39.410Z"
   },
   {
    "duration": 63,
    "start_time": "2022-10-12T15:27:49.139Z"
   },
   {
    "duration": 3,
    "start_time": "2022-10-12T15:27:57.832Z"
   },
   {
    "duration": 3,
    "start_time": "2022-10-12T15:28:03.685Z"
   },
   {
    "duration": 4,
    "start_time": "2022-10-12T15:28:07.774Z"
   },
   {
    "duration": 1614,
    "start_time": "2022-10-12T15:28:15.213Z"
   },
   {
    "duration": 8,
    "start_time": "2022-10-12T15:28:55.536Z"
   },
   {
    "duration": 4,
    "start_time": "2022-10-12T15:28:58.616Z"
   },
   {
    "duration": 4,
    "start_time": "2022-10-12T15:29:40.684Z"
   },
   {
    "duration": 3,
    "start_time": "2022-10-12T15:29:43.921Z"
   },
   {
    "duration": 5,
    "start_time": "2022-10-12T15:29:45.495Z"
   },
   {
    "duration": 3,
    "start_time": "2022-10-12T15:29:47.171Z"
   },
   {
    "duration": 28,
    "start_time": "2022-10-12T15:29:49.099Z"
   },
   {
    "duration": 4,
    "start_time": "2022-10-12T15:29:51.547Z"
   },
   {
    "duration": 5,
    "start_time": "2022-10-12T15:30:01.241Z"
   },
   {
    "duration": 47,
    "start_time": "2022-10-12T15:30:55.050Z"
   },
   {
    "duration": 3,
    "start_time": "2022-10-12T15:34:03.928Z"
   },
   {
    "duration": 4,
    "start_time": "2022-10-12T15:34:07.219Z"
   },
   {
    "duration": 5,
    "start_time": "2022-10-12T15:34:11.606Z"
   },
   {
    "duration": 740,
    "start_time": "2022-10-12T15:34:27.021Z"
   },
   {
    "duration": 29,
    "start_time": "2022-10-12T15:34:27.764Z"
   },
   {
    "duration": 14,
    "start_time": "2022-10-12T15:34:27.794Z"
   },
   {
    "duration": 1798,
    "start_time": "2022-10-12T15:34:27.810Z"
   },
   {
    "duration": 9,
    "start_time": "2022-10-12T15:34:29.610Z"
   },
   {
    "duration": 9,
    "start_time": "2022-10-12T15:34:29.620Z"
   },
   {
    "duration": 5,
    "start_time": "2022-10-12T15:34:29.630Z"
   },
   {
    "duration": 7,
    "start_time": "2022-10-12T15:34:29.637Z"
   },
   {
    "duration": 30,
    "start_time": "2022-10-12T15:34:29.645Z"
   },
   {
    "duration": 4,
    "start_time": "2022-10-12T15:34:29.677Z"
   },
   {
    "duration": 10,
    "start_time": "2022-10-12T15:34:29.683Z"
   },
   {
    "duration": 6,
    "start_time": "2022-10-12T15:34:29.694Z"
   },
   {
    "duration": 24,
    "start_time": "2022-10-12T15:34:29.701Z"
   },
   {
    "duration": 191,
    "start_time": "2022-10-12T15:34:29.726Z"
   },
   {
    "duration": 5,
    "start_time": "2022-10-12T15:34:29.921Z"
   },
   {
    "duration": 6,
    "start_time": "2022-10-12T15:34:29.928Z"
   },
   {
    "duration": 8,
    "start_time": "2022-10-12T15:34:29.936Z"
   },
   {
    "duration": 12,
    "start_time": "2022-10-12T15:34:29.945Z"
   },
   {
    "duration": 204,
    "start_time": "2022-10-12T15:34:29.958Z"
   },
   {
    "duration": 4,
    "start_time": "2022-10-12T15:34:30.164Z"
   },
   {
    "duration": 24,
    "start_time": "2022-10-12T15:34:30.170Z"
   },
   {
    "duration": 18,
    "start_time": "2022-10-12T15:34:30.196Z"
   },
   {
    "duration": 18,
    "start_time": "2022-10-12T15:34:30.215Z"
   },
   {
    "duration": 15,
    "start_time": "2022-10-12T15:34:30.234Z"
   },
   {
    "duration": 46,
    "start_time": "2022-10-12T15:34:30.251Z"
   },
   {
    "duration": 21,
    "start_time": "2022-10-12T15:34:30.299Z"
   },
   {
    "duration": 29,
    "start_time": "2022-10-12T15:34:30.322Z"
   },
   {
    "duration": 34,
    "start_time": "2022-10-12T15:34:30.354Z"
   },
   {
    "duration": 45,
    "start_time": "2022-10-12T15:34:30.390Z"
   },
   {
    "duration": 41,
    "start_time": "2022-10-12T15:34:30.437Z"
   },
   {
    "duration": 29,
    "start_time": "2022-10-12T15:34:30.479Z"
   },
   {
    "duration": 43,
    "start_time": "2022-10-12T15:34:30.510Z"
   },
   {
    "duration": 39,
    "start_time": "2022-10-12T15:34:30.554Z"
   },
   {
    "duration": 22,
    "start_time": "2022-10-12T15:34:30.595Z"
   },
   {
    "duration": 64,
    "start_time": "2022-10-12T15:34:30.619Z"
   },
   {
    "duration": 12,
    "start_time": "2022-10-12T15:34:30.685Z"
   },
   {
    "duration": 16,
    "start_time": "2022-10-12T15:34:30.698Z"
   },
   {
    "duration": 11,
    "start_time": "2022-10-12T15:34:30.715Z"
   },
   {
    "duration": 13,
    "start_time": "2022-10-12T15:34:30.727Z"
   },
   {
    "duration": 27,
    "start_time": "2022-10-12T15:34:30.742Z"
   },
   {
    "duration": 26,
    "start_time": "2022-10-12T15:34:30.771Z"
   },
   {
    "duration": 21,
    "start_time": "2022-10-12T15:34:30.798Z"
   },
   {
    "duration": 22,
    "start_time": "2022-10-12T15:34:30.821Z"
   },
   {
    "duration": 31,
    "start_time": "2022-10-12T15:34:30.845Z"
   },
   {
    "duration": 24,
    "start_time": "2022-10-12T15:34:30.877Z"
   },
   {
    "duration": 95,
    "start_time": "2022-10-12T15:34:30.902Z"
   },
   {
    "duration": 28,
    "start_time": "2022-10-12T15:34:30.999Z"
   },
   {
    "duration": 8,
    "start_time": "2022-10-12T15:34:31.028Z"
   },
   {
    "duration": 22,
    "start_time": "2022-10-12T15:34:31.037Z"
   },
   {
    "duration": 24,
    "start_time": "2022-10-12T15:34:31.060Z"
   },
   {
    "duration": 5,
    "start_time": "2022-10-12T15:34:31.086Z"
   },
   {
    "duration": 4,
    "start_time": "2022-10-12T15:34:38.406Z"
   },
   {
    "duration": 3,
    "start_time": "2022-10-12T15:34:42.458Z"
   },
   {
    "duration": 3,
    "start_time": "2022-10-12T15:34:45.305Z"
   },
   {
    "duration": 6,
    "start_time": "2022-10-12T15:34:48.239Z"
   },
   {
    "duration": 5,
    "start_time": "2022-10-12T15:34:58.283Z"
   },
   {
    "duration": 66,
    "start_time": "2022-10-12T15:36:19.305Z"
   },
   {
    "duration": 73,
    "start_time": "2022-10-12T15:36:25.054Z"
   },
   {
    "duration": 5,
    "start_time": "2022-10-12T15:36:28.204Z"
   },
   {
    "duration": 7,
    "start_time": "2022-10-12T15:38:17.193Z"
   },
   {
    "duration": 7,
    "start_time": "2022-10-12T15:39:22.563Z"
   },
   {
    "duration": 5,
    "start_time": "2022-10-12T15:40:43.281Z"
   },
   {
    "duration": 4,
    "start_time": "2022-10-12T15:40:59.659Z"
   },
   {
    "duration": 5,
    "start_time": "2022-10-12T15:41:10.610Z"
   },
   {
    "duration": 5,
    "start_time": "2022-10-12T15:42:18.459Z"
   },
   {
    "duration": 6,
    "start_time": "2022-10-12T15:42:33.056Z"
   },
   {
    "duration": 13,
    "start_time": "2022-10-12T15:42:47.919Z"
   },
   {
    "duration": 9,
    "start_time": "2022-10-12T15:43:09.787Z"
   },
   {
    "duration": 9,
    "start_time": "2022-10-12T15:43:33.368Z"
   },
   {
    "duration": 9,
    "start_time": "2022-10-12T15:43:51.518Z"
   },
   {
    "duration": 13,
    "start_time": "2022-10-12T15:48:04.661Z"
   },
   {
    "duration": 9,
    "start_time": "2022-10-12T15:48:24.364Z"
   },
   {
    "duration": 8,
    "start_time": "2022-10-12T15:49:06.770Z"
   },
   {
    "duration": 9,
    "start_time": "2022-10-12T15:49:10.867Z"
   },
   {
    "duration": 9,
    "start_time": "2022-10-12T15:49:17.254Z"
   },
   {
    "duration": 684,
    "start_time": "2022-10-12T15:49:50.521Z"
   },
   {
    "duration": 28,
    "start_time": "2022-10-12T15:49:51.207Z"
   },
   {
    "duration": 14,
    "start_time": "2022-10-12T15:49:51.237Z"
   },
   {
    "duration": 1659,
    "start_time": "2022-10-12T15:49:51.253Z"
   },
   {
    "duration": 10,
    "start_time": "2022-10-12T15:49:52.915Z"
   },
   {
    "duration": 4,
    "start_time": "2022-10-12T15:49:52.926Z"
   },
   {
    "duration": 9,
    "start_time": "2022-10-12T15:49:52.932Z"
   },
   {
    "duration": 13,
    "start_time": "2022-10-12T15:49:52.942Z"
   },
   {
    "duration": 31,
    "start_time": "2022-10-12T15:49:52.957Z"
   },
   {
    "duration": 4,
    "start_time": "2022-10-12T15:49:52.990Z"
   },
   {
    "duration": 24,
    "start_time": "2022-10-12T15:49:52.996Z"
   },
   {
    "duration": 5,
    "start_time": "2022-10-12T15:49:53.022Z"
   },
   {
    "duration": 4,
    "start_time": "2022-10-12T15:49:53.029Z"
   },
   {
    "duration": 197,
    "start_time": "2022-10-12T15:49:53.035Z"
   },
   {
    "duration": 4,
    "start_time": "2022-10-12T15:49:53.234Z"
   },
   {
    "duration": 7,
    "start_time": "2022-10-12T15:49:53.239Z"
   },
   {
    "duration": 5,
    "start_time": "2022-10-12T15:49:53.248Z"
   },
   {
    "duration": 12,
    "start_time": "2022-10-12T15:49:53.255Z"
   },
   {
    "duration": 186,
    "start_time": "2022-10-12T15:49:53.268Z"
   },
   {
    "duration": 3,
    "start_time": "2022-10-12T15:49:53.456Z"
   },
   {
    "duration": 12,
    "start_time": "2022-10-12T15:49:53.461Z"
   },
   {
    "duration": 5,
    "start_time": "2022-10-12T15:49:53.475Z"
   },
   {
    "duration": 13,
    "start_time": "2022-10-12T15:49:53.481Z"
   },
   {
    "duration": 15,
    "start_time": "2022-10-12T15:49:53.496Z"
   },
   {
    "duration": 11,
    "start_time": "2022-10-12T15:49:53.512Z"
   },
   {
    "duration": 7,
    "start_time": "2022-10-12T15:49:53.525Z"
   },
   {
    "duration": 7,
    "start_time": "2022-10-12T15:49:53.533Z"
   },
   {
    "duration": 6,
    "start_time": "2022-10-12T15:49:53.543Z"
   },
   {
    "duration": 6,
    "start_time": "2022-10-12T15:49:53.550Z"
   },
   {
    "duration": 10,
    "start_time": "2022-10-12T15:49:53.557Z"
   },
   {
    "duration": 7,
    "start_time": "2022-10-12T15:49:53.569Z"
   },
   {
    "duration": 17,
    "start_time": "2022-10-12T15:49:53.578Z"
   },
   {
    "duration": 26,
    "start_time": "2022-10-12T15:49:53.597Z"
   },
   {
    "duration": 10,
    "start_time": "2022-10-12T15:49:53.625Z"
   },
   {
    "duration": 10,
    "start_time": "2022-10-12T15:49:53.636Z"
   },
   {
    "duration": 6,
    "start_time": "2022-10-12T15:49:53.647Z"
   },
   {
    "duration": 6,
    "start_time": "2022-10-12T15:49:53.654Z"
   },
   {
    "duration": 7,
    "start_time": "2022-10-12T15:49:53.661Z"
   },
   {
    "duration": 8,
    "start_time": "2022-10-12T15:49:53.670Z"
   },
   {
    "duration": 12,
    "start_time": "2022-10-12T15:49:53.680Z"
   },
   {
    "duration": 9,
    "start_time": "2022-10-12T15:49:53.693Z"
   },
   {
    "duration": 19,
    "start_time": "2022-10-12T15:49:53.704Z"
   },
   {
    "duration": 7,
    "start_time": "2022-10-12T15:49:53.725Z"
   },
   {
    "duration": 8,
    "start_time": "2022-10-12T15:49:53.734Z"
   },
   {
    "duration": 8,
    "start_time": "2022-10-12T15:49:53.743Z"
   },
   {
    "duration": 99,
    "start_time": "2022-10-12T15:49:53.753Z"
   },
   {
    "duration": 22,
    "start_time": "2022-10-12T15:49:53.854Z"
   },
   {
    "duration": 8,
    "start_time": "2022-10-12T15:49:53.878Z"
   },
   {
    "duration": 35,
    "start_time": "2022-10-12T15:49:53.888Z"
   },
   {
    "duration": 10,
    "start_time": "2022-10-12T15:49:53.925Z"
   },
   {
    "duration": 4,
    "start_time": "2022-10-12T15:49:53.937Z"
   },
   {
    "duration": 6,
    "start_time": "2022-10-12T15:49:53.943Z"
   },
   {
    "duration": 7,
    "start_time": "2022-10-12T15:49:53.950Z"
   },
   {
    "duration": 5,
    "start_time": "2022-10-12T15:49:58.421Z"
   },
   {
    "duration": 8,
    "start_time": "2022-10-12T15:50:00.245Z"
   },
   {
    "duration": 67,
    "start_time": "2022-10-12T15:50:52.029Z"
   },
   {
    "duration": 6,
    "start_time": "2022-10-12T15:51:11.367Z"
   },
   {
    "duration": 4,
    "start_time": "2022-10-12T15:51:25.107Z"
   },
   {
    "duration": 6,
    "start_time": "2022-10-12T15:51:40.155Z"
   },
   {
    "duration": 41,
    "start_time": "2022-10-12T15:53:41.412Z"
   },
   {
    "duration": 54,
    "start_time": "2022-10-12T16:17:01.057Z"
   },
   {
    "duration": 41,
    "start_time": "2022-10-12T16:39:53.501Z"
   },
   {
    "duration": 23,
    "start_time": "2022-10-12T16:40:04.181Z"
   },
   {
    "duration": 4,
    "start_time": "2022-10-12T16:42:52.589Z"
   },
   {
    "duration": 70,
    "start_time": "2022-10-12T16:45:08.587Z"
   },
   {
    "duration": 147,
    "start_time": "2022-10-12T16:45:13.192Z"
   },
   {
    "duration": 66,
    "start_time": "2022-10-12T16:46:54.534Z"
   },
   {
    "duration": 321,
    "start_time": "2022-10-12T16:48:38.265Z"
   },
   {
    "duration": 224,
    "start_time": "2022-10-12T16:51:05.867Z"
   },
   {
    "duration": 355,
    "start_time": "2022-10-12T16:51:59.855Z"
   },
   {
    "duration": 13,
    "start_time": "2022-10-12T16:53:12.539Z"
   },
   {
    "duration": 12,
    "start_time": "2022-10-12T16:53:21.683Z"
   },
   {
    "duration": 6,
    "start_time": "2022-10-12T16:53:33.053Z"
   },
   {
    "duration": 11,
    "start_time": "2022-10-12T16:54:27.666Z"
   },
   {
    "duration": 8,
    "start_time": "2022-10-12T16:57:54.782Z"
   },
   {
    "duration": 12,
    "start_time": "2022-10-12T16:58:17.739Z"
   },
   {
    "duration": 705,
    "start_time": "2022-10-12T16:58:27.027Z"
   },
   {
    "duration": 27,
    "start_time": "2022-10-12T16:58:27.734Z"
   },
   {
    "duration": 15,
    "start_time": "2022-10-12T16:58:27.762Z"
   },
   {
    "duration": 1761,
    "start_time": "2022-10-12T16:58:27.779Z"
   },
   {
    "duration": 10,
    "start_time": "2022-10-12T16:58:29.543Z"
   },
   {
    "duration": 60,
    "start_time": "2022-10-12T16:58:29.554Z"
   },
   {
    "duration": 4,
    "start_time": "2022-10-12T16:58:29.616Z"
   },
   {
    "duration": 19,
    "start_time": "2022-10-12T16:58:29.621Z"
   },
   {
    "duration": 19,
    "start_time": "2022-10-12T16:58:29.641Z"
   },
   {
    "duration": 36,
    "start_time": "2022-10-12T16:58:29.662Z"
   },
   {
    "duration": 4,
    "start_time": "2022-10-12T16:58:29.700Z"
   },
   {
    "duration": 36,
    "start_time": "2022-10-12T16:58:29.705Z"
   },
   {
    "duration": 16,
    "start_time": "2022-10-12T16:58:29.742Z"
   },
   {
    "duration": 21,
    "start_time": "2022-10-12T16:58:29.760Z"
   },
   {
    "duration": 207,
    "start_time": "2022-10-12T16:58:29.782Z"
   },
   {
    "duration": 5,
    "start_time": "2022-10-12T16:58:29.991Z"
   },
   {
    "duration": 6,
    "start_time": "2022-10-12T16:58:29.997Z"
   },
   {
    "duration": 38,
    "start_time": "2022-10-12T16:58:30.005Z"
   },
   {
    "duration": 22,
    "start_time": "2022-10-12T16:58:30.045Z"
   },
   {
    "duration": 201,
    "start_time": "2022-10-12T16:58:30.070Z"
   },
   {
    "duration": 6,
    "start_time": "2022-10-12T16:58:30.273Z"
   },
   {
    "duration": 28,
    "start_time": "2022-10-12T16:58:30.281Z"
   },
   {
    "duration": 14,
    "start_time": "2022-10-12T16:58:30.311Z"
   },
   {
    "duration": 28,
    "start_time": "2022-10-12T16:58:30.327Z"
   },
   {
    "duration": 16,
    "start_time": "2022-10-12T16:58:30.357Z"
   },
   {
    "duration": 19,
    "start_time": "2022-10-12T16:58:30.375Z"
   },
   {
    "duration": 37,
    "start_time": "2022-10-12T16:58:30.396Z"
   },
   {
    "duration": 26,
    "start_time": "2022-10-12T16:58:30.439Z"
   },
   {
    "duration": 12,
    "start_time": "2022-10-12T16:58:30.467Z"
   },
   {
    "duration": 16,
    "start_time": "2022-10-12T16:58:30.480Z"
   },
   {
    "duration": 76,
    "start_time": "2022-10-12T16:58:30.498Z"
   },
   {
    "duration": 43,
    "start_time": "2022-10-12T16:58:30.576Z"
   },
   {
    "duration": 24,
    "start_time": "2022-10-12T16:58:30.620Z"
   },
   {
    "duration": 21,
    "start_time": "2022-10-12T16:58:30.646Z"
   },
   {
    "duration": 44,
    "start_time": "2022-10-12T16:58:30.668Z"
   },
   {
    "duration": 50,
    "start_time": "2022-10-12T16:58:30.714Z"
   },
   {
    "duration": 7,
    "start_time": "2022-10-12T16:58:30.766Z"
   },
   {
    "duration": 12,
    "start_time": "2022-10-12T16:58:30.775Z"
   },
   {
    "duration": 7,
    "start_time": "2022-10-12T16:58:30.788Z"
   },
   {
    "duration": 18,
    "start_time": "2022-10-12T16:58:30.797Z"
   },
   {
    "duration": 12,
    "start_time": "2022-10-12T16:58:30.816Z"
   },
   {
    "duration": 9,
    "start_time": "2022-10-12T16:58:30.830Z"
   },
   {
    "duration": 11,
    "start_time": "2022-10-12T16:58:30.840Z"
   },
   {
    "duration": 10,
    "start_time": "2022-10-12T16:58:30.853Z"
   },
   {
    "duration": 12,
    "start_time": "2022-10-12T16:58:30.865Z"
   },
   {
    "duration": 6,
    "start_time": "2022-10-12T16:58:30.879Z"
   },
   {
    "duration": 88,
    "start_time": "2022-10-12T16:58:30.886Z"
   },
   {
    "duration": 21,
    "start_time": "2022-10-12T16:58:30.975Z"
   },
   {
    "duration": 7,
    "start_time": "2022-10-12T16:58:30.998Z"
   },
   {
    "duration": 10,
    "start_time": "2022-10-12T16:58:31.022Z"
   },
   {
    "duration": 15,
    "start_time": "2022-10-12T16:58:31.034Z"
   },
   {
    "duration": 3,
    "start_time": "2022-10-12T16:58:31.051Z"
   },
   {
    "duration": 13,
    "start_time": "2022-10-12T16:58:31.056Z"
   },
   {
    "duration": 10,
    "start_time": "2022-10-12T16:58:31.071Z"
   },
   {
    "duration": 12,
    "start_time": "2022-10-12T16:58:31.083Z"
   },
   {
    "duration": 77,
    "start_time": "2022-10-12T16:58:31.097Z"
   },
   {
    "duration": 5,
    "start_time": "2022-10-12T16:58:31.176Z"
   },
   {
    "duration": 10,
    "start_time": "2022-10-12T16:58:31.182Z"
   },
   {
    "duration": 13,
    "start_time": "2022-10-12T16:58:31.193Z"
   },
   {
    "duration": 14,
    "start_time": "2022-10-12T16:58:31.208Z"
   },
   {
    "duration": 15,
    "start_time": "2022-10-12T16:58:31.224Z"
   },
   {
    "duration": 91,
    "start_time": "2022-10-12T16:58:31.241Z"
   },
   {
    "duration": 11,
    "start_time": "2022-10-12T16:58:46.514Z"
   },
   {
    "duration": 18,
    "start_time": "2022-10-12T16:59:27.949Z"
   },
   {
    "duration": 73,
    "start_time": "2022-10-12T16:59:46.742Z"
   },
   {
    "duration": 17,
    "start_time": "2022-10-12T16:59:56.248Z"
   },
   {
    "duration": 12,
    "start_time": "2022-10-12T17:00:01.855Z"
   },
   {
    "duration": 8,
    "start_time": "2022-10-12T17:00:26.903Z"
   },
   {
    "duration": 308,
    "start_time": "2022-10-12T17:00:32.287Z"
   },
   {
    "duration": 3,
    "start_time": "2022-10-12T17:00:53.960Z"
   },
   {
    "duration": 9,
    "start_time": "2022-10-12T17:00:56.264Z"
   },
   {
    "duration": 12,
    "start_time": "2022-10-12T17:01:41.785Z"
   },
   {
    "duration": 650,
    "start_time": "2022-10-12T17:01:52.871Z"
   },
   {
    "duration": 27,
    "start_time": "2022-10-12T17:01:53.523Z"
   },
   {
    "duration": 14,
    "start_time": "2022-10-12T17:01:53.552Z"
   },
   {
    "duration": 1745,
    "start_time": "2022-10-12T17:01:53.568Z"
   },
   {
    "duration": 10,
    "start_time": "2022-10-12T17:01:55.316Z"
   },
   {
    "duration": 55,
    "start_time": "2022-10-12T17:01:55.328Z"
   },
   {
    "duration": 4,
    "start_time": "2022-10-12T17:01:55.385Z"
   },
   {
    "duration": 9,
    "start_time": "2022-10-12T17:01:55.390Z"
   },
   {
    "duration": 12,
    "start_time": "2022-10-12T17:01:55.400Z"
   },
   {
    "duration": 32,
    "start_time": "2022-10-12T17:01:55.414Z"
   },
   {
    "duration": 4,
    "start_time": "2022-10-12T17:01:55.448Z"
   },
   {
    "duration": 12,
    "start_time": "2022-10-12T17:01:55.453Z"
   },
   {
    "duration": 7,
    "start_time": "2022-10-12T17:01:55.466Z"
   },
   {
    "duration": 6,
    "start_time": "2022-10-12T17:01:55.475Z"
   },
   {
    "duration": 214,
    "start_time": "2022-10-12T17:01:55.482Z"
   },
   {
    "duration": 5,
    "start_time": "2022-10-12T17:01:55.698Z"
   },
   {
    "duration": 21,
    "start_time": "2022-10-12T17:01:55.705Z"
   },
   {
    "duration": 14,
    "start_time": "2022-10-12T17:01:55.728Z"
   },
   {
    "duration": 14,
    "start_time": "2022-10-12T17:01:55.743Z"
   },
   {
    "duration": 182,
    "start_time": "2022-10-12T17:01:55.758Z"
   },
   {
    "duration": 4,
    "start_time": "2022-10-12T17:01:55.941Z"
   },
   {
    "duration": 10,
    "start_time": "2022-10-12T17:01:55.947Z"
   },
   {
    "duration": 5,
    "start_time": "2022-10-12T17:01:55.959Z"
   },
   {
    "duration": 5,
    "start_time": "2022-10-12T17:01:55.966Z"
   },
   {
    "duration": 6,
    "start_time": "2022-10-12T17:01:55.972Z"
   },
   {
    "duration": 14,
    "start_time": "2022-10-12T17:01:55.980Z"
   },
   {
    "duration": 5,
    "start_time": "2022-10-12T17:01:56.021Z"
   },
   {
    "duration": 9,
    "start_time": "2022-10-12T17:01:56.028Z"
   },
   {
    "duration": 18,
    "start_time": "2022-10-12T17:01:56.039Z"
   },
   {
    "duration": 8,
    "start_time": "2022-10-12T17:01:56.059Z"
   },
   {
    "duration": 14,
    "start_time": "2022-10-12T17:01:56.068Z"
   },
   {
    "duration": 7,
    "start_time": "2022-10-12T17:01:56.083Z"
   },
   {
    "duration": 30,
    "start_time": "2022-10-12T17:01:56.092Z"
   },
   {
    "duration": 5,
    "start_time": "2022-10-12T17:01:56.123Z"
   },
   {
    "duration": 7,
    "start_time": "2022-10-12T17:01:56.130Z"
   },
   {
    "duration": 10,
    "start_time": "2022-10-12T17:01:56.139Z"
   },
   {
    "duration": 6,
    "start_time": "2022-10-12T17:01:56.150Z"
   },
   {
    "duration": 14,
    "start_time": "2022-10-12T17:01:56.157Z"
   },
   {
    "duration": 6,
    "start_time": "2022-10-12T17:01:56.173Z"
   },
   {
    "duration": 6,
    "start_time": "2022-10-12T17:01:56.181Z"
   },
   {
    "duration": 8,
    "start_time": "2022-10-12T17:01:56.191Z"
   },
   {
    "duration": 23,
    "start_time": "2022-10-12T17:01:56.200Z"
   },
   {
    "duration": 14,
    "start_time": "2022-10-12T17:01:56.225Z"
   },
   {
    "duration": 12,
    "start_time": "2022-10-12T17:01:56.240Z"
   },
   {
    "duration": 6,
    "start_time": "2022-10-12T17:01:56.254Z"
   },
   {
    "duration": 6,
    "start_time": "2022-10-12T17:01:56.261Z"
   },
   {
    "duration": 95,
    "start_time": "2022-10-12T17:01:56.268Z"
   },
   {
    "duration": 23,
    "start_time": "2022-10-12T17:01:56.364Z"
   },
   {
    "duration": 8,
    "start_time": "2022-10-12T17:01:56.388Z"
   },
   {
    "duration": 29,
    "start_time": "2022-10-12T17:01:56.398Z"
   },
   {
    "duration": 9,
    "start_time": "2022-10-12T17:01:56.428Z"
   },
   {
    "duration": 2,
    "start_time": "2022-10-12T17:01:56.439Z"
   },
   {
    "duration": 6,
    "start_time": "2022-10-12T17:01:56.442Z"
   },
   {
    "duration": 6,
    "start_time": "2022-10-12T17:01:56.449Z"
   },
   {
    "duration": 9,
    "start_time": "2022-10-12T17:01:56.456Z"
   },
   {
    "duration": 91,
    "start_time": "2022-10-12T17:01:56.466Z"
   },
   {
    "duration": 4,
    "start_time": "2022-10-12T17:01:56.559Z"
   },
   {
    "duration": 8,
    "start_time": "2022-10-12T17:01:56.565Z"
   },
   {
    "duration": 6,
    "start_time": "2022-10-12T17:01:56.574Z"
   },
   {
    "duration": 8,
    "start_time": "2022-10-12T17:01:56.581Z"
   },
   {
    "duration": 5,
    "start_time": "2022-10-12T17:01:56.590Z"
   },
   {
    "duration": 106,
    "start_time": "2022-10-12T17:01:56.596Z"
   },
   {
    "duration": 20,
    "start_time": "2022-10-12T17:01:56.703Z"
   },
   {
    "duration": 10,
    "start_time": "2022-10-12T17:02:43.908Z"
   },
   {
    "duration": 66,
    "start_time": "2022-10-12T17:02:51.515Z"
   },
   {
    "duration": 7,
    "start_time": "2022-10-12T17:02:57.036Z"
   },
   {
    "duration": 6,
    "start_time": "2022-10-12T17:05:15.228Z"
   },
   {
    "duration": 738,
    "start_time": "2022-10-12T17:16:05.333Z"
   },
   {
    "duration": 27,
    "start_time": "2022-10-12T17:16:06.072Z"
   },
   {
    "duration": 24,
    "start_time": "2022-10-12T17:16:06.100Z"
   },
   {
    "duration": 1723,
    "start_time": "2022-10-12T17:16:06.126Z"
   },
   {
    "duration": 9,
    "start_time": "2022-10-12T17:16:07.850Z"
   },
   {
    "duration": 52,
    "start_time": "2022-10-12T17:16:07.861Z"
   },
   {
    "duration": 3,
    "start_time": "2022-10-12T17:16:07.915Z"
   },
   {
    "duration": 6,
    "start_time": "2022-10-12T17:16:07.920Z"
   },
   {
    "duration": 14,
    "start_time": "2022-10-12T17:16:07.927Z"
   },
   {
    "duration": 28,
    "start_time": "2022-10-12T17:16:07.943Z"
   },
   {
    "duration": 4,
    "start_time": "2022-10-12T17:16:07.973Z"
   },
   {
    "duration": 14,
    "start_time": "2022-10-12T17:16:07.979Z"
   },
   {
    "duration": 6,
    "start_time": "2022-10-12T17:16:07.995Z"
   },
   {
    "duration": 23,
    "start_time": "2022-10-12T17:16:08.003Z"
   },
   {
    "duration": 204,
    "start_time": "2022-10-12T17:16:08.027Z"
   },
   {
    "duration": 6,
    "start_time": "2022-10-12T17:16:08.233Z"
   },
   {
    "duration": 11,
    "start_time": "2022-10-12T17:16:08.241Z"
   },
   {
    "duration": 8,
    "start_time": "2022-10-12T17:16:08.253Z"
   },
   {
    "duration": 13,
    "start_time": "2022-10-12T17:16:08.262Z"
   },
   {
    "duration": 192,
    "start_time": "2022-10-12T17:16:08.276Z"
   },
   {
    "duration": 4,
    "start_time": "2022-10-12T17:16:08.470Z"
   },
   {
    "duration": 9,
    "start_time": "2022-10-12T17:16:08.476Z"
   },
   {
    "duration": 6,
    "start_time": "2022-10-12T17:16:08.487Z"
   },
   {
    "duration": 6,
    "start_time": "2022-10-12T17:16:08.495Z"
   },
   {
    "duration": 27,
    "start_time": "2022-10-12T17:16:08.503Z"
   },
   {
    "duration": 9,
    "start_time": "2022-10-12T17:16:08.531Z"
   },
   {
    "duration": 4,
    "start_time": "2022-10-12T17:16:08.541Z"
   },
   {
    "duration": 12,
    "start_time": "2022-10-12T17:16:08.549Z"
   },
   {
    "duration": 10,
    "start_time": "2022-10-12T17:16:08.563Z"
   },
   {
    "duration": 13,
    "start_time": "2022-10-12T17:16:08.574Z"
   },
   {
    "duration": 19,
    "start_time": "2022-10-12T17:16:08.589Z"
   },
   {
    "duration": 8,
    "start_time": "2022-10-12T17:16:08.609Z"
   },
   {
    "duration": 14,
    "start_time": "2022-10-12T17:16:08.622Z"
   },
   {
    "duration": 11,
    "start_time": "2022-10-12T17:16:08.637Z"
   },
   {
    "duration": 9,
    "start_time": "2022-10-12T17:16:08.649Z"
   },
   {
    "duration": 8,
    "start_time": "2022-10-12T17:16:08.659Z"
   },
   {
    "duration": 9,
    "start_time": "2022-10-12T17:16:08.668Z"
   },
   {
    "duration": 8,
    "start_time": "2022-10-12T17:16:08.678Z"
   },
   {
    "duration": 5,
    "start_time": "2022-10-12T17:16:08.688Z"
   },
   {
    "duration": 5,
    "start_time": "2022-10-12T17:16:08.695Z"
   },
   {
    "duration": 23,
    "start_time": "2022-10-12T17:16:08.701Z"
   },
   {
    "duration": 9,
    "start_time": "2022-10-12T17:16:08.725Z"
   },
   {
    "duration": 6,
    "start_time": "2022-10-12T17:16:08.736Z"
   },
   {
    "duration": 7,
    "start_time": "2022-10-12T17:16:08.743Z"
   },
   {
    "duration": 7,
    "start_time": "2022-10-12T17:16:08.751Z"
   },
   {
    "duration": 5,
    "start_time": "2022-10-12T17:16:08.760Z"
   },
   {
    "duration": 115,
    "start_time": "2022-10-12T17:16:08.766Z"
   },
   {
    "duration": 39,
    "start_time": "2022-10-12T17:16:08.883Z"
   },
   {
    "duration": 12,
    "start_time": "2022-10-12T17:16:08.925Z"
   },
   {
    "duration": 23,
    "start_time": "2022-10-12T17:16:08.939Z"
   },
   {
    "duration": 13,
    "start_time": "2022-10-12T17:16:08.964Z"
   },
   {
    "duration": 9,
    "start_time": "2022-10-12T17:16:08.979Z"
   },
   {
    "duration": 16,
    "start_time": "2022-10-12T17:16:08.990Z"
   },
   {
    "duration": 15,
    "start_time": "2022-10-12T17:16:09.008Z"
   },
   {
    "duration": 24,
    "start_time": "2022-10-12T17:16:09.025Z"
   },
   {
    "duration": 101,
    "start_time": "2022-10-12T17:16:09.050Z"
   },
   {
    "duration": 6,
    "start_time": "2022-10-12T17:16:09.152Z"
   },
   {
    "duration": 11,
    "start_time": "2022-10-12T17:16:09.160Z"
   },
   {
    "duration": 8,
    "start_time": "2022-10-12T17:16:09.173Z"
   },
   {
    "duration": 6,
    "start_time": "2022-10-12T17:16:09.182Z"
   },
   {
    "duration": 8,
    "start_time": "2022-10-12T17:16:09.190Z"
   },
   {
    "duration": 25,
    "start_time": "2022-10-12T17:16:09.199Z"
   },
   {
    "duration": 9,
    "start_time": "2022-10-12T17:16:09.225Z"
   },
   {
    "duration": 6,
    "start_time": "2022-10-12T17:16:09.235Z"
   },
   {
    "duration": 407,
    "start_time": "2022-10-12T17:16:09.243Z"
   },
   {
    "duration": 3,
    "start_time": "2022-10-12T17:16:09.652Z"
   },
   {
    "duration": 12,
    "start_time": "2022-10-12T17:16:09.656Z"
   },
   {
    "duration": 254,
    "start_time": "2022-10-12T17:16:09.670Z"
   },
   {
    "duration": 7,
    "start_time": "2022-10-12T17:16:09.925Z"
   },
   {
    "duration": 8,
    "start_time": "2022-10-12T17:16:09.933Z"
   },
   {
    "duration": 9,
    "start_time": "2022-10-12T17:16:09.943Z"
   },
   {
    "duration": 202,
    "start_time": "2022-10-12T17:16:09.953Z"
   },
   {
    "duration": 8,
    "start_time": "2022-10-12T17:16:10.157Z"
   },
   {
    "duration": 11,
    "start_time": "2022-10-12T17:16:10.166Z"
   },
   {
    "duration": 14,
    "start_time": "2022-10-12T17:16:10.179Z"
   },
   {
    "duration": 196,
    "start_time": "2022-10-12T17:16:10.194Z"
   },
   {
    "duration": 6,
    "start_time": "2022-10-12T17:16:10.391Z"
   },
   {
    "duration": 9,
    "start_time": "2022-10-12T17:16:10.399Z"
   },
   {
    "duration": 20,
    "start_time": "2022-10-12T17:16:10.410Z"
   },
   {
    "duration": 205,
    "start_time": "2022-10-12T17:16:10.432Z"
   },
   {
    "duration": 6,
    "start_time": "2022-10-12T17:16:10.639Z"
   },
   {
    "duration": 6,
    "start_time": "2022-10-12T17:16:10.650Z"
   },
   {
    "duration": 8,
    "start_time": "2022-10-12T17:16:10.657Z"
   },
   {
    "duration": 183,
    "start_time": "2022-10-12T17:16:10.666Z"
   },
   {
    "duration": 6,
    "start_time": "2022-10-12T17:16:10.851Z"
   },
   {
    "duration": 8,
    "start_time": "2022-10-12T17:16:10.859Z"
   },
   {
    "duration": 174,
    "start_time": "2022-10-12T17:16:10.868Z"
   },
   {
    "duration": 6,
    "start_time": "2022-10-12T17:16:11.043Z"
   },
   {
    "duration": 18,
    "start_time": "2022-10-12T17:16:11.051Z"
   },
   {
    "duration": 12,
    "start_time": "2022-10-12T17:16:11.070Z"
   },
   {
    "duration": 173,
    "start_time": "2022-10-12T17:16:11.084Z"
   },
   {
    "duration": 6,
    "start_time": "2022-10-12T17:16:11.259Z"
   },
   {
    "duration": 19,
    "start_time": "2022-10-12T17:16:11.266Z"
   },
   {
    "duration": 9,
    "start_time": "2022-10-12T17:16:11.287Z"
   },
   {
    "duration": 204,
    "start_time": "2022-10-12T17:16:11.297Z"
   },
   {
    "duration": 7,
    "start_time": "2022-10-12T17:16:11.503Z"
   },
   {
    "duration": 170,
    "start_time": "2022-10-12T17:16:11.511Z"
   },
   {
    "duration": 6,
    "start_time": "2022-10-12T17:16:11.683Z"
   },
   {
    "duration": 23,
    "start_time": "2022-10-12T17:16:11.690Z"
   },
   {
    "duration": 149,
    "start_time": "2022-10-12T17:16:11.714Z"
   },
   {
    "duration": 8,
    "start_time": "2022-10-12T17:16:11.865Z"
   },
   {
    "duration": 174,
    "start_time": "2022-10-12T17:16:11.874Z"
   },
   {
    "duration": 6,
    "start_time": "2022-10-12T17:16:12.049Z"
   },
   {
    "duration": 10,
    "start_time": "2022-10-12T17:16:12.056Z"
   },
   {
    "duration": 186,
    "start_time": "2022-10-12T17:16:12.067Z"
   },
   {
    "duration": 7,
    "start_time": "2022-10-12T17:16:12.255Z"
   },
   {
    "duration": 10,
    "start_time": "2022-10-12T17:16:12.263Z"
   },
   {
    "duration": 93,
    "start_time": "2022-10-12T17:16:12.275Z"
   },
   {
    "duration": 0,
    "start_time": "2022-10-12T17:16:12.370Z"
   },
   {
    "duration": 13,
    "start_time": "2022-10-12T17:17:39.869Z"
   },
   {
    "duration": 15,
    "start_time": "2022-10-12T17:18:01.343Z"
   },
   {
    "duration": 14,
    "start_time": "2022-10-12T17:18:10.418Z"
   },
   {
    "duration": 789,
    "start_time": "2022-10-12T17:18:29.400Z"
   },
   {
    "duration": 14,
    "start_time": "2022-10-12T17:18:41.124Z"
   },
   {
    "duration": 4,
    "start_time": "2022-10-12T17:19:48.991Z"
   },
   {
    "duration": 6040,
    "start_time": "2022-10-12T17:20:24.940Z"
   },
   {
    "duration": 355,
    "start_time": "2022-10-12T17:20:48.953Z"
   },
   {
    "duration": 30,
    "start_time": "2022-10-12T17:21:16.087Z"
   },
   {
    "duration": 163,
    "start_time": "2022-10-12T17:23:01.928Z"
   },
   {
    "duration": 127,
    "start_time": "2022-10-12T17:23:32.603Z"
   },
   {
    "duration": 150,
    "start_time": "2022-10-12T17:23:36.704Z"
   },
   {
    "duration": 913,
    "start_time": "2022-10-12T17:26:05.580Z"
   },
   {
    "duration": 1210,
    "start_time": "2022-10-12T17:26:11.535Z"
   },
   {
    "duration": 15,
    "start_time": "2022-10-12T17:26:36.221Z"
   },
   {
    "duration": 4,
    "start_time": "2022-10-12T17:28:42.684Z"
   },
   {
    "duration": 22,
    "start_time": "2022-10-12T17:28:58.618Z"
   },
   {
    "duration": 963,
    "start_time": "2022-10-12T17:29:46.517Z"
   },
   {
    "duration": 4,
    "start_time": "2022-10-12T17:31:16.133Z"
   },
   {
    "duration": 4,
    "start_time": "2022-10-12T17:31:26.285Z"
   },
   {
    "duration": 12,
    "start_time": "2022-10-12T17:31:36.107Z"
   },
   {
    "duration": 21,
    "start_time": "2022-10-12T17:31:49.349Z"
   },
   {
    "duration": 9,
    "start_time": "2022-10-12T17:32:13.570Z"
   },
   {
    "duration": 150,
    "start_time": "2022-10-12T17:32:27.895Z"
   },
   {
    "duration": 9,
    "start_time": "2022-10-12T17:32:51.670Z"
   },
   {
    "duration": 11,
    "start_time": "2022-10-12T17:33:09.008Z"
   },
   {
    "duration": 113,
    "start_time": "2022-10-12T17:33:17.683Z"
   },
   {
    "duration": 146,
    "start_time": "2022-10-12T17:33:23.631Z"
   },
   {
    "duration": 6,
    "start_time": "2022-10-12T17:34:27.967Z"
   },
   {
    "duration": 259,
    "start_time": "2022-10-12T17:34:30.782Z"
   },
   {
    "duration": 22,
    "start_time": "2022-10-12T17:34:39.149Z"
   },
   {
    "duration": 5,
    "start_time": "2022-10-12T17:35:37.652Z"
   },
   {
    "duration": 58,
    "start_time": "2022-10-12T17:37:57.765Z"
   },
   {
    "duration": 49,
    "start_time": "2022-10-12T17:40:34.837Z"
   },
   {
    "duration": 19,
    "start_time": "2022-10-12T17:40:58.829Z"
   },
   {
    "duration": 11,
    "start_time": "2022-10-12T17:41:05.185Z"
   },
   {
    "duration": 5,
    "start_time": "2022-10-12T17:41:13.051Z"
   },
   {
    "duration": 5,
    "start_time": "2022-10-12T17:41:25.330Z"
   },
   {
    "duration": 4,
    "start_time": "2022-10-12T17:41:47.873Z"
   },
   {
    "duration": 40,
    "start_time": "2022-10-12T17:41:55.314Z"
   },
   {
    "duration": 314,
    "start_time": "2022-10-12T17:42:03.111Z"
   },
   {
    "duration": 368,
    "start_time": "2022-10-12T17:43:35.330Z"
   },
   {
    "duration": 6,
    "start_time": "2022-10-12T17:43:47.912Z"
   },
   {
    "duration": 13,
    "start_time": "2022-10-12T17:43:58.997Z"
   },
   {
    "duration": 9,
    "start_time": "2022-10-12T17:44:13.651Z"
   },
   {
    "duration": 151,
    "start_time": "2022-10-12T17:44:34.026Z"
   },
   {
    "duration": 9,
    "start_time": "2022-10-12T17:44:43.047Z"
   },
   {
    "duration": 9,
    "start_time": "2022-10-12T17:45:21.120Z"
   },
   {
    "duration": 8,
    "start_time": "2022-10-12T17:45:26.065Z"
   },
   {
    "duration": 8,
    "start_time": "2022-10-12T17:45:44.583Z"
   },
   {
    "duration": 11,
    "start_time": "2022-10-12T17:45:54.473Z"
   },
   {
    "duration": 9,
    "start_time": "2022-10-12T17:46:09.498Z"
   },
   {
    "duration": 10,
    "start_time": "2022-10-12T17:46:14.961Z"
   },
   {
    "duration": 166,
    "start_time": "2022-10-12T17:46:36.004Z"
   },
   {
    "duration": 9,
    "start_time": "2022-10-12T17:46:39.771Z"
   },
   {
    "duration": 10,
    "start_time": "2022-10-12T17:47:00.038Z"
   },
   {
    "duration": 9,
    "start_time": "2022-10-12T17:47:07.698Z"
   },
   {
    "duration": 6,
    "start_time": "2022-10-12T17:47:20.066Z"
   },
   {
    "duration": 127,
    "start_time": "2022-10-12T17:47:34.240Z"
   },
   {
    "duration": 149,
    "start_time": "2022-10-12T17:47:52.113Z"
   },
   {
    "duration": 7,
    "start_time": "2022-10-12T17:48:17.810Z"
   },
   {
    "duration": 131,
    "start_time": "2022-10-12T17:48:20.139Z"
   },
   {
    "duration": 237,
    "start_time": "2022-10-12T17:48:41.681Z"
   },
   {
    "duration": 158,
    "start_time": "2022-10-12T17:48:50.417Z"
   },
   {
    "duration": 160,
    "start_time": "2022-10-12T17:48:55.537Z"
   },
   {
    "duration": 9,
    "start_time": "2022-10-12T17:49:31.663Z"
   },
   {
    "duration": 7,
    "start_time": "2022-10-12T17:49:44.871Z"
   },
   {
    "duration": 7,
    "start_time": "2022-10-12T17:49:58.236Z"
   },
   {
    "duration": 152,
    "start_time": "2022-10-12T17:50:02.450Z"
   },
   {
    "duration": 136,
    "start_time": "2022-10-12T17:50:43.890Z"
   },
   {
    "duration": 154,
    "start_time": "2022-10-12T17:50:49.633Z"
   },
   {
    "duration": 7,
    "start_time": "2022-10-12T17:51:18.212Z"
   },
   {
    "duration": 4,
    "start_time": "2022-10-12T17:51:30.441Z"
   },
   {
    "duration": 148,
    "start_time": "2022-10-12T17:51:41.994Z"
   },
   {
    "duration": 167,
    "start_time": "2022-10-12T17:51:49.051Z"
   },
   {
    "duration": 147,
    "start_time": "2022-10-12T17:51:53.855Z"
   },
   {
    "duration": 157,
    "start_time": "2022-10-12T17:53:13.737Z"
   },
   {
    "duration": 161,
    "start_time": "2022-10-12T17:53:45.739Z"
   },
   {
    "duration": 16,
    "start_time": "2022-10-12T17:57:27.190Z"
   },
   {
    "duration": 252,
    "start_time": "2022-10-12T17:57:39.789Z"
   },
   {
    "duration": 17,
    "start_time": "2022-10-12T17:59:04.262Z"
   },
   {
    "duration": 178,
    "start_time": "2022-10-12T17:59:33.144Z"
   },
   {
    "duration": 1428,
    "start_time": "2022-10-12T18:02:25.346Z"
   },
   {
    "duration": 28,
    "start_time": "2022-10-12T18:02:26.776Z"
   },
   {
    "duration": 25,
    "start_time": "2022-10-12T18:02:26.805Z"
   },
   {
    "duration": 1798,
    "start_time": "2022-10-12T18:02:26.831Z"
   },
   {
    "duration": 10,
    "start_time": "2022-10-12T18:02:28.631Z"
   },
   {
    "duration": 64,
    "start_time": "2022-10-12T18:02:28.643Z"
   },
   {
    "duration": 4,
    "start_time": "2022-10-12T18:02:28.709Z"
   },
   {
    "duration": 21,
    "start_time": "2022-10-12T18:02:28.715Z"
   },
   {
    "duration": 8,
    "start_time": "2022-10-12T18:02:28.738Z"
   },
   {
    "duration": 37,
    "start_time": "2022-10-12T18:02:28.748Z"
   },
   {
    "duration": 4,
    "start_time": "2022-10-12T18:02:28.787Z"
   },
   {
    "duration": 11,
    "start_time": "2022-10-12T18:02:28.793Z"
   },
   {
    "duration": 7,
    "start_time": "2022-10-12T18:02:28.805Z"
   },
   {
    "duration": 7,
    "start_time": "2022-10-12T18:02:28.816Z"
   },
   {
    "duration": 222,
    "start_time": "2022-10-12T18:02:28.825Z"
   },
   {
    "duration": 6,
    "start_time": "2022-10-12T18:02:29.049Z"
   },
   {
    "duration": 12,
    "start_time": "2022-10-12T18:02:29.057Z"
   },
   {
    "duration": 15,
    "start_time": "2022-10-12T18:02:29.071Z"
   },
   {
    "duration": 23,
    "start_time": "2022-10-12T18:02:29.088Z"
   },
   {
    "duration": 182,
    "start_time": "2022-10-12T18:02:29.113Z"
   },
   {
    "duration": 5,
    "start_time": "2022-10-12T18:02:29.296Z"
   },
   {
    "duration": 19,
    "start_time": "2022-10-12T18:02:29.303Z"
   },
   {
    "duration": 4,
    "start_time": "2022-10-12T18:02:29.324Z"
   },
   {
    "duration": 15,
    "start_time": "2022-10-12T18:02:29.330Z"
   },
   {
    "duration": 14,
    "start_time": "2022-10-12T18:02:29.346Z"
   },
   {
    "duration": 6,
    "start_time": "2022-10-12T18:02:29.362Z"
   },
   {
    "duration": 5,
    "start_time": "2022-10-12T18:02:29.370Z"
   },
   {
    "duration": 6,
    "start_time": "2022-10-12T18:02:29.377Z"
   },
   {
    "duration": 4,
    "start_time": "2022-10-12T18:02:29.385Z"
   },
   {
    "duration": 8,
    "start_time": "2022-10-12T18:02:29.391Z"
   },
   {
    "duration": 9,
    "start_time": "2022-10-12T18:02:29.422Z"
   },
   {
    "duration": 7,
    "start_time": "2022-10-12T18:02:29.433Z"
   },
   {
    "duration": 16,
    "start_time": "2022-10-12T18:02:29.442Z"
   },
   {
    "duration": 10,
    "start_time": "2022-10-12T18:02:29.460Z"
   },
   {
    "duration": 7,
    "start_time": "2022-10-12T18:02:29.471Z"
   },
   {
    "duration": 5,
    "start_time": "2022-10-12T18:02:29.480Z"
   },
   {
    "duration": 6,
    "start_time": "2022-10-12T18:02:29.487Z"
   },
   {
    "duration": 29,
    "start_time": "2022-10-12T18:02:29.495Z"
   },
   {
    "duration": 5,
    "start_time": "2022-10-12T18:02:29.525Z"
   },
   {
    "duration": 6,
    "start_time": "2022-10-12T18:02:29.531Z"
   },
   {
    "duration": 10,
    "start_time": "2022-10-12T18:02:29.540Z"
   },
   {
    "duration": 8,
    "start_time": "2022-10-12T18:02:29.552Z"
   },
   {
    "duration": 6,
    "start_time": "2022-10-12T18:02:29.562Z"
   },
   {
    "duration": 6,
    "start_time": "2022-10-12T18:02:29.569Z"
   },
   {
    "duration": 8,
    "start_time": "2022-10-12T18:02:29.576Z"
   },
   {
    "duration": 7,
    "start_time": "2022-10-12T18:02:29.585Z"
   },
   {
    "duration": 95,
    "start_time": "2022-10-12T18:02:29.622Z"
   },
   {
    "duration": 22,
    "start_time": "2022-10-12T18:02:29.719Z"
   },
   {
    "duration": 9,
    "start_time": "2022-10-12T18:02:29.743Z"
   },
   {
    "duration": 12,
    "start_time": "2022-10-12T18:02:29.754Z"
   },
   {
    "duration": 12,
    "start_time": "2022-10-12T18:02:29.768Z"
   },
   {
    "duration": 8,
    "start_time": "2022-10-12T18:02:29.782Z"
   },
   {
    "duration": 6,
    "start_time": "2022-10-12T18:02:29.791Z"
   },
   {
    "duration": 25,
    "start_time": "2022-10-12T18:02:29.798Z"
   },
   {
    "duration": 10,
    "start_time": "2022-10-12T18:02:29.824Z"
   },
   {
    "duration": 66,
    "start_time": "2022-10-12T18:02:29.835Z"
   },
   {
    "duration": 20,
    "start_time": "2022-10-12T18:02:29.903Z"
   },
   {
    "duration": 4,
    "start_time": "2022-10-12T18:02:29.924Z"
   },
   {
    "duration": 10,
    "start_time": "2022-10-12T18:02:29.929Z"
   },
   {
    "duration": 13,
    "start_time": "2022-10-12T18:02:29.940Z"
   },
   {
    "duration": 6,
    "start_time": "2022-10-12T18:02:29.954Z"
   },
   {
    "duration": 8,
    "start_time": "2022-10-12T18:02:33.546Z"
   },
   {
    "duration": 9,
    "start_time": "2022-10-12T18:03:09.070Z"
   },
   {
    "duration": 717,
    "start_time": "2022-10-12T18:05:52.289Z"
   },
   {
    "duration": 27,
    "start_time": "2022-10-12T18:05:53.007Z"
   },
   {
    "duration": 50,
    "start_time": "2022-10-12T18:05:53.035Z"
   },
   {
    "duration": 1700,
    "start_time": "2022-10-12T18:05:53.088Z"
   },
   {
    "duration": 9,
    "start_time": "2022-10-12T18:05:54.790Z"
   },
   {
    "duration": 79,
    "start_time": "2022-10-12T18:05:54.800Z"
   },
   {
    "duration": 3,
    "start_time": "2022-10-12T18:05:54.881Z"
   },
   {
    "duration": 48,
    "start_time": "2022-10-12T18:05:54.886Z"
   },
   {
    "duration": 35,
    "start_time": "2022-10-12T18:05:54.936Z"
   },
   {
    "duration": 40,
    "start_time": "2022-10-12T18:05:54.974Z"
   },
   {
    "duration": 4,
    "start_time": "2022-10-12T18:05:55.015Z"
   },
   {
    "duration": 38,
    "start_time": "2022-10-12T18:05:55.020Z"
   },
   {
    "duration": 36,
    "start_time": "2022-10-12T18:05:55.061Z"
   },
   {
    "duration": 26,
    "start_time": "2022-10-12T18:05:55.099Z"
   },
   {
    "duration": 186,
    "start_time": "2022-10-12T18:05:55.127Z"
   },
   {
    "duration": 5,
    "start_time": "2022-10-12T18:05:55.314Z"
   },
   {
    "duration": 25,
    "start_time": "2022-10-12T18:05:55.322Z"
   },
   {
    "duration": 21,
    "start_time": "2022-10-12T18:05:55.348Z"
   },
   {
    "duration": 21,
    "start_time": "2022-10-12T18:05:55.370Z"
   },
   {
    "duration": 184,
    "start_time": "2022-10-12T18:05:55.392Z"
   },
   {
    "duration": 4,
    "start_time": "2022-10-12T18:05:55.578Z"
   },
   {
    "duration": 17,
    "start_time": "2022-10-12T18:05:55.583Z"
   },
   {
    "duration": 15,
    "start_time": "2022-10-12T18:05:55.602Z"
   },
   {
    "duration": 19,
    "start_time": "2022-10-12T18:05:55.618Z"
   },
   {
    "duration": 43,
    "start_time": "2022-10-12T18:05:55.638Z"
   },
   {
    "duration": 13,
    "start_time": "2022-10-12T18:05:55.683Z"
   },
   {
    "duration": 7,
    "start_time": "2022-10-12T18:05:55.698Z"
   },
   {
    "duration": 37,
    "start_time": "2022-10-12T18:05:55.709Z"
   },
   {
    "duration": 17,
    "start_time": "2022-10-12T18:05:55.748Z"
   },
   {
    "duration": 40,
    "start_time": "2022-10-12T18:05:55.767Z"
   },
   {
    "duration": 27,
    "start_time": "2022-10-12T18:05:55.809Z"
   },
   {
    "duration": 11,
    "start_time": "2022-10-12T18:05:55.838Z"
   },
   {
    "duration": 55,
    "start_time": "2022-10-12T18:05:55.851Z"
   },
   {
    "duration": 32,
    "start_time": "2022-10-12T18:05:55.908Z"
   },
   {
    "duration": 27,
    "start_time": "2022-10-12T18:05:55.942Z"
   },
   {
    "duration": 22,
    "start_time": "2022-10-12T18:05:55.971Z"
   },
   {
    "duration": 28,
    "start_time": "2022-10-12T18:05:55.994Z"
   },
   {
    "duration": 28,
    "start_time": "2022-10-12T18:05:56.024Z"
   },
   {
    "duration": 24,
    "start_time": "2022-10-12T18:05:56.053Z"
   },
   {
    "duration": 28,
    "start_time": "2022-10-12T18:05:56.078Z"
   },
   {
    "duration": 15,
    "start_time": "2022-10-12T18:05:56.107Z"
   },
   {
    "duration": 16,
    "start_time": "2022-10-12T18:05:56.123Z"
   },
   {
    "duration": 41,
    "start_time": "2022-10-12T18:05:56.141Z"
   },
   {
    "duration": 31,
    "start_time": "2022-10-12T18:05:56.184Z"
   },
   {
    "duration": 25,
    "start_time": "2022-10-12T18:05:56.217Z"
   },
   {
    "duration": 25,
    "start_time": "2022-10-12T18:05:56.243Z"
   },
   {
    "duration": 96,
    "start_time": "2022-10-12T18:05:56.269Z"
   },
   {
    "duration": 22,
    "start_time": "2022-10-12T18:05:56.366Z"
   },
   {
    "duration": 9,
    "start_time": "2022-10-12T18:05:56.390Z"
   },
   {
    "duration": 22,
    "start_time": "2022-10-12T18:05:56.400Z"
   },
   {
    "duration": 9,
    "start_time": "2022-10-12T18:05:56.424Z"
   },
   {
    "duration": 55,
    "start_time": "2022-10-12T18:05:56.435Z"
   },
   {
    "duration": 47,
    "start_time": "2022-10-12T18:05:56.492Z"
   },
   {
    "duration": 22,
    "start_time": "2022-10-12T18:05:56.541Z"
   },
   {
    "duration": 40,
    "start_time": "2022-10-12T18:05:56.565Z"
   },
   {
    "duration": 112,
    "start_time": "2022-10-12T18:05:56.606Z"
   },
   {
    "duration": 7,
    "start_time": "2022-10-12T18:05:56.719Z"
   },
   {
    "duration": 28,
    "start_time": "2022-10-12T18:05:56.728Z"
   },
   {
    "duration": 22,
    "start_time": "2022-10-12T18:05:56.758Z"
   },
   {
    "duration": 104,
    "start_time": "2022-10-12T18:05:56.781Z"
   },
   {
    "duration": 4,
    "start_time": "2022-10-12T18:05:56.887Z"
   },
   {
    "duration": 28,
    "start_time": "2022-10-12T18:05:56.892Z"
   },
   {
    "duration": 15,
    "start_time": "2022-10-12T18:05:56.921Z"
   },
   {
    "duration": 44,
    "start_time": "2022-10-12T18:05:56.937Z"
   },
   {
    "duration": 320,
    "start_time": "2022-10-12T18:05:56.983Z"
   },
   {
    "duration": 3,
    "start_time": "2022-10-12T18:05:57.304Z"
   },
   {
    "duration": 37,
    "start_time": "2022-10-12T18:05:57.309Z"
   },
   {
    "duration": 269,
    "start_time": "2022-10-12T18:05:57.347Z"
   },
   {
    "duration": 9,
    "start_time": "2022-10-12T18:05:57.617Z"
   },
   {
    "duration": 21,
    "start_time": "2022-10-12T18:05:57.627Z"
   },
   {
    "duration": 13,
    "start_time": "2022-10-12T18:05:57.650Z"
   },
   {
    "duration": 189,
    "start_time": "2022-10-12T18:05:57.664Z"
   },
   {
    "duration": 6,
    "start_time": "2022-10-12T18:05:57.855Z"
   },
   {
    "duration": 30,
    "start_time": "2022-10-12T18:05:57.862Z"
   },
   {
    "duration": 25,
    "start_time": "2022-10-12T18:05:57.894Z"
   },
   {
    "duration": 189,
    "start_time": "2022-10-12T18:05:57.920Z"
   },
   {
    "duration": 6,
    "start_time": "2022-10-12T18:05:58.110Z"
   },
   {
    "duration": 16,
    "start_time": "2022-10-12T18:05:58.117Z"
   },
   {
    "duration": 36,
    "start_time": "2022-10-12T18:05:58.134Z"
   },
   {
    "duration": 246,
    "start_time": "2022-10-12T18:05:58.172Z"
   },
   {
    "duration": 7,
    "start_time": "2022-10-12T18:05:58.422Z"
   },
   {
    "duration": 33,
    "start_time": "2022-10-12T18:05:58.437Z"
   },
   {
    "duration": 16,
    "start_time": "2022-10-12T18:05:58.472Z"
   },
   {
    "duration": 202,
    "start_time": "2022-10-12T18:05:58.490Z"
   },
   {
    "duration": 7,
    "start_time": "2022-10-12T18:05:58.694Z"
   },
   {
    "duration": 24,
    "start_time": "2022-10-12T18:05:58.703Z"
   },
   {
    "duration": 212,
    "start_time": "2022-10-12T18:05:58.730Z"
   },
   {
    "duration": 7,
    "start_time": "2022-10-12T18:05:58.944Z"
   },
   {
    "duration": 18,
    "start_time": "2022-10-12T18:05:58.953Z"
   },
   {
    "duration": 25,
    "start_time": "2022-10-12T18:05:58.973Z"
   },
   {
    "duration": 273,
    "start_time": "2022-10-12T18:05:59.000Z"
   },
   {
    "duration": 5,
    "start_time": "2022-10-12T18:05:59.274Z"
   },
   {
    "duration": 19,
    "start_time": "2022-10-12T18:05:59.281Z"
   },
   {
    "duration": 10,
    "start_time": "2022-10-12T18:05:59.302Z"
   },
   {
    "duration": 102,
    "start_time": "2022-10-12T18:05:59.313Z"
   },
   {
    "duration": 7,
    "start_time": "2022-10-12T18:05:59.422Z"
   },
   {
    "duration": 165,
    "start_time": "2022-10-12T18:05:59.431Z"
   },
   {
    "duration": 7,
    "start_time": "2022-10-12T18:05:59.598Z"
   },
   {
    "duration": 39,
    "start_time": "2022-10-12T18:05:59.607Z"
   },
   {
    "duration": 161,
    "start_time": "2022-10-12T18:05:59.648Z"
   },
   {
    "duration": 18,
    "start_time": "2022-10-12T18:05:59.811Z"
   },
   {
    "duration": 163,
    "start_time": "2022-10-12T18:05:59.830Z"
   },
   {
    "duration": 6,
    "start_time": "2022-10-12T18:05:59.995Z"
   },
   {
    "duration": 34,
    "start_time": "2022-10-12T18:06:00.003Z"
   },
   {
    "duration": 173,
    "start_time": "2022-10-12T18:06:00.038Z"
   },
   {
    "duration": 9,
    "start_time": "2022-10-12T18:06:00.213Z"
   },
   {
    "duration": 19,
    "start_time": "2022-10-12T18:06:00.224Z"
   },
   {
    "duration": 482,
    "start_time": "2022-10-12T18:06:00.244Z"
   },
   {
    "duration": 9,
    "start_time": "2022-10-12T18:06:15.617Z"
   },
   {
    "duration": 6,
    "start_time": "2022-10-12T18:06:17.288Z"
   },
   {
    "duration": 7,
    "start_time": "2022-10-12T18:06:19.008Z"
   },
   {
    "duration": 157,
    "start_time": "2022-10-12T18:06:22.121Z"
   },
   {
    "duration": 81,
    "start_time": "2022-10-12T18:06:24.505Z"
   },
   {
    "duration": 9,
    "start_time": "2022-10-12T18:06:27.124Z"
   },
   {
    "duration": 10,
    "start_time": "2022-10-12T18:06:29.196Z"
   },
   {
    "duration": 11,
    "start_time": "2022-10-12T18:06:31.126Z"
   },
   {
    "duration": 119,
    "start_time": "2022-10-12T18:09:25.861Z"
   },
   {
    "duration": 1917,
    "start_time": "2022-10-12T18:09:37.821Z"
   },
   {
    "duration": 1842,
    "start_time": "2022-10-12T18:09:47.367Z"
   },
   {
    "duration": 513,
    "start_time": "2022-10-12T18:10:20.777Z"
   },
   {
    "duration": 155,
    "start_time": "2022-10-12T18:11:08.495Z"
   },
   {
    "duration": 168,
    "start_time": "2022-10-12T18:11:42.577Z"
   },
   {
    "duration": 6,
    "start_time": "2022-10-12T18:24:50.938Z"
   },
   {
    "duration": 45,
    "start_time": "2022-10-12T18:26:06.782Z"
   },
   {
    "duration": 38,
    "start_time": "2022-10-12T18:26:30.709Z"
   },
   {
    "duration": 5,
    "start_time": "2022-10-12T18:27:05.885Z"
   },
   {
    "duration": 8,
    "start_time": "2022-10-12T18:27:14.464Z"
   },
   {
    "duration": 9,
    "start_time": "2022-10-12T18:27:30.013Z"
   },
   {
    "duration": 8,
    "start_time": "2022-10-12T18:27:36.233Z"
   },
   {
    "duration": 138,
    "start_time": "2022-10-12T18:39:47.794Z"
   },
   {
    "duration": 275,
    "start_time": "2022-10-12T18:40:00.971Z"
   },
   {
    "duration": 158,
    "start_time": "2022-10-12T18:42:07.989Z"
   },
   {
    "duration": 183,
    "start_time": "2022-10-12T18:42:39.191Z"
   },
   {
    "duration": 167,
    "start_time": "2022-10-12T18:42:57.728Z"
   },
   {
    "duration": 16,
    "start_time": "2022-10-12T18:43:25.422Z"
   },
   {
    "duration": 256,
    "start_time": "2022-10-12T18:45:28.869Z"
   },
   {
    "duration": 41,
    "start_time": "2022-10-12T18:48:08.617Z"
   },
   {
    "duration": 160,
    "start_time": "2022-10-12T18:48:12.750Z"
   },
   {
    "duration": 139,
    "start_time": "2022-10-12T18:48:23.477Z"
   },
   {
    "duration": 144,
    "start_time": "2022-10-12T18:48:48.907Z"
   },
   {
    "duration": 242,
    "start_time": "2022-10-12T18:49:08.886Z"
   },
   {
    "duration": 153,
    "start_time": "2022-10-12T18:49:15.530Z"
   },
   {
    "duration": 202,
    "start_time": "2022-10-12T18:49:18.908Z"
   },
   {
    "duration": 181,
    "start_time": "2022-10-12T18:49:23.719Z"
   },
   {
    "duration": 160,
    "start_time": "2022-10-12T18:49:26.786Z"
   },
   {
    "duration": 179,
    "start_time": "2022-10-12T18:50:17.967Z"
   },
   {
    "duration": 158,
    "start_time": "2022-10-12T18:51:16.457Z"
   },
   {
    "duration": 163,
    "start_time": "2022-10-12T18:51:34.734Z"
   },
   {
    "duration": 312,
    "start_time": "2022-10-12T18:51:38.718Z"
   },
   {
    "duration": 161,
    "start_time": "2022-10-12T18:51:43.748Z"
   },
   {
    "duration": 157,
    "start_time": "2022-10-12T18:52:21.136Z"
   },
   {
    "duration": 167,
    "start_time": "2022-10-12T18:52:28.026Z"
   },
   {
    "duration": 159,
    "start_time": "2022-10-12T18:52:35.777Z"
   },
   {
    "duration": 154,
    "start_time": "2022-10-12T18:52:54.146Z"
   },
   {
    "duration": 169,
    "start_time": "2022-10-12T18:55:07.446Z"
   },
   {
    "duration": 163,
    "start_time": "2022-10-12T18:58:21.035Z"
   },
   {
    "duration": 161,
    "start_time": "2022-10-12T18:58:39.761Z"
   },
   {
    "duration": 730,
    "start_time": "2022-10-12T19:05:47.718Z"
   },
   {
    "duration": 27,
    "start_time": "2022-10-12T19:05:48.450Z"
   },
   {
    "duration": 20,
    "start_time": "2022-10-12T19:05:48.478Z"
   },
   {
    "duration": 1773,
    "start_time": "2022-10-12T19:05:48.500Z"
   },
   {
    "duration": 9,
    "start_time": "2022-10-12T19:05:50.274Z"
   },
   {
    "duration": 65,
    "start_time": "2022-10-12T19:05:50.285Z"
   },
   {
    "duration": 4,
    "start_time": "2022-10-12T19:05:50.351Z"
   },
   {
    "duration": 6,
    "start_time": "2022-10-12T19:05:50.357Z"
   },
   {
    "duration": 8,
    "start_time": "2022-10-12T19:05:50.364Z"
   },
   {
    "duration": 27,
    "start_time": "2022-10-12T19:05:50.374Z"
   },
   {
    "duration": 22,
    "start_time": "2022-10-12T19:05:50.402Z"
   },
   {
    "duration": 12,
    "start_time": "2022-10-12T19:05:50.426Z"
   },
   {
    "duration": 4,
    "start_time": "2022-10-12T19:05:50.440Z"
   },
   {
    "duration": 7,
    "start_time": "2022-10-12T19:05:50.446Z"
   },
   {
    "duration": 200,
    "start_time": "2022-10-12T19:05:50.455Z"
   },
   {
    "duration": 5,
    "start_time": "2022-10-12T19:05:50.657Z"
   },
   {
    "duration": 5,
    "start_time": "2022-10-12T19:05:50.664Z"
   },
   {
    "duration": 7,
    "start_time": "2022-10-12T19:05:50.670Z"
   },
   {
    "duration": 11,
    "start_time": "2022-10-12T19:05:50.678Z"
   },
   {
    "duration": 205,
    "start_time": "2022-10-12T19:05:50.690Z"
   },
   {
    "duration": 4,
    "start_time": "2022-10-12T19:05:50.897Z"
   },
   {
    "duration": 19,
    "start_time": "2022-10-12T19:05:50.903Z"
   },
   {
    "duration": 6,
    "start_time": "2022-10-12T19:05:50.924Z"
   },
   {
    "duration": 7,
    "start_time": "2022-10-12T19:05:50.931Z"
   },
   {
    "duration": 9,
    "start_time": "2022-10-12T19:05:50.939Z"
   },
   {
    "duration": 8,
    "start_time": "2022-10-12T19:05:50.950Z"
   },
   {
    "duration": 7,
    "start_time": "2022-10-12T19:05:50.960Z"
   },
   {
    "duration": 5,
    "start_time": "2022-10-12T19:05:50.971Z"
   },
   {
    "duration": 7,
    "start_time": "2022-10-12T19:05:50.978Z"
   },
   {
    "duration": 36,
    "start_time": "2022-10-12T19:05:50.987Z"
   },
   {
    "duration": 17,
    "start_time": "2022-10-12T19:05:51.025Z"
   },
   {
    "duration": 7,
    "start_time": "2022-10-12T19:05:51.043Z"
   },
   {
    "duration": 21,
    "start_time": "2022-10-12T19:05:51.052Z"
   },
   {
    "duration": 7,
    "start_time": "2022-10-12T19:05:51.075Z"
   },
   {
    "duration": 13,
    "start_time": "2022-10-12T19:05:51.083Z"
   },
   {
    "duration": 10,
    "start_time": "2022-10-12T19:05:51.097Z"
   },
   {
    "duration": 14,
    "start_time": "2022-10-12T19:05:51.109Z"
   },
   {
    "duration": 5,
    "start_time": "2022-10-12T19:05:51.124Z"
   },
   {
    "duration": 6,
    "start_time": "2022-10-12T19:05:51.130Z"
   },
   {
    "duration": 6,
    "start_time": "2022-10-12T19:05:51.137Z"
   },
   {
    "duration": 10,
    "start_time": "2022-10-12T19:05:51.145Z"
   },
   {
    "duration": 8,
    "start_time": "2022-10-12T19:05:51.156Z"
   },
   {
    "duration": 8,
    "start_time": "2022-10-12T19:05:51.166Z"
   },
   {
    "duration": 6,
    "start_time": "2022-10-12T19:05:51.175Z"
   },
   {
    "duration": 6,
    "start_time": "2022-10-12T19:05:51.182Z"
   },
   {
    "duration": 34,
    "start_time": "2022-10-12T19:05:51.189Z"
   },
   {
    "duration": 89,
    "start_time": "2022-10-12T19:05:51.225Z"
   },
   {
    "duration": 22,
    "start_time": "2022-10-12T19:05:51.322Z"
   },
   {
    "duration": 8,
    "start_time": "2022-10-12T19:05:51.346Z"
   },
   {
    "duration": 11,
    "start_time": "2022-10-12T19:05:51.355Z"
   },
   {
    "duration": 9,
    "start_time": "2022-10-12T19:05:51.367Z"
   },
   {
    "duration": 2,
    "start_time": "2022-10-12T19:05:51.378Z"
   },
   {
    "duration": 8,
    "start_time": "2022-10-12T19:05:51.381Z"
   },
   {
    "duration": 38,
    "start_time": "2022-10-12T19:05:51.390Z"
   },
   {
    "duration": 12,
    "start_time": "2022-10-12T19:05:51.429Z"
   },
   {
    "duration": 73,
    "start_time": "2022-10-12T19:05:51.442Z"
   },
   {
    "duration": 8,
    "start_time": "2022-10-12T19:05:51.516Z"
   },
   {
    "duration": 11,
    "start_time": "2022-10-12T19:05:51.525Z"
   },
   {
    "duration": 7,
    "start_time": "2022-10-12T19:05:51.537Z"
   },
   {
    "duration": 10,
    "start_time": "2022-10-12T19:05:51.546Z"
   },
   {
    "duration": 5,
    "start_time": "2022-10-12T19:05:51.558Z"
   },
   {
    "duration": 10,
    "start_time": "2022-10-12T19:05:51.565Z"
   },
   {
    "duration": 7,
    "start_time": "2022-10-12T19:05:51.576Z"
   },
   {
    "duration": 6,
    "start_time": "2022-10-12T19:05:51.585Z"
   },
   {
    "duration": 417,
    "start_time": "2022-10-12T19:05:51.593Z"
   },
   {
    "duration": 3,
    "start_time": "2022-10-12T19:05:52.012Z"
   },
   {
    "duration": 8,
    "start_time": "2022-10-12T19:05:52.022Z"
   },
   {
    "duration": 261,
    "start_time": "2022-10-12T19:05:52.032Z"
   },
   {
    "duration": 6,
    "start_time": "2022-10-12T19:05:52.295Z"
   },
   {
    "duration": 8,
    "start_time": "2022-10-12T19:05:52.302Z"
   },
   {
    "duration": 9,
    "start_time": "2022-10-12T19:05:52.322Z"
   },
   {
    "duration": 191,
    "start_time": "2022-10-12T19:05:52.332Z"
   },
   {
    "duration": 6,
    "start_time": "2022-10-12T19:05:52.525Z"
   },
   {
    "duration": 8,
    "start_time": "2022-10-12T19:05:52.533Z"
   },
   {
    "duration": 11,
    "start_time": "2022-10-12T19:05:52.544Z"
   },
   {
    "duration": 203,
    "start_time": "2022-10-12T19:05:52.556Z"
   },
   {
    "duration": 6,
    "start_time": "2022-10-12T19:05:52.760Z"
   },
   {
    "duration": 7,
    "start_time": "2022-10-12T19:05:52.768Z"
   },
   {
    "duration": 9,
    "start_time": "2022-10-12T19:05:52.777Z"
   },
   {
    "duration": 222,
    "start_time": "2022-10-12T19:05:52.788Z"
   },
   {
    "duration": 12,
    "start_time": "2022-10-12T19:05:53.012Z"
   },
   {
    "duration": 14,
    "start_time": "2022-10-12T19:05:53.029Z"
   },
   {
    "duration": 31,
    "start_time": "2022-10-12T19:05:53.045Z"
   },
   {
    "duration": 177,
    "start_time": "2022-10-12T19:05:53.077Z"
   },
   {
    "duration": 6,
    "start_time": "2022-10-12T19:05:53.255Z"
   },
   {
    "duration": 11,
    "start_time": "2022-10-12T19:05:53.262Z"
   },
   {
    "duration": 184,
    "start_time": "2022-10-12T19:05:53.275Z"
   },
   {
    "duration": 7,
    "start_time": "2022-10-12T19:05:53.461Z"
   },
   {
    "duration": 22,
    "start_time": "2022-10-12T19:05:53.470Z"
   },
   {
    "duration": 19,
    "start_time": "2022-10-12T19:05:53.493Z"
   },
   {
    "duration": 182,
    "start_time": "2022-10-12T19:05:53.514Z"
   },
   {
    "duration": 5,
    "start_time": "2022-10-12T19:05:53.697Z"
   },
   {
    "duration": 31,
    "start_time": "2022-10-12T19:05:53.704Z"
   },
   {
    "duration": 23,
    "start_time": "2022-10-12T19:05:53.737Z"
   },
   {
    "duration": 189,
    "start_time": "2022-10-12T19:05:53.762Z"
   },
   {
    "duration": 11,
    "start_time": "2022-10-12T19:05:53.952Z"
   },
   {
    "duration": 169,
    "start_time": "2022-10-12T19:05:53.964Z"
   },
   {
    "duration": 5,
    "start_time": "2022-10-12T19:05:54.135Z"
   },
   {
    "duration": 16,
    "start_time": "2022-10-12T19:05:54.142Z"
   },
   {
    "duration": 176,
    "start_time": "2022-10-12T19:05:54.159Z"
   },
   {
    "duration": 8,
    "start_time": "2022-10-12T19:05:54.337Z"
   },
   {
    "duration": 173,
    "start_time": "2022-10-12T19:05:54.347Z"
   },
   {
    "duration": 6,
    "start_time": "2022-10-12T19:05:54.522Z"
   },
   {
    "duration": 21,
    "start_time": "2022-10-12T19:05:54.529Z"
   },
   {
    "duration": 170,
    "start_time": "2022-10-12T19:05:54.552Z"
   },
   {
    "duration": 6,
    "start_time": "2022-10-12T19:05:54.723Z"
   },
   {
    "duration": 13,
    "start_time": "2022-10-12T19:05:54.730Z"
   },
   {
    "duration": 484,
    "start_time": "2022-10-12T19:05:54.744Z"
   },
   {
    "duration": 9,
    "start_time": "2022-10-12T19:05:55.230Z"
   },
   {
    "duration": 5,
    "start_time": "2022-10-12T19:05:55.241Z"
   },
   {
    "duration": 5,
    "start_time": "2022-10-12T19:05:55.248Z"
   },
   {
    "duration": 176,
    "start_time": "2022-10-12T19:05:55.255Z"
   },
   {
    "duration": 75,
    "start_time": "2022-10-12T19:05:55.433Z"
   },
   {
    "duration": 9,
    "start_time": "2022-10-12T19:05:55.522Z"
   },
   {
    "duration": 13,
    "start_time": "2022-10-12T19:05:55.533Z"
   },
   {
    "duration": 29,
    "start_time": "2022-10-12T19:05:55.547Z"
   },
   {
    "duration": 171,
    "start_time": "2022-10-12T19:05:55.578Z"
   },
   {
    "duration": 9,
    "start_time": "2022-10-12T19:05:55.751Z"
   },
   {
    "duration": 227,
    "start_time": "2022-10-12T19:05:55.761Z"
   },
   {
    "duration": 155,
    "start_time": "2022-10-12T19:05:55.990Z"
   },
   {
    "duration": 140,
    "start_time": "2022-10-12T19:05:56.147Z"
   },
   {
    "duration": 163,
    "start_time": "2022-10-12T19:05:56.288Z"
   },
   {
    "duration": 131,
    "start_time": "2022-10-12T19:05:56.452Z"
   },
   {
    "duration": 449,
    "start_time": "2022-10-12T19:05:56.585Z"
   },
   {
    "duration": 172,
    "start_time": "2022-10-12T19:05:57.036Z"
   },
   {
    "duration": 32,
    "start_time": "2022-10-12T19:05:57.210Z"
   },
   {
    "duration": 14,
    "start_time": "2022-10-12T19:05:57.244Z"
   },
   {
    "duration": 210,
    "start_time": "2022-10-12T19:05:57.259Z"
   },
   {
    "duration": 9,
    "start_time": "2022-10-12T19:05:57.471Z"
   },
   {
    "duration": 833,
    "start_time": "2022-10-12T21:25:23.336Z"
   },
   {
    "duration": 30,
    "start_time": "2022-10-12T21:25:24.171Z"
   },
   {
    "duration": 14,
    "start_time": "2022-10-12T21:25:24.203Z"
   },
   {
    "duration": 3156,
    "start_time": "2022-10-12T21:25:24.219Z"
   },
   {
    "duration": 14,
    "start_time": "2022-10-12T21:25:27.377Z"
   },
   {
    "duration": 80,
    "start_time": "2022-10-12T21:25:27.393Z"
   },
   {
    "duration": 4,
    "start_time": "2022-10-12T21:25:27.474Z"
   },
   {
    "duration": 17,
    "start_time": "2022-10-12T21:25:27.480Z"
   },
   {
    "duration": 16,
    "start_time": "2022-10-12T21:25:27.499Z"
   },
   {
    "duration": 31,
    "start_time": "2022-10-12T21:25:27.517Z"
   },
   {
    "duration": 9,
    "start_time": "2022-10-12T21:25:27.550Z"
   },
   {
    "duration": 33,
    "start_time": "2022-10-12T21:25:27.561Z"
   },
   {
    "duration": 7,
    "start_time": "2022-10-12T21:25:27.596Z"
   },
   {
    "duration": 8,
    "start_time": "2022-10-12T21:25:27.604Z"
   },
   {
    "duration": 224,
    "start_time": "2022-10-12T21:25:27.614Z"
   },
   {
    "duration": 5,
    "start_time": "2022-10-12T21:25:27.840Z"
   },
   {
    "duration": 20,
    "start_time": "2022-10-12T21:25:27.858Z"
   },
   {
    "duration": 12,
    "start_time": "2022-10-12T21:25:27.880Z"
   },
   {
    "duration": 18,
    "start_time": "2022-10-12T21:25:27.894Z"
   },
   {
    "duration": 208,
    "start_time": "2022-10-12T21:25:27.914Z"
   },
   {
    "duration": 5,
    "start_time": "2022-10-12T21:25:28.124Z"
   },
   {
    "duration": 29,
    "start_time": "2022-10-12T21:25:28.130Z"
   },
   {
    "duration": 10,
    "start_time": "2022-10-12T21:25:28.160Z"
   },
   {
    "duration": 14,
    "start_time": "2022-10-12T21:25:28.172Z"
   },
   {
    "duration": 13,
    "start_time": "2022-10-12T21:25:28.188Z"
   },
   {
    "duration": 12,
    "start_time": "2022-10-12T21:25:28.203Z"
   },
   {
    "duration": 5,
    "start_time": "2022-10-12T21:25:28.217Z"
   },
   {
    "duration": 10,
    "start_time": "2022-10-12T21:25:28.228Z"
   },
   {
    "duration": 17,
    "start_time": "2022-10-12T21:25:28.240Z"
   },
   {
    "duration": 8,
    "start_time": "2022-10-12T21:25:28.264Z"
   },
   {
    "duration": 11,
    "start_time": "2022-10-12T21:25:28.274Z"
   },
   {
    "duration": 15,
    "start_time": "2022-10-12T21:25:28.286Z"
   },
   {
    "duration": 35,
    "start_time": "2022-10-12T21:25:28.302Z"
   },
   {
    "duration": 27,
    "start_time": "2022-10-12T21:25:28.339Z"
   },
   {
    "duration": 25,
    "start_time": "2022-10-12T21:25:28.368Z"
   },
   {
    "duration": 15,
    "start_time": "2022-10-12T21:25:28.395Z"
   },
   {
    "duration": 11,
    "start_time": "2022-10-12T21:25:28.413Z"
   },
   {
    "duration": 13,
    "start_time": "2022-10-12T21:25:28.426Z"
   },
   {
    "duration": 30,
    "start_time": "2022-10-12T21:25:28.440Z"
   },
   {
    "duration": 24,
    "start_time": "2022-10-12T21:25:28.471Z"
   },
   {
    "duration": 23,
    "start_time": "2022-10-12T21:25:28.497Z"
   },
   {
    "duration": 13,
    "start_time": "2022-10-12T21:25:28.521Z"
   },
   {
    "duration": 13,
    "start_time": "2022-10-12T21:25:28.535Z"
   },
   {
    "duration": 25,
    "start_time": "2022-10-12T21:25:28.550Z"
   },
   {
    "duration": 6,
    "start_time": "2022-10-12T21:25:28.577Z"
   },
   {
    "duration": 9,
    "start_time": "2022-10-12T21:25:28.584Z"
   },
   {
    "duration": 113,
    "start_time": "2022-10-12T21:25:28.594Z"
   },
   {
    "duration": 24,
    "start_time": "2022-10-12T21:25:28.709Z"
   },
   {
    "duration": 35,
    "start_time": "2022-10-12T21:25:28.734Z"
   },
   {
    "duration": 12,
    "start_time": "2022-10-12T21:25:28.771Z"
   },
   {
    "duration": 16,
    "start_time": "2022-10-12T21:25:28.785Z"
   },
   {
    "duration": 8,
    "start_time": "2022-10-12T21:25:28.803Z"
   },
   {
    "duration": 24,
    "start_time": "2022-10-12T21:25:28.813Z"
   },
   {
    "duration": 37,
    "start_time": "2022-10-12T21:25:28.839Z"
   },
   {
    "duration": 36,
    "start_time": "2022-10-12T21:25:28.878Z"
   },
   {
    "duration": 113,
    "start_time": "2022-10-12T21:25:28.916Z"
   },
   {
    "duration": 6,
    "start_time": "2022-10-12T21:25:29.031Z"
   },
   {
    "duration": 18,
    "start_time": "2022-10-12T21:25:29.038Z"
   },
   {
    "duration": 22,
    "start_time": "2022-10-12T21:25:29.058Z"
   },
   {
    "duration": 124,
    "start_time": "2022-10-12T21:25:29.082Z"
   },
   {
    "duration": 5,
    "start_time": "2022-10-12T21:25:29.208Z"
   },
   {
    "duration": 20,
    "start_time": "2022-10-12T21:25:29.215Z"
   },
   {
    "duration": 41,
    "start_time": "2022-10-12T21:25:29.237Z"
   },
   {
    "duration": 32,
    "start_time": "2022-10-12T21:25:29.280Z"
   },
   {
    "duration": 360,
    "start_time": "2022-10-12T21:25:29.313Z"
   },
   {
    "duration": 4,
    "start_time": "2022-10-12T21:25:29.675Z"
   },
   {
    "duration": 16,
    "start_time": "2022-10-12T21:25:29.681Z"
   },
   {
    "duration": 293,
    "start_time": "2022-10-12T21:25:29.699Z"
   },
   {
    "duration": 7,
    "start_time": "2022-10-12T21:25:29.995Z"
   },
   {
    "duration": 25,
    "start_time": "2022-10-12T21:25:30.004Z"
   },
   {
    "duration": 35,
    "start_time": "2022-10-12T21:25:30.030Z"
   },
   {
    "duration": 231,
    "start_time": "2022-10-12T21:25:30.067Z"
   },
   {
    "duration": 7,
    "start_time": "2022-10-12T21:25:30.300Z"
   },
   {
    "duration": 41,
    "start_time": "2022-10-12T21:25:30.309Z"
   },
   {
    "duration": 52,
    "start_time": "2022-10-12T21:25:30.352Z"
   },
   {
    "duration": 299,
    "start_time": "2022-10-12T21:25:30.406Z"
   },
   {
    "duration": 9,
    "start_time": "2022-10-12T21:25:30.707Z"
   },
   {
    "duration": 15,
    "start_time": "2022-10-12T21:25:30.718Z"
   },
   {
    "duration": 35,
    "start_time": "2022-10-12T21:25:30.734Z"
   },
   {
    "duration": 266,
    "start_time": "2022-10-12T21:25:30.771Z"
   },
   {
    "duration": 18,
    "start_time": "2022-10-12T21:25:31.039Z"
   },
   {
    "duration": 40,
    "start_time": "2022-10-12T21:25:31.070Z"
   },
   {
    "duration": 22,
    "start_time": "2022-10-12T21:25:31.113Z"
   },
   {
    "duration": 224,
    "start_time": "2022-10-12T21:25:31.136Z"
   },
   {
    "duration": 9,
    "start_time": "2022-10-12T21:25:31.365Z"
   },
   {
    "duration": 18,
    "start_time": "2022-10-12T21:25:31.377Z"
   },
   {
    "duration": 248,
    "start_time": "2022-10-12T21:25:31.397Z"
   },
   {
    "duration": 13,
    "start_time": "2022-10-12T21:25:31.648Z"
   },
   {
    "duration": 46,
    "start_time": "2022-10-12T21:25:31.665Z"
   },
   {
    "duration": 17,
    "start_time": "2022-10-12T21:25:31.713Z"
   },
   {
    "duration": 302,
    "start_time": "2022-10-12T21:25:31.733Z"
   },
   {
    "duration": 6,
    "start_time": "2022-10-12T21:25:32.037Z"
   },
   {
    "duration": 28,
    "start_time": "2022-10-12T21:25:32.054Z"
   },
   {
    "duration": 28,
    "start_time": "2022-10-12T21:25:32.084Z"
   },
   {
    "duration": 153,
    "start_time": "2022-10-12T21:25:32.114Z"
   },
   {
    "duration": 9,
    "start_time": "2022-10-12T21:25:32.268Z"
   },
   {
    "duration": 201,
    "start_time": "2022-10-12T21:25:32.279Z"
   },
   {
    "duration": 6,
    "start_time": "2022-10-12T21:25:32.481Z"
   },
   {
    "duration": 17,
    "start_time": "2022-10-12T21:25:32.489Z"
   },
   {
    "duration": 189,
    "start_time": "2022-10-12T21:25:32.508Z"
   },
   {
    "duration": 9,
    "start_time": "2022-10-12T21:25:32.699Z"
   },
   {
    "duration": 205,
    "start_time": "2022-10-12T21:25:32.710Z"
   },
   {
    "duration": 8,
    "start_time": "2022-10-12T21:25:32.917Z"
   },
   {
    "duration": 15,
    "start_time": "2022-10-12T21:25:32.927Z"
   },
   {
    "duration": 195,
    "start_time": "2022-10-12T21:25:32.944Z"
   },
   {
    "duration": 14,
    "start_time": "2022-10-12T21:25:33.141Z"
   },
   {
    "duration": 15,
    "start_time": "2022-10-12T21:25:33.166Z"
   },
   {
    "duration": 532,
    "start_time": "2022-10-12T21:25:33.183Z"
   },
   {
    "duration": 9,
    "start_time": "2022-10-12T21:25:33.717Z"
   },
   {
    "duration": 6,
    "start_time": "2022-10-12T21:25:33.728Z"
   },
   {
    "duration": 34,
    "start_time": "2022-10-12T21:25:33.735Z"
   },
   {
    "duration": 178,
    "start_time": "2022-10-12T21:25:33.770Z"
   },
   {
    "duration": 96,
    "start_time": "2022-10-12T21:25:33.953Z"
   },
   {
    "duration": 13,
    "start_time": "2022-10-12T21:25:34.053Z"
   },
   {
    "duration": 38,
    "start_time": "2022-10-12T21:25:34.068Z"
   },
   {
    "duration": 18,
    "start_time": "2022-10-12T21:25:34.108Z"
   },
   {
    "duration": 281,
    "start_time": "2022-10-12T21:25:34.128Z"
   },
   {
    "duration": 12,
    "start_time": "2022-10-12T21:25:34.411Z"
   },
   {
    "duration": 181,
    "start_time": "2022-10-12T21:25:34.425Z"
   },
   {
    "duration": 219,
    "start_time": "2022-10-12T21:25:34.608Z"
   },
   {
    "duration": 189,
    "start_time": "2022-10-12T21:25:34.829Z"
   },
   {
    "duration": 213,
    "start_time": "2022-10-12T21:25:35.020Z"
   },
   {
    "duration": 190,
    "start_time": "2022-10-12T21:25:35.235Z"
   },
   {
    "duration": 610,
    "start_time": "2022-10-12T21:25:35.428Z"
   },
   {
    "duration": 204,
    "start_time": "2022-10-12T21:25:36.040Z"
   },
   {
    "duration": 43,
    "start_time": "2022-10-12T21:25:36.246Z"
   },
   {
    "duration": 13,
    "start_time": "2022-10-12T21:25:36.291Z"
   },
   {
    "duration": 219,
    "start_time": "2022-10-12T21:25:36.306Z"
   },
   {
    "duration": 11,
    "start_time": "2022-10-12T21:25:36.526Z"
   }
  ],
  "kernelspec": {
   "display_name": "Python 3 (ipykernel)",
   "language": "python",
   "name": "python3"
  },
  "language_info": {
   "codemirror_mode": {
    "name": "ipython",
    "version": 3
   },
   "file_extension": ".py",
   "mimetype": "text/x-python",
   "name": "python",
   "nbconvert_exporter": "python",
   "pygments_lexer": "ipython3",
   "version": "3.9.12"
  },
  "toc": {
   "base_numbering": 1,
   "nav_menu": {},
   "number_sections": true,
   "sideBar": true,
   "skip_h1_title": true,
   "title_cell": "Содержание",
   "title_sidebar": "Contents",
   "toc_cell": true,
   "toc_position": {
    "height": "calc(100% - 180px)",
    "left": "10px",
    "top": "150px",
    "width": "165px"
   },
   "toc_section_display": true,
   "toc_window_display": true
  }
 },
 "nbformat": 4,
 "nbformat_minor": 2
}
