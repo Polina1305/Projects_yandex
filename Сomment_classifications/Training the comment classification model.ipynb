{
 "cells": [
  {
   "cell_type": "markdown",
   "metadata": {},
   "source": [
    "# Проект для «Викишоп»"
   ]
  },
  {
   "cell_type": "markdown",
   "metadata": {},
   "source": [
    "Интернет-магазин «Викишоп» запускает новый сервис. Теперь пользователи могут редактировать и дополнять описания товаров, как в вики-сообществах. То есть клиенты предлагают свои правки и комментируют изменения других. Магазину нужен инструмент, который будет искать токсичные комментарии и отправлять их на модерацию. \n",
    "\n",
    "Обучите модель классифицировать комментарии на позитивные и негативные. В вашем распоряжении набор данных с разметкой о токсичности правок.\n",
    "\n",
    "Постройте модель со значением метрики качества *F1* не меньше 0.75. \n",
    "\n",
    "**Инструкция по выполнению проекта**\n",
    "\n",
    "1. Загрузите и подготовьте данные.\n",
    "2. Обучите разные модели. \n",
    "3. Сделайте выводы.\n",
    "\n",
    "Для выполнения проекта применять *BERT* необязательно, но вы можете попробовать.\n",
    "\n",
    "**Описание данных**\n",
    "\n",
    "Данные находятся в файле `toxic_comments.csv`. Столбец *text* в нём содержит текст комментария, а *toxic* — целевой признак."
   ]
  },
  {
   "cell_type": "markdown",
   "metadata": {},
   "source": [
    "## Подготовка"
   ]
  },
  {
   "cell_type": "code",
   "execution_count": 1,
   "metadata": {},
   "outputs": [],
   "source": [
    "import numpy as np\n",
    "import pandas as pd\n",
    "import re\n",
    "import time\n",
    "import matplotlib.pyplot as plt\n",
    "import seaborn as sns\n",
    "import nltk\n",
    "import warnings\n",
    "warnings.filterwarnings('ignore')\n"
   ]
  },
  {
   "cell_type": "code",
   "execution_count": 2,
   "metadata": {},
   "outputs": [],
   "source": [
    "from pymystem3 import Mystem\n",
    "from sklearn.model_selection import RandomizedSearchCV\n",
    "from tqdm.notebook import tqdm\n",
    "from nltk.stem import WordNetLemmatizer\n",
    "from nltk.corpus import stopwords as nltk_stopwords, wordnet\n",
    "from sklearn.pipeline import Pipeline\n",
    "from sklearn.feature_extraction.text import TfidfVectorizer\n",
    "from sklearn.model_selection import train_test_split, cross_val_score, GridSearchCV, KFold\n",
    "from sklearn.feature_extraction.text import CountVectorizer, TfidfVectorizer, TfidfTransformer\n",
    "from sklearn.linear_model import LogisticRegression\n",
    "from sklearn.tree import DecisionTreeClassifier\n",
    "from sklearn.ensemble import RandomForestClassifier\n",
    "from sklearn.metrics import f1_score, make_scorer\n",
    "from sklearn.utils import shuffle\n",
    "from catboost import CatBoostClassifier\n",
    "from sklearn.ensemble import RandomForestClassifier"
   ]
  },
  {
   "cell_type": "code",
   "execution_count": 3,
   "metadata": {},
   "outputs": [],
   "source": [
    "try:\n",
    "    df = pd.read_csv('/datasets/toxic_comments.csv')\n",
    "except:\n",
    "    df = pd.read_csv('toxic_comments.csv')    "
   ]
  },
  {
   "cell_type": "code",
   "execution_count": 4,
   "metadata": {},
   "outputs": [
    {
     "data": {
      "text/html": [
       "<div>\n",
       "<style scoped>\n",
       "    .dataframe tbody tr th:only-of-type {\n",
       "        vertical-align: middle;\n",
       "    }\n",
       "\n",
       "    .dataframe tbody tr th {\n",
       "        vertical-align: top;\n",
       "    }\n",
       "\n",
       "    .dataframe thead th {\n",
       "        text-align: right;\n",
       "    }\n",
       "</style>\n",
       "<table border=\"1\" class=\"dataframe\">\n",
       "  <thead>\n",
       "    <tr style=\"text-align: right;\">\n",
       "      <th></th>\n",
       "      <th>Unnamed: 0</th>\n",
       "      <th>text</th>\n",
       "      <th>toxic</th>\n",
       "    </tr>\n",
       "  </thead>\n",
       "  <tbody>\n",
       "    <tr>\n",
       "      <th>0</th>\n",
       "      <td>0</td>\n",
       "      <td>Explanation\\nWhy the edits made under my usern...</td>\n",
       "      <td>0</td>\n",
       "    </tr>\n",
       "    <tr>\n",
       "      <th>1</th>\n",
       "      <td>1</td>\n",
       "      <td>D'aww! He matches this background colour I'm s...</td>\n",
       "      <td>0</td>\n",
       "    </tr>\n",
       "    <tr>\n",
       "      <th>2</th>\n",
       "      <td>2</td>\n",
       "      <td>Hey man, I'm really not trying to edit war. It...</td>\n",
       "      <td>0</td>\n",
       "    </tr>\n",
       "    <tr>\n",
       "      <th>3</th>\n",
       "      <td>3</td>\n",
       "      <td>\"\\nMore\\nI can't make any real suggestions on ...</td>\n",
       "      <td>0</td>\n",
       "    </tr>\n",
       "    <tr>\n",
       "      <th>4</th>\n",
       "      <td>4</td>\n",
       "      <td>You, sir, are my hero. Any chance you remember...</td>\n",
       "      <td>0</td>\n",
       "    </tr>\n",
       "  </tbody>\n",
       "</table>\n",
       "</div>"
      ],
      "text/plain": [
       "   Unnamed: 0                                               text  toxic\n",
       "0           0  Explanation\\nWhy the edits made under my usern...      0\n",
       "1           1  D'aww! He matches this background colour I'm s...      0\n",
       "2           2  Hey man, I'm really not trying to edit war. It...      0\n",
       "3           3  \"\\nMore\\nI can't make any real suggestions on ...      0\n",
       "4           4  You, sir, are my hero. Any chance you remember...      0"
      ]
     },
     "metadata": {},
     "output_type": "display_data"
    },
    {
     "data": {
      "text/html": [
       "<div>\n",
       "<style scoped>\n",
       "    .dataframe tbody tr th:only-of-type {\n",
       "        vertical-align: middle;\n",
       "    }\n",
       "\n",
       "    .dataframe tbody tr th {\n",
       "        vertical-align: top;\n",
       "    }\n",
       "\n",
       "    .dataframe thead th {\n",
       "        text-align: right;\n",
       "    }\n",
       "</style>\n",
       "<table border=\"1\" class=\"dataframe\">\n",
       "  <thead>\n",
       "    <tr style=\"text-align: right;\">\n",
       "      <th></th>\n",
       "      <th>Unnamed: 0</th>\n",
       "      <th>text</th>\n",
       "      <th>toxic</th>\n",
       "    </tr>\n",
       "  </thead>\n",
       "  <tbody>\n",
       "    <tr>\n",
       "      <th>159287</th>\n",
       "      <td>159446</td>\n",
       "      <td>\":::::And for the second time of asking, when ...</td>\n",
       "      <td>0</td>\n",
       "    </tr>\n",
       "    <tr>\n",
       "      <th>159288</th>\n",
       "      <td>159447</td>\n",
       "      <td>You should be ashamed of yourself \\n\\nThat is ...</td>\n",
       "      <td>0</td>\n",
       "    </tr>\n",
       "    <tr>\n",
       "      <th>159289</th>\n",
       "      <td>159448</td>\n",
       "      <td>Spitzer \\n\\nUmm, theres no actual article for ...</td>\n",
       "      <td>0</td>\n",
       "    </tr>\n",
       "    <tr>\n",
       "      <th>159290</th>\n",
       "      <td>159449</td>\n",
       "      <td>And it looks like it was actually you who put ...</td>\n",
       "      <td>0</td>\n",
       "    </tr>\n",
       "    <tr>\n",
       "      <th>159291</th>\n",
       "      <td>159450</td>\n",
       "      <td>\"\\nAnd ... I really don't think you understand...</td>\n",
       "      <td>0</td>\n",
       "    </tr>\n",
       "  </tbody>\n",
       "</table>\n",
       "</div>"
      ],
      "text/plain": [
       "        Unnamed: 0                                               text  toxic\n",
       "159287      159446  \":::::And for the second time of asking, when ...      0\n",
       "159288      159447  You should be ashamed of yourself \\n\\nThat is ...      0\n",
       "159289      159448  Spitzer \\n\\nUmm, theres no actual article for ...      0\n",
       "159290      159449  And it looks like it was actually you who put ...      0\n",
       "159291      159450  \"\\nAnd ... I really don't think you understand...      0"
      ]
     },
     "metadata": {},
     "output_type": "display_data"
    },
    {
     "data": {
      "text/plain": [
       "(None, None)"
      ]
     },
     "execution_count": 4,
     "metadata": {},
     "output_type": "execute_result"
    }
   ],
   "source": [
    "display(df.head(5)), display(df.tail(5))"
   ]
  },
  {
   "cell_type": "code",
   "execution_count": 5,
   "metadata": {},
   "outputs": [
    {
     "data": {
      "text/plain": [
       "(159292, 3)"
      ]
     },
     "execution_count": 5,
     "metadata": {},
     "output_type": "execute_result"
    }
   ],
   "source": [
    "df.shape"
   ]
  },
  {
   "cell_type": "code",
   "execution_count": 6,
   "metadata": {},
   "outputs": [
    {
     "data": {
      "text/plain": [
       "Unnamed: 0    0\n",
       "text          0\n",
       "toxic         0\n",
       "dtype: int64"
      ]
     },
     "execution_count": 6,
     "metadata": {},
     "output_type": "execute_result"
    }
   ],
   "source": [
    "df.isna().sum()"
   ]
  },
  {
   "cell_type": "code",
   "execution_count": 7,
   "metadata": {
    "scrolled": true
   },
   "outputs": [
    {
     "data": {
      "text/plain": [
       "0"
      ]
     },
     "execution_count": 7,
     "metadata": {},
     "output_type": "execute_result"
    }
   ],
   "source": [
    "df.duplicated().sum()"
   ]
  },
  {
   "cell_type": "code",
   "execution_count": 8,
   "metadata": {
    "scrolled": false
   },
   "outputs": [
    {
     "data": {
      "text/plain": [
       "0    0.898388\n",
       "1    0.101612\n",
       "Name: toxic, dtype: float64"
      ]
     },
     "execution_count": 8,
     "metadata": {},
     "output_type": "execute_result"
    }
   ],
   "source": [
    "df.toxic.value_counts() / df.toxic.count()"
   ]
  },
  {
   "cell_type": "code",
   "execution_count": 9,
   "metadata": {
    "scrolled": false
   },
   "outputs": [
    {
     "data": {
      "image/png": "[encoded data removed]",
      "text/plain": [
       "<Figure size 400x400 with 1 Axes>"
      ]
     },
     "metadata": {},
     "output_type": "display_data"
    }
   ],
   "source": [
    "df.toxic.value_counts().plot(kind='pie', autopct='%1.1f%%', figsize=(4, 4), title='Распределение комментариев по значениям',\n",
    "                            labels=['токсичные','не токсичные'], colors = ['#900020', '#009B77'])\n",
    "plt.ylabel('')\n",
    "plt.show()"
   ]
  },
  {
   "cell_type": "code",
   "execution_count": 10,
   "metadata": {},
   "outputs": [
    {
     "data": {
      "text/html": [
       "<div>\n",
       "<style scoped>\n",
       "    .dataframe tbody tr th:only-of-type {\n",
       "        vertical-align: middle;\n",
       "    }\n",
       "\n",
       "    .dataframe tbody tr th {\n",
       "        vertical-align: top;\n",
       "    }\n",
       "\n",
       "    .dataframe thead th {\n",
       "        text-align: right;\n",
       "    }\n",
       "</style>\n",
       "<table border=\"1\" class=\"dataframe\">\n",
       "  <thead>\n",
       "    <tr style=\"text-align: right;\">\n",
       "      <th></th>\n",
       "      <th>Unnamed: 0</th>\n",
       "      <th>text</th>\n",
       "      <th>toxic</th>\n",
       "    </tr>\n",
       "  </thead>\n",
       "  <tbody>\n",
       "    <tr>\n",
       "      <th>0</th>\n",
       "      <td>0</td>\n",
       "      <td>Explanation\\nWhy the edits made under my usern...</td>\n",
       "      <td>0</td>\n",
       "    </tr>\n",
       "    <tr>\n",
       "      <th>1</th>\n",
       "      <td>1</td>\n",
       "      <td>D'aww! He matches this background colour I'm s...</td>\n",
       "      <td>0</td>\n",
       "    </tr>\n",
       "    <tr>\n",
       "      <th>2</th>\n",
       "      <td>2</td>\n",
       "      <td>Hey man, I'm really not trying to edit war. It...</td>\n",
       "      <td>0</td>\n",
       "    </tr>\n",
       "    <tr>\n",
       "      <th>3</th>\n",
       "      <td>3</td>\n",
       "      <td>\"\\nMore\\nI can't make any real suggestions on ...</td>\n",
       "      <td>0</td>\n",
       "    </tr>\n",
       "    <tr>\n",
       "      <th>4</th>\n",
       "      <td>4</td>\n",
       "      <td>You, sir, are my hero. Any chance you remember...</td>\n",
       "      <td>0</td>\n",
       "    </tr>\n",
       "  </tbody>\n",
       "</table>\n",
       "</div>"
      ],
      "text/plain": [
       "   Unnamed: 0                                               text  toxic\n",
       "0           0  Explanation\\nWhy the edits made under my usern...      0\n",
       "1           1  D'aww! He matches this background colour I'm s...      0\n",
       "2           2  Hey man, I'm really not trying to edit war. It...      0\n",
       "3           3  \"\\nMore\\nI can't make any real suggestions on ...      0\n",
       "4           4  You, sir, are my hero. Any chance you remember...      0"
      ]
     },
     "execution_count": 10,
     "metadata": {},
     "output_type": "execute_result"
    }
   ],
   "source": [
    "df.head()"
   ]
  },
  {
   "cell_type": "code",
   "execution_count": 11,
   "metadata": {},
   "outputs": [],
   "source": [
    "df = df.drop(['Unnamed: 0'], axis=1)"
   ]
  },
  {
   "cell_type": "code",
   "execution_count": 12,
   "metadata": {},
   "outputs": [
    {
     "data": {
      "text/html": [
       "<div>\n",
       "<style scoped>\n",
       "    .dataframe tbody tr th:only-of-type {\n",
       "        vertical-align: middle;\n",
       "    }\n",
       "\n",
       "    .dataframe tbody tr th {\n",
       "        vertical-align: top;\n",
       "    }\n",
       "\n",
       "    .dataframe thead th {\n",
       "        text-align: right;\n",
       "    }\n",
       "</style>\n",
       "<table border=\"1\" class=\"dataframe\">\n",
       "  <thead>\n",
       "    <tr style=\"text-align: right;\">\n",
       "      <th></th>\n",
       "      <th>text</th>\n",
       "      <th>toxic</th>\n",
       "    </tr>\n",
       "  </thead>\n",
       "  <tbody>\n",
       "    <tr>\n",
       "      <th>0</th>\n",
       "      <td>Explanation\\nWhy the edits made under my usern...</td>\n",
       "      <td>0</td>\n",
       "    </tr>\n",
       "    <tr>\n",
       "      <th>1</th>\n",
       "      <td>D'aww! He matches this background colour I'm s...</td>\n",
       "      <td>0</td>\n",
       "    </tr>\n",
       "    <tr>\n",
       "      <th>2</th>\n",
       "      <td>Hey man, I'm really not trying to edit war. It...</td>\n",
       "      <td>0</td>\n",
       "    </tr>\n",
       "    <tr>\n",
       "      <th>3</th>\n",
       "      <td>\"\\nMore\\nI can't make any real suggestions on ...</td>\n",
       "      <td>0</td>\n",
       "    </tr>\n",
       "    <tr>\n",
       "      <th>4</th>\n",
       "      <td>You, sir, are my hero. Any chance you remember...</td>\n",
       "      <td>0</td>\n",
       "    </tr>\n",
       "  </tbody>\n",
       "</table>\n",
       "</div>"
      ],
      "text/plain": [
       "                                                text  toxic\n",
       "0  Explanation\\nWhy the edits made under my usern...      0\n",
       "1  D'aww! He matches this background colour I'm s...      0\n",
       "2  Hey man, I'm really not trying to edit war. It...      0\n",
       "3  \"\\nMore\\nI can't make any real suggestions on ...      0\n",
       "4  You, sir, are my hero. Any chance you remember...      0"
      ]
     },
     "execution_count": 12,
     "metadata": {},
     "output_type": "execute_result"
    }
   ],
   "source": [
    "df.head(5)"
   ]
  },
  {
   "cell_type": "markdown",
   "metadata": {},
   "source": [
    "**Вывод:**\n",
    "\n",
    " - В датасете 159 292 наблюдений. Пропусков нет, явных дубликатов нет\n",
    " - Текст комментариев на английском языке, присутствуют знаки переноса строк, и иные засорения, которые нужно удалить из текстов\n",
    " - В таргете около 90% наблюдений отрицательного класса и 10% положительного\n",
    " - И мы удадили столбец Unnamed, так как он дублировал индексы"
   ]
  },
  {
   "cell_type": "markdown",
   "metadata": {},
   "source": [
    "## Подготовка данных к обучению"
   ]
  },
  {
   "cell_type": "markdown",
   "metadata": {},
   "source": [
    "### Приведём текст к нужному виду"
   ]
  },
  {
   "cell_type": "markdown",
   "metadata": {},
   "source": [
    "Создадим корпус "
   ]
  },
  {
   "cell_type": "code",
   "execution_count": 13,
   "metadata": {},
   "outputs": [],
   "source": [
    "corpus = list(df['text'])"
   ]
  },
  {
   "cell_type": "code",
   "execution_count": 14,
   "metadata": {},
   "outputs": [
    {
     "name": "stderr",
     "output_type": "stream",
     "text": [
      "[nltk_data] Downloading package wordnet to\n",
      "[nltk_data]     C:\\Users\\radim\\AppData\\Roaming\\nltk_data...\n",
      "[nltk_data]   Package wordnet is already up-to-date!\n"
     ]
    },
    {
     "data": {
      "text/plain": [
       "True"
      ]
     },
     "execution_count": 14,
     "metadata": {},
     "output_type": "execute_result"
    }
   ],
   "source": [
    "nltk.download('wordnet')"
   ]
  },
  {
   "cell_type": "markdown",
   "metadata": {},
   "source": [
    "Напишем функцию по очистке текста и применим к нашему тексту"
   ]
  },
  {
   "cell_type": "code",
   "execution_count": 15,
   "metadata": {},
   "outputs": [],
   "source": [
    "def clear(text):\n",
    "    text = re.sub(r'[^a-zA-Z]', ' ', text) \n",
    "    text = \" \".join(text.split())\n",
    "    return text"
   ]
  },
  {
   "cell_type": "code",
   "execution_count": 16,
   "metadata": {
    "scrolled": true
   },
   "outputs": [
    {
     "data": {
      "text/plain": [
       "(\"D'aww! He matches this background colour I'm seemingly stuck with. Thanks.  (talk) 21:51, January 11, 2016 (UTC)\",\n",
       " \"Hey man, I'm really not trying to edit war. It's just that this guy is constantly removing relevant information and talking to me through edits instead of my talk page. He seems to care more about the formatting than the actual info.\")"
      ]
     },
     "execution_count": 16,
     "metadata": {},
     "output_type": "execute_result"
    }
   ],
   "source": [
    "df.text[1], df.text[2]"
   ]
  },
  {
   "cell_type": "code",
   "execution_count": 17,
   "metadata": {},
   "outputs": [
    {
     "name": "stderr",
     "output_type": "stream",
     "text": [
      "[nltk_data] Downloading package wordnet to\n",
      "[nltk_data]     C:\\Users\\radim\\AppData\\Roaming\\nltk_data...\n",
      "[nltk_data]   Package wordnet is already up-to-date!\n",
      "[nltk_data] Downloading package averaged_perceptron_tagger to\n",
      "[nltk_data]     C:\\Users\\radim\\AppData\\Roaming\\nltk_data...\n",
      "[nltk_data]   Package averaged_perceptron_tagger is already up-to-\n",
      "[nltk_data]       date!\n"
     ]
    },
    {
     "data": {
      "text/plain": [
       "True"
      ]
     },
     "execution_count": 17,
     "metadata": {},
     "output_type": "execute_result"
    }
   ],
   "source": [
    "nltk.download('wordnet')\n",
    "nltk.download('averaged_perceptron_tagger')"
   ]
  },
  {
   "cell_type": "markdown",
   "metadata": {},
   "source": [
    "Напишем функцию РОS-тэгирования слов которая будет использовать функцию по очистке слов и функцию по лемматизации слова"
   ]
  },
  {
   "cell_type": "markdown",
   "metadata": {},
   "source": [
    "Проверим работу функции на любом тексте:"
   ]
  },
  {
   "cell_type": "code",
   "execution_count": 18,
   "metadata": {},
   "outputs": [],
   "source": [
    "def get_wordnet_pos(word):\n",
    "    tag = nltk.pos_tag([word])[0][1][0].upper()\n",
    "    tag_dict = {\"J\": wordnet.ADJ,\n",
    "                \"N\": wordnet.NOUN,\n",
    "                \"V\": wordnet.VERB,\n",
    "                \"R\": wordnet.ADV}\n",
    "    return tag_dict.get(tag, wordnet.NOUN)"
   ]
  },
  {
   "cell_type": "code",
   "execution_count": 19,
   "metadata": {},
   "outputs": [],
   "source": [
    "lemmatizer = WordNetLemmatizer()"
   ]
  },
  {
   "cell_type": "code",
   "execution_count": 20,
   "metadata": {
    "scrolled": true
   },
   "outputs": [
    {
     "data": {
      "application/vnd.jupyter.widget-view+json": {
       "model_id": "3ed7d129552841119474e18036630361",
       "version_major": 2,
       "version_minor": 0
      },
      "text/plain": [
       "  0%|          | 0/159292 [00:00<?, ?it/s]"
      ]
     },
     "metadata": {},
     "output_type": "display_data"
    },
    {
     "name": "stdout",
     "output_type": "stream",
     "text": [
      "CPU times: total: 2min 5s\n",
      "Wall time: 2min 6s\n"
     ]
    }
   ],
   "source": [
    "%%time\n",
    "def lemma_function(text):\n",
    "    stek = []\n",
    "    for i in nltk.word_tokenize(text):\n",
    "        stek.append(lemmatizer.lemmatize(i))\n",
    "    return ' '.join(stek) \n",
    "\n",
    "lemma=[]\n",
    "for i in tqdm(range(len(corpus))):\n",
    "    lemma.append(lemma_function(clear(corpus[i])))\n",
    "\n",
    "df['text']=pd.Series(lemma, index=df.index)"
   ]
  },
  {
   "cell_type": "code",
   "execution_count": 21,
   "metadata": {
    "scrolled": true
   },
   "outputs": [
    {
     "data": {
      "text/plain": [
       "'Hey man I m really not trying to edit war It s just that this guy is constantly removing relevant information and talking to me through edits instead of my talk page He seems to care more about the formatting than the actual info'"
      ]
     },
     "execution_count": 21,
     "metadata": {},
     "output_type": "execute_result"
    }
   ],
   "source": [
    "df['text'][2]"
   ]
  },
  {
   "cell_type": "code",
   "execution_count": 22,
   "metadata": {
    "scrolled": false
   },
   "outputs": [
    {
     "data": {
      "text/html": [
       "<div>\n",
       "<style scoped>\n",
       "    .dataframe tbody tr th:only-of-type {\n",
       "        vertical-align: middle;\n",
       "    }\n",
       "\n",
       "    .dataframe tbody tr th {\n",
       "        vertical-align: top;\n",
       "    }\n",
       "\n",
       "    .dataframe thead th {\n",
       "        text-align: right;\n",
       "    }\n",
       "</style>\n",
       "<table border=\"1\" class=\"dataframe\">\n",
       "  <thead>\n",
       "    <tr style=\"text-align: right;\">\n",
       "      <th></th>\n",
       "      <th>text</th>\n",
       "      <th>toxic</th>\n",
       "    </tr>\n",
       "  </thead>\n",
       "  <tbody>\n",
       "    <tr>\n",
       "      <th>0</th>\n",
       "      <td>Explanation Why the edits made under my userna...</td>\n",
       "      <td>0</td>\n",
       "    </tr>\n",
       "    <tr>\n",
       "      <th>1</th>\n",
       "      <td>D aww He match this background colour I m seem...</td>\n",
       "      <td>0</td>\n",
       "    </tr>\n",
       "    <tr>\n",
       "      <th>2</th>\n",
       "      <td>Hey man I m really not trying to edit war It s...</td>\n",
       "      <td>0</td>\n",
       "    </tr>\n",
       "    <tr>\n",
       "      <th>3</th>\n",
       "      <td>More I can t make any real suggestion on impro...</td>\n",
       "      <td>0</td>\n",
       "    </tr>\n",
       "    <tr>\n",
       "      <th>4</th>\n",
       "      <td>You sir are my hero Any chance you remember wh...</td>\n",
       "      <td>0</td>\n",
       "    </tr>\n",
       "  </tbody>\n",
       "</table>\n",
       "</div>"
      ],
      "text/plain": [
       "                                                text  toxic\n",
       "0  Explanation Why the edits made under my userna...      0\n",
       "1  D aww He match this background colour I m seem...      0\n",
       "2  Hey man I m really not trying to edit war It s...      0\n",
       "3  More I can t make any real suggestion on impro...      0\n",
       "4  You sir are my hero Any chance you remember wh...      0"
      ]
     },
     "execution_count": 22,
     "metadata": {},
     "output_type": "execute_result"
    }
   ],
   "source": [
    "df.head()"
   ]
  },
  {
   "cell_type": "markdown",
   "metadata": {},
   "source": [
    "### Разделим данные на выборки"
   ]
  },
  {
   "cell_type": "code",
   "execution_count": 23,
   "metadata": {},
   "outputs": [],
   "source": [
    "features = df.drop(['toxic'], axis=1)\n",
    "target = df['toxic']"
   ]
  },
  {
   "cell_type": "code",
   "execution_count": 24,
   "metadata": {},
   "outputs": [],
   "source": [
    "features_train, features_test, target_train, target_test = train_test_split(features, target, test_size=0.4, random_state=42)\n",
    "features_valid, features_test, target_valid, target_test = train_test_split(features_test, target_test, test_size=0.5, \n",
    "                                                                            random_state=42)"
   ]
  },
  {
   "cell_type": "markdown",
   "metadata": {},
   "source": [
    "Проверим правильность разбивки выборок и равномерность распределения целевого признака"
   ]
  },
  {
   "cell_type": "code",
   "execution_count": 25,
   "metadata": {},
   "outputs": [
    {
     "data": {
      "text/plain": [
       "(0.5999987444441655, 0.19999748888833085, 0.2000037666675037)"
      ]
     },
     "execution_count": 25,
     "metadata": {},
     "output_type": "execute_result"
    }
   ],
   "source": [
    "features_train.shape[0] / df.shape[0], features_valid.shape[0] / df.shape[0], features_test.shape[0] / df.shape[0], "
   ]
  },
  {
   "cell_type": "code",
   "execution_count": 26,
   "metadata": {},
   "outputs": [
    {
     "data": {
      "text/plain": [
       "(0.5999987444441655, 0.19999748888833085, 0.2000037666675037)"
      ]
     },
     "execution_count": 26,
     "metadata": {},
     "output_type": "execute_result"
    }
   ],
   "source": [
    "target_train.shape[0] / df.shape[0], target_valid.shape[0] / df.shape[0], target_test.shape[0] / df.shape[0], "
   ]
  },
  {
   "cell_type": "code",
   "execution_count": 27,
   "metadata": {
    "scrolled": true
   },
   "outputs": [
    {
     "data": {
      "image/png": "[encoded data removed]",
      "text/plain": [
       "<Figure size 1000x400 with 3 Axes>"
      ]
     },
     "metadata": {},
     "output_type": "display_data"
    }
   ],
   "source": [
    "plt.figure(figsize=(10, 4), dpi=100)\n",
    "plt.subplot(131)\n",
    "target_train.value_counts().plot(kind='pie', autopct='%1.1f%%', labels=['toxic','not'], colors = ['#900020', '#009B77'])\n",
    "plt.ylabel('')\n",
    "plt.subplot(132)\n",
    "target_valid.value_counts().plot(kind='pie', autopct='%1.1f%%', labels=['toxic','not'], colors = ['#900020', '#009B77'])\n",
    "plt.ylabel('')\n",
    "plt.subplot(133)\n",
    "target_test.value_counts().plot(kind='pie', autopct='%1.1f%%', labels=['toxic','not'], colors = ['#900020', '#009B77'])\n",
    "plt.ylabel('')\n",
    "plt.show()"
   ]
  },
  {
   "cell_type": "markdown",
   "metadata": {},
   "source": [
    "После того, как мы равномерно разделили целевой признак и проверили графически, нам теперь необходимо уравновесить дисбаланс уменьшив количество отрицательных комментариев, и увеличив количество положительных в одной функции"
   ]
  },
  {
   "cell_type": "markdown",
   "metadata": {},
   "source": [
    "После уравновешевания целевого признака с помощью TF-IDF. Чтобы почистить мешок слов, найдём стоп-слова"
   ]
  },
  {
   "cell_type": "code",
   "execution_count": 30,
   "metadata": {},
   "outputs": [
    {
     "name": "stderr",
     "output_type": "stream",
     "text": [
      "[nltk_data] Downloading package stopwords to\n",
      "[nltk_data]     C:\\Users\\radim\\AppData\\Roaming\\nltk_data...\n",
      "[nltk_data]   Package stopwords is already up-to-date!\n"
     ]
    }
   ],
   "source": [
    "nltk.download('stopwords') \n",
    "stopwords = set(nltk_stopwords.words('english')) "
   ]
  },
  {
   "cell_type": "markdown",
   "metadata": {},
   "source": [
    "Создадим корпус слов:"
   ]
  },
  {
   "cell_type": "code",
   "execution_count": 31,
   "metadata": {
    "scrolled": true
   },
   "outputs": [],
   "source": [
    "corpus_train = features_train['text'] "
   ]
  },
  {
   "cell_type": "code",
   "execution_count": 32,
   "metadata": {
    "scrolled": true
   },
   "outputs": [
    {
     "data": {
      "text/plain": [
       "(95575,)"
      ]
     },
     "execution_count": 32,
     "metadata": {},
     "output_type": "execute_result"
    }
   ],
   "source": [
    "corpus_train.shape"
   ]
  },
  {
   "cell_type": "markdown",
   "metadata": {},
   "source": [
    "Создадим счётчик, указав в нём стоп-слова и чтобы посчитать TF-IDF для корпуса текстов, вызовем функцию fit_transform():"
   ]
  },
  {
   "cell_type": "code",
   "execution_count": 33,
   "metadata": {},
   "outputs": [],
   "source": [
    "count_tf_idf = TfidfVectorizer(stop_words=stopwords, analyzer='word')\n",
    "tf_idf_train = count_tf_idf.fit_transform(corpus_train)"
   ]
  },
  {
   "cell_type": "markdown",
   "metadata": {},
   "source": [
    "Теперь применим для валидационной и тестовой выборок:"
   ]
  },
  {
   "cell_type": "code",
   "execution_count": 34,
   "metadata": {},
   "outputs": [],
   "source": [
    "corpus_valid = features_valid['text'] \n",
    "tf_idf_valid = count_tf_idf.transform(corpus_valid)"
   ]
  },
  {
   "cell_type": "code",
   "execution_count": 35,
   "metadata": {},
   "outputs": [],
   "source": [
    "corpus_test = features_test['text'] \n",
    "tf_idf_test = count_tf_idf.transform(corpus_test)"
   ]
  },
  {
   "cell_type": "code",
   "execution_count": 36,
   "metadata": {
    "scrolled": true
   },
   "outputs": [
    {
     "data": {
      "text/plain": [
       "((95575, 120911), (31858, 120911), (31859, 120911))"
      ]
     },
     "execution_count": 36,
     "metadata": {},
     "output_type": "execute_result"
    }
   ],
   "source": [
    "tf_idf_train.shape, tf_idf_valid.shape, tf_idf_test.shape"
   ]
  },
  {
   "cell_type": "markdown",
   "metadata": {},
   "source": [
    "Вывод: мы разделили данные на обучающую, валидационную и тестовую выборки, учли разбиение с учётом дисбаланса, графически посмотрели на дисбаланс и с помощью функции попытались уравновесить целевой признак, но в дальнейшем обучении моделей логическая регрессия переучилась, на обучающий данных она показала показатель равный 0,98, а на валиде с тестом ниже 0,75, поэтому мы далее используем балансировку весов в самих моделях. С помощью величины TF-IDF рассчитали значимость слов в корпусе слов."
   ]
  },
  {
   "cell_type": "markdown",
   "metadata": {},
   "source": [
    "## Обучение"
   ]
  },
  {
   "cell_type": "markdown",
   "metadata": {},
   "source": [
    "Создадим функцию, для графического отображения распределения плотности предсказанных и истинных значений"
   ]
  },
  {
   "cell_type": "code",
   "execution_count": 37,
   "metadata": {},
   "outputs": [],
   "source": [
    "def chart(target, predict, model_f1):\n",
    "    plt.figure(figsize=(14,4))\n",
    "    target.plot(kind='kde', linewidth=2, color= '#9966CC')\n",
    "    pd.Series(predict).plot(kind='kde',linewidth=2, color= '#009B77')\n",
    "    plt.title('График распределения плотности предсказанных и истинных значений', y=1.01)\n",
    "    plt.legend(['Истинные значения','Предсказанные значения'])\n",
    "    plt.text(0.75, 6,'F1= {:.2f}'.format(model_f1))\n",
    "    plt.ylabel('Плотность')\n",
    "    plt.show()"
   ]
  },
  {
   "cell_type": "markdown",
   "metadata": {},
   "source": [
    "### Логистическая регрессия"
   ]
  },
  {
   "cell_type": "code",
   "execution_count": 38,
   "metadata": {},
   "outputs": [],
   "source": [
    "shuffle = KFold(n_splits=5, random_state=42, shuffle=True)"
   ]
  },
  {
   "cell_type": "code",
   "execution_count": 39,
   "metadata": {},
   "outputs": [
    {
     "name": "stdout",
     "output_type": "stream",
     "text": [
      "Время обучения логистический регресии равно:  7.539606638749441 min\n",
      "Линейная регрессия: 0.77327\n",
      "При параметрах {'model__C': 10, 'model__class_weight': 'balanced', 'model__intercept_scaling': 0.01, 'model__solver': 'sag'}\n"
     ]
    }
   ],
   "source": [
    "pipe_lr = Pipeline([('vect', CountVectorizer()),\n",
    "                    ('tfidf', TfidfTransformer()),\n",
    "                    ('model', LogisticRegression(random_state=42))])\n",
    "\n",
    "params_lr = {'model__class_weight': ['balanced'], \n",
    "          'model__solver': ['sag'], \n",
    "          'model__C': [1, 10, 20],\n",
    "          'model__intercept_scaling':[0.01, 0.1, 0.3, 0.5, 1.0]}\n",
    "\n",
    "linear_gscv = GridSearchCV(estimator=pipe_lr, param_grid=params_lr, scoring='f1', cv=shuffle, n_jobs=-1)\n",
    "\n",
    "start = time.time()\n",
    "\n",
    "linear_gscv.fit(features_train['text'], target_train)\n",
    "\n",
    "end = time.time()\n",
    "print('Время обучения логистический регресии равно: ', (end-start)/60, 'min')\n",
    "\n",
    "linear_train_f1 = round(linear_gscv.best_score_, 5)\n",
    "\n",
    "print('Линейная регрессия:', linear_train_f1)\n",
    "print('При параметрах', linear_gscv.best_params_)"
   ]
  },
  {
   "cell_type": "markdown",
   "metadata": {},
   "source": [
    "валидация:"
   ]
  },
  {
   "cell_type": "code",
   "execution_count": 40,
   "metadata": {},
   "outputs": [
    {
     "name": "stdout",
     "output_type": "stream",
     "text": [
      "Время предсказания логистический регресии равно:  0.037819711367289226 <built-in function min>\n",
      "F1 логистической регрессии на валидации:  0.7564\n"
     ]
    }
   ],
   "source": [
    "start = time.time()\n",
    "\n",
    "predict_linear_valid = linear_gscv.predict(features_valid['text'])\n",
    "linear_valid_f1 = f1_score(target_valid, predict_linear_valid)\n",
    "\n",
    "end = time.time()\n",
    "print('Время предсказания логистический регресии равно: ', (end-start)/60, min)\n",
    "print('F1 логистической регрессии на валидации: ', round(linear_valid_f1,4))"
   ]
  },
  {
   "cell_type": "code",
   "execution_count": 41,
   "metadata": {},
   "outputs": [
    {
     "data": {
      "image/png": "[encoded data removed]",
      "text/plain": [
       "<Figure size 1400x400 with 1 Axes>"
      ]
     },
     "metadata": {},
     "output_type": "display_data"
    }
   ],
   "source": [
    "chart(target_valid, predict_linear_valid, linear_valid_f1)"
   ]
  },
  {
   "cell_type": "markdown",
   "metadata": {},
   "source": [
    "### Random Forest"
   ]
  },
  {
   "cell_type": "code",
   "execution_count": 42,
   "metadata": {},
   "outputs": [
    {
     "name": "stdout",
     "output_type": "stream",
     "text": [
      "Время подбора параметров c обучением:  32.1561080177625 min\n",
      "F1 случайного леса:  0.32\n",
      "При параметрах {'model__max_depth': 20, 'model__min_samples_leaf': 2, 'model__min_samples_split': 5, 'model__n_estimators': 80}\n"
     ]
    }
   ],
   "source": [
    "pipe_rf = Pipeline([('vect', CountVectorizer(stop_words=list(stopwords), analyzer='word', min_df=100)),\n",
    "                   ('tfidf', TfidfTransformer()),\n",
    "                   ('model', RandomForestClassifier(random_state=42))])\n",
    "\n",
    "params_rf = {'model__n_estimators': [80, 100], \n",
    "          'model__max_depth': [10, 15, 20], \n",
    "          'model__min_samples_leaf': [2, 3, 4, 5],\n",
    "          'model__min_samples_split': [2, 3, 4, 5]}\n",
    "\n",
    "forest_gscv = GridSearchCV(estimator=pipe_rf, param_grid=params_rf, scoring='f1', cv=2)\n",
    "\n",
    "start = time.time()\n",
    "\n",
    "forest_gscv.fit(features_train['text'], target_train)\n",
    "\n",
    "end = time.time()\n",
    "print('Время подбора параметров c обучением: ', (end - start)/60, 'min')\n",
    "\n",
    "forest_train_f1 = round(forest_gscv.best_score_, 2)\n",
    "\n",
    "print('F1 случайного леса: ', forest_train_f1)\n",
    "print('При параметрах', forest_gscv.best_params_)"
   ]
  },
  {
   "cell_type": "code",
   "execution_count": 43,
   "metadata": {},
   "outputs": [
    {
     "name": "stdout",
     "output_type": "stream",
     "text": [
      "Время предсказания случайного леса равно:  0.03854258060455322 <built-in function min>\n",
      "F1 случайного леса на валидации:  0.2\n"
     ]
    }
   ],
   "source": [
    "start = time.time()\n",
    "predict_forest_valid = forest_gscv.predict(features_valid['text'])\n",
    "forest_valid_f1 = f1_score(target_valid, predict_forest_valid)\n",
    "end = time.time()\n",
    "print('Время предсказания случайного леса равно: ', (end-start)/60, min)\n",
    "print('F1 случайного леса на валидации: ', round(forest_valid_f1,2))"
   ]
  },
  {
   "cell_type": "code",
   "execution_count": 44,
   "metadata": {},
   "outputs": [
    {
     "data": {
      "image/png": "[encoded data removed]",
      "text/plain": [
       "<Figure size 1400x400 with 1 Axes>"
      ]
     },
     "metadata": {},
     "output_type": "display_data"
    }
   ],
   "source": [
    "chart(target_valid, predict_forest_valid, forest_valid_f1)"
   ]
  },
  {
   "cell_type": "markdown",
   "metadata": {},
   "source": [
    "### Decision Tree"
   ]
  },
  {
   "cell_type": "code",
   "execution_count": 45,
   "metadata": {},
   "outputs": [
    {
     "name": "stdout",
     "output_type": "stream",
     "text": [
      "Время подбора параметров c обучением:  1.167777375380198 min\n",
      "F1 дерева решений:  0.37\n",
      "При параметрах {'model__class_weight': 'balanced', 'model__max_depth': 3}\n"
     ]
    }
   ],
   "source": [
    "pipe_dt = Pipeline([('vect',  CountVectorizer(stop_words=list(stopwords), analyzer='word', min_df=100)),\n",
    "                    ('tfidf', TfidfTransformer()),\n",
    "                    ('model', DecisionTreeClassifier(random_state=42))])\n",
    "\n",
    "params_dt = {'model__max_depth': [1, 3],\n",
    "          'model__class_weight': ['balanced']}\n",
    "\n",
    "tree_gscv = GridSearchCV(estimator=pipe_dt, param_grid=params_dt, cv=5, scoring='f1')\n",
    "\n",
    "start = time.time()\n",
    " \n",
    "tree_gscv.fit(features_train['text'], target_train)\n",
    "\n",
    "end = time.time()\n",
    "print('Время подбора параметров c обучением: ', (end - start)/60, 'min')\n",
    "\n",
    "tree_train_f1 = round(tree_gscv.best_score_, 2)\n",
    "\n",
    "print('F1 дерева решений: ', tree_train_f1)\n",
    "print('При параметрах', tree_gscv.best_params_)"
   ]
  },
  {
   "cell_type": "code",
   "execution_count": 46,
   "metadata": {},
   "outputs": [
    {
     "name": "stdout",
     "output_type": "stream",
     "text": [
      "Время предсказания случайного леса равно:  0.031935938199361164 <built-in function min>\n",
      "F1 случайного леса на валидации:  0.37\n"
     ]
    }
   ],
   "source": [
    "start = time.time()\n",
    "predict_tree_valid = tree_gscv.predict(features_valid['text'])\n",
    "tree_valid_f1 = f1_score(target_valid, predict_tree_valid)\n",
    "end = time.time()\n",
    "print('Время предсказания случайного леса равно: ', (end-start)/60, min)\n",
    "print('F1 случайного леса на валидации: ', round(tree_valid_f1,2))"
   ]
  },
  {
   "cell_type": "code",
   "execution_count": 47,
   "metadata": {},
   "outputs": [
    {
     "data": {
      "image/png": "[encoded data removed]",
      "text/plain": [
       "<Figure size 1400x400 with 1 Axes>"
      ]
     },
     "metadata": {},
     "output_type": "display_data"
    }
   ],
   "source": [
    "chart(target_valid, predict_tree_valid, tree_valid_f1)"
   ]
  },
  {
   "cell_type": "markdown",
   "metadata": {},
   "source": [
    "### CatBoost c Pipeline без GridSearchCV"
   ]
  },
  {
   "cell_type": "code",
   "execution_count": 48,
   "metadata": {},
   "outputs": [
    {
     "data": {
      "text/plain": [
       "8.767"
      ]
     },
     "execution_count": 48,
     "metadata": {},
     "output_type": "execute_result"
    }
   ],
   "source": [
    "weight = round((len(target_train[target_train == 0]) / \n",
    "                          len(target_train[target_train == 1])), 3)\n",
    "weight"
   ]
  },
  {
   "cell_type": "code",
   "execution_count": 49,
   "metadata": {
    "scrolled": true
   },
   "outputs": [
    {
     "name": "stdout",
     "output_type": "stream",
     "text": [
      "0:\tlearn: 0.8955886\ttotal: 273ms\tremaining: 4m 32s\n",
      "300:\tlearn: 0.9392791\ttotal: 35.3s\tremaining: 1m 22s\n",
      "600:\tlearn: 0.9480291\ttotal: 1m 11s\tremaining: 47.2s\n",
      "900:\tlearn: 0.9511946\ttotal: 1m 46s\tremaining: 11.7s\n",
      "999:\tlearn: 0.9520146\ttotal: 1m 57s\tremaining: 0us\n",
      "Время подбора параметров c обучением:  2.0745519757270814 min\n"
     ]
    }
   ],
   "source": [
    "pipe_cat = Pipeline([('vect',  CountVectorizer(stop_words=list(stopwords), analyzer='word', min_df=100)),\n",
    "                    ('tfidf', TfidfTransformer()),\n",
    "                    ('model', CatBoostClassifier(random_state=42, learning_rate=0.1, max_depth=2, \n",
    "                                                 verbose=300, eval_metric='TotalF1'))])\n",
    "start = time.time()\n",
    "model_cat = pipe_cat.fit(features_train['text'], target_train)\n",
    "\n",
    "end = time.time()\n",
    "\n",
    "print('Время подбора параметров c обучением: ', (end - start)/60, 'min')"
   ]
  },
  {
   "cell_type": "code",
   "execution_count": 50,
   "metadata": {},
   "outputs": [
    {
     "name": "stdout",
     "output_type": "stream",
     "text": [
      "F1  CatBoost на train:  0.74\n"
     ]
    }
   ],
   "source": [
    "predict_train_cat_pipe = model_cat.predict(features_train['text'])\n",
    "cat_f1_tain_pipe = f1_score(target_train, predict_train_cat_pipe)\n",
    "\n",
    "print('F1  CatBoost на train: ', round(cat_f1_tain_pipe,2))"
   ]
  },
  {
   "cell_type": "code",
   "execution_count": 51,
   "metadata": {},
   "outputs": [
    {
     "name": "stdout",
     "output_type": "stream",
     "text": [
      "Время предсказания  CatBoost равно:  0.034152738253275555 <built-in function min>\n",
      "F1  CatBoost на валидации:  0.71\n"
     ]
    }
   ],
   "source": [
    "start = time.time()\n",
    "predict_cat_valid_pipe = model_cat.predict(features_valid['text'])\n",
    "cat_valid_f1_pipe = f1_score(target_valid, predict_cat_valid_pipe)\n",
    "end = time.time()\n",
    "print('Время предсказания  CatBoost равно: ', (end-start)/60, min)\n",
    "print('F1  CatBoost на валидации: ', round(cat_valid_f1_pipe,2))"
   ]
  },
  {
   "cell_type": "code",
   "execution_count": 52,
   "metadata": {
    "scrolled": true
   },
   "outputs": [
    {
     "data": {
      "image/png": "[encoded data removed]",
      "text/plain": [
       "<Figure size 1400x400 with 1 Axes>"
      ]
     },
     "metadata": {},
     "output_type": "display_data"
    }
   ],
   "source": [
    "chart(target_valid, predict_cat_valid_pipe, cat_valid_f1_pipe)"
   ]
  },
  {
   "cell_type": "markdown",
   "metadata": {},
   "source": [
    "### CatBoost c Pipeline и c GridSearchCV"
   ]
  },
  {
   "cell_type": "markdown",
   "metadata": {},
   "source": [
    "ниже мы экспериментировали с подбором параметров, и оптимальными оказались model__learning_rate': 0.1, 'model__max_depth': 2, поэтому только они указаны в параметрах"
   ]
  },
  {
   "cell_type": "code",
   "execution_count": 53,
   "metadata": {
    "scrolled": false
   },
   "outputs": [
    {
     "name": "stdout",
     "output_type": "stream",
     "text": [
      "0:\tlearn: 0.5122918\ttotal: 364ms\tremaining: 6m 3s\n",
      "300:\tlearn: 0.1216628\ttotal: 1m 42s\tremaining: 3m 56s\n",
      "600:\tlearn: 0.1006434\ttotal: 3m 22s\tremaining: 2m 14s\n",
      "900:\tlearn: 0.0860146\ttotal: 5m 2s\tremaining: 33.2s\n",
      "999:\tlearn: 0.0821161\ttotal: 5m 35s\tremaining: 0us\n",
      "0:\tlearn: 0.5147034\ttotal: 377ms\tremaining: 6m 16s\n",
      "300:\tlearn: 0.1214337\ttotal: 1m 40s\tremaining: 3m 53s\n",
      "600:\tlearn: 0.0997954\ttotal: 3m 21s\tremaining: 2m 13s\n",
      "900:\tlearn: 0.0852638\ttotal: 5m 1s\tremaining: 33.2s\n",
      "999:\tlearn: 0.0815473\ttotal: 5m 36s\tremaining: 0us\n",
      "0:\tlearn: 0.5103308\ttotal: 370ms\tremaining: 6m 9s\n",
      "300:\tlearn: 0.1188222\ttotal: 1m 42s\tremaining: 3m 58s\n",
      "600:\tlearn: 0.0971827\ttotal: 3m 23s\tremaining: 2m 15s\n",
      "900:\tlearn: 0.0831843\ttotal: 5m 3s\tremaining: 33.4s\n",
      "999:\tlearn: 0.0793553\ttotal: 5m 37s\tremaining: 0us\n",
      "0:\tlearn: 0.5130619\ttotal: 356ms\tremaining: 5m 55s\n",
      "300:\tlearn: 0.1210874\ttotal: 1m 41s\tremaining: 3m 56s\n",
      "600:\tlearn: 0.0983916\ttotal: 3m 22s\tremaining: 2m 14s\n",
      "900:\tlearn: 0.0843143\ttotal: 5m 5s\tremaining: 33.6s\n",
      "999:\tlearn: 0.0804581\ttotal: 5m 37s\tremaining: 0us\n",
      "0:\tlearn: 0.5049739\ttotal: 364ms\tremaining: 6m 3s\n",
      "300:\tlearn: 0.1201918\ttotal: 1m 43s\tremaining: 4m\n",
      "600:\tlearn: 0.0984179\ttotal: 3m 26s\tremaining: 2m 16s\n",
      "900:\tlearn: 0.0844226\ttotal: 5m 12s\tremaining: 34.4s\n",
      "999:\tlearn: 0.0805437\ttotal: 5m 47s\tremaining: 0us\n",
      "0:\tlearn: 0.5116472\ttotal: 476ms\tremaining: 7m 55s\n",
      "300:\tlearn: 0.1182622\ttotal: 2m 2s\tremaining: 4m 45s\n",
      "600:\tlearn: 0.0994041\ttotal: 4m 12s\tremaining: 2m 47s\n",
      "900:\tlearn: 0.0855144\ttotal: 6m 16s\tremaining: 41.4s\n",
      "999:\tlearn: 0.0820356\ttotal: 6m 59s\tremaining: 0us\n",
      "Время подбора параметров c обучением:  35.91160016059875 min\n"
     ]
    }
   ],
   "source": [
    "pipe_cat_2 = Pipeline([('vect',  CountVectorizer(stop_words=list(stopwords), analyzer='word', min_df=100)),\n",
    "                    ('tfidf', TfidfTransformer()),\n",
    "                    ('model', CatBoostClassifier(random_state=42, verbose=300))])\n",
    "                     \n",
    "params_cat = {'model__learning_rate' : [0.2], \n",
    "          'model__max_depth': [6]}\n",
    "\n",
    "cat_rscv =  GridSearchCV(estimator=pipe_cat_2, param_grid=params_cat, scoring='f1', cv=shuffle) \n",
    "\n",
    "start = time.time()\n",
    "\n",
    "cat_rscv.fit(features_train['text'], target_train)\n",
    "\n",
    "end = time.time()\n",
    "\n",
    "\n",
    "print('Время подбора параметров c обучением: ', (end - start)/60, 'min')"
   ]
  },
  {
   "cell_type": "code",
   "execution_count": 54,
   "metadata": {},
   "outputs": [
    {
     "name": "stdout",
     "output_type": "stream",
     "text": [
      "F1 CatBoost:  0.73\n",
      "При параметрах {'model__learning_rate': 0.2, 'model__max_depth': 6}\n"
     ]
    }
   ],
   "source": [
    "cat_train_f1_pipe_grid = round(cat_rscv.best_score_, 2)\n",
    "\n",
    "print('F1 CatBoost: ', cat_train_f1_pipe_grid)\n",
    "\n",
    "print('При параметрах', cat_rscv.best_params_)"
   ]
  },
  {
   "cell_type": "code",
   "execution_count": 55,
   "metadata": {},
   "outputs": [
    {
     "name": "stdout",
     "output_type": "stream",
     "text": [
      "Время предсказания  CatBoost равно:  0.036086225509643556 <built-in function min>\n",
      "F1  CatBoost на валидации:  0.73\n"
     ]
    }
   ],
   "source": [
    "start = time.time()\n",
    "predict_cat_valid_pipe_grid = cat_rscv.predict(features_valid['text'])\n",
    "cat_valid_f1_pipe_grid = f1_score(target_valid, predict_cat_valid_pipe_grid)\n",
    "end = time.time()\n",
    "print('Время предсказания  CatBoost равно: ', (end-start)/60, min)\n",
    "print('F1  CatBoost на валидации: ', round(cat_valid_f1_pipe_grid,2))"
   ]
  },
  {
   "cell_type": "code",
   "execution_count": 56,
   "metadata": {},
   "outputs": [
    {
     "data": {
      "image/png": "[encoded data removed]",
      "text/plain": [
       "<Figure size 1400x400 with 1 Axes>"
      ]
     },
     "metadata": {},
     "output_type": "display_data"
    }
   ],
   "source": [
    "chart(target_valid, predict_cat_valid_pipe_grid, cat_valid_f1_pipe_grid)"
   ]
  },
  {
   "cell_type": "markdown",
   "metadata": {},
   "source": [
    "#### Выведем не большую табличку с результатами предсказаний моделей"
   ]
  },
  {
   "cell_type": "code",
   "execution_count": 57,
   "metadata": {},
   "outputs": [
    {
     "data": {
      "text/html": [
       "<div>\n",
       "<style scoped>\n",
       "    .dataframe tbody tr th:only-of-type {\n",
       "        vertical-align: middle;\n",
       "    }\n",
       "\n",
       "    .dataframe tbody tr th {\n",
       "        vertical-align: top;\n",
       "    }\n",
       "\n",
       "    .dataframe thead th {\n",
       "        text-align: right;\n",
       "    }\n",
       "</style>\n",
       "<table border=\"1\" class=\"dataframe\">\n",
       "  <thead>\n",
       "    <tr style=\"text-align: right;\">\n",
       "      <th></th>\n",
       "      <th>F1_train</th>\n",
       "      <th>F1_valid</th>\n",
       "    </tr>\n",
       "  </thead>\n",
       "  <tbody>\n",
       "    <tr>\n",
       "      <th>Logistic</th>\n",
       "      <td>0.773270</td>\n",
       "      <td>0.760000</td>\n",
       "    </tr>\n",
       "    <tr>\n",
       "      <th>Random_Forest</th>\n",
       "      <td>0.320000</td>\n",
       "      <td>0.202398</td>\n",
       "    </tr>\n",
       "    <tr>\n",
       "      <th>Decision Tree</th>\n",
       "      <td>0.370000</td>\n",
       "      <td>0.366616</td>\n",
       "    </tr>\n",
       "    <tr>\n",
       "      <th>Cat_Boost+Pipeline</th>\n",
       "      <td>0.740828</td>\n",
       "      <td>0.706821</td>\n",
       "    </tr>\n",
       "    <tr>\n",
       "      <th>CatBoost+Pipeline+GridSearchCV</th>\n",
       "      <td>0.730000</td>\n",
       "      <td>0.733106</td>\n",
       "    </tr>\n",
       "  </tbody>\n",
       "</table>\n",
       "</div>"
      ],
      "text/plain": [
       "                                F1_train  F1_valid\n",
       "Logistic                        0.773270  0.760000\n",
       "Random_Forest                   0.320000  0.202398\n",
       "Decision Tree                   0.370000  0.366616\n",
       "Cat_Boost+Pipeline              0.740828  0.706821\n",
       "CatBoost+Pipeline+GridSearchCV  0.730000  0.733106"
      ]
     },
     "execution_count": 57,
     "metadata": {},
     "output_type": "execute_result"
    }
   ],
   "source": [
    "data = {'F1_train': [linear_train_f1, forest_train_f1, tree_train_f1, cat_f1_tain_pipe, cat_train_f1_pipe_grid],\n",
    "        'F1_valid': [round(linear_valid_f1,2), forest_valid_f1, tree_valid_f1, cat_valid_f1_pipe, cat_valid_f1_pipe_grid]}\n",
    "\n",
    "result = pd.DataFrame(data, index=['Logistic', 'Random_Forest', 'Decision Tree', 'Cat_Boost+Pipeline', \n",
    "                                   'CatBoost+Pipeline+GridSearchCV'])\n",
    "result"
   ]
  },
  {
   "cell_type": "markdown",
   "metadata": {},
   "source": [
    "### Проверка выбранной модели"
   ]
  },
  {
   "cell_type": "markdown",
   "metadata": {},
   "source": [
    "Наилучший показатель F1 меры показала модель логистической регрессии, поэтому проверим её на тестовых данных. Но стоит отметить, что модель CatBoost также имеет хорошие результаты, и скорее всего при подборе оптимальных параметров можно было бы использовать её, но так как она слишком долго обучается, мы не стали использовать  Pipeline вместе с  RandomizedSearchCV, то остановим свой выбор на логистической регресии."
   ]
  },
  {
   "cell_type": "code",
   "execution_count": 58,
   "metadata": {
    "scrolled": true
   },
   "outputs": [
    {
     "name": "stdout",
     "output_type": "stream",
     "text": [
      "Время предсказания логистический регресии равно:  0.038653119405110674 min\n",
      "F1 логистической регрессии на тесте:  0.76\n"
     ]
    }
   ],
   "source": [
    "start = time.time()\n",
    "predict_linear_test = linear_gscv.predict(features_test['text'])\n",
    "linear_test_f1 = f1_score(target_test, predict_linear_test)\n",
    "end = time.time()\n",
    "print('Время предсказания логистический регресии равно: ', (end-start)/60, 'min')\n",
    "print('F1 логистической регрессии на тесте: ', round(linear_test_f1,2))"
   ]
  },
  {
   "cell_type": "code",
   "execution_count": 59,
   "metadata": {
    "scrolled": false
   },
   "outputs": [
    {
     "data": {
      "image/png": "[encoded data removed]",
      "text/plain": [
       "<Figure size 1400x400 with 1 Axes>"
      ]
     },
     "metadata": {},
     "output_type": "display_data"
    }
   ],
   "source": [
    "chart(target_test, predict_linear_test, linear_test_f1)"
   ]
  },
  {
   "cell_type": "markdown",
   "metadata": {},
   "source": [
    "## Выводы"
   ]
  },
  {
   "cell_type": "markdown",
   "metadata": {
    "scrolled": false
   },
   "source": [
    "Модель LogisticRegression показала лучший результат на тестовых данных 0,76."
   ]
  },
  {
   "cell_type": "markdown",
   "metadata": {},
   "source": [
    "В вашем распоряжении был набор данных с разметкой о токсичности правок и целью проекта был инструмент, который будет искать токсичные комментарии и отправлять их на модерацию. Нам надо было построить модель со значением метрики качества F1 не меньше 0.75. \n",
    "\n",
    "Предоставленные комментарии нам пришлось очистить от знаков пунктуации, провели лемматизацию, сбалансировали выбороки методами upsample и downsamle, т.к. сильный дисбаланс в классах мог негативно повлиять на качество предсказания предсказаний.\n",
    "\n",
    "В работе были использованы логистическая модель, случайный лес и CatBoost, по итогам обучения которых наилучший показатель метрики F1 была достигнута на модели логистической регрессии.\n",
    "\n",
    "Таким образом для магазина \"ВИКИШОП\" мы рекомендуем использовать в своей работе модель логистической регрессии."
   ]
  }
 ],
 "metadata": {
  "ExecuteTimeLog": [
   {
    "duration": 474,
    "start_time": "2023-02-22T20:39:32.000Z"
   },
   {
    "duration": 102,
    "start_time": "2023-02-22T20:40:23.633Z"
   },
   {
    "duration": 3,
    "start_time": "2023-02-22T20:50:09.367Z"
   },
   {
    "duration": 2458,
    "start_time": "2023-02-22T20:50:11.227Z"
   },
   {
    "duration": 18,
    "start_time": "2023-02-22T20:50:27.537Z"
   },
   {
    "duration": 1229,
    "start_time": "2023-02-25T16:08:00.607Z"
   },
   {
    "duration": 3256,
    "start_time": "2023-02-25T16:08:31.439Z"
   },
   {
    "duration": 13,
    "start_time": "2023-02-25T16:08:36.736Z"
   },
   {
    "duration": 4,
    "start_time": "2023-02-25T16:08:49.010Z"
   },
   {
    "duration": 25,
    "start_time": "2023-02-25T16:09:10.421Z"
   },
   {
    "duration": 214,
    "start_time": "2023-02-25T16:09:30.051Z"
   },
   {
    "duration": 184,
    "start_time": "2023-02-25T16:09:36.741Z"
   },
   {
    "duration": 6,
    "start_time": "2023-02-25T16:12:20.921Z"
   },
   {
    "duration": 6,
    "start_time": "2023-02-25T16:14:03.059Z"
   },
   {
    "duration": 9,
    "start_time": "2023-02-25T16:14:32.019Z"
   },
   {
    "duration": 7,
    "start_time": "2023-02-25T16:14:46.208Z"
   },
   {
    "duration": 110,
    "start_time": "2023-02-25T16:18:44.541Z"
   },
   {
    "duration": 17,
    "start_time": "2023-02-25T16:18:48.973Z"
   },
   {
    "duration": 11,
    "start_time": "2023-02-25T16:19:05.612Z"
   },
   {
    "duration": 55,
    "start_time": "2023-02-25T16:19:14.643Z"
   },
   {
    "duration": 8,
    "start_time": "2023-02-25T16:19:18.599Z"
   },
   {
    "duration": 16,
    "start_time": "2023-02-25T16:20:03.091Z"
   },
   {
    "duration": 7,
    "start_time": "2023-02-25T16:20:17.260Z"
   },
   {
    "duration": 10,
    "start_time": "2023-02-25T16:20:25.063Z"
   },
   {
    "duration": 7,
    "start_time": "2023-02-25T16:20:27.183Z"
   },
   {
    "duration": 33,
    "start_time": "2023-02-25T16:38:45.652Z"
   },
   {
    "duration": 23,
    "start_time": "2023-02-25T16:38:51.658Z"
   },
   {
    "duration": 2,
    "start_time": "2023-02-25T16:41:04.298Z"
   },
   {
    "duration": 3,
    "start_time": "2023-02-25T16:42:30.888Z"
   },
   {
    "duration": 26,
    "start_time": "2023-02-25T16:42:52.386Z"
   },
   {
    "duration": 22,
    "start_time": "2023-02-25T16:43:19.208Z"
   },
   {
    "duration": 3,
    "start_time": "2023-02-25T16:43:40.375Z"
   },
   {
    "duration": 27,
    "start_time": "2023-02-25T16:43:42.110Z"
   },
   {
    "duration": 651,
    "start_time": "2023-02-25T16:44:34.290Z"
   },
   {
    "duration": 2,
    "start_time": "2023-02-25T16:44:39.811Z"
   },
   {
    "duration": 1345,
    "start_time": "2023-02-25T16:44:41.848Z"
   },
   {
    "duration": 11,
    "start_time": "2023-02-25T16:45:41.268Z"
   },
   {
    "duration": 6,
    "start_time": "2023-02-25T16:50:28.122Z"
   },
   {
    "duration": 5,
    "start_time": "2023-02-25T16:51:33.550Z"
   },
   {
    "duration": 6,
    "start_time": "2023-02-25T16:51:53.370Z"
   },
   {
    "duration": 5,
    "start_time": "2023-02-25T16:53:02.980Z"
   },
   {
    "duration": 5,
    "start_time": "2023-02-25T16:53:10.480Z"
   },
   {
    "duration": 1944,
    "start_time": "2023-02-25T16:55:26.328Z"
   },
   {
    "duration": 7,
    "start_time": "2023-02-25T16:55:48.670Z"
   },
   {
    "duration": 4,
    "start_time": "2023-02-25T16:56:07.059Z"
   },
   {
    "duration": 4,
    "start_time": "2023-02-25T16:56:28.760Z"
   },
   {
    "duration": 4,
    "start_time": "2023-02-25T16:56:36.845Z"
   },
   {
    "duration": 3,
    "start_time": "2023-02-25T16:57:48.580Z"
   },
   {
    "duration": 1173,
    "start_time": "2023-02-25T16:57:51.232Z"
   },
   {
    "duration": 4,
    "start_time": "2023-02-25T16:57:53.738Z"
   },
   {
    "duration": 2,
    "start_time": "2023-02-25T16:59:04.424Z"
   },
   {
    "duration": 1123,
    "start_time": "2023-02-25T16:59:06.882Z"
   },
   {
    "duration": 4,
    "start_time": "2023-02-25T16:59:08.656Z"
   },
   {
    "duration": 3,
    "start_time": "2023-02-25T17:06:19.155Z"
   },
   {
    "duration": 4,
    "start_time": "2023-02-25T17:07:02.799Z"
   },
   {
    "duration": 83020,
    "start_time": "2023-02-25T17:07:30.685Z"
   },
   {
    "duration": 0,
    "start_time": "2023-02-25T17:08:53.707Z"
   },
   {
    "duration": 2,
    "start_time": "2023-02-25T17:09:12.758Z"
   },
   {
    "duration": 1034358,
    "start_time": "2023-02-25T17:10:25.282Z"
   },
   {
    "duration": 4,
    "start_time": "2023-02-25T17:27:39.642Z"
   },
   {
    "duration": 4,
    "start_time": "2023-02-25T17:29:54.301Z"
   },
   {
    "duration": 4,
    "start_time": "2023-02-25T17:31:10.343Z"
   },
   {
    "duration": 4,
    "start_time": "2023-02-25T17:31:27.135Z"
   },
   {
    "duration": 4,
    "start_time": "2023-02-25T17:31:41.182Z"
   },
   {
    "duration": 5,
    "start_time": "2023-02-25T17:33:31.573Z"
   },
   {
    "duration": 3,
    "start_time": "2023-02-25T17:35:50.384Z"
   },
   {
    "duration": 194,
    "start_time": "2023-02-25T18:02:43.115Z"
   },
   {
    "duration": 709,
    "start_time": "2023-02-25T18:02:48.549Z"
   },
   {
    "duration": 3,
    "start_time": "2023-02-25T18:03:06.365Z"
   },
   {
    "duration": 7,
    "start_time": "2023-02-25T18:03:11.387Z"
   },
   {
    "duration": 3,
    "start_time": "2023-02-25T18:03:31.416Z"
   },
   {
    "duration": 2738,
    "start_time": "2023-02-25T18:03:52.006Z"
   },
   {
    "duration": 5,
    "start_time": "2023-02-25T18:04:00.687Z"
   },
   {
    "duration": 42,
    "start_time": "2023-02-25T18:04:21.646Z"
   },
   {
    "duration": 1497,
    "start_time": "2023-02-25T18:04:26.911Z"
   },
   {
    "duration": 753,
    "start_time": "2023-02-25T18:04:28.410Z"
   },
   {
    "duration": 2,
    "start_time": "2023-02-25T18:04:29.165Z"
   },
   {
    "duration": 15,
    "start_time": "2023-02-25T18:04:29.169Z"
   },
   {
    "duration": 4,
    "start_time": "2023-02-25T18:04:29.186Z"
   },
   {
    "duration": 7,
    "start_time": "2023-02-25T18:04:29.191Z"
   },
   {
    "duration": 6,
    "start_time": "2023-02-25T18:04:29.199Z"
   },
   {
    "duration": 6,
    "start_time": "2023-02-25T18:04:29.206Z"
   },
   {
    "duration": 25,
    "start_time": "2023-02-25T18:04:29.213Z"
   },
   {
    "duration": 9,
    "start_time": "2023-02-25T18:04:29.240Z"
   },
   {
    "duration": 6,
    "start_time": "2023-02-25T18:04:29.250Z"
   },
   {
    "duration": 4,
    "start_time": "2023-02-25T18:04:29.257Z"
   },
   {
    "duration": 8,
    "start_time": "2023-02-25T18:04:29.263Z"
   },
   {
    "duration": 10,
    "start_time": "2023-02-25T18:04:29.273Z"
   },
   {
    "duration": 24,
    "start_time": "2023-02-25T18:04:29.285Z"
   },
   {
    "duration": 6,
    "start_time": "2023-02-25T18:04:29.310Z"
   },
   {
    "duration": 6,
    "start_time": "2023-02-25T18:04:29.318Z"
   },
   {
    "duration": 5,
    "start_time": "2023-02-25T18:04:29.325Z"
   },
   {
    "duration": 3728,
    "start_time": "2023-02-25T18:04:29.337Z"
   },
   {
    "duration": 4,
    "start_time": "2023-02-25T18:04:33.067Z"
   },
   {
    "duration": 5,
    "start_time": "2023-02-25T18:04:33.527Z"
   },
   {
    "duration": 1496,
    "start_time": "2023-02-25T18:05:34.029Z"
   },
   {
    "duration": 770,
    "start_time": "2023-02-25T18:05:35.527Z"
   },
   {
    "duration": 3,
    "start_time": "2023-02-25T18:05:36.299Z"
   },
   {
    "duration": 19,
    "start_time": "2023-02-25T18:05:36.303Z"
   },
   {
    "duration": 13,
    "start_time": "2023-02-25T18:05:36.325Z"
   },
   {
    "duration": 19,
    "start_time": "2023-02-25T18:05:36.339Z"
   },
   {
    "duration": 8,
    "start_time": "2023-02-25T18:05:36.360Z"
   },
   {
    "duration": 10,
    "start_time": "2023-02-25T18:05:36.370Z"
   },
   {
    "duration": 4,
    "start_time": "2023-02-25T18:05:36.382Z"
   },
   {
    "duration": 9,
    "start_time": "2023-02-25T18:05:36.388Z"
   },
   {
    "duration": 3,
    "start_time": "2023-02-25T18:05:36.398Z"
   },
   {
    "duration": 5,
    "start_time": "2023-02-25T18:05:36.403Z"
   },
   {
    "duration": 6,
    "start_time": "2023-02-25T18:05:36.409Z"
   },
   {
    "duration": 24,
    "start_time": "2023-02-25T18:05:36.417Z"
   },
   {
    "duration": 6,
    "start_time": "2023-02-25T18:05:36.442Z"
   },
   {
    "duration": 5,
    "start_time": "2023-02-25T18:05:36.450Z"
   },
   {
    "duration": 6,
    "start_time": "2023-02-25T18:05:36.457Z"
   },
   {
    "duration": 5,
    "start_time": "2023-02-25T18:05:36.465Z"
   },
   {
    "duration": 3610,
    "start_time": "2023-02-25T18:05:36.471Z"
   },
   {
    "duration": 5,
    "start_time": "2023-02-25T18:05:40.082Z"
   },
   {
    "duration": 427,
    "start_time": "2023-02-25T18:08:36.124Z"
   },
   {
    "duration": 73,
    "start_time": "2023-02-25T18:08:59.726Z"
   },
   {
    "duration": 184,
    "start_time": "2023-02-25T18:09:13.960Z"
   },
   {
    "duration": 79,
    "start_time": "2023-02-25T18:09:20.085Z"
   },
   {
    "duration": 80,
    "start_time": "2023-02-25T18:09:27.656Z"
   },
   {
    "duration": 27,
    "start_time": "2023-02-25T18:10:10.062Z"
   },
   {
    "duration": 75,
    "start_time": "2023-02-25T18:10:23.476Z"
   },
   {
    "duration": 101,
    "start_time": "2023-02-25T18:10:42.556Z"
   },
   {
    "duration": 76,
    "start_time": "2023-02-25T18:11:04.797Z"
   },
   {
    "duration": 78,
    "start_time": "2023-02-25T18:11:56.562Z"
   },
   {
    "duration": 83,
    "start_time": "2023-02-25T18:13:19.669Z"
   },
   {
    "duration": 94,
    "start_time": "2023-02-25T18:13:30.517Z"
   },
   {
    "duration": 83,
    "start_time": "2023-02-25T18:13:52.177Z"
   },
   {
    "duration": 80,
    "start_time": "2023-02-25T18:14:23.374Z"
   },
   {
    "duration": 110,
    "start_time": "2023-02-25T18:15:05.207Z"
   },
   {
    "duration": 131,
    "start_time": "2023-02-25T18:15:15.325Z"
   },
   {
    "duration": 109,
    "start_time": "2023-02-25T18:15:23.189Z"
   },
   {
    "duration": 80,
    "start_time": "2023-02-25T18:15:28.046Z"
   },
   {
    "duration": 83,
    "start_time": "2023-02-25T18:16:35.868Z"
   },
   {
    "duration": 78,
    "start_time": "2023-02-25T18:16:50.375Z"
   },
   {
    "duration": 81,
    "start_time": "2023-02-25T18:17:00.365Z"
   },
   {
    "duration": 113,
    "start_time": "2023-02-25T18:18:43.696Z"
   },
   {
    "duration": 80,
    "start_time": "2023-02-25T18:19:18.516Z"
   },
   {
    "duration": 80,
    "start_time": "2023-02-25T18:19:32.870Z"
   },
   {
    "duration": 22,
    "start_time": "2023-02-25T18:19:49.796Z"
   },
   {
    "duration": 95,
    "start_time": "2023-02-25T18:19:52.768Z"
   },
   {
    "duration": 92,
    "start_time": "2023-02-25T18:19:56.724Z"
   },
   {
    "duration": 84,
    "start_time": "2023-02-25T18:20:06.813Z"
   },
   {
    "duration": 12,
    "start_time": "2023-02-25T18:20:48.285Z"
   },
   {
    "duration": 4,
    "start_time": "2023-02-25T18:20:53.205Z"
   },
   {
    "duration": 3,
    "start_time": "2023-02-25T18:22:21.606Z"
   },
   {
    "duration": 12,
    "start_time": "2023-02-25T18:22:23.808Z"
   },
   {
    "duration": 4,
    "start_time": "2023-02-25T18:22:25.927Z"
   },
   {
    "duration": 4,
    "start_time": "2023-02-25T18:22:33.375Z"
   },
   {
    "duration": 2336,
    "start_time": "2023-02-25T18:22:39.716Z"
   },
   {
    "duration": 5,
    "start_time": "2023-02-25T18:22:43.796Z"
   },
   {
    "duration": 4,
    "start_time": "2023-02-25T18:26:41.796Z"
   },
   {
    "duration": 11,
    "start_time": "2023-02-25T18:32:09.049Z"
   },
   {
    "duration": 13,
    "start_time": "2023-02-25T18:32:30.325Z"
   },
   {
    "duration": 8,
    "start_time": "2023-02-25T18:32:52.198Z"
   },
   {
    "duration": 9,
    "start_time": "2023-02-25T18:33:15.797Z"
   },
   {
    "duration": 10,
    "start_time": "2023-02-25T18:33:43.363Z"
   },
   {
    "duration": 4,
    "start_time": "2023-02-25T18:33:48.123Z"
   },
   {
    "duration": 4,
    "start_time": "2023-02-25T18:34:12.967Z"
   },
   {
    "duration": 4,
    "start_time": "2023-02-25T18:34:23.664Z"
   },
   {
    "duration": 5,
    "start_time": "2023-02-25T18:35:01.087Z"
   },
   {
    "duration": 6,
    "start_time": "2023-02-25T18:36:24.029Z"
   },
   {
    "duration": 5,
    "start_time": "2023-02-25T18:36:47.829Z"
   },
   {
    "duration": 133,
    "start_time": "2023-02-25T18:37:14.766Z"
   },
   {
    "duration": 131,
    "start_time": "2023-02-25T18:37:28.861Z"
   },
   {
    "duration": 135,
    "start_time": "2023-02-25T18:37:40.256Z"
   },
   {
    "duration": 529,
    "start_time": "2023-02-25T18:38:13.741Z"
   },
   {
    "duration": 11,
    "start_time": "2023-02-25T18:38:28.527Z"
   },
   {
    "duration": 281,
    "start_time": "2023-02-25T18:38:46.482Z"
   },
   {
    "duration": 161,
    "start_time": "2023-02-25T18:39:04.909Z"
   },
   {
    "duration": 210,
    "start_time": "2023-02-25T18:39:15.967Z"
   },
   {
    "duration": 182,
    "start_time": "2023-02-25T18:43:55.398Z"
   },
   {
    "duration": 195,
    "start_time": "2023-02-25T18:44:00.686Z"
   },
   {
    "duration": 199,
    "start_time": "2023-02-25T18:44:16.526Z"
   },
   {
    "duration": 14,
    "start_time": "2023-02-25T18:46:36.029Z"
   },
   {
    "duration": 200,
    "start_time": "2023-02-25T18:46:46.388Z"
   },
   {
    "duration": 178,
    "start_time": "2023-02-25T18:47:06.052Z"
   },
   {
    "duration": 187,
    "start_time": "2023-02-25T18:50:18.873Z"
   },
   {
    "duration": 180,
    "start_time": "2023-02-25T18:50:42.038Z"
   },
   {
    "duration": 83,
    "start_time": "2023-02-25T18:52:18.558Z"
   },
   {
    "duration": 174,
    "start_time": "2023-02-25T18:52:29.751Z"
   },
   {
    "duration": 196,
    "start_time": "2023-02-25T18:52:35.510Z"
   },
   {
    "duration": 128,
    "start_time": "2023-02-25T18:52:38.788Z"
   },
   {
    "duration": 150,
    "start_time": "2023-02-25T18:52:42.565Z"
   },
   {
    "duration": 146,
    "start_time": "2023-02-25T18:52:59.648Z"
   },
   {
    "duration": 198,
    "start_time": "2023-02-25T18:54:49.989Z"
   },
   {
    "duration": 194,
    "start_time": "2023-02-25T18:55:06.068Z"
   },
   {
    "duration": 196,
    "start_time": "2023-02-25T18:56:36.076Z"
   },
   {
    "duration": 195,
    "start_time": "2023-02-25T18:56:52.046Z"
   },
   {
    "duration": 172,
    "start_time": "2023-02-25T18:58:42.165Z"
   },
   {
    "duration": 423,
    "start_time": "2023-02-25T18:59:15.518Z"
   },
   {
    "duration": 166,
    "start_time": "2023-02-25T19:00:01.189Z"
   },
   {
    "duration": 159,
    "start_time": "2023-02-25T19:00:11.740Z"
   },
   {
    "duration": 153,
    "start_time": "2023-02-25T19:00:21.846Z"
   },
   {
    "duration": 164,
    "start_time": "2023-02-25T19:01:00.302Z"
   },
   {
    "duration": 155,
    "start_time": "2023-02-25T19:01:06.342Z"
   },
   {
    "duration": 154,
    "start_time": "2023-02-25T19:01:12.845Z"
   },
   {
    "duration": 155,
    "start_time": "2023-02-25T19:01:18.638Z"
   },
   {
    "duration": 164,
    "start_time": "2023-02-25T19:01:29.957Z"
   },
   {
    "duration": 1819,
    "start_time": "2023-02-25T19:02:30.309Z"
   },
   {
    "duration": 727,
    "start_time": "2023-02-25T19:02:32.130Z"
   },
   {
    "duration": 3,
    "start_time": "2023-02-25T19:02:32.859Z"
   },
   {
    "duration": 17,
    "start_time": "2023-02-25T19:02:32.864Z"
   },
   {
    "duration": 9,
    "start_time": "2023-02-25T19:02:32.882Z"
   },
   {
    "duration": 8,
    "start_time": "2023-02-25T19:02:32.893Z"
   },
   {
    "duration": 10,
    "start_time": "2023-02-25T19:02:32.903Z"
   },
   {
    "duration": 7,
    "start_time": "2023-02-25T19:02:32.914Z"
   },
   {
    "duration": 115,
    "start_time": "2023-02-25T19:02:32.922Z"
   },
   {
    "duration": 4,
    "start_time": "2023-02-25T19:02:33.038Z"
   },
   {
    "duration": 13,
    "start_time": "2023-02-25T19:02:33.043Z"
   },
   {
    "duration": 5,
    "start_time": "2023-02-25T19:02:33.057Z"
   },
   {
    "duration": 3,
    "start_time": "2023-02-25T19:02:33.064Z"
   },
   {
    "duration": 13,
    "start_time": "2023-02-25T19:02:33.069Z"
   },
   {
    "duration": 6,
    "start_time": "2023-02-25T19:02:33.083Z"
   },
   {
    "duration": 3,
    "start_time": "2023-02-25T19:02:33.091Z"
   },
   {
    "duration": 13,
    "start_time": "2023-02-25T19:02:33.095Z"
   },
   {
    "duration": 6,
    "start_time": "2023-02-25T19:02:33.110Z"
   },
   {
    "duration": 3583,
    "start_time": "2023-02-25T19:02:33.118Z"
   },
   {
    "duration": 5,
    "start_time": "2023-02-25T19:02:36.702Z"
   },
   {
    "duration": 7,
    "start_time": "2023-02-25T19:02:36.709Z"
   },
   {
    "duration": 19,
    "start_time": "2023-02-25T19:02:36.718Z"
   },
   {
    "duration": 5,
    "start_time": "2023-02-25T19:02:36.739Z"
   },
   {
    "duration": 22,
    "start_time": "2023-02-25T19:02:36.745Z"
   },
   {
    "duration": 179,
    "start_time": "2023-02-25T19:02:36.769Z"
   },
   {
    "duration": 126,
    "start_time": "2023-02-25T19:02:56.438Z"
   },
   {
    "duration": 159,
    "start_time": "2023-02-25T19:03:17.909Z"
   },
   {
    "duration": 155,
    "start_time": "2023-02-25T19:05:37.285Z"
   },
   {
    "duration": 156,
    "start_time": "2023-02-25T19:07:39.268Z"
   },
   {
    "duration": 316,
    "start_time": "2023-02-25T19:07:44.428Z"
   },
   {
    "duration": 157,
    "start_time": "2023-02-25T19:10:06.868Z"
   },
   {
    "duration": 153,
    "start_time": "2023-02-25T19:10:13.701Z"
   },
   {
    "duration": 172,
    "start_time": "2023-02-25T19:10:17.686Z"
   },
   {
    "duration": 197,
    "start_time": "2023-02-25T19:10:23.950Z"
   },
   {
    "duration": 203,
    "start_time": "2023-02-25T19:10:35.238Z"
   },
   {
    "duration": 43,
    "start_time": "2023-02-25T19:11:32.007Z"
   },
   {
    "duration": 205,
    "start_time": "2023-02-25T19:11:40.948Z"
   },
   {
    "duration": 212,
    "start_time": "2023-02-25T19:11:53.988Z"
   },
   {
    "duration": 200,
    "start_time": "2023-02-25T19:11:59.021Z"
   },
   {
    "duration": 176,
    "start_time": "2023-02-25T19:12:05.285Z"
   },
   {
    "duration": 40,
    "start_time": "2023-02-25T19:12:23.189Z"
   },
   {
    "duration": 89,
    "start_time": "2023-02-25T19:12:29.990Z"
   },
   {
    "duration": 269,
    "start_time": "2023-02-25T19:13:09.966Z"
   },
   {
    "duration": 211,
    "start_time": "2023-02-25T19:13:32.884Z"
   },
   {
    "duration": 227,
    "start_time": "2023-02-25T19:14:03.428Z"
   },
   {
    "duration": 247,
    "start_time": "2023-02-25T19:14:16.565Z"
   },
   {
    "duration": 184,
    "start_time": "2023-02-25T19:14:29.469Z"
   },
   {
    "duration": 175,
    "start_time": "2023-02-25T19:14:41.981Z"
   },
   {
    "duration": 263,
    "start_time": "2023-02-25T19:14:49.447Z"
   },
   {
    "duration": 184,
    "start_time": "2023-02-25T19:15:50.125Z"
   },
   {
    "duration": 189,
    "start_time": "2023-02-25T19:17:51.965Z"
   },
   {
    "duration": 414,
    "start_time": "2023-02-25T19:18:11.592Z"
   },
   {
    "duration": 192,
    "start_time": "2023-02-25T19:18:18.991Z"
   },
   {
    "duration": 9,
    "start_time": "2023-02-25T19:24:04.072Z"
   },
   {
    "duration": 6,
    "start_time": "2023-02-25T19:24:11.547Z"
   },
   {
    "duration": 9,
    "start_time": "2023-02-25T19:57:38.586Z"
   },
   {
    "duration": 4,
    "start_time": "2023-02-25T19:57:55.976Z"
   },
   {
    "duration": 4,
    "start_time": "2023-02-25T19:58:15.390Z"
   },
   {
    "duration": 11,
    "start_time": "2023-02-25T19:59:18.869Z"
   },
   {
    "duration": 9,
    "start_time": "2023-02-25T19:59:32.831Z"
   },
   {
    "duration": 3,
    "start_time": "2023-02-25T19:59:52.911Z"
   },
   {
    "duration": 67,
    "start_time": "2023-02-25T20:00:30.740Z"
   },
   {
    "duration": 9,
    "start_time": "2023-02-25T20:00:41.631Z"
   },
   {
    "duration": 69,
    "start_time": "2023-02-25T20:00:43.472Z"
   },
   {
    "duration": 9,
    "start_time": "2023-02-25T20:00:49.476Z"
   },
   {
    "duration": 66,
    "start_time": "2023-02-25T20:00:51.020Z"
   },
   {
    "duration": 9,
    "start_time": "2023-02-25T20:00:56.499Z"
   },
   {
    "duration": 63,
    "start_time": "2023-02-25T20:00:58.008Z"
   },
   {
    "duration": 9,
    "start_time": "2023-02-25T20:01:04.259Z"
   },
   {
    "duration": 66,
    "start_time": "2023-02-25T20:01:05.881Z"
   },
   {
    "duration": 10,
    "start_time": "2023-02-25T20:01:10.119Z"
   },
   {
    "duration": 68,
    "start_time": "2023-02-25T20:01:11.511Z"
   },
   {
    "duration": 10,
    "start_time": "2023-02-25T20:01:15.151Z"
   },
   {
    "duration": 71,
    "start_time": "2023-02-25T20:01:16.640Z"
   },
   {
    "duration": 10,
    "start_time": "2023-02-25T20:01:24.448Z"
   },
   {
    "duration": 78,
    "start_time": "2023-02-25T20:01:25.900Z"
   },
   {
    "duration": 9,
    "start_time": "2023-02-25T20:01:30.009Z"
   },
   {
    "duration": 67,
    "start_time": "2023-02-25T20:01:32.271Z"
   },
   {
    "duration": 65,
    "start_time": "2023-02-25T20:02:02.229Z"
   },
   {
    "duration": 71,
    "start_time": "2023-02-25T20:02:16.231Z"
   },
   {
    "duration": 64,
    "start_time": "2023-02-25T20:02:43.940Z"
   },
   {
    "duration": 53,
    "start_time": "2023-02-25T20:03:10.608Z"
   },
   {
    "duration": 89,
    "start_time": "2023-02-25T20:03:16.301Z"
   },
   {
    "duration": 10,
    "start_time": "2023-02-25T20:04:28.669Z"
   },
   {
    "duration": 77,
    "start_time": "2023-02-25T20:04:30.351Z"
   },
   {
    "duration": 10,
    "start_time": "2023-02-25T20:05:15.540Z"
   },
   {
    "duration": 79,
    "start_time": "2023-02-25T20:05:16.991Z"
   },
   {
    "duration": 8,
    "start_time": "2023-02-25T20:05:41.021Z"
   },
   {
    "duration": 1909,
    "start_time": "2023-02-26T16:41:19.097Z"
   },
   {
    "duration": 2252,
    "start_time": "2023-02-26T16:41:21.008Z"
   },
   {
    "duration": 3,
    "start_time": "2023-02-26T16:41:23.262Z"
   },
   {
    "duration": 19,
    "start_time": "2023-02-26T16:41:23.267Z"
   },
   {
    "duration": 7,
    "start_time": "2023-02-26T16:41:23.287Z"
   },
   {
    "duration": 11,
    "start_time": "2023-02-26T16:41:23.295Z"
   },
   {
    "duration": 7,
    "start_time": "2023-02-26T16:41:23.307Z"
   },
   {
    "duration": 9,
    "start_time": "2023-02-26T16:41:23.315Z"
   },
   {
    "duration": 107,
    "start_time": "2023-02-26T16:41:23.325Z"
   },
   {
    "duration": 3,
    "start_time": "2023-02-26T16:41:23.436Z"
   },
   {
    "duration": 10,
    "start_time": "2023-02-26T16:41:23.441Z"
   },
   {
    "duration": 3,
    "start_time": "2023-02-26T16:41:23.453Z"
   },
   {
    "duration": 509,
    "start_time": "2023-02-26T16:41:23.458Z"
   },
   {
    "duration": 3,
    "start_time": "2023-02-26T16:41:23.969Z"
   },
   {
    "duration": 19,
    "start_time": "2023-02-26T16:41:23.974Z"
   },
   {
    "duration": 6,
    "start_time": "2023-02-26T16:41:23.994Z"
   },
   {
    "duration": 5,
    "start_time": "2023-02-26T16:41:24.002Z"
   },
   {
    "duration": 5,
    "start_time": "2023-02-26T16:41:24.008Z"
   },
   {
    "duration": 12,
    "start_time": "2023-02-26T16:41:24.014Z"
   },
   {
    "duration": 3866,
    "start_time": "2023-02-26T16:41:24.028Z"
   },
   {
    "duration": 9,
    "start_time": "2023-02-26T16:41:27.896Z"
   },
   {
    "duration": 6,
    "start_time": "2023-02-26T16:41:27.907Z"
   },
   {
    "duration": 8,
    "start_time": "2023-02-26T16:41:27.915Z"
   },
   {
    "duration": 5,
    "start_time": "2023-02-26T16:41:27.924Z"
   },
   {
    "duration": 4,
    "start_time": "2023-02-26T16:41:27.931Z"
   },
   {
    "duration": 226,
    "start_time": "2023-02-26T16:41:27.937Z"
   },
   {
    "duration": 9,
    "start_time": "2023-02-26T16:41:28.164Z"
   },
   {
    "duration": 92,
    "start_time": "2023-02-26T16:41:28.176Z"
   },
   {
    "duration": 329,
    "start_time": "2023-02-26T18:56:19.844Z"
   },
   {
    "duration": 9,
    "start_time": "2023-02-26T20:24:08.749Z"
   },
   {
    "duration": 10,
    "start_time": "2023-02-26T20:26:33.396Z"
   },
   {
    "duration": 6,
    "start_time": "2023-02-26T20:27:04.793Z"
   },
   {
    "duration": 4,
    "start_time": "2023-02-26T20:31:03.404Z"
   },
   {
    "duration": 126,
    "start_time": "2023-02-26T20:34:13.900Z"
   },
   {
    "duration": 208,
    "start_time": "2023-02-26T20:34:18.789Z"
   },
   {
    "duration": 4,
    "start_time": "2023-02-26T20:34:43.513Z"
   },
   {
    "duration": 21,
    "start_time": "2023-02-26T20:34:45.322Z"
   },
   {
    "duration": 19,
    "start_time": "2023-02-26T20:35:09.899Z"
   },
   {
    "duration": 29,
    "start_time": "2023-02-26T20:38:54.871Z"
   },
   {
    "duration": 8,
    "start_time": "2023-02-26T20:39:47.582Z"
   },
   {
    "duration": 8,
    "start_time": "2023-02-26T20:39:49.134Z"
   },
   {
    "duration": 5,
    "start_time": "2023-02-26T20:40:26.737Z"
   },
   {
    "duration": 10,
    "start_time": "2023-02-26T20:46:22.382Z"
   },
   {
    "duration": 14,
    "start_time": "2023-02-26T20:46:31.746Z"
   },
   {
    "duration": 8,
    "start_time": "2023-02-26T20:46:44.523Z"
   },
   {
    "duration": 11,
    "start_time": "2023-02-26T20:46:48.291Z"
   },
   {
    "duration": 1963,
    "start_time": "2023-02-27T05:47:55.606Z"
   },
   {
    "duration": 2342,
    "start_time": "2023-02-27T05:47:57.572Z"
   },
   {
    "duration": 3,
    "start_time": "2023-02-27T05:47:59.916Z"
   },
   {
    "duration": 26,
    "start_time": "2023-02-27T05:47:59.920Z"
   },
   {
    "duration": 5,
    "start_time": "2023-02-27T05:47:59.948Z"
   },
   {
    "duration": 11,
    "start_time": "2023-02-27T05:47:59.955Z"
   },
   {
    "duration": 15,
    "start_time": "2023-02-27T05:47:59.967Z"
   },
   {
    "duration": 11,
    "start_time": "2023-02-27T05:47:59.983Z"
   },
   {
    "duration": 117,
    "start_time": "2023-02-27T05:47:59.995Z"
   },
   {
    "duration": 20,
    "start_time": "2023-02-27T05:48:00.114Z"
   },
   {
    "duration": 23,
    "start_time": "2023-02-27T05:48:00.136Z"
   },
   {
    "duration": 10,
    "start_time": "2023-02-27T05:48:00.161Z"
   },
   {
    "duration": 22,
    "start_time": "2023-02-27T05:48:00.173Z"
   },
   {
    "duration": 25,
    "start_time": "2023-02-27T05:48:00.199Z"
   },
   {
    "duration": 23,
    "start_time": "2023-02-27T05:48:00.228Z"
   },
   {
    "duration": 602,
    "start_time": "2023-02-27T05:48:00.252Z"
   },
   {
    "duration": 3,
    "start_time": "2023-02-27T05:48:00.856Z"
   },
   {
    "duration": 18,
    "start_time": "2023-02-27T05:48:00.861Z"
   },
   {
    "duration": 30,
    "start_time": "2023-02-27T05:48:00.881Z"
   },
   {
    "duration": 4164,
    "start_time": "2023-02-27T05:48:00.912Z"
   },
   {
    "duration": 5,
    "start_time": "2023-02-27T05:48:05.078Z"
   },
   {
    "duration": 7,
    "start_time": "2023-02-27T05:48:05.085Z"
   },
   {
    "duration": 9,
    "start_time": "2023-02-27T05:48:05.094Z"
   },
   {
    "duration": 5,
    "start_time": "2023-02-27T05:48:05.104Z"
   },
   {
    "duration": 6,
    "start_time": "2023-02-27T05:48:05.110Z"
   },
   {
    "duration": 231,
    "start_time": "2023-02-27T05:48:05.117Z"
   },
   {
    "duration": 10,
    "start_time": "2023-02-27T05:48:05.350Z"
   },
   {
    "duration": 159,
    "start_time": "2023-02-27T05:48:05.362Z"
   },
   {
    "duration": 0,
    "start_time": "2023-02-27T05:48:05.523Z"
   },
   {
    "duration": 0,
    "start_time": "2023-02-27T05:48:05.524Z"
   },
   {
    "duration": 0,
    "start_time": "2023-02-27T05:48:05.525Z"
   },
   {
    "duration": 0,
    "start_time": "2023-02-27T05:48:05.527Z"
   },
   {
    "duration": 0,
    "start_time": "2023-02-27T05:48:05.528Z"
   },
   {
    "duration": 0,
    "start_time": "2023-02-27T05:48:05.529Z"
   },
   {
    "duration": 82,
    "start_time": "2023-02-27T05:48:57.783Z"
   },
   {
    "duration": 5,
    "start_time": "2023-02-27T05:48:59.527Z"
   },
   {
    "duration": 5,
    "start_time": "2023-02-27T05:49:00.769Z"
   },
   {
    "duration": 161,
    "start_time": "2023-02-27T05:49:01.593Z"
   },
   {
    "duration": 9,
    "start_time": "2023-02-27T05:49:03.375Z"
   },
   {
    "duration": 8,
    "start_time": "2023-02-27T05:49:04.423Z"
   },
   {
    "duration": 5,
    "start_time": "2023-02-27T05:49:05.247Z"
   },
   {
    "duration": 18,
    "start_time": "2023-02-27T06:00:50.009Z"
   },
   {
    "duration": 5,
    "start_time": "2023-02-27T06:01:01.923Z"
   },
   {
    "duration": 42,
    "start_time": "2023-02-27T06:07:15.434Z"
   },
   {
    "duration": 39,
    "start_time": "2023-02-27T06:07:59.640Z"
   },
   {
    "duration": 3,
    "start_time": "2023-02-27T06:09:42.342Z"
   },
   {
    "duration": 34,
    "start_time": "2023-02-27T06:09:58.951Z"
   },
   {
    "duration": 14,
    "start_time": "2023-02-27T06:12:44.875Z"
   },
   {
    "duration": 6,
    "start_time": "2023-02-27T06:13:03.797Z"
   },
   {
    "duration": 27,
    "start_time": "2023-02-27T06:15:59.768Z"
   },
   {
    "duration": 6,
    "start_time": "2023-02-27T06:17:31.032Z"
   },
   {
    "duration": 4,
    "start_time": "2023-02-27T06:21:24.276Z"
   },
   {
    "duration": 4,
    "start_time": "2023-02-27T06:21:25.164Z"
   },
   {
    "duration": 6,
    "start_time": "2023-02-27T06:21:26.385Z"
   },
   {
    "duration": 35,
    "start_time": "2023-02-27T06:21:28.194Z"
   },
   {
    "duration": 6,
    "start_time": "2023-02-27T06:22:15.896Z"
   },
   {
    "duration": 34,
    "start_time": "2023-02-27T06:22:17.939Z"
   },
   {
    "duration": 5,
    "start_time": "2023-02-27T06:23:26.836Z"
   },
   {
    "duration": 24,
    "start_time": "2023-02-27T06:23:28.692Z"
   },
   {
    "duration": 74,
    "start_time": "2023-02-27T06:24:49.150Z"
   },
   {
    "duration": 81,
    "start_time": "2023-02-27T06:24:53.448Z"
   },
   {
    "duration": 4,
    "start_time": "2023-02-27T06:25:17.369Z"
   },
   {
    "duration": 5,
    "start_time": "2023-02-27T06:25:21.761Z"
   },
   {
    "duration": 326,
    "start_time": "2023-02-27T06:25:22.898Z"
   },
   {
    "duration": 5,
    "start_time": "2023-02-27T06:25:32.028Z"
   },
   {
    "duration": 3,
    "start_time": "2023-02-27T06:27:21.105Z"
   },
   {
    "duration": 5,
    "start_time": "2023-02-27T06:27:22.129Z"
   },
   {
    "duration": 646,
    "start_time": "2023-02-27T06:27:25.865Z"
   },
   {
    "duration": 5,
    "start_time": "2023-02-27T06:27:28.705Z"
   },
   {
    "duration": 12,
    "start_time": "2023-02-27T06:27:31.809Z"
   },
   {
    "duration": 13,
    "start_time": "2023-02-27T06:28:23.113Z"
   },
   {
    "duration": 13,
    "start_time": "2023-02-27T06:28:32.066Z"
   },
   {
    "duration": 8,
    "start_time": "2023-02-27T06:29:09.101Z"
   },
   {
    "duration": 7,
    "start_time": "2023-02-27T06:29:14.582Z"
   },
   {
    "duration": 10,
    "start_time": "2023-02-27T06:29:44.773Z"
   },
   {
    "duration": 3,
    "start_time": "2023-02-27T06:30:10.389Z"
   },
   {
    "duration": 1811,
    "start_time": "2023-02-27T06:30:19.144Z"
   },
   {
    "duration": 1797,
    "start_time": "2023-02-27T06:30:20.957Z"
   },
   {
    "duration": 6,
    "start_time": "2023-02-27T06:30:22.755Z"
   },
   {
    "duration": 25,
    "start_time": "2023-02-27T06:30:22.763Z"
   },
   {
    "duration": 5,
    "start_time": "2023-02-27T06:30:22.791Z"
   },
   {
    "duration": 70,
    "start_time": "2023-02-27T06:30:22.798Z"
   },
   {
    "duration": 123,
    "start_time": "2023-02-27T06:30:22.870Z"
   },
   {
    "duration": 9,
    "start_time": "2023-02-27T06:30:22.994Z"
   },
   {
    "duration": 159,
    "start_time": "2023-02-27T06:30:23.004Z"
   },
   {
    "duration": 18,
    "start_time": "2023-02-27T06:30:23.166Z"
   },
   {
    "duration": 19,
    "start_time": "2023-02-27T06:30:23.185Z"
   },
   {
    "duration": 14,
    "start_time": "2023-02-27T06:30:23.205Z"
   },
   {
    "duration": 5,
    "start_time": "2023-02-27T06:30:23.221Z"
   },
   {
    "duration": 1459,
    "start_time": "2023-02-27T06:30:23.229Z"
   },
   {
    "duration": 5,
    "start_time": "2023-02-27T06:30:24.689Z"
   },
   {
    "duration": 275,
    "start_time": "2023-02-27T06:30:24.695Z"
   },
   {
    "duration": 3,
    "start_time": "2023-02-27T06:30:24.972Z"
   },
   {
    "duration": 6,
    "start_time": "2023-02-27T06:30:24.977Z"
   },
   {
    "duration": 6,
    "start_time": "2023-02-27T06:30:24.984Z"
   },
   {
    "duration": 398043,
    "start_time": "2023-02-27T06:30:24.991Z"
   },
   {
    "duration": 5,
    "start_time": "2023-02-27T06:37:03.036Z"
   },
   {
    "duration": 33,
    "start_time": "2023-02-27T06:37:03.042Z"
   },
   {
    "duration": 55,
    "start_time": "2023-02-27T06:37:03.077Z"
   },
   {
    "duration": 5,
    "start_time": "2023-02-27T06:37:03.134Z"
   },
   {
    "duration": 33,
    "start_time": "2023-02-27T06:37:03.141Z"
   },
   {
    "duration": 254,
    "start_time": "2023-02-27T06:37:03.177Z"
   },
   {
    "duration": 32,
    "start_time": "2023-02-27T06:37:03.433Z"
   },
   {
    "duration": 99,
    "start_time": "2023-02-27T06:37:03.467Z"
   },
   {
    "duration": 6,
    "start_time": "2023-02-27T06:37:03.568Z"
   },
   {
    "duration": 452,
    "start_time": "2023-02-27T06:37:03.577Z"
   },
   {
    "duration": 1865,
    "start_time": "2023-02-27T06:37:04.031Z"
   },
   {
    "duration": 829,
    "start_time": "2023-02-27T06:37:05.897Z"
   },
   {
    "duration": 727,
    "start_time": "2023-02-27T06:37:06.727Z"
   },
   {
    "duration": 4,
    "start_time": "2023-02-27T06:37:07.460Z"
   },
   {
    "duration": 7,
    "start_time": "2023-02-27T06:37:07.466Z"
   },
   {
    "duration": 6,
    "start_time": "2023-02-27T06:37:07.475Z"
   },
   {
    "duration": 6,
    "start_time": "2023-02-27T06:37:07.483Z"
   },
   {
    "duration": 6,
    "start_time": "2023-02-27T06:37:07.491Z"
   },
   {
    "duration": 358353,
    "start_time": "2023-02-27T06:37:07.499Z"
   },
   {
    "duration": 11,
    "start_time": "2023-02-27T06:43:05.854Z"
   },
   {
    "duration": 102,
    "start_time": "2023-02-27T06:43:05.878Z"
   },
   {
    "duration": 9,
    "start_time": "2023-02-27T06:43:05.982Z"
   },
   {
    "duration": 4,
    "start_time": "2023-02-27T06:53:05.193Z"
   },
   {
    "duration": 4,
    "start_time": "2023-02-27T06:53:34.140Z"
   },
   {
    "duration": 10,
    "start_time": "2023-02-27T06:57:23.312Z"
   },
   {
    "duration": 9,
    "start_time": "2023-02-27T06:57:24.474Z"
   },
   {
    "duration": 6,
    "start_time": "2023-02-27T06:57:30.670Z"
   },
   {
    "duration": 1796,
    "start_time": "2023-02-27T07:05:10.498Z"
   },
   {
    "duration": 918,
    "start_time": "2023-02-27T07:05:12.297Z"
   },
   {
    "duration": 20,
    "start_time": "2023-02-27T07:05:13.217Z"
   },
   {
    "duration": 15,
    "start_time": "2023-02-27T07:05:13.239Z"
   },
   {
    "duration": 31,
    "start_time": "2023-02-27T07:05:13.257Z"
   },
   {
    "duration": 292,
    "start_time": "2023-02-27T07:05:13.290Z"
   },
   {
    "duration": 8,
    "start_time": "2023-02-27T07:05:13.584Z"
   },
   {
    "duration": 131,
    "start_time": "2023-02-27T07:05:13.593Z"
   },
   {
    "duration": 15,
    "start_time": "2023-02-27T07:05:13.725Z"
   },
   {
    "duration": 34,
    "start_time": "2023-02-27T07:05:13.749Z"
   },
   {
    "duration": 37,
    "start_time": "2023-02-27T07:05:13.785Z"
   },
   {
    "duration": 6,
    "start_time": "2023-02-27T07:05:13.824Z"
   },
   {
    "duration": 4756,
    "start_time": "2023-02-27T07:05:13.832Z"
   },
   {
    "duration": 4,
    "start_time": "2023-02-27T07:05:18.591Z"
   },
   {
    "duration": 266,
    "start_time": "2023-02-27T07:05:18.597Z"
   },
   {
    "duration": 4,
    "start_time": "2023-02-27T07:05:18.865Z"
   },
   {
    "duration": 22,
    "start_time": "2023-02-27T07:05:18.870Z"
   },
   {
    "duration": 14,
    "start_time": "2023-02-27T07:05:18.894Z"
   },
   {
    "duration": 1266628,
    "start_time": "2023-02-27T07:05:18.910Z"
   },
   {
    "duration": 18,
    "start_time": "2023-02-27T07:26:25.541Z"
   },
   {
    "duration": 19,
    "start_time": "2023-02-27T07:26:25.560Z"
   },
   {
    "duration": 97,
    "start_time": "2023-02-27T07:26:25.581Z"
   },
   {
    "duration": 6,
    "start_time": "2023-02-27T07:26:25.680Z"
   },
   {
    "duration": 7,
    "start_time": "2023-02-27T07:26:25.688Z"
   },
   {
    "duration": 232,
    "start_time": "2023-02-27T07:26:25.697Z"
   },
   {
    "duration": 70,
    "start_time": "2023-02-27T07:26:25.932Z"
   },
   {
    "duration": 100,
    "start_time": "2023-02-27T07:26:26.004Z"
   },
   {
    "duration": 5,
    "start_time": "2023-02-27T07:26:26.106Z"
   },
   {
    "duration": 1452,
    "start_time": "2023-02-27T07:26:26.113Z"
   },
   {
    "duration": 6135,
    "start_time": "2023-02-27T07:26:27.566Z"
   },
   {
    "duration": 2506,
    "start_time": "2023-02-27T07:26:33.703Z"
   },
   {
    "duration": 2528,
    "start_time": "2023-02-27T07:26:36.211Z"
   },
   {
    "duration": 30,
    "start_time": "2023-02-27T07:26:38.763Z"
   },
   {
    "duration": 18,
    "start_time": "2023-02-27T07:26:38.795Z"
   },
   {
    "duration": 173,
    "start_time": "2023-02-27T07:26:38.815Z"
   },
   {
    "duration": 34,
    "start_time": "2023-02-27T07:26:38.990Z"
   },
   {
    "duration": 912246,
    "start_time": "2023-02-27T07:26:39.026Z"
   },
   {
    "duration": 91,
    "start_time": "2023-02-27T07:41:51.274Z"
   },
   {
    "duration": 116,
    "start_time": "2023-02-27T07:41:51.370Z"
   },
   {
    "duration": 17,
    "start_time": "2023-02-27T07:41:51.488Z"
   },
   {
    "duration": 4,
    "start_time": "2023-02-27T07:46:53.865Z"
   },
   {
    "duration": 4,
    "start_time": "2023-02-27T07:47:22.977Z"
   },
   {
    "duration": 302334,
    "start_time": "2023-02-27T07:47:24.131Z"
   },
   {
    "duration": 5,
    "start_time": "2023-02-27T08:17:22.204Z"
   },
   {
    "duration": 19,
    "start_time": "2023-02-27T08:17:24.429Z"
   },
   {
    "duration": 25,
    "start_time": "2023-02-27T08:17:26.140Z"
   },
   {
    "duration": 147,
    "start_time": "2023-02-27T08:51:28.729Z"
   },
   {
    "duration": 5,
    "start_time": "2023-02-27T08:52:00.090Z"
   },
   {
    "duration": 4,
    "start_time": "2023-02-27T08:52:06.878Z"
   },
   {
    "duration": 4,
    "start_time": "2023-02-27T08:59:12.226Z"
   },
   {
    "duration": 173974,
    "start_time": "2023-02-27T08:59:40.797Z"
   },
   {
    "duration": 2179,
    "start_time": "2023-02-27T09:02:58.662Z"
   },
   {
    "duration": 886,
    "start_time": "2023-02-27T09:03:00.843Z"
   },
   {
    "duration": 4,
    "start_time": "2023-02-27T09:03:01.731Z"
   },
   {
    "duration": 65,
    "start_time": "2023-02-27T09:03:01.736Z"
   },
   {
    "duration": 42,
    "start_time": "2023-02-27T09:03:01.804Z"
   },
   {
    "duration": 49,
    "start_time": "2023-02-27T09:03:01.849Z"
   },
   {
    "duration": 29,
    "start_time": "2023-02-27T09:03:01.900Z"
   },
   {
    "duration": 17,
    "start_time": "2023-02-27T09:03:01.931Z"
   },
   {
    "duration": 205,
    "start_time": "2023-02-27T09:03:01.949Z"
   },
   {
    "duration": 31,
    "start_time": "2023-02-27T09:03:02.156Z"
   },
   {
    "duration": 25,
    "start_time": "2023-02-27T09:03:02.193Z"
   },
   {
    "duration": 8,
    "start_time": "2023-02-27T09:03:02.220Z"
   },
   {
    "duration": 8,
    "start_time": "2023-02-27T09:03:02.230Z"
   },
   {
    "duration": 173,
    "start_time": "2023-02-27T09:03:02.242Z"
   },
   {
    "duration": 4,
    "start_time": "2023-02-27T09:03:02.417Z"
   },
   {
    "duration": 189,
    "start_time": "2023-02-27T09:03:02.422Z"
   },
   {
    "duration": 3,
    "start_time": "2023-02-27T09:03:02.613Z"
   },
   {
    "duration": 9,
    "start_time": "2023-02-27T09:03:02.618Z"
   },
   {
    "duration": 8,
    "start_time": "2023-02-27T09:03:02.629Z"
   },
   {
    "duration": 42295,
    "start_time": "2023-02-27T09:03:02.638Z"
   },
   {
    "duration": 6,
    "start_time": "2023-02-27T09:03:44.934Z"
   },
   {
    "duration": 12,
    "start_time": "2023-02-27T09:03:44.953Z"
   },
   {
    "duration": 9,
    "start_time": "2023-02-27T09:03:44.967Z"
   },
   {
    "duration": 4,
    "start_time": "2023-02-27T09:03:44.978Z"
   },
   {
    "duration": 6,
    "start_time": "2023-02-27T09:03:44.983Z"
   },
   {
    "duration": 243,
    "start_time": "2023-02-27T09:03:44.991Z"
   },
   {
    "duration": 23,
    "start_time": "2023-02-27T09:03:45.236Z"
   },
   {
    "duration": 132,
    "start_time": "2023-02-27T09:03:45.265Z"
   },
   {
    "duration": 10,
    "start_time": "2023-02-27T09:03:45.399Z"
   },
   {
    "duration": 76,
    "start_time": "2023-02-27T09:03:45.411Z"
   },
   {
    "duration": 216,
    "start_time": "2023-02-27T09:03:45.489Z"
   },
   {
    "duration": 85,
    "start_time": "2023-02-27T09:03:45.707Z"
   },
   {
    "duration": 84,
    "start_time": "2023-02-27T09:03:45.794Z"
   },
   {
    "duration": 5,
    "start_time": "2023-02-27T09:03:45.879Z"
   },
   {
    "duration": 33,
    "start_time": "2023-02-27T09:03:45.886Z"
   },
   {
    "duration": 7,
    "start_time": "2023-02-27T09:03:45.921Z"
   },
   {
    "duration": 38439,
    "start_time": "2023-02-27T09:03:45.930Z"
   },
   {
    "duration": 7,
    "start_time": "2023-02-27T09:04:24.371Z"
   },
   {
    "duration": 100,
    "start_time": "2023-02-27T09:04:24.379Z"
   },
   {
    "duration": 7,
    "start_time": "2023-02-27T09:04:24.481Z"
   },
   {
    "duration": 5,
    "start_time": "2023-02-27T09:04:24.492Z"
   },
   {
    "duration": 133193,
    "start_time": "2023-02-27T09:04:24.498Z"
   },
   {
    "duration": 4,
    "start_time": "2023-02-27T09:06:37.693Z"
   },
   {
    "duration": 5,
    "start_time": "2023-02-27T09:07:01.268Z"
   },
   {
    "duration": 153,
    "start_time": "2023-02-27T09:08:38.264Z"
   },
   {
    "duration": 5,
    "start_time": "2023-02-27T09:09:52.518Z"
   },
   {
    "duration": 19,
    "start_time": "2023-02-27T09:10:23.525Z"
   },
   {
    "duration": 8,
    "start_time": "2023-02-27T09:11:17.108Z"
   },
   {
    "duration": 9,
    "start_time": "2023-02-27T09:11:32.327Z"
   },
   {
    "duration": 13,
    "start_time": "2023-02-27T09:12:06.210Z"
   },
   {
    "duration": 4,
    "start_time": "2023-02-27T09:12:13.731Z"
   },
   {
    "duration": 5,
    "start_time": "2023-02-27T09:12:25.070Z"
   },
   {
    "duration": 10,
    "start_time": "2023-02-27T09:14:48.081Z"
   },
   {
    "duration": 10,
    "start_time": "2023-02-27T09:14:54.821Z"
   },
   {
    "duration": 9747,
    "start_time": "2023-02-27T09:15:56.896Z"
   },
   {
    "duration": 27,
    "start_time": "2023-02-27T09:16:06.646Z"
   },
   {
    "duration": 11,
    "start_time": "2023-02-27T09:16:13.729Z"
   },
   {
    "duration": 11,
    "start_time": "2023-02-27T09:16:23.730Z"
   },
   {
    "duration": 3,
    "start_time": "2023-02-27T09:17:03.480Z"
   },
   {
    "duration": 5,
    "start_time": "2023-02-27T09:17:05.279Z"
   },
   {
    "duration": 32,
    "start_time": "2023-02-27T09:17:07.763Z"
   },
   {
    "duration": 4,
    "start_time": "2023-02-27T09:22:53.470Z"
   },
   {
    "duration": 0,
    "start_time": "2023-02-27T09:28:25.865Z"
   },
   {
    "duration": 0,
    "start_time": "2023-02-27T09:28:25.866Z"
   },
   {
    "duration": 5,
    "start_time": "2023-02-27T09:28:29.278Z"
   },
   {
    "duration": 29539,
    "start_time": "2023-02-27T09:28:32.735Z"
   },
   {
    "duration": 12,
    "start_time": "2023-02-27T09:29:02.276Z"
   },
   {
    "duration": 11,
    "start_time": "2023-02-27T09:29:02.290Z"
   },
   {
    "duration": 16,
    "start_time": "2023-02-27T09:32:52.975Z"
   },
   {
    "duration": 11,
    "start_time": "2023-02-27T09:32:57.687Z"
   },
   {
    "duration": 4,
    "start_time": "2023-02-27T09:33:28.573Z"
   },
   {
    "duration": 484106,
    "start_time": "2023-02-27T09:41:28.284Z"
   },
   {
    "duration": 5,
    "start_time": "2023-02-27T09:49:32.392Z"
   },
   {
    "duration": 15,
    "start_time": "2023-02-27T09:49:32.437Z"
   },
   {
    "duration": 14,
    "start_time": "2023-02-27T09:49:32.471Z"
   },
   {
    "duration": 19,
    "start_time": "2023-02-27T09:49:32.486Z"
   },
   {
    "duration": 18,
    "start_time": "2023-02-27T09:49:32.507Z"
   },
   {
    "duration": 12,
    "start_time": "2023-02-27T09:52:58.081Z"
   },
   {
    "duration": 15,
    "start_time": "2023-02-27T09:59:26.081Z"
   },
   {
    "duration": 328,
    "start_time": "2023-02-27T10:00:47.004Z"
   },
   {
    "duration": 15,
    "start_time": "2023-02-27T10:02:50.871Z"
   },
   {
    "duration": 194,
    "start_time": "2023-02-27T10:03:19.894Z"
   },
   {
    "duration": 280,
    "start_time": "2023-02-27T10:04:03.547Z"
   },
   {
    "duration": 296,
    "start_time": "2023-02-27T10:04:51.218Z"
   },
   {
    "duration": 423,
    "start_time": "2023-02-27T10:14:11.291Z"
   },
   {
    "duration": 255,
    "start_time": "2023-02-27T10:14:37.364Z"
   },
   {
    "duration": 320,
    "start_time": "2023-02-27T10:15:39.465Z"
   },
   {
    "duration": 231,
    "start_time": "2023-02-27T10:15:52.673Z"
   },
   {
    "duration": 4,
    "start_time": "2023-02-27T10:17:19.107Z"
   },
   {
    "duration": 4,
    "start_time": "2023-02-27T10:18:47.187Z"
   },
   {
    "duration": 231,
    "start_time": "2023-02-27T10:18:48.161Z"
   },
   {
    "duration": 4,
    "start_time": "2023-02-27T10:20:48.112Z"
   },
   {
    "duration": 251,
    "start_time": "2023-02-27T10:20:49.094Z"
   },
   {
    "duration": 242,
    "start_time": "2023-02-27T10:21:30.416Z"
   },
   {
    "duration": 236,
    "start_time": "2023-02-27T10:22:12.989Z"
   },
   {
    "duration": 228,
    "start_time": "2023-02-27T10:22:48.707Z"
   },
   {
    "duration": 4,
    "start_time": "2023-02-27T10:23:05.668Z"
   },
   {
    "duration": 209,
    "start_time": "2023-02-27T10:23:07.636Z"
   },
   {
    "duration": 215,
    "start_time": "2023-02-27T10:23:10.508Z"
   },
   {
    "duration": 204,
    "start_time": "2023-02-27T10:23:12.717Z"
   },
   {
    "duration": 213,
    "start_time": "2023-02-27T10:23:14.084Z"
   },
   {
    "duration": 210,
    "start_time": "2023-02-27T10:23:15.663Z"
   },
   {
    "duration": 213,
    "start_time": "2023-02-27T10:23:42.691Z"
   },
   {
    "duration": 216,
    "start_time": "2023-02-27T10:24:36.759Z"
   },
   {
    "duration": 1646,
    "start_time": "2023-02-27T10:25:17.564Z"
   },
   {
    "duration": 833,
    "start_time": "2023-02-27T10:25:19.212Z"
   },
   {
    "duration": 3,
    "start_time": "2023-02-27T10:25:20.047Z"
   },
   {
    "duration": 32,
    "start_time": "2023-02-27T10:25:20.051Z"
   },
   {
    "duration": 4,
    "start_time": "2023-02-27T10:25:20.085Z"
   },
   {
    "duration": 15,
    "start_time": "2023-02-27T10:25:20.090Z"
   },
   {
    "duration": 12,
    "start_time": "2023-02-27T10:25:20.107Z"
   },
   {
    "duration": 8,
    "start_time": "2023-02-27T10:25:20.120Z"
   },
   {
    "duration": 118,
    "start_time": "2023-02-27T10:25:20.130Z"
   },
   {
    "duration": 20,
    "start_time": "2023-02-27T10:25:20.250Z"
   },
   {
    "duration": 10,
    "start_time": "2023-02-27T10:25:20.272Z"
   },
   {
    "duration": 5,
    "start_time": "2023-02-27T10:25:20.284Z"
   },
   {
    "duration": 5,
    "start_time": "2023-02-27T10:25:20.291Z"
   },
   {
    "duration": 19,
    "start_time": "2023-02-27T10:25:20.299Z"
   },
   {
    "duration": 30,
    "start_time": "2023-02-27T10:25:20.319Z"
   },
   {
    "duration": 189,
    "start_time": "2023-02-27T10:25:20.351Z"
   },
   {
    "duration": 3,
    "start_time": "2023-02-27T10:25:20.542Z"
   },
   {
    "duration": 20,
    "start_time": "2023-02-27T10:25:20.546Z"
   },
   {
    "duration": 6,
    "start_time": "2023-02-27T10:25:20.567Z"
   },
   {
    "duration": 4583,
    "start_time": "2023-02-27T10:25:20.574Z"
   },
   {
    "duration": 4,
    "start_time": "2023-02-27T10:25:25.159Z"
   },
   {
    "duration": 5,
    "start_time": "2023-02-27T10:25:25.165Z"
   },
   {
    "duration": 8,
    "start_time": "2023-02-27T10:25:25.172Z"
   },
   {
    "duration": 5,
    "start_time": "2023-02-27T10:25:25.182Z"
   },
   {
    "duration": 4,
    "start_time": "2023-02-27T10:25:25.189Z"
   },
   {
    "duration": 223,
    "start_time": "2023-02-27T10:25:25.195Z"
   },
   {
    "duration": 10,
    "start_time": "2023-02-27T10:25:25.419Z"
   },
   {
    "duration": 97,
    "start_time": "2023-02-27T10:25:25.430Z"
   },
   {
    "duration": 6,
    "start_time": "2023-02-27T10:25:25.528Z"
   },
   {
    "duration": 10,
    "start_time": "2023-02-27T10:25:25.548Z"
   },
   {
    "duration": 25,
    "start_time": "2023-02-27T10:25:25.560Z"
   },
   {
    "duration": 9,
    "start_time": "2023-02-27T10:25:25.586Z"
   },
   {
    "duration": 13,
    "start_time": "2023-02-27T10:25:25.597Z"
   },
   {
    "duration": 6,
    "start_time": "2023-02-27T10:25:25.611Z"
   },
   {
    "duration": 4,
    "start_time": "2023-02-27T10:25:25.619Z"
   },
   {
    "duration": 25,
    "start_time": "2023-02-27T10:25:25.625Z"
   },
   {
    "duration": 761,
    "start_time": "2023-02-27T10:25:25.651Z"
   },
   {
    "duration": 5,
    "start_time": "2023-02-27T10:25:26.416Z"
   },
   {
    "duration": 18,
    "start_time": "2023-02-27T10:25:26.422Z"
   },
   {
    "duration": 6,
    "start_time": "2023-02-27T10:25:26.448Z"
   },
   {
    "duration": 225,
    "start_time": "2023-02-27T10:25:26.458Z"
   },
   {
    "duration": 6,
    "start_time": "2023-02-27T10:25:26.684Z"
   },
   {
    "duration": 203,
    "start_time": "2023-02-27T10:25:26.692Z"
   },
   {
    "duration": 2,
    "start_time": "2023-02-27T10:25:26.897Z"
   },
   {
    "duration": 5,
    "start_time": "2023-02-27T10:25:26.901Z"
   },
   {
    "duration": 14434,
    "start_time": "2023-02-27T10:25:26.907Z"
   },
   {
    "duration": 11,
    "start_time": "2023-02-27T10:25:41.343Z"
   },
   {
    "duration": 214,
    "start_time": "2023-02-27T10:25:41.356Z"
   },
   {
    "duration": 9,
    "start_time": "2023-02-27T10:25:41.572Z"
   },
   {
    "duration": 238,
    "start_time": "2023-02-27T10:25:41.582Z"
   },
   {
    "duration": 87527,
    "start_time": "2023-02-27T10:25:41.822Z"
   },
   {
    "duration": 3,
    "start_time": "2023-02-27T10:27:09.351Z"
   },
   {
    "duration": 12,
    "start_time": "2023-02-27T10:27:09.356Z"
   },
   {
    "duration": 214,
    "start_time": "2023-02-27T10:27:09.369Z"
   },
   {
    "duration": 8,
    "start_time": "2023-02-27T10:27:09.585Z"
   },
   {
    "duration": 228,
    "start_time": "2023-02-27T10:27:09.594Z"
   },
   {
    "duration": 136,
    "start_time": "2023-02-27T10:30:30.221Z"
   },
   {
    "duration": 9,
    "start_time": "2023-02-27T10:30:36.084Z"
   },
   {
    "duration": 206,
    "start_time": "2023-02-27T10:31:46.769Z"
   },
   {
    "duration": 210,
    "start_time": "2023-02-27T10:32:11.167Z"
   },
   {
    "duration": 4,
    "start_time": "2023-02-27T10:42:01.262Z"
   },
   {
    "duration": 197,
    "start_time": "2023-02-27T10:42:02.451Z"
   },
   {
    "duration": 5,
    "start_time": "2023-02-27T10:42:28.798Z"
   },
   {
    "duration": 195,
    "start_time": "2023-02-27T10:42:29.959Z"
   },
   {
    "duration": 111,
    "start_time": "2023-02-27T10:42:39.824Z"
   },
   {
    "duration": 4,
    "start_time": "2023-02-27T10:43:09.860Z"
   },
   {
    "duration": 205,
    "start_time": "2023-02-27T10:43:11.788Z"
   },
   {
    "duration": 5,
    "start_time": "2023-02-27T10:43:50.713Z"
   },
   {
    "duration": 204,
    "start_time": "2023-02-27T10:43:51.217Z"
   },
   {
    "duration": 4,
    "start_time": "2023-02-27T10:45:05.265Z"
   },
   {
    "duration": 223,
    "start_time": "2023-02-27T10:45:06.308Z"
   },
   {
    "duration": 189,
    "start_time": "2023-02-27T10:45:09.786Z"
   },
   {
    "duration": 218,
    "start_time": "2023-02-27T10:45:13.674Z"
   },
   {
    "duration": 238,
    "start_time": "2023-02-27T10:45:16.363Z"
   },
   {
    "duration": 185,
    "start_time": "2023-02-27T10:45:22.932Z"
   },
   {
    "duration": 225,
    "start_time": "2023-02-27T10:45:25.588Z"
   },
   {
    "duration": 1677,
    "start_time": "2023-02-27T10:47:15.978Z"
   },
   {
    "duration": 1303,
    "start_time": "2023-02-27T10:47:17.658Z"
   },
   {
    "duration": 16,
    "start_time": "2023-02-27T10:47:18.963Z"
   },
   {
    "duration": 4,
    "start_time": "2023-02-27T10:47:18.980Z"
   },
   {
    "duration": 87,
    "start_time": "2023-02-27T10:47:18.986Z"
   },
   {
    "duration": 494,
    "start_time": "2023-02-27T10:47:19.074Z"
   },
   {
    "duration": 8,
    "start_time": "2023-02-27T10:47:19.570Z"
   },
   {
    "duration": 214,
    "start_time": "2023-02-27T10:47:19.580Z"
   },
   {
    "duration": 14,
    "start_time": "2023-02-27T10:47:19.848Z"
   },
   {
    "duration": 11,
    "start_time": "2023-02-27T10:47:19.864Z"
   },
   {
    "duration": 32,
    "start_time": "2023-02-27T10:47:19.876Z"
   },
   {
    "duration": 5,
    "start_time": "2023-02-27T10:47:19.910Z"
   },
   {
    "duration": 4117,
    "start_time": "2023-02-27T10:47:19.916Z"
   },
   {
    "duration": 4,
    "start_time": "2023-02-27T10:47:24.036Z"
   },
   {
    "duration": 241,
    "start_time": "2023-02-27T10:47:24.042Z"
   },
   {
    "duration": 3,
    "start_time": "2023-02-27T10:47:24.285Z"
   },
   {
    "duration": 10,
    "start_time": "2023-02-27T10:47:24.290Z"
   },
   {
    "duration": 6,
    "start_time": "2023-02-27T10:47:24.302Z"
   },
   {
    "duration": 1159390,
    "start_time": "2023-02-27T10:47:24.309Z"
   },
   {
    "duration": 5,
    "start_time": "2023-02-27T11:06:43.701Z"
   },
   {
    "duration": 23,
    "start_time": "2023-02-27T11:06:43.707Z"
   },
   {
    "duration": 109,
    "start_time": "2023-02-27T11:06:43.732Z"
   },
   {
    "duration": 7,
    "start_time": "2023-02-27T11:06:43.843Z"
   },
   {
    "duration": 23,
    "start_time": "2023-02-27T11:06:43.852Z"
   },
   {
    "duration": 224,
    "start_time": "2023-02-27T11:06:43.877Z"
   },
   {
    "duration": 67,
    "start_time": "2023-02-27T11:06:44.103Z"
   },
   {
    "duration": 88,
    "start_time": "2023-02-27T11:06:44.172Z"
   },
   {
    "duration": 6,
    "start_time": "2023-02-27T11:06:44.261Z"
   },
   {
    "duration": 1487,
    "start_time": "2023-02-27T11:06:44.268Z"
   },
   {
    "duration": 6055,
    "start_time": "2023-02-27T11:06:45.756Z"
   },
   {
    "duration": 2360,
    "start_time": "2023-02-27T11:06:51.813Z"
   },
   {
    "duration": 2390,
    "start_time": "2023-02-27T11:06:54.175Z"
   },
   {
    "duration": 6,
    "start_time": "2023-02-27T11:06:56.567Z"
   },
   {
    "duration": 9,
    "start_time": "2023-02-27T11:06:56.575Z"
   },
   {
    "duration": 5,
    "start_time": "2023-02-27T11:06:56.586Z"
   },
   {
    "duration": 257066,
    "start_time": "2023-02-27T11:06:56.592Z"
   },
   {
    "duration": 7,
    "start_time": "2023-02-27T11:11:13.751Z"
   },
   {
    "duration": 104,
    "start_time": "2023-02-27T11:11:13.760Z"
   },
   {
    "duration": 5,
    "start_time": "2023-02-27T11:11:13.865Z"
   },
   {
    "duration": 1393,
    "start_time": "2023-02-27T11:11:13.872Z"
   },
   {
    "duration": 19,
    "start_time": "2023-02-27T11:11:15.269Z"
   },
   {
    "duration": 1515,
    "start_time": "2023-02-27T11:11:15.290Z"
   },
   {
    "duration": 2,
    "start_time": "2023-02-27T11:11:16.807Z"
   },
   {
    "duration": 11,
    "start_time": "2023-02-27T11:11:16.811Z"
   },
   {
    "duration": 31177,
    "start_time": "2023-02-27T11:11:16.824Z"
   },
   {
    "duration": 51,
    "start_time": "2023-02-27T11:11:48.003Z"
   },
   {
    "duration": 1394,
    "start_time": "2023-02-27T11:11:48.056Z"
   },
   {
    "duration": 48,
    "start_time": "2023-02-27T11:11:49.452Z"
   },
   {
    "duration": 1550,
    "start_time": "2023-02-27T11:11:49.502Z"
   },
   {
    "duration": 52,
    "start_time": "2023-02-27T11:13:22.257Z"
   },
   {
    "duration": 2511,
    "start_time": "2023-02-27T11:16:08.895Z"
   },
   {
    "duration": 2672,
    "start_time": "2023-02-27T11:16:11.408Z"
   },
   {
    "duration": 3,
    "start_time": "2023-02-27T11:16:14.082Z"
   },
   {
    "duration": 28,
    "start_time": "2023-02-27T11:16:14.087Z"
   },
   {
    "duration": 4,
    "start_time": "2023-02-27T11:16:14.116Z"
   },
   {
    "duration": 16,
    "start_time": "2023-02-27T11:16:14.122Z"
   },
   {
    "duration": 42,
    "start_time": "2023-02-27T11:16:14.140Z"
   },
   {
    "duration": 19,
    "start_time": "2023-02-27T11:16:14.184Z"
   },
   {
    "duration": 140,
    "start_time": "2023-02-27T11:16:14.205Z"
   },
   {
    "duration": 23,
    "start_time": "2023-02-27T11:16:14.349Z"
   },
   {
    "duration": 10,
    "start_time": "2023-02-27T11:16:14.373Z"
   },
   {
    "duration": 4,
    "start_time": "2023-02-27T11:16:14.385Z"
   },
   {
    "duration": 5,
    "start_time": "2023-02-27T11:16:14.390Z"
   },
   {
    "duration": 19,
    "start_time": "2023-02-27T11:16:14.397Z"
   },
   {
    "duration": 4,
    "start_time": "2023-02-27T11:16:14.417Z"
   },
   {
    "duration": 314,
    "start_time": "2023-02-27T11:16:14.423Z"
   },
   {
    "duration": 3,
    "start_time": "2023-02-27T11:16:14.739Z"
   },
   {
    "duration": 16,
    "start_time": "2023-02-27T11:16:14.744Z"
   },
   {
    "duration": 7,
    "start_time": "2023-02-27T11:16:14.762Z"
   },
   {
    "duration": 5019,
    "start_time": "2023-02-27T11:16:14.771Z"
   },
   {
    "duration": 5,
    "start_time": "2023-02-27T11:16:19.791Z"
   },
   {
    "duration": 39,
    "start_time": "2023-02-27T11:16:19.798Z"
   },
   {
    "duration": 40,
    "start_time": "2023-02-27T11:16:19.839Z"
   },
   {
    "duration": 10,
    "start_time": "2023-02-27T11:16:19.881Z"
   },
   {
    "duration": 14,
    "start_time": "2023-02-27T11:16:19.893Z"
   },
   {
    "duration": 224,
    "start_time": "2023-02-27T11:16:19.908Z"
   },
   {
    "duration": 21,
    "start_time": "2023-02-27T11:16:20.134Z"
   },
   {
    "duration": 81,
    "start_time": "2023-02-27T11:16:20.159Z"
   },
   {
    "duration": 8,
    "start_time": "2023-02-27T11:16:20.242Z"
   },
   {
    "duration": 32,
    "start_time": "2023-02-27T11:16:20.251Z"
   },
   {
    "duration": 61,
    "start_time": "2023-02-27T11:16:20.285Z"
   },
   {
    "duration": 30,
    "start_time": "2023-02-27T11:16:20.348Z"
   },
   {
    "duration": 21,
    "start_time": "2023-02-27T11:16:20.379Z"
   },
   {
    "duration": 32,
    "start_time": "2023-02-27T11:16:20.402Z"
   },
   {
    "duration": 19,
    "start_time": "2023-02-27T11:16:20.436Z"
   },
   {
    "duration": 34,
    "start_time": "2023-02-27T11:16:20.456Z"
   },
   {
    "duration": 1047,
    "start_time": "2023-02-27T11:16:20.491Z"
   },
   {
    "duration": 4,
    "start_time": "2023-02-27T11:16:21.540Z"
   },
   {
    "duration": 17,
    "start_time": "2023-02-27T11:16:21.556Z"
   },
   {
    "duration": 8,
    "start_time": "2023-02-27T11:16:21.575Z"
   },
   {
    "duration": 207,
    "start_time": "2023-02-27T11:16:21.584Z"
   },
   {
    "duration": 7,
    "start_time": "2023-02-27T11:16:21.793Z"
   },
   {
    "duration": 215,
    "start_time": "2023-02-27T11:16:21.801Z"
   },
   {
    "duration": 3,
    "start_time": "2023-02-27T11:16:22.017Z"
   },
   {
    "duration": 5,
    "start_time": "2023-02-27T11:16:22.022Z"
   },
   {
    "duration": 1346,
    "start_time": "2023-02-27T11:16:22.028Z"
   },
   {
    "duration": 8,
    "start_time": "2023-02-27T11:16:23.375Z"
   },
   {
    "duration": 248,
    "start_time": "2023-02-27T11:16:23.385Z"
   },
   {
    "duration": 17,
    "start_time": "2023-02-27T11:16:23.635Z"
   },
   {
    "duration": 225,
    "start_time": "2023-02-27T11:16:23.663Z"
   },
   {
    "duration": 92869,
    "start_time": "2023-02-27T11:16:23.890Z"
   },
   {
    "duration": 6,
    "start_time": "2023-02-27T11:17:56.763Z"
   },
   {
    "duration": 20,
    "start_time": "2023-02-27T11:17:56.772Z"
   },
   {
    "duration": 242,
    "start_time": "2023-02-27T11:17:56.794Z"
   },
   {
    "duration": 17,
    "start_time": "2023-02-27T11:17:57.038Z"
   },
   {
    "duration": 308,
    "start_time": "2023-02-27T11:17:57.057Z"
   },
   {
    "duration": 10,
    "start_time": "2023-02-27T11:17:57.369Z"
   },
   {
    "duration": 172,
    "start_time": "2023-02-27T11:26:01.168Z"
   },
   {
    "duration": 55,
    "start_time": "2023-02-27T11:26:29.202Z"
   },
   {
    "duration": 8,
    "start_time": "2023-02-27T11:26:39.490Z"
   },
   {
    "duration": 1817,
    "start_time": "2023-02-27T11:28:00.239Z"
   },
   {
    "duration": 854,
    "start_time": "2023-02-27T11:28:02.058Z"
   },
   {
    "duration": 18,
    "start_time": "2023-02-27T11:28:02.914Z"
   },
   {
    "duration": 16,
    "start_time": "2023-02-27T11:28:02.933Z"
   },
   {
    "duration": 29,
    "start_time": "2023-02-27T11:28:02.952Z"
   },
   {
    "duration": 291,
    "start_time": "2023-02-27T11:28:02.984Z"
   },
   {
    "duration": 8,
    "start_time": "2023-02-27T11:28:03.277Z"
   },
   {
    "duration": 152,
    "start_time": "2023-02-27T11:28:03.287Z"
   },
   {
    "duration": 21,
    "start_time": "2023-02-27T11:28:03.441Z"
   },
   {
    "duration": 11,
    "start_time": "2023-02-27T11:28:03.463Z"
   },
   {
    "duration": 41,
    "start_time": "2023-02-27T11:28:03.476Z"
   },
   {
    "duration": 9,
    "start_time": "2023-02-27T11:28:03.519Z"
   },
   {
    "duration": 4528,
    "start_time": "2023-02-27T11:28:03.529Z"
   },
   {
    "duration": 4,
    "start_time": "2023-02-27T11:28:08.060Z"
   },
   {
    "duration": 199,
    "start_time": "2023-02-27T11:28:08.066Z"
   },
   {
    "duration": 4,
    "start_time": "2023-02-27T11:28:08.266Z"
   },
   {
    "duration": 12,
    "start_time": "2023-02-27T11:28:08.272Z"
   },
   {
    "duration": 8,
    "start_time": "2023-02-27T11:28:08.286Z"
   },
   {
    "duration": 1203501,
    "start_time": "2023-02-27T11:28:16.571Z"
   },
   {
    "duration": 3833,
    "start_time": "2023-02-27T11:48:23.734Z"
   },
   {
    "duration": 1074,
    "start_time": "2023-02-27T11:50:05.202Z"
   },
   {
    "duration": 996,
    "start_time": "2023-02-27T11:50:55.229Z"
   },
   {
    "duration": 7,
    "start_time": "2023-02-27T11:50:56.228Z"
   },
   {
    "duration": 12,
    "start_time": "2023-02-27T11:50:56.237Z"
   },
   {
    "duration": 10,
    "start_time": "2023-02-27T11:50:56.251Z"
   },
   {
    "duration": 127,
    "start_time": "2023-02-27T11:50:56.263Z"
   },
   {
    "duration": 8,
    "start_time": "2023-02-27T11:50:56.392Z"
   },
   {
    "duration": 7,
    "start_time": "2023-02-27T11:50:56.403Z"
   },
   {
    "duration": 266,
    "start_time": "2023-02-27T11:50:56.412Z"
   },
   {
    "duration": 50,
    "start_time": "2023-02-27T11:50:56.679Z"
   },
   {
    "duration": 82,
    "start_time": "2023-02-27T11:50:56.732Z"
   },
   {
    "duration": 5,
    "start_time": "2023-02-27T11:50:56.816Z"
   },
   {
    "duration": 2289,
    "start_time": "2023-02-27T11:50:56.822Z"
   },
   {
    "duration": 5821,
    "start_time": "2023-02-27T11:50:59.114Z"
   },
   {
    "duration": 2405,
    "start_time": "2023-02-27T11:51:04.937Z"
   },
   {
    "duration": 2280,
    "start_time": "2023-02-27T11:51:07.344Z"
   },
   {
    "duration": 5,
    "start_time": "2023-02-27T11:51:09.626Z"
   },
   {
    "duration": 16,
    "start_time": "2023-02-27T11:51:09.633Z"
   },
   {
    "duration": 4,
    "start_time": "2023-02-27T11:51:09.651Z"
   },
   {
    "duration": 325197,
    "start_time": "2023-02-27T11:51:09.656Z"
   },
   {
    "duration": 5,
    "start_time": "2023-02-27T11:56:34.856Z"
   },
   {
    "duration": 104,
    "start_time": "2023-02-27T11:56:34.863Z"
   },
   {
    "duration": 5,
    "start_time": "2023-02-27T11:56:34.968Z"
   },
   {
    "duration": 1423,
    "start_time": "2023-02-27T11:56:34.974Z"
   },
   {
    "duration": 21,
    "start_time": "2023-02-27T11:56:36.400Z"
   },
   {
    "duration": 1439,
    "start_time": "2023-02-27T11:56:36.423Z"
   },
   {
    "duration": 2,
    "start_time": "2023-02-27T11:56:37.864Z"
   },
   {
    "duration": 24,
    "start_time": "2023-02-27T11:56:37.868Z"
   },
   {
    "duration": 32987,
    "start_time": "2023-02-27T11:56:37.895Z"
   },
   {
    "duration": 50,
    "start_time": "2023-02-27T11:57:10.884Z"
   },
   {
    "duration": 1467,
    "start_time": "2023-02-27T11:57:10.936Z"
   },
   {
    "duration": 52,
    "start_time": "2023-02-27T11:57:12.405Z"
   },
   {
    "duration": 1441,
    "start_time": "2023-02-27T11:57:12.460Z"
   },
   {
    "duration": 50,
    "start_time": "2023-02-27T11:59:22.830Z"
   },
   {
    "duration": 9,
    "start_time": "2023-02-27T11:59:29.194Z"
   },
   {
    "duration": 0,
    "start_time": "2023-02-27T11:59:29.205Z"
   },
   {
    "duration": 0,
    "start_time": "2023-02-27T11:59:29.207Z"
   },
   {
    "duration": 0,
    "start_time": "2023-02-27T11:59:29.208Z"
   },
   {
    "duration": 0,
    "start_time": "2023-02-27T11:59:29.209Z"
   },
   {
    "duration": 13,
    "start_time": "2023-02-27T11:59:29.213Z"
   },
   {
    "duration": 0,
    "start_time": "2023-02-27T11:59:29.228Z"
   },
   {
    "duration": 0,
    "start_time": "2023-02-27T11:59:29.229Z"
   },
   {
    "duration": 0,
    "start_time": "2023-02-27T11:59:29.230Z"
   },
   {
    "duration": 0,
    "start_time": "2023-02-27T11:59:29.232Z"
   },
   {
    "duration": 0,
    "start_time": "2023-02-27T11:59:29.233Z"
   },
   {
    "duration": 0,
    "start_time": "2023-02-27T11:59:29.235Z"
   },
   {
    "duration": 8,
    "start_time": "2023-02-27T11:59:29.241Z"
   },
   {
    "duration": 0,
    "start_time": "2023-02-27T11:59:29.251Z"
   },
   {
    "duration": 0,
    "start_time": "2023-02-27T11:59:29.253Z"
   },
   {
    "duration": 0,
    "start_time": "2023-02-27T11:59:29.254Z"
   },
   {
    "duration": 0,
    "start_time": "2023-02-27T11:59:29.256Z"
   },
   {
    "duration": 0,
    "start_time": "2023-02-27T11:59:29.257Z"
   },
   {
    "duration": 0,
    "start_time": "2023-02-27T11:59:29.258Z"
   },
   {
    "duration": 0,
    "start_time": "2023-02-27T11:59:29.259Z"
   },
   {
    "duration": 0,
    "start_time": "2023-02-27T11:59:29.261Z"
   },
   {
    "duration": 0,
    "start_time": "2023-02-27T11:59:29.262Z"
   },
   {
    "duration": 2490,
    "start_time": "2023-02-27T11:59:45.095Z"
   },
   {
    "duration": 2640,
    "start_time": "2023-02-27T11:59:47.588Z"
   },
   {
    "duration": 28,
    "start_time": "2023-02-27T11:59:50.230Z"
   },
   {
    "duration": 3,
    "start_time": "2023-02-27T11:59:50.260Z"
   },
   {
    "duration": 31,
    "start_time": "2023-02-27T11:59:50.265Z"
   },
   {
    "duration": 251,
    "start_time": "2023-02-27T11:59:50.298Z"
   },
   {
    "duration": 8,
    "start_time": "2023-02-27T11:59:50.551Z"
   },
   {
    "duration": 226,
    "start_time": "2023-02-27T11:59:50.561Z"
   },
   {
    "duration": 12,
    "start_time": "2023-02-27T11:59:50.789Z"
   },
   {
    "duration": 54,
    "start_time": "2023-02-27T11:59:50.803Z"
   },
   {
    "duration": 42,
    "start_time": "2023-02-27T11:59:50.859Z"
   },
   {
    "duration": 8,
    "start_time": "2023-02-27T11:59:50.903Z"
   },
   {
    "duration": 5268,
    "start_time": "2023-02-27T11:59:50.913Z"
   },
   {
    "duration": 4,
    "start_time": "2023-02-27T11:59:56.184Z"
   },
   {
    "duration": 366,
    "start_time": "2023-02-27T11:59:56.191Z"
   },
   {
    "duration": 5,
    "start_time": "2023-02-27T11:59:56.559Z"
   },
   {
    "duration": 24,
    "start_time": "2023-02-27T11:59:56.565Z"
   },
   {
    "duration": 33,
    "start_time": "2023-02-27T11:59:56.591Z"
   },
   {
    "duration": 13,
    "start_time": "2023-02-27T11:59:56.626Z"
   },
   {
    "duration": 23,
    "start_time": "2023-02-27T11:59:56.642Z"
   },
   {
    "duration": 1033,
    "start_time": "2023-02-27T11:59:56.667Z"
   },
   {
    "duration": 11,
    "start_time": "2023-02-27T11:59:57.702Z"
   },
   {
    "duration": 6,
    "start_time": "2023-02-27T11:59:57.715Z"
   },
   {
    "duration": 26,
    "start_time": "2023-02-27T11:59:57.723Z"
   },
   {
    "duration": 98,
    "start_time": "2023-02-27T11:59:57.751Z"
   },
   {
    "duration": 5,
    "start_time": "2023-02-27T11:59:57.851Z"
   },
   {
    "duration": 6,
    "start_time": "2023-02-27T11:59:57.858Z"
   },
   {
    "duration": 242,
    "start_time": "2023-02-27T11:59:57.866Z"
   },
   {
    "duration": 57,
    "start_time": "2023-02-27T11:59:58.110Z"
   },
   {
    "duration": 86,
    "start_time": "2023-02-27T11:59:58.169Z"
   },
   {
    "duration": 6,
    "start_time": "2023-02-27T11:59:58.257Z"
   },
   {
    "duration": 1317,
    "start_time": "2023-02-27T11:59:58.265Z"
   },
   {
    "duration": 5716,
    "start_time": "2023-02-27T11:59:59.584Z"
   },
   {
    "duration": 2539,
    "start_time": "2023-02-27T12:00:05.301Z"
   },
   {
    "duration": 3288,
    "start_time": "2023-02-27T12:00:07.842Z"
   },
   {
    "duration": 5,
    "start_time": "2023-02-27T12:00:11.132Z"
   },
   {
    "duration": 5,
    "start_time": "2023-02-27T12:00:11.148Z"
   },
   {
    "duration": 6,
    "start_time": "2023-02-27T12:00:11.155Z"
   },
   {
    "duration": 42059,
    "start_time": "2023-02-27T12:00:11.163Z"
   },
   {
    "duration": 6,
    "start_time": "2023-02-27T12:01:08.023Z"
   },
   {
    "duration": 16,
    "start_time": "2023-02-27T12:01:12.648Z"
   },
   {
    "duration": 5,
    "start_time": "2023-02-27T12:01:19.064Z"
   },
   {
    "duration": 1458,
    "start_time": "2023-02-27T12:01:21.699Z"
   },
   {
    "duration": 24,
    "start_time": "2023-02-27T12:01:25.981Z"
   },
   {
    "duration": 19,
    "start_time": "2023-02-27T12:02:06.371Z"
   },
   {
    "duration": 17,
    "start_time": "2023-02-27T12:02:11.802Z"
   },
   {
    "duration": 4,
    "start_time": "2023-02-27T12:02:51.926Z"
   },
   {
    "duration": 27904,
    "start_time": "2023-02-27T12:02:53.895Z"
   },
   {
    "duration": 4,
    "start_time": "2023-02-27T12:03:32.714Z"
   },
   {
    "duration": 17,
    "start_time": "2023-02-27T12:03:35.598Z"
   },
   {
    "duration": 4,
    "start_time": "2023-02-27T12:03:46.566Z"
   },
   {
    "duration": 0,
    "start_time": "2023-02-27T12:05:39.060Z"
   },
   {
    "duration": 0,
    "start_time": "2023-02-27T12:05:39.062Z"
   },
   {
    "duration": 4,
    "start_time": "2023-02-27T12:05:41.150Z"
   },
   {
    "duration": 274777,
    "start_time": "2023-02-27T12:05:41.899Z"
   },
   {
    "duration": 4,
    "start_time": "2023-02-27T12:10:43.858Z"
   },
   {
    "duration": 17,
    "start_time": "2023-02-27T12:10:55.274Z"
   },
   {
    "duration": 6,
    "start_time": "2023-02-27T12:10:56.752Z"
   },
   {
    "duration": 1492,
    "start_time": "2023-02-27T12:11:00.500Z"
   },
   {
    "duration": 17,
    "start_time": "2023-02-27T12:11:04.285Z"
   },
   {
    "duration": 5,
    "start_time": "2023-02-27T12:16:00.009Z"
   },
   {
    "duration": 1326174,
    "start_time": "2023-02-27T12:16:01.611Z"
   },
   {
    "duration": 0,
    "start_time": "2023-02-27T12:38:07.787Z"
   },
   {
    "duration": 0,
    "start_time": "2023-02-27T12:38:07.790Z"
   },
   {
    "duration": 4,
    "start_time": "2023-02-27T12:38:10.195Z"
   },
   {
    "duration": 38278,
    "start_time": "2023-02-27T12:38:10.988Z"
   },
   {
    "duration": 0,
    "start_time": "2023-02-27T12:38:49.269Z"
   },
   {
    "duration": 3,
    "start_time": "2023-02-27T12:38:51.465Z"
   },
   {
    "duration": 1745,
    "start_time": "2023-02-27T12:44:26.585Z"
   },
   {
    "duration": 826,
    "start_time": "2023-02-27T12:44:28.333Z"
   },
   {
    "duration": 17,
    "start_time": "2023-02-27T12:44:29.161Z"
   },
   {
    "duration": 4,
    "start_time": "2023-02-27T12:44:29.179Z"
   },
   {
    "duration": 36,
    "start_time": "2023-02-27T12:44:29.185Z"
   },
   {
    "duration": 263,
    "start_time": "2023-02-27T12:44:29.223Z"
   },
   {
    "duration": 9,
    "start_time": "2023-02-27T12:44:29.488Z"
   },
   {
    "duration": 130,
    "start_time": "2023-02-27T12:44:29.499Z"
   },
   {
    "duration": 19,
    "start_time": "2023-02-27T12:44:29.630Z"
   },
   {
    "duration": 14,
    "start_time": "2023-02-27T12:44:29.651Z"
   },
   {
    "duration": 36,
    "start_time": "2023-02-27T12:44:29.667Z"
   },
   {
    "duration": 12,
    "start_time": "2023-02-27T12:44:29.705Z"
   },
   {
    "duration": 4368,
    "start_time": "2023-02-27T12:44:29.719Z"
   },
   {
    "duration": 5,
    "start_time": "2023-02-27T12:44:34.090Z"
   },
   {
    "duration": 257,
    "start_time": "2023-02-27T12:44:34.097Z"
   },
   {
    "duration": 4,
    "start_time": "2023-02-27T12:44:34.355Z"
   },
   {
    "duration": 7,
    "start_time": "2023-02-27T12:44:34.360Z"
   },
   {
    "duration": 8,
    "start_time": "2023-02-27T12:44:34.368Z"
   },
   {
    "duration": 7,
    "start_time": "2023-02-27T12:44:34.378Z"
   },
   {
    "duration": 10,
    "start_time": "2023-02-27T12:44:34.387Z"
   },
   {
    "duration": 1151,
    "start_time": "2023-02-27T12:44:34.398Z"
   },
   {
    "duration": 8,
    "start_time": "2023-02-27T12:44:35.551Z"
   },
   {
    "duration": 20,
    "start_time": "2023-02-27T12:44:35.561Z"
   },
   {
    "duration": 18,
    "start_time": "2023-02-27T12:44:35.582Z"
   },
   {
    "duration": 94,
    "start_time": "2023-02-27T12:44:35.601Z"
   },
   {
    "duration": 4,
    "start_time": "2023-02-27T12:44:35.697Z"
   },
   {
    "duration": 33,
    "start_time": "2023-02-27T12:44:35.702Z"
   },
   {
    "duration": 226,
    "start_time": "2023-02-27T12:44:35.737Z"
   },
   {
    "duration": 50,
    "start_time": "2023-02-27T12:44:35.965Z"
   },
   {
    "duration": 85,
    "start_time": "2023-02-27T12:44:36.017Z"
   },
   {
    "duration": 6,
    "start_time": "2023-02-27T12:44:36.103Z"
   },
   {
    "duration": 1350,
    "start_time": "2023-02-27T12:44:36.110Z"
   },
   {
    "duration": 5476,
    "start_time": "2023-02-27T12:44:37.462Z"
   },
   {
    "duration": 2188,
    "start_time": "2023-02-27T12:44:42.939Z"
   },
   {
    "duration": 2257,
    "start_time": "2023-02-27T12:44:45.129Z"
   },
   {
    "duration": 5,
    "start_time": "2023-02-27T12:44:47.388Z"
   },
   {
    "duration": 25,
    "start_time": "2023-02-27T12:44:47.394Z"
   },
   {
    "duration": 137,
    "start_time": "2023-02-27T12:44:52.974Z"
   },
   {
    "duration": 5,
    "start_time": "2023-02-27T12:45:09.773Z"
   },
   {
    "duration": 1809,
    "start_time": "2023-02-27T12:51:13.922Z"
   },
   {
    "duration": 896,
    "start_time": "2023-02-27T12:51:15.733Z"
   },
   {
    "duration": 27,
    "start_time": "2023-02-27T12:51:16.631Z"
   },
   {
    "duration": 7,
    "start_time": "2023-02-27T12:51:16.661Z"
   },
   {
    "duration": 55,
    "start_time": "2023-02-27T12:51:16.670Z"
   },
   {
    "duration": 266,
    "start_time": "2023-02-27T12:51:16.726Z"
   },
   {
    "duration": 8,
    "start_time": "2023-02-27T12:51:16.993Z"
   },
   {
    "duration": 127,
    "start_time": "2023-02-27T12:51:17.002Z"
   },
   {
    "duration": 18,
    "start_time": "2023-02-27T12:51:17.131Z"
   },
   {
    "duration": 22,
    "start_time": "2023-02-27T12:51:17.151Z"
   },
   {
    "duration": 44,
    "start_time": "2023-02-27T12:51:17.174Z"
   },
   {
    "duration": 8,
    "start_time": "2023-02-27T12:51:17.221Z"
   },
   {
    "duration": 4432,
    "start_time": "2023-02-27T12:51:17.230Z"
   },
   {
    "duration": 5,
    "start_time": "2023-02-27T12:51:21.666Z"
   },
   {
    "duration": 275,
    "start_time": "2023-02-27T12:51:21.672Z"
   },
   {
    "duration": 5,
    "start_time": "2023-02-27T12:51:21.950Z"
   },
   {
    "duration": 40,
    "start_time": "2023-02-27T12:51:21.957Z"
   },
   {
    "duration": 32,
    "start_time": "2023-02-27T12:51:21.999Z"
   },
   {
    "duration": 12,
    "start_time": "2023-02-27T12:51:22.033Z"
   },
   {
    "duration": 27,
    "start_time": "2023-02-27T12:51:22.046Z"
   },
   {
    "duration": 939,
    "start_time": "2023-02-27T12:51:22.075Z"
   },
   {
    "duration": 7,
    "start_time": "2023-02-27T12:51:23.016Z"
   },
   {
    "duration": 27,
    "start_time": "2023-02-27T12:51:23.024Z"
   },
   {
    "duration": 29,
    "start_time": "2023-02-27T12:51:23.053Z"
   },
   {
    "duration": 136,
    "start_time": "2023-02-27T12:51:23.084Z"
   },
   {
    "duration": 5,
    "start_time": "2023-02-27T12:51:23.221Z"
   },
   {
    "duration": 13,
    "start_time": "2023-02-27T12:51:23.227Z"
   },
   {
    "duration": 264,
    "start_time": "2023-02-27T12:51:23.242Z"
   },
   {
    "duration": 61,
    "start_time": "2023-02-27T12:51:23.508Z"
   },
   {
    "duration": 81,
    "start_time": "2023-02-27T12:51:23.571Z"
   },
   {
    "duration": 9,
    "start_time": "2023-02-27T12:51:23.655Z"
   },
   {
    "duration": 1341,
    "start_time": "2023-02-27T12:51:23.666Z"
   },
   {
    "duration": 2258,
    "start_time": "2023-02-27T12:52:22.661Z"
   },
   {
    "duration": 2452,
    "start_time": "2023-02-27T12:52:24.921Z"
   },
   {
    "duration": 22,
    "start_time": "2023-02-27T12:52:27.375Z"
   },
   {
    "duration": 4,
    "start_time": "2023-02-27T12:52:27.400Z"
   },
   {
    "duration": 49,
    "start_time": "2023-02-27T12:52:27.407Z"
   },
   {
    "duration": 256,
    "start_time": "2023-02-27T12:52:27.458Z"
   },
   {
    "duration": 8,
    "start_time": "2023-02-27T12:52:27.716Z"
   },
   {
    "duration": 132,
    "start_time": "2023-02-27T12:52:27.725Z"
   },
   {
    "duration": 14,
    "start_time": "2023-02-27T12:52:27.859Z"
   },
   {
    "duration": 11,
    "start_time": "2023-02-27T12:52:27.875Z"
   },
   {
    "duration": 33,
    "start_time": "2023-02-27T12:52:27.888Z"
   },
   {
    "duration": 6,
    "start_time": "2023-02-27T12:52:27.923Z"
   },
   {
    "duration": 4468,
    "start_time": "2023-02-27T12:52:27.950Z"
   },
   {
    "duration": 4,
    "start_time": "2023-02-27T12:52:32.421Z"
   },
   {
    "duration": 309,
    "start_time": "2023-02-27T12:52:32.427Z"
   },
   {
    "duration": 2,
    "start_time": "2023-02-27T12:52:32.738Z"
   },
   {
    "duration": 14,
    "start_time": "2023-02-27T12:52:32.742Z"
   },
   {
    "duration": 12,
    "start_time": "2023-02-27T12:52:32.758Z"
   },
   {
    "duration": 15,
    "start_time": "2023-02-27T12:52:32.772Z"
   },
   {
    "duration": 7,
    "start_time": "2023-02-27T12:52:32.789Z"
   },
   {
    "duration": 7,
    "start_time": "2023-02-27T12:53:41.450Z"
   },
   {
    "duration": 1057,
    "start_time": "2023-02-27T12:53:47.731Z"
   },
   {
    "duration": 11,
    "start_time": "2023-02-27T12:53:51.161Z"
   },
   {
    "duration": 6,
    "start_time": "2023-02-27T12:53:53.225Z"
   },
   {
    "duration": 18,
    "start_time": "2023-02-27T12:53:54.331Z"
   },
   {
    "duration": 108,
    "start_time": "2023-02-27T12:53:55.930Z"
   },
   {
    "duration": 5,
    "start_time": "2023-02-27T12:53:57.609Z"
   },
   {
    "duration": 4,
    "start_time": "2023-02-27T12:53:58.771Z"
   },
   {
    "duration": 220,
    "start_time": "2023-02-27T12:54:02.226Z"
   },
   {
    "duration": 48,
    "start_time": "2023-02-27T12:54:04.762Z"
   },
   {
    "duration": 82,
    "start_time": "2023-02-27T12:54:06.011Z"
   },
   {
    "duration": 4,
    "start_time": "2023-02-27T12:54:07.738Z"
   },
   {
    "duration": 51,
    "start_time": "2023-02-27T12:54:51.698Z"
   },
   {
    "duration": 7,
    "start_time": "2023-02-27T12:54:57.792Z"
   },
   {
    "duration": 2317,
    "start_time": "2023-02-27T12:55:10.600Z"
   },
   {
    "duration": 2363,
    "start_time": "2023-02-27T12:55:12.919Z"
   },
   {
    "duration": 17,
    "start_time": "2023-02-27T12:55:15.284Z"
   },
   {
    "duration": 36,
    "start_time": "2023-02-27T12:55:15.303Z"
   },
   {
    "duration": 65,
    "start_time": "2023-02-27T12:55:15.340Z"
   },
   {
    "duration": 309,
    "start_time": "2023-02-27T12:55:15.407Z"
   },
   {
    "duration": 9,
    "start_time": "2023-02-27T12:55:15.718Z"
   },
   {
    "duration": 157,
    "start_time": "2023-02-27T12:55:15.729Z"
   },
   {
    "duration": 12,
    "start_time": "2023-02-27T12:55:15.888Z"
   },
   {
    "duration": 29,
    "start_time": "2023-02-27T12:55:15.902Z"
   },
   {
    "duration": 67,
    "start_time": "2023-02-27T12:55:15.933Z"
   },
   {
    "duration": 60,
    "start_time": "2023-02-27T12:55:16.002Z"
   },
   {
    "duration": 4482,
    "start_time": "2023-02-27T12:55:16.064Z"
   },
   {
    "duration": 5,
    "start_time": "2023-02-27T12:55:20.548Z"
   },
   {
    "duration": 260,
    "start_time": "2023-02-27T12:55:20.555Z"
   },
   {
    "duration": 4,
    "start_time": "2023-02-27T12:55:20.816Z"
   },
   {
    "duration": 6,
    "start_time": "2023-02-27T12:55:20.821Z"
   },
   {
    "duration": 7,
    "start_time": "2023-02-27T12:55:20.829Z"
   },
   {
    "duration": 11,
    "start_time": "2023-02-27T12:55:20.837Z"
   },
   {
    "duration": 23,
    "start_time": "2023-02-27T12:55:20.851Z"
   },
   {
    "duration": 921,
    "start_time": "2023-02-27T12:55:20.876Z"
   },
   {
    "duration": 8,
    "start_time": "2023-02-27T12:55:21.798Z"
   },
   {
    "duration": 14,
    "start_time": "2023-02-27T12:55:21.808Z"
   },
   {
    "duration": 13,
    "start_time": "2023-02-27T12:55:21.824Z"
   },
   {
    "duration": 96,
    "start_time": "2023-02-27T12:55:21.838Z"
   },
   {
    "duration": 13,
    "start_time": "2023-02-27T12:55:21.935Z"
   },
   {
    "duration": 5,
    "start_time": "2023-02-27T12:55:21.950Z"
   },
   {
    "duration": 245,
    "start_time": "2023-02-27T12:55:21.958Z"
   },
   {
    "duration": 58,
    "start_time": "2023-02-27T12:55:22.204Z"
   },
   {
    "duration": 71,
    "start_time": "2023-02-27T12:55:22.264Z"
   },
   {
    "duration": 6,
    "start_time": "2023-02-27T12:55:22.348Z"
   },
   {
    "duration": 12290,
    "start_time": "2023-02-27T12:56:58.336Z"
   },
   {
    "duration": 7341,
    "start_time": "2023-02-27T13:02:44.797Z"
   },
   {
    "duration": 1332,
    "start_time": "2023-02-27T13:04:43.634Z"
   },
   {
    "duration": 5751,
    "start_time": "2023-02-27T13:04:46.154Z"
   },
   {
    "duration": 2345,
    "start_time": "2023-02-27T13:07:32.918Z"
   },
   {
    "duration": 2479,
    "start_time": "2023-02-27T13:07:35.265Z"
   },
   {
    "duration": 23,
    "start_time": "2023-02-27T13:07:37.746Z"
   },
   {
    "duration": 16,
    "start_time": "2023-02-27T13:07:37.771Z"
   },
   {
    "duration": 44,
    "start_time": "2023-02-27T13:07:37.789Z"
   },
   {
    "duration": 273,
    "start_time": "2023-02-27T13:07:37.835Z"
   },
   {
    "duration": 9,
    "start_time": "2023-02-27T13:07:38.110Z"
   },
   {
    "duration": 133,
    "start_time": "2023-02-27T13:07:38.120Z"
   },
   {
    "duration": 14,
    "start_time": "2023-02-27T13:07:38.255Z"
   },
   {
    "duration": 8,
    "start_time": "2023-02-27T13:07:38.272Z"
   },
   {
    "duration": 33,
    "start_time": "2023-02-27T13:07:38.282Z"
   },
   {
    "duration": 7,
    "start_time": "2023-02-27T13:07:38.317Z"
   },
   {
    "duration": 4568,
    "start_time": "2023-02-27T13:07:38.326Z"
   },
   {
    "duration": 4,
    "start_time": "2023-02-27T13:07:42.896Z"
   },
   {
    "duration": 302,
    "start_time": "2023-02-27T13:07:42.902Z"
   },
   {
    "duration": 5,
    "start_time": "2023-02-27T13:07:43.206Z"
   },
   {
    "duration": 26,
    "start_time": "2023-02-27T13:07:43.213Z"
   },
   {
    "duration": 34,
    "start_time": "2023-02-27T13:07:43.241Z"
   },
   {
    "duration": 28,
    "start_time": "2023-02-27T13:07:43.277Z"
   },
   {
    "duration": 16,
    "start_time": "2023-02-27T13:07:43.307Z"
   },
   {
    "duration": 1250,
    "start_time": "2023-02-27T13:07:43.325Z"
   },
   {
    "duration": 7,
    "start_time": "2023-02-27T13:07:44.577Z"
   },
   {
    "duration": 7,
    "start_time": "2023-02-27T13:07:44.585Z"
   },
   {
    "duration": 11,
    "start_time": "2023-02-27T13:07:44.594Z"
   },
   {
    "duration": 110,
    "start_time": "2023-02-27T13:07:44.607Z"
   },
   {
    "duration": 5,
    "start_time": "2023-02-27T13:07:44.719Z"
   },
   {
    "duration": 9,
    "start_time": "2023-02-27T13:07:44.725Z"
   },
   {
    "duration": 223,
    "start_time": "2023-02-27T13:07:44.748Z"
   },
   {
    "duration": 56,
    "start_time": "2023-02-27T13:07:44.972Z"
   },
   {
    "duration": 101,
    "start_time": "2023-02-27T13:07:45.029Z"
   },
   {
    "duration": 7,
    "start_time": "2023-02-27T13:07:45.131Z"
   },
   {
    "duration": 1401,
    "start_time": "2023-02-27T13:07:45.148Z"
   },
   {
    "duration": 5741,
    "start_time": "2023-02-27T13:07:46.551Z"
   },
   {
    "duration": 580,
    "start_time": "2023-02-27T13:07:52.294Z"
   },
   {
    "duration": 0,
    "start_time": "2023-02-27T13:07:52.876Z"
   },
   {
    "duration": 0,
    "start_time": "2023-02-27T13:07:52.877Z"
   },
   {
    "duration": 0,
    "start_time": "2023-02-27T13:07:52.878Z"
   },
   {
    "duration": 2323,
    "start_time": "2023-02-27T13:08:04.207Z"
   },
   {
    "duration": 2239,
    "start_time": "2023-02-27T13:08:07.412Z"
   },
   {
    "duration": 5,
    "start_time": "2023-02-27T13:08:09.653Z"
   },
   {
    "duration": 10,
    "start_time": "2023-02-27T13:08:09.661Z"
   },
   {
    "duration": 4,
    "start_time": "2023-02-27T13:08:50.077Z"
   },
   {
    "duration": 5,
    "start_time": "2023-02-27T13:09:04.724Z"
   },
   {
    "duration": 3,
    "start_time": "2023-02-27T13:11:20.225Z"
   },
   {
    "duration": 28815,
    "start_time": "2023-02-27T13:11:23.587Z"
   },
   {
    "duration": 5,
    "start_time": "2023-02-27T13:11:53.283Z"
   },
   {
    "duration": 344383,
    "start_time": "2023-02-27T13:11:54.178Z"
   },
   {
    "duration": 4,
    "start_time": "2023-02-27T13:18:45.908Z"
   },
   {
    "duration": 19,
    "start_time": "2023-02-27T13:18:48.700Z"
   },
   {
    "duration": 4,
    "start_time": "2023-02-27T13:18:50.876Z"
   },
   {
    "duration": 1452,
    "start_time": "2023-02-27T13:18:57.514Z"
   },
   {
    "duration": 6,
    "start_time": "2023-02-27T13:20:33.281Z"
   },
   {
    "duration": 3,
    "start_time": "2023-02-27T13:24:19.519Z"
   },
   {
    "duration": 5,
    "start_time": "2023-02-27T13:24:20.553Z"
   },
   {
    "duration": 1783,
    "start_time": "2023-02-27T13:25:03.662Z"
   },
   {
    "duration": 842,
    "start_time": "2023-02-27T13:25:05.446Z"
   },
   {
    "duration": 16,
    "start_time": "2023-02-27T13:25:06.290Z"
   },
   {
    "duration": 13,
    "start_time": "2023-02-27T13:25:06.308Z"
   },
   {
    "duration": 38,
    "start_time": "2023-02-27T13:25:06.322Z"
   },
   {
    "duration": 267,
    "start_time": "2023-02-27T13:25:06.362Z"
   },
   {
    "duration": 24,
    "start_time": "2023-02-27T13:25:06.631Z"
   },
   {
    "duration": 138,
    "start_time": "2023-02-27T13:25:06.657Z"
   },
   {
    "duration": 15,
    "start_time": "2023-02-27T13:25:06.797Z"
   },
   {
    "duration": 12,
    "start_time": "2023-02-27T13:25:06.815Z"
   },
   {
    "duration": 20,
    "start_time": "2023-02-27T13:25:06.828Z"
   },
   {
    "duration": 4,
    "start_time": "2023-02-27T13:25:06.850Z"
   },
   {
    "duration": 7235,
    "start_time": "2023-02-27T13:25:06.856Z"
   },
   {
    "duration": 4,
    "start_time": "2023-02-27T13:25:14.093Z"
   },
   {
    "duration": 249,
    "start_time": "2023-02-27T13:25:14.098Z"
   },
   {
    "duration": 3,
    "start_time": "2023-02-27T13:25:14.349Z"
   },
   {
    "duration": 8,
    "start_time": "2023-02-27T13:25:14.353Z"
   },
   {
    "duration": 8,
    "start_time": "2023-02-27T13:25:14.363Z"
   },
   {
    "duration": 1083023,
    "start_time": "2023-02-27T13:25:14.373Z"
   },
   {
    "duration": 0,
    "start_time": "2023-02-27T13:43:17.398Z"
   },
   {
    "duration": 103,
    "start_time": "2023-02-27T13:43:27.587Z"
   },
   {
    "duration": 88,
    "start_time": "2023-02-27T13:43:32.326Z"
   },
   {
    "duration": 56,
    "start_time": "2023-02-27T13:43:36.240Z"
   },
   {
    "duration": 1202,
    "start_time": "2023-02-27T13:43:40.524Z"
   },
   {
    "duration": 8,
    "start_time": "2023-02-27T13:43:41.727Z"
   },
   {
    "duration": 6,
    "start_time": "2023-02-27T13:43:43.708Z"
   },
   {
    "duration": 12,
    "start_time": "2023-02-27T13:43:47.617Z"
   },
   {
    "duration": 87,
    "start_time": "2023-02-27T13:43:48.964Z"
   },
   {
    "duration": 4,
    "start_time": "2023-02-27T13:43:49.830Z"
   },
   {
    "duration": 5,
    "start_time": "2023-02-27T13:43:52.566Z"
   },
   {
    "duration": 233,
    "start_time": "2023-02-27T13:43:54.310Z"
   },
   {
    "duration": 50,
    "start_time": "2023-02-27T13:43:55.879Z"
   },
   {
    "duration": 81,
    "start_time": "2023-02-27T13:43:57.187Z"
   },
   {
    "duration": 5,
    "start_time": "2023-02-27T13:43:59.302Z"
   },
   {
    "duration": 1379,
    "start_time": "2023-02-27T13:44:00.278Z"
   },
   {
    "duration": 5545,
    "start_time": "2023-02-27T13:44:01.782Z"
   },
   {
    "duration": 2210,
    "start_time": "2023-02-27T13:44:07.329Z"
   },
   {
    "duration": 2214,
    "start_time": "2023-02-27T13:44:09.540Z"
   },
   {
    "duration": 4,
    "start_time": "2023-02-27T13:44:11.756Z"
   },
   {
    "duration": 29,
    "start_time": "2023-02-27T13:44:11.762Z"
   },
   {
    "duration": 4,
    "start_time": "2023-02-27T13:44:13.070Z"
   },
   {
    "duration": 15,
    "start_time": "2023-02-27T13:44:41.487Z"
   },
   {
    "duration": 5,
    "start_time": "2023-02-27T13:44:43.229Z"
   },
   {
    "duration": 20,
    "start_time": "2023-02-27T13:44:44.022Z"
   },
   {
    "duration": 261902,
    "start_time": "2023-02-27T13:46:00.162Z"
   },
   {
    "duration": 14,
    "start_time": "2023-02-27T13:50:23.640Z"
   },
   {
    "duration": 4,
    "start_time": "2023-02-27T13:50:36.557Z"
   },
   {
    "duration": 4,
    "start_time": "2023-02-27T13:50:52.234Z"
   },
   {
    "duration": 11,
    "start_time": "2023-02-27T13:51:42.796Z"
   },
   {
    "duration": 1188,
    "start_time": "2023-02-27T13:51:46.593Z"
   },
   {
    "duration": 4,
    "start_time": "2023-02-27T13:52:35.678Z"
   },
   {
    "duration": 494,
    "start_time": "2023-02-27T13:52:51.462Z"
   },
   {
    "duration": 332152,
    "start_time": "2023-02-27T13:53:28.006Z"
   },
   {
    "duration": 4,
    "start_time": "2023-02-27T14:02:20.761Z"
   },
   {
    "duration": 17,
    "start_time": "2023-02-27T14:02:24.320Z"
   },
   {
    "duration": 1127,
    "start_time": "2023-02-27T14:03:35.460Z"
   },
   {
    "duration": 10,
    "start_time": "2023-02-27T14:04:31.793Z"
   },
   {
    "duration": 1709,
    "start_time": "2023-02-27T14:14:27.914Z"
   },
   {
    "duration": 845,
    "start_time": "2023-02-27T14:14:29.625Z"
   },
   {
    "duration": 17,
    "start_time": "2023-02-27T14:14:30.471Z"
   },
   {
    "duration": 21,
    "start_time": "2023-02-27T14:14:30.490Z"
   },
   {
    "duration": 55,
    "start_time": "2023-02-27T14:14:30.513Z"
   },
   {
    "duration": 285,
    "start_time": "2023-02-27T14:14:30.570Z"
   },
   {
    "duration": 8,
    "start_time": "2023-02-27T14:14:30.857Z"
   },
   {
    "duration": 145,
    "start_time": "2023-02-27T14:14:30.867Z"
   },
   {
    "duration": 14,
    "start_time": "2023-02-27T14:14:31.014Z"
   },
   {
    "duration": 51,
    "start_time": "2023-02-27T14:14:31.029Z"
   },
   {
    "duration": 53,
    "start_time": "2023-02-27T14:14:31.082Z"
   },
   {
    "duration": 28,
    "start_time": "2023-02-27T14:14:31.137Z"
   },
   {
    "duration": 7399,
    "start_time": "2023-02-27T14:14:31.167Z"
   },
   {
    "duration": 5,
    "start_time": "2023-02-27T14:14:38.569Z"
   },
   {
    "duration": 272,
    "start_time": "2023-02-27T14:14:38.576Z"
   },
   {
    "duration": 3,
    "start_time": "2023-02-27T14:14:38.850Z"
   },
   {
    "duration": 65,
    "start_time": "2023-02-27T14:14:38.855Z"
   },
   {
    "duration": 50,
    "start_time": "2023-02-27T14:14:38.922Z"
   },
   {
    "duration": 14245,
    "start_time": "2023-02-27T14:14:38.974Z"
   },
   {
    "duration": 0,
    "start_time": "2023-02-27T14:14:53.221Z"
   },
   {
    "duration": 0,
    "start_time": "2023-02-27T14:14:53.222Z"
   },
   {
    "duration": 0,
    "start_time": "2023-02-27T14:14:53.223Z"
   },
   {
    "duration": 0,
    "start_time": "2023-02-27T14:14:53.224Z"
   },
   {
    "duration": 0,
    "start_time": "2023-02-27T14:14:53.225Z"
   },
   {
    "duration": 0,
    "start_time": "2023-02-27T14:14:53.226Z"
   },
   {
    "duration": 0,
    "start_time": "2023-02-27T14:14:53.227Z"
   },
   {
    "duration": 0,
    "start_time": "2023-02-27T14:14:53.229Z"
   },
   {
    "duration": 0,
    "start_time": "2023-02-27T14:14:53.230Z"
   },
   {
    "duration": 0,
    "start_time": "2023-02-27T14:14:53.231Z"
   },
   {
    "duration": 0,
    "start_time": "2023-02-27T14:14:53.232Z"
   },
   {
    "duration": 0,
    "start_time": "2023-02-27T14:14:53.233Z"
   },
   {
    "duration": 0,
    "start_time": "2023-02-27T14:14:53.234Z"
   },
   {
    "duration": 0,
    "start_time": "2023-02-27T14:14:53.235Z"
   },
   {
    "duration": 0,
    "start_time": "2023-02-27T14:14:53.236Z"
   },
   {
    "duration": 0,
    "start_time": "2023-02-27T14:14:53.237Z"
   },
   {
    "duration": 0,
    "start_time": "2023-02-27T14:14:53.238Z"
   },
   {
    "duration": 0,
    "start_time": "2023-02-27T14:14:53.240Z"
   },
   {
    "duration": 0,
    "start_time": "2023-02-27T14:14:53.241Z"
   },
   {
    "duration": 0,
    "start_time": "2023-02-27T14:14:53.242Z"
   },
   {
    "duration": 1236,
    "start_time": "2023-02-27T14:14:59.277Z"
   },
   {
    "duration": 8,
    "start_time": "2023-02-27T14:15:00.717Z"
   },
   {
    "duration": 6,
    "start_time": "2023-02-27T14:15:02.756Z"
   },
   {
    "duration": 11,
    "start_time": "2023-02-27T14:15:04.756Z"
   },
   {
    "duration": 11,
    "start_time": "2023-02-27T14:15:05.868Z"
   },
   {
    "duration": 87,
    "start_time": "2023-02-27T14:15:07.656Z"
   },
   {
    "duration": 5,
    "start_time": "2023-02-27T14:15:08.901Z"
   },
   {
    "duration": 6,
    "start_time": "2023-02-27T14:15:10.054Z"
   },
   {
    "duration": 244,
    "start_time": "2023-02-27T14:15:13.277Z"
   },
   {
    "duration": 5,
    "start_time": "2023-02-27T14:15:16.276Z"
   },
   {
    "duration": 1296,
    "start_time": "2023-02-27T14:15:17.436Z"
   },
   {
    "duration": 5624,
    "start_time": "2023-02-27T14:15:18.734Z"
   },
   {
    "duration": 2340,
    "start_time": "2023-02-27T14:15:24.361Z"
   },
   {
    "duration": 2210,
    "start_time": "2023-02-27T14:15:26.703Z"
   },
   {
    "duration": 4,
    "start_time": "2023-02-27T14:15:28.916Z"
   },
   {
    "duration": 14,
    "start_time": "2023-02-27T14:15:28.922Z"
   },
   {
    "duration": 0,
    "start_time": "2023-02-27T14:15:28.948Z"
   },
   {
    "duration": 0,
    "start_time": "2023-02-27T14:15:28.950Z"
   },
   {
    "duration": 4,
    "start_time": "2023-02-27T14:15:39.857Z"
   },
   {
    "duration": 5,
    "start_time": "2023-02-27T14:15:41.350Z"
   },
   {
    "duration": 422722,
    "start_time": "2023-02-27T14:15:47.137Z"
   },
   {
    "duration": 5,
    "start_time": "2023-02-27T14:22:49.861Z"
   },
   {
    "duration": 22,
    "start_time": "2023-02-27T14:22:49.868Z"
   },
   {
    "duration": 4,
    "start_time": "2023-02-27T14:22:49.893Z"
   },
   {
    "duration": 1383,
    "start_time": "2023-02-27T14:22:49.898Z"
   },
   {
    "duration": 17,
    "start_time": "2023-02-27T14:22:51.283Z"
   },
   {
    "duration": 1488,
    "start_time": "2023-02-27T14:22:51.302Z"
   },
   {
    "duration": 2,
    "start_time": "2023-02-27T14:22:52.792Z"
   },
   {
    "duration": 40,
    "start_time": "2023-02-27T14:22:52.795Z"
   },
   {
    "duration": 39615,
    "start_time": "2023-02-27T14:22:52.838Z"
   },
   {
    "duration": 49,
    "start_time": "2023-02-27T14:23:32.455Z"
   },
   {
    "duration": 1490,
    "start_time": "2023-02-27T14:23:32.506Z"
   },
   {
    "duration": 55,
    "start_time": "2023-02-27T14:23:33.998Z"
   },
   {
    "duration": 1419,
    "start_time": "2023-02-27T14:23:34.054Z"
   },
   {
    "duration": 2419,
    "start_time": "2023-02-27T14:26:55.263Z"
   },
   {
    "duration": 2267,
    "start_time": "2023-02-27T14:26:57.684Z"
   },
   {
    "duration": 16,
    "start_time": "2023-02-27T14:26:59.953Z"
   },
   {
    "duration": 4,
    "start_time": "2023-02-27T14:26:59.970Z"
   },
   {
    "duration": 30,
    "start_time": "2023-02-27T14:26:59.977Z"
   },
   {
    "duration": 272,
    "start_time": "2023-02-27T14:27:00.009Z"
   },
   {
    "duration": 11,
    "start_time": "2023-02-27T14:27:00.283Z"
   },
   {
    "duration": 140,
    "start_time": "2023-02-27T14:27:00.296Z"
   },
   {
    "duration": 24,
    "start_time": "2023-02-27T14:27:00.438Z"
   },
   {
    "duration": 35,
    "start_time": "2023-02-27T14:27:00.463Z"
   },
   {
    "duration": 30,
    "start_time": "2023-02-27T14:27:00.500Z"
   },
   {
    "duration": 17,
    "start_time": "2023-02-27T14:27:00.532Z"
   },
   {
    "duration": 4297,
    "start_time": "2023-02-27T14:27:00.551Z"
   },
   {
    "duration": 5,
    "start_time": "2023-02-27T14:27:04.851Z"
   },
   {
    "duration": 317,
    "start_time": "2023-02-27T14:27:04.858Z"
   },
   {
    "duration": 4,
    "start_time": "2023-02-27T14:27:05.176Z"
   },
   {
    "duration": 44,
    "start_time": "2023-02-27T14:27:05.182Z"
   },
   {
    "duration": 36,
    "start_time": "2023-02-27T14:27:05.228Z"
   },
   {
    "duration": 35,
    "start_time": "2023-02-27T14:27:05.265Z"
   },
   {
    "duration": 23,
    "start_time": "2023-02-27T14:27:05.302Z"
   },
   {
    "duration": 1120,
    "start_time": "2023-02-27T14:27:05.327Z"
   },
   {
    "duration": 9,
    "start_time": "2023-02-27T14:27:06.449Z"
   },
   {
    "duration": 19,
    "start_time": "2023-02-27T14:27:06.460Z"
   },
   {
    "duration": 25,
    "start_time": "2023-02-27T14:27:06.482Z"
   },
   {
    "duration": 109,
    "start_time": "2023-02-27T14:27:06.509Z"
   },
   {
    "duration": 4,
    "start_time": "2023-02-27T14:27:06.620Z"
   },
   {
    "duration": 10,
    "start_time": "2023-02-27T14:27:06.626Z"
   },
   {
    "duration": 221,
    "start_time": "2023-02-27T14:27:06.637Z"
   },
   {
    "duration": 3,
    "start_time": "2023-02-27T14:27:06.859Z"
   },
   {
    "duration": 10,
    "start_time": "2023-02-27T14:27:06.864Z"
   },
   {
    "duration": 9,
    "start_time": "2023-02-27T14:27:06.876Z"
   },
   {
    "duration": 1300,
    "start_time": "2023-02-27T14:27:06.887Z"
   },
   {
    "duration": 5792,
    "start_time": "2023-02-27T14:27:08.189Z"
   },
   {
    "duration": 2226,
    "start_time": "2023-02-27T14:27:13.983Z"
   },
   {
    "duration": 2267,
    "start_time": "2023-02-27T14:27:16.211Z"
   },
   {
    "duration": 4,
    "start_time": "2023-02-27T14:27:18.480Z"
   },
   {
    "duration": 8,
    "start_time": "2023-02-27T14:27:18.486Z"
   },
   {
    "duration": 403580,
    "start_time": "2023-02-27T14:27:18.496Z"
   },
   {
    "duration": 6,
    "start_time": "2023-02-27T14:34:02.078Z"
   },
   {
    "duration": 87,
    "start_time": "2023-02-27T14:34:02.086Z"
   },
   {
    "duration": 63,
    "start_time": "2023-02-27T14:34:02.179Z"
   },
   {
    "duration": 1440,
    "start_time": "2023-02-27T14:34:02.243Z"
   },
   {
    "duration": 17,
    "start_time": "2023-02-27T14:34:03.685Z"
   },
   {
    "duration": 1462,
    "start_time": "2023-02-27T14:34:03.704Z"
   },
   {
    "duration": 2,
    "start_time": "2023-02-27T14:34:05.168Z"
   },
   {
    "duration": 8,
    "start_time": "2023-02-27T14:34:05.171Z"
   },
   {
    "duration": 39926,
    "start_time": "2023-02-27T14:34:05.180Z"
   },
   {
    "duration": 64,
    "start_time": "2023-02-27T14:34:45.108Z"
   },
   {
    "duration": 1464,
    "start_time": "2023-02-27T14:34:45.174Z"
   },
   {
    "duration": 56,
    "start_time": "2023-02-27T14:34:46.640Z"
   },
   {
    "duration": 1472,
    "start_time": "2023-02-27T14:34:46.698Z"
   },
   {
    "duration": 8,
    "start_time": "2023-02-27T14:34:48.173Z"
   },
   {
    "duration": 53,
    "start_time": "2023-02-27T15:00:49.307Z"
   },
   {
    "duration": 7,
    "start_time": "2023-02-27T15:12:10.800Z"
   },
   {
    "duration": 58,
    "start_time": "2023-02-27T15:12:23.363Z"
   },
   {
    "duration": 0,
    "start_time": "2023-02-27T15:12:23.423Z"
   },
   {
    "duration": 0,
    "start_time": "2023-02-27T15:12:23.425Z"
   },
   {
    "duration": 0,
    "start_time": "2023-02-27T15:12:23.427Z"
   },
   {
    "duration": 0,
    "start_time": "2023-02-27T15:12:23.428Z"
   },
   {
    "duration": 0,
    "start_time": "2023-02-27T15:12:23.429Z"
   },
   {
    "duration": 0,
    "start_time": "2023-02-27T15:12:23.430Z"
   },
   {
    "duration": 0,
    "start_time": "2023-02-27T15:12:23.448Z"
   },
   {
    "duration": 0,
    "start_time": "2023-02-27T15:12:23.449Z"
   },
   {
    "duration": 0,
    "start_time": "2023-02-27T15:12:23.452Z"
   },
   {
    "duration": 0,
    "start_time": "2023-02-27T15:12:23.453Z"
   },
   {
    "duration": 0,
    "start_time": "2023-02-27T15:12:23.455Z"
   },
   {
    "duration": 0,
    "start_time": "2023-02-27T15:12:23.457Z"
   },
   {
    "duration": 0,
    "start_time": "2023-02-27T15:12:23.459Z"
   },
   {
    "duration": 0,
    "start_time": "2023-02-27T15:12:23.460Z"
   },
   {
    "duration": 0,
    "start_time": "2023-02-27T15:12:23.462Z"
   },
   {
    "duration": 0,
    "start_time": "2023-02-27T15:12:23.463Z"
   },
   {
    "duration": 0,
    "start_time": "2023-02-27T15:12:23.465Z"
   },
   {
    "duration": 0,
    "start_time": "2023-02-27T15:12:23.467Z"
   },
   {
    "duration": 0,
    "start_time": "2023-02-27T15:12:23.468Z"
   },
   {
    "duration": 0,
    "start_time": "2023-02-27T15:12:23.469Z"
   },
   {
    "duration": 0,
    "start_time": "2023-02-27T15:12:23.471Z"
   },
   {
    "duration": 0,
    "start_time": "2023-02-27T15:12:23.472Z"
   },
   {
    "duration": 2206,
    "start_time": "2023-02-27T15:12:32.516Z"
   },
   {
    "duration": 2346,
    "start_time": "2023-02-27T15:12:34.724Z"
   },
   {
    "duration": 17,
    "start_time": "2023-02-27T15:12:37.072Z"
   },
   {
    "duration": 28,
    "start_time": "2023-02-27T15:12:37.090Z"
   },
   {
    "duration": 52,
    "start_time": "2023-02-27T15:12:37.121Z"
   },
   {
    "duration": 263,
    "start_time": "2023-02-27T15:12:37.175Z"
   },
   {
    "duration": 12,
    "start_time": "2023-02-27T15:12:37.440Z"
   },
   {
    "duration": 133,
    "start_time": "2023-02-27T15:12:37.453Z"
   },
   {
    "duration": 14,
    "start_time": "2023-02-27T15:12:37.588Z"
   },
   {
    "duration": 47,
    "start_time": "2023-02-27T15:12:37.603Z"
   },
   {
    "duration": 38,
    "start_time": "2023-02-27T15:12:37.652Z"
   },
   {
    "duration": 41,
    "start_time": "2023-02-27T15:12:37.693Z"
   },
   {
    "duration": 4121,
    "start_time": "2023-02-27T15:12:37.736Z"
   },
   {
    "duration": 4,
    "start_time": "2023-02-27T15:12:41.860Z"
   },
   {
    "duration": 326,
    "start_time": "2023-02-27T15:12:41.865Z"
   },
   {
    "duration": 3,
    "start_time": "2023-02-27T15:12:42.193Z"
   },
   {
    "duration": 22,
    "start_time": "2023-02-27T15:12:42.198Z"
   },
   {
    "duration": 20,
    "start_time": "2023-02-27T15:12:42.222Z"
   },
   {
    "duration": 44,
    "start_time": "2023-02-27T15:12:42.244Z"
   },
   {
    "duration": 46,
    "start_time": "2023-02-27T15:12:42.290Z"
   },
   {
    "duration": 1125,
    "start_time": "2023-02-27T15:12:42.337Z"
   },
   {
    "duration": 11,
    "start_time": "2023-02-27T15:12:43.464Z"
   },
   {
    "duration": 50,
    "start_time": "2023-02-27T15:12:43.476Z"
   },
   {
    "duration": 27,
    "start_time": "2023-02-27T15:12:43.528Z"
   },
   {
    "duration": 109,
    "start_time": "2023-02-27T15:12:43.557Z"
   },
   {
    "duration": 5,
    "start_time": "2023-02-27T15:12:43.668Z"
   },
   {
    "duration": 22,
    "start_time": "2023-02-27T15:12:43.674Z"
   },
   {
    "duration": 245,
    "start_time": "2023-02-27T15:12:43.697Z"
   },
   {
    "duration": 2,
    "start_time": "2023-02-27T15:12:43.948Z"
   },
   {
    "duration": 39,
    "start_time": "2023-02-27T15:12:43.953Z"
   },
   {
    "duration": 41,
    "start_time": "2023-02-27T15:12:43.994Z"
   },
   {
    "duration": 1267,
    "start_time": "2023-02-27T15:12:44.037Z"
   },
   {
    "duration": 5606,
    "start_time": "2023-02-27T15:12:45.305Z"
   },
   {
    "duration": 2166,
    "start_time": "2023-02-27T15:12:50.913Z"
   },
   {
    "duration": 2143,
    "start_time": "2023-02-27T15:12:53.081Z"
   },
   {
    "duration": 5,
    "start_time": "2023-02-27T15:12:55.226Z"
   },
   {
    "duration": 3,
    "start_time": "2023-02-27T15:13:04.390Z"
   },
   {
    "duration": 73413,
    "start_time": "2023-02-27T15:13:06.678Z"
   },
   {
    "duration": 3,
    "start_time": "2023-02-27T15:14:21.025Z"
   },
   {
    "duration": 128402,
    "start_time": "2023-02-27T15:14:21.852Z"
   },
   {
    "duration": 4,
    "start_time": "2023-02-27T15:16:37.817Z"
   },
   {
    "duration": 17,
    "start_time": "2023-02-27T15:16:39.729Z"
   },
   {
    "duration": 3,
    "start_time": "2023-02-27T15:16:41.571Z"
   },
   {
    "duration": 1406,
    "start_time": "2023-02-27T15:16:43.530Z"
   },
   {
    "duration": 1699,
    "start_time": "2023-02-27T15:19:57.507Z"
   },
   {
    "duration": 795,
    "start_time": "2023-02-27T15:19:59.209Z"
   },
   {
    "duration": 18,
    "start_time": "2023-02-27T15:20:00.005Z"
   },
   {
    "duration": 17,
    "start_time": "2023-02-27T15:20:00.025Z"
   },
   {
    "duration": 43,
    "start_time": "2023-02-27T15:20:00.048Z"
   },
   {
    "duration": 254,
    "start_time": "2023-02-27T15:20:00.093Z"
   },
   {
    "duration": 7,
    "start_time": "2023-02-27T15:20:00.349Z"
   },
   {
    "duration": 148,
    "start_time": "2023-02-27T15:20:00.358Z"
   },
   {
    "duration": 14,
    "start_time": "2023-02-27T15:20:00.508Z"
   },
   {
    "duration": 44,
    "start_time": "2023-02-27T15:20:00.523Z"
   },
   {
    "duration": 30,
    "start_time": "2023-02-27T15:20:00.569Z"
   },
   {
    "duration": 37,
    "start_time": "2023-02-27T15:20:00.601Z"
   },
   {
    "duration": 4248,
    "start_time": "2023-02-27T15:20:00.639Z"
   },
   {
    "duration": 4,
    "start_time": "2023-02-27T15:20:04.890Z"
   },
   {
    "duration": 229,
    "start_time": "2023-02-27T15:20:04.896Z"
   },
   {
    "duration": 3,
    "start_time": "2023-02-27T15:20:05.127Z"
   },
   {
    "duration": 9,
    "start_time": "2023-02-27T15:20:05.131Z"
   },
   {
    "duration": 6,
    "start_time": "2023-02-27T15:20:05.142Z"
   },
   {
    "duration": 11,
    "start_time": "2023-02-27T15:20:05.150Z"
   },
   {
    "duration": 5,
    "start_time": "2023-02-27T15:20:05.162Z"
   },
   {
    "duration": 1004,
    "start_time": "2023-02-27T15:20:05.168Z"
   },
   {
    "duration": 8,
    "start_time": "2023-02-27T15:20:06.174Z"
   },
   {
    "duration": 27,
    "start_time": "2023-02-27T15:20:06.184Z"
   },
   {
    "duration": 50,
    "start_time": "2023-02-27T15:20:06.213Z"
   },
   {
    "duration": 90,
    "start_time": "2023-02-27T15:20:06.265Z"
   },
   {
    "duration": 4,
    "start_time": "2023-02-27T15:20:06.357Z"
   },
   {
    "duration": 23,
    "start_time": "2023-02-27T15:20:06.363Z"
   },
   {
    "duration": 281,
    "start_time": "2023-02-27T15:20:06.388Z"
   },
   {
    "duration": 3,
    "start_time": "2023-02-27T15:20:06.671Z"
   },
   {
    "duration": 49,
    "start_time": "2023-02-27T15:20:06.676Z"
   },
   {
    "duration": 31,
    "start_time": "2023-02-27T15:20:06.728Z"
   },
   {
    "duration": 25,
    "start_time": "2023-02-27T15:20:06.761Z"
   },
   {
    "duration": 27,
    "start_time": "2023-02-27T15:20:06.787Z"
   },
   {
    "duration": 42,
    "start_time": "2023-02-27T15:20:06.816Z"
   },
   {
    "duration": 16,
    "start_time": "2023-02-27T15:20:06.859Z"
   },
   {
    "duration": 696,
    "start_time": "2023-02-27T15:20:09.571Z"
   },
   {
    "duration": 1714,
    "start_time": "2023-02-27T15:21:33.788Z"
   },
   {
    "duration": 786,
    "start_time": "2023-02-27T15:21:35.504Z"
   },
   {
    "duration": 20,
    "start_time": "2023-02-27T15:21:36.293Z"
   },
   {
    "duration": 5,
    "start_time": "2023-02-27T15:21:36.315Z"
   },
   {
    "duration": 56,
    "start_time": "2023-02-27T15:21:36.323Z"
   },
   {
    "duration": 262,
    "start_time": "2023-02-27T15:21:36.381Z"
   },
   {
    "duration": 9,
    "start_time": "2023-02-27T15:21:36.645Z"
   },
   {
    "duration": 118,
    "start_time": "2023-02-27T15:21:36.656Z"
   },
   {
    "duration": 13,
    "start_time": "2023-02-27T15:21:36.776Z"
   },
   {
    "duration": 10,
    "start_time": "2023-02-27T15:21:36.790Z"
   },
   {
    "duration": 9,
    "start_time": "2023-02-27T15:21:36.802Z"
   },
   {
    "duration": 6,
    "start_time": "2023-02-27T15:21:36.812Z"
   },
   {
    "duration": 4078,
    "start_time": "2023-02-27T15:21:36.820Z"
   },
   {
    "duration": 4,
    "start_time": "2023-02-27T15:21:40.901Z"
   },
   {
    "duration": 242,
    "start_time": "2023-02-27T15:21:40.907Z"
   },
   {
    "duration": 3,
    "start_time": "2023-02-27T15:21:41.150Z"
   },
   {
    "duration": 9,
    "start_time": "2023-02-27T15:21:41.155Z"
   },
   {
    "duration": 7,
    "start_time": "2023-02-27T15:21:41.166Z"
   },
   {
    "duration": 13,
    "start_time": "2023-02-27T15:21:41.174Z"
   },
   {
    "duration": 7,
    "start_time": "2023-02-27T15:21:41.189Z"
   },
   {
    "duration": 1097,
    "start_time": "2023-02-27T15:21:41.198Z"
   },
   {
    "duration": 0,
    "start_time": "2023-02-27T15:21:42.297Z"
   },
   {
    "duration": 0,
    "start_time": "2023-02-27T15:21:42.299Z"
   },
   {
    "duration": 0,
    "start_time": "2023-02-27T15:21:42.300Z"
   },
   {
    "duration": 0,
    "start_time": "2023-02-27T15:21:42.301Z"
   },
   {
    "duration": 0,
    "start_time": "2023-02-27T15:21:42.303Z"
   },
   {
    "duration": 0,
    "start_time": "2023-02-27T15:21:42.304Z"
   },
   {
    "duration": 0,
    "start_time": "2023-02-27T15:21:42.306Z"
   },
   {
    "duration": 0,
    "start_time": "2023-02-27T15:21:42.308Z"
   },
   {
    "duration": 0,
    "start_time": "2023-02-27T15:21:42.309Z"
   },
   {
    "duration": 0,
    "start_time": "2023-02-27T15:21:42.311Z"
   },
   {
    "duration": 0,
    "start_time": "2023-02-27T15:21:42.312Z"
   },
   {
    "duration": 0,
    "start_time": "2023-02-27T15:21:42.314Z"
   },
   {
    "duration": 0,
    "start_time": "2023-02-27T15:21:42.315Z"
   },
   {
    "duration": 0,
    "start_time": "2023-02-27T15:21:42.317Z"
   },
   {
    "duration": 0,
    "start_time": "2023-02-27T15:21:42.348Z"
   },
   {
    "duration": 12,
    "start_time": "2023-02-27T15:21:43.279Z"
   },
   {
    "duration": 9,
    "start_time": "2023-02-27T15:22:24.422Z"
   },
   {
    "duration": 978,
    "start_time": "2023-02-27T15:22:43.461Z"
   },
   {
    "duration": 7,
    "start_time": "2023-02-27T15:22:44.550Z"
   },
   {
    "duration": 5,
    "start_time": "2023-02-27T15:22:45.895Z"
   },
   {
    "duration": 11,
    "start_time": "2023-02-27T15:22:47.453Z"
   },
   {
    "duration": 86,
    "start_time": "2023-02-27T15:22:48.118Z"
   },
   {
    "duration": 5,
    "start_time": "2023-02-27T15:22:49.262Z"
   },
   {
    "duration": 4,
    "start_time": "2023-02-27T15:22:50.657Z"
   },
   {
    "duration": 207,
    "start_time": "2023-02-27T15:22:52.064Z"
   },
   {
    "duration": 7331,
    "start_time": "2023-02-27T15:22:55.478Z"
   },
   {
    "duration": 3,
    "start_time": "2023-02-27T15:23:23.139Z"
   },
   {
    "duration": 93563,
    "start_time": "2023-02-27T15:23:23.907Z"
   },
   {
    "duration": 4,
    "start_time": "2023-02-27T15:25:34.249Z"
   },
   {
    "duration": 11,
    "start_time": "2023-02-27T15:25:37.419Z"
   },
   {
    "duration": 19,
    "start_time": "2023-02-27T15:25:57.231Z"
   },
   {
    "duration": 8,
    "start_time": "2023-02-27T15:25:59.221Z"
   },
   {
    "duration": 12,
    "start_time": "2023-02-27T15:27:04.118Z"
   },
   {
    "duration": 86,
    "start_time": "2023-02-27T15:27:16.031Z"
   },
   {
    "duration": 5,
    "start_time": "2023-02-27T15:27:18.592Z"
   },
   {
    "duration": 13,
    "start_time": "2023-02-27T15:27:20.162Z"
   },
   {
    "duration": 35,
    "start_time": "2023-02-27T15:27:48.316Z"
   },
   {
    "duration": 1762,
    "start_time": "2023-02-27T15:28:22.909Z"
   },
   {
    "duration": 824,
    "start_time": "2023-02-27T15:28:24.673Z"
   },
   {
    "duration": 16,
    "start_time": "2023-02-27T15:28:25.500Z"
   },
   {
    "duration": 4,
    "start_time": "2023-02-27T15:28:25.518Z"
   },
   {
    "duration": 44,
    "start_time": "2023-02-27T15:28:25.524Z"
   },
   {
    "duration": 243,
    "start_time": "2023-02-27T15:28:25.569Z"
   },
   {
    "duration": 11,
    "start_time": "2023-02-27T15:28:25.814Z"
   },
   {
    "duration": 124,
    "start_time": "2023-02-27T15:28:25.827Z"
   },
   {
    "duration": 14,
    "start_time": "2023-02-27T15:28:25.953Z"
   },
   {
    "duration": 14,
    "start_time": "2023-02-27T15:28:25.970Z"
   },
   {
    "duration": 4,
    "start_time": "2023-02-27T15:28:25.986Z"
   },
   {
    "duration": 8,
    "start_time": "2023-02-27T15:28:25.991Z"
   },
   {
    "duration": 4229,
    "start_time": "2023-02-27T15:28:26.000Z"
   },
   {
    "duration": 4,
    "start_time": "2023-02-27T15:28:30.231Z"
   },
   {
    "duration": 238,
    "start_time": "2023-02-27T15:28:30.237Z"
   },
   {
    "duration": 3,
    "start_time": "2023-02-27T15:28:30.477Z"
   },
   {
    "duration": 17,
    "start_time": "2023-02-27T15:28:30.482Z"
   },
   {
    "duration": 17,
    "start_time": "2023-02-27T15:28:30.501Z"
   },
   {
    "duration": 43,
    "start_time": "2023-02-27T15:28:30.520Z"
   },
   {
    "duration": 19,
    "start_time": "2023-02-27T15:28:30.565Z"
   },
   {
    "duration": 1027,
    "start_time": "2023-02-27T15:28:30.586Z"
   },
   {
    "duration": 7,
    "start_time": "2023-02-27T15:28:31.615Z"
   },
   {
    "duration": 38,
    "start_time": "2023-02-27T15:28:31.624Z"
   },
   {
    "duration": 31,
    "start_time": "2023-02-27T15:28:31.664Z"
   },
   {
    "duration": 109,
    "start_time": "2023-02-27T15:28:31.697Z"
   },
   {
    "duration": 5,
    "start_time": "2023-02-27T15:28:31.808Z"
   },
   {
    "duration": 24,
    "start_time": "2023-02-27T15:28:31.815Z"
   },
   {
    "duration": 261,
    "start_time": "2023-02-27T15:28:31.843Z"
   },
   {
    "duration": 3,
    "start_time": "2023-02-27T15:28:32.106Z"
   },
   {
    "duration": 151,
    "start_time": "2023-02-27T15:28:32.110Z"
   },
   {
    "duration": 0,
    "start_time": "2023-02-27T15:28:32.263Z"
   },
   {
    "duration": 0,
    "start_time": "2023-02-27T15:28:32.264Z"
   },
   {
    "duration": 0,
    "start_time": "2023-02-27T15:28:32.266Z"
   },
   {
    "duration": 0,
    "start_time": "2023-02-27T15:28:32.267Z"
   },
   {
    "duration": 0,
    "start_time": "2023-02-27T15:28:32.268Z"
   },
   {
    "duration": 0,
    "start_time": "2023-02-27T15:28:32.269Z"
   },
   {
    "duration": 79,
    "start_time": "2023-02-27T15:28:40.217Z"
   },
   {
    "duration": 5,
    "start_time": "2023-02-27T15:28:42.089Z"
   },
   {
    "duration": 1273,
    "start_time": "2023-02-27T15:28:43.264Z"
   },
   {
    "duration": 5522,
    "start_time": "2023-02-27T15:28:44.548Z"
   },
   {
    "duration": 2163,
    "start_time": "2023-02-27T15:28:50.072Z"
   },
   {
    "duration": 2163,
    "start_time": "2023-02-27T15:28:52.236Z"
   },
   {
    "duration": 4,
    "start_time": "2023-02-27T15:28:54.401Z"
   },
   {
    "duration": 3,
    "start_time": "2023-02-27T15:28:59.316Z"
   },
   {
    "duration": 90782,
    "start_time": "2023-02-27T15:29:05.367Z"
   },
   {
    "duration": 4,
    "start_time": "2023-02-27T15:40:44.911Z"
   },
   {
    "duration": 139341,
    "start_time": "2023-02-27T15:40:47.434Z"
   },
   {
    "duration": 0,
    "start_time": "2023-02-27T15:43:06.777Z"
   },
   {
    "duration": 18,
    "start_time": "2023-02-27T15:43:27.652Z"
   },
   {
    "duration": 1665,
    "start_time": "2023-02-27T15:44:01.470Z"
   },
   {
    "duration": 831,
    "start_time": "2023-02-27T15:44:03.137Z"
   },
   {
    "duration": 16,
    "start_time": "2023-02-27T15:44:03.969Z"
   },
   {
    "duration": 6,
    "start_time": "2023-02-27T15:44:03.986Z"
   },
   {
    "duration": 30,
    "start_time": "2023-02-27T15:44:03.994Z"
   },
   {
    "duration": 243,
    "start_time": "2023-02-27T15:44:04.026Z"
   },
   {
    "duration": 7,
    "start_time": "2023-02-27T15:44:04.271Z"
   },
   {
    "duration": 114,
    "start_time": "2023-02-27T15:44:04.280Z"
   },
   {
    "duration": 12,
    "start_time": "2023-02-27T15:44:04.396Z"
   },
   {
    "duration": 20,
    "start_time": "2023-02-27T15:44:04.409Z"
   },
   {
    "duration": 11,
    "start_time": "2023-02-27T15:44:04.430Z"
   },
   {
    "duration": 19,
    "start_time": "2023-02-27T15:44:04.443Z"
   },
   {
    "duration": 4167,
    "start_time": "2023-02-27T15:44:04.463Z"
   },
   {
    "duration": 4,
    "start_time": "2023-02-27T15:44:08.633Z"
   },
   {
    "duration": 173,
    "start_time": "2023-02-27T15:44:08.639Z"
   },
   {
    "duration": 4,
    "start_time": "2023-02-27T15:44:08.813Z"
   },
   {
    "duration": 7,
    "start_time": "2023-02-27T15:44:08.818Z"
   },
   {
    "duration": 8,
    "start_time": "2023-02-27T15:44:08.826Z"
   },
   {
    "duration": 7,
    "start_time": "2023-02-27T15:44:08.835Z"
   },
   {
    "duration": 6,
    "start_time": "2023-02-27T15:44:08.843Z"
   },
   {
    "duration": 1033,
    "start_time": "2023-02-27T15:44:08.850Z"
   },
   {
    "duration": 8,
    "start_time": "2023-02-27T15:44:09.885Z"
   },
   {
    "duration": 588,
    "start_time": "2023-02-27T15:44:09.895Z"
   },
   {
    "duration": 16,
    "start_time": "2023-02-27T15:44:10.485Z"
   },
   {
    "duration": 120,
    "start_time": "2023-02-27T15:44:10.502Z"
   },
   {
    "duration": 6,
    "start_time": "2023-02-27T15:44:10.624Z"
   },
   {
    "duration": 8,
    "start_time": "2023-02-27T15:44:10.632Z"
   },
   {
    "duration": 237,
    "start_time": "2023-02-27T15:44:10.641Z"
   },
   {
    "duration": 3,
    "start_time": "2023-02-27T15:44:10.880Z"
   },
   {
    "duration": 106,
    "start_time": "2023-02-27T15:44:10.884Z"
   },
   {
    "duration": 6,
    "start_time": "2023-02-27T15:44:10.992Z"
   },
   {
    "duration": 1327,
    "start_time": "2023-02-27T15:44:11.001Z"
   },
   {
    "duration": 5684,
    "start_time": "2023-02-27T15:44:12.330Z"
   },
   {
    "duration": 2190,
    "start_time": "2023-02-27T15:44:18.016Z"
   },
   {
    "duration": 2104,
    "start_time": "2023-02-27T15:44:20.207Z"
   },
   {
    "duration": 4,
    "start_time": "2023-02-27T15:44:22.313Z"
   },
   {
    "duration": 25,
    "start_time": "2023-02-27T15:44:22.320Z"
   },
   {
    "duration": 454172,
    "start_time": "2023-02-27T15:44:22.346Z"
   },
   {
    "duration": 6,
    "start_time": "2023-02-27T15:51:56.521Z"
   },
   {
    "duration": 199,
    "start_time": "2023-02-27T15:52:11.319Z"
   },
   {
    "duration": 5,
    "start_time": "2023-02-27T15:52:16.415Z"
   },
   {
    "duration": 53,
    "start_time": "2023-02-27T15:53:17.325Z"
   },
   {
    "duration": 85,
    "start_time": "2023-02-27T15:53:19.318Z"
   },
   {
    "duration": 82,
    "start_time": "2023-02-27T15:53:35.729Z"
   },
   {
    "duration": 1579,
    "start_time": "2023-02-27T15:54:18.590Z"
   },
   {
    "duration": 1802,
    "start_time": "2023-02-27T15:54:28.158Z"
   },
   {
    "duration": 851,
    "start_time": "2023-02-27T15:54:29.963Z"
   },
   {
    "duration": 18,
    "start_time": "2023-02-27T15:54:30.816Z"
   },
   {
    "duration": 21,
    "start_time": "2023-02-27T15:54:30.849Z"
   },
   {
    "duration": 65,
    "start_time": "2023-02-27T15:54:30.872Z"
   },
   {
    "duration": 279,
    "start_time": "2023-02-27T15:54:30.939Z"
   },
   {
    "duration": 8,
    "start_time": "2023-02-27T15:54:31.220Z"
   },
   {
    "duration": 138,
    "start_time": "2023-02-27T15:54:31.229Z"
   },
   {
    "duration": 15,
    "start_time": "2023-02-27T15:54:31.368Z"
   },
   {
    "duration": 33,
    "start_time": "2023-02-27T15:54:31.385Z"
   },
   {
    "duration": 35,
    "start_time": "2023-02-27T15:54:31.420Z"
   },
   {
    "duration": 12,
    "start_time": "2023-02-27T15:54:31.457Z"
   },
   {
    "duration": 4359,
    "start_time": "2023-02-27T15:54:31.470Z"
   },
   {
    "duration": 5,
    "start_time": "2023-02-27T15:54:35.833Z"
   },
   {
    "duration": 249,
    "start_time": "2023-02-27T15:54:35.839Z"
   },
   {
    "duration": 6,
    "start_time": "2023-02-27T15:54:36.090Z"
   },
   {
    "duration": 9,
    "start_time": "2023-02-27T15:54:36.097Z"
   },
   {
    "duration": 15,
    "start_time": "2023-02-27T15:54:36.108Z"
   },
   {
    "duration": 8,
    "start_time": "2023-02-27T15:54:36.125Z"
   },
   {
    "duration": 13,
    "start_time": "2023-02-27T15:54:36.135Z"
   },
   {
    "duration": 1093,
    "start_time": "2023-02-27T15:54:36.150Z"
   },
   {
    "duration": 5,
    "start_time": "2023-02-27T15:54:37.245Z"
   },
   {
    "duration": 12,
    "start_time": "2023-02-27T15:54:37.253Z"
   },
   {
    "duration": 11,
    "start_time": "2023-02-27T15:54:37.267Z"
   },
   {
    "duration": 108,
    "start_time": "2023-02-27T15:54:37.280Z"
   },
   {
    "duration": 5,
    "start_time": "2023-02-27T15:54:37.390Z"
   },
   {
    "duration": 7,
    "start_time": "2023-02-27T15:54:37.397Z"
   },
   {
    "duration": 236,
    "start_time": "2023-02-27T15:54:37.406Z"
   },
   {
    "duration": 50,
    "start_time": "2023-02-27T15:54:37.649Z"
   },
   {
    "duration": 91,
    "start_time": "2023-02-27T15:54:37.701Z"
   },
   {
    "duration": 7,
    "start_time": "2023-02-27T15:54:37.794Z"
   },
   {
    "duration": 1552,
    "start_time": "2023-02-27T15:54:42.455Z"
   },
   {
    "duration": 62,
    "start_time": "2023-02-27T15:55:02.285Z"
   },
   {
    "duration": 255,
    "start_time": "2023-02-27T15:55:04.269Z"
   },
   {
    "duration": 1319,
    "start_time": "2023-02-27T15:55:23.584Z"
   },
   {
    "duration": 5620,
    "start_time": "2023-02-27T15:55:26.048Z"
   },
   {
    "duration": 2256,
    "start_time": "2023-02-27T15:55:33.056Z"
   },
   {
    "duration": 2346,
    "start_time": "2023-02-27T15:55:35.315Z"
   },
   {
    "duration": 4,
    "start_time": "2023-02-27T15:55:37.664Z"
   },
   {
    "duration": 5570,
    "start_time": "2023-02-27T15:56:03.237Z"
   },
   {
    "duration": 2186,
    "start_time": "2023-02-27T15:56:20.534Z"
   },
   {
    "duration": 2381,
    "start_time": "2023-02-27T15:56:22.722Z"
   },
   {
    "duration": 18,
    "start_time": "2023-02-27T15:56:25.104Z"
   },
   {
    "duration": 4,
    "start_time": "2023-02-27T15:56:25.125Z"
   },
   {
    "duration": 34,
    "start_time": "2023-02-27T15:56:25.130Z"
   },
   {
    "duration": 255,
    "start_time": "2023-02-27T15:56:25.166Z"
   },
   {
    "duration": 11,
    "start_time": "2023-02-27T15:56:25.424Z"
   },
   {
    "duration": 132,
    "start_time": "2023-02-27T15:56:25.437Z"
   },
   {
    "duration": 14,
    "start_time": "2023-02-27T15:56:25.571Z"
   },
   {
    "duration": 10,
    "start_time": "2023-02-27T15:56:25.588Z"
   },
   {
    "duration": 50,
    "start_time": "2023-02-27T15:56:25.600Z"
   },
   {
    "duration": 7,
    "start_time": "2023-02-27T15:56:25.652Z"
   },
   {
    "duration": 4380,
    "start_time": "2023-02-27T15:56:25.661Z"
   },
   {
    "duration": 7,
    "start_time": "2023-02-27T15:56:30.043Z"
   },
   {
    "duration": 275,
    "start_time": "2023-02-27T15:56:30.051Z"
   },
   {
    "duration": 4,
    "start_time": "2023-02-27T15:56:30.328Z"
   },
   {
    "duration": 27,
    "start_time": "2023-02-27T15:56:30.335Z"
   },
   {
    "duration": 22,
    "start_time": "2023-02-27T15:56:30.363Z"
   },
   {
    "duration": 26,
    "start_time": "2023-02-27T15:56:30.386Z"
   },
   {
    "duration": 19,
    "start_time": "2023-02-27T15:56:30.414Z"
   },
   {
    "duration": 1079,
    "start_time": "2023-02-27T15:56:30.435Z"
   },
   {
    "duration": 4,
    "start_time": "2023-02-27T15:56:31.516Z"
   },
   {
    "duration": 34,
    "start_time": "2023-02-27T15:56:31.522Z"
   },
   {
    "duration": 42,
    "start_time": "2023-02-27T15:56:31.558Z"
   },
   {
    "duration": 129,
    "start_time": "2023-02-27T15:56:31.601Z"
   },
   {
    "duration": 6,
    "start_time": "2023-02-27T15:56:31.732Z"
   },
   {
    "duration": 45,
    "start_time": "2023-02-27T15:56:31.740Z"
   },
   {
    "duration": 271,
    "start_time": "2023-02-27T15:56:31.789Z"
   },
   {
    "duration": 78,
    "start_time": "2023-02-27T15:56:32.062Z"
   },
   {
    "duration": 84,
    "start_time": "2023-02-27T15:56:32.149Z"
   },
   {
    "duration": 18,
    "start_time": "2023-02-27T15:56:32.235Z"
   },
   {
    "duration": 1350,
    "start_time": "2023-02-27T15:56:32.255Z"
   },
   {
    "duration": 5773,
    "start_time": "2023-02-27T15:56:33.607Z"
   },
   {
    "duration": 2493,
    "start_time": "2023-02-27T15:56:39.382Z"
   },
   {
    "duration": 2638,
    "start_time": "2023-02-27T15:56:41.877Z"
   },
   {
    "duration": 4,
    "start_time": "2023-02-27T15:56:45.865Z"
   },
   {
    "duration": 4,
    "start_time": "2023-02-27T15:57:11.300Z"
   },
   {
    "duration": 1735,
    "start_time": "2023-02-27T15:58:09.712Z"
   },
   {
    "duration": 838,
    "start_time": "2023-02-27T15:58:11.449Z"
   },
   {
    "duration": 20,
    "start_time": "2023-02-27T15:58:12.289Z"
   },
   {
    "duration": 6,
    "start_time": "2023-02-27T15:58:12.312Z"
   },
   {
    "duration": 50,
    "start_time": "2023-02-27T15:58:12.320Z"
   },
   {
    "duration": 278,
    "start_time": "2023-02-27T15:58:12.372Z"
   },
   {
    "duration": 11,
    "start_time": "2023-02-27T15:58:12.652Z"
   },
   {
    "duration": 126,
    "start_time": "2023-02-27T15:58:12.665Z"
   },
   {
    "duration": 20,
    "start_time": "2023-02-27T15:58:12.793Z"
   },
   {
    "duration": 9,
    "start_time": "2023-02-27T15:58:12.816Z"
   },
   {
    "duration": 54,
    "start_time": "2023-02-27T15:58:12.828Z"
   },
   {
    "duration": 9,
    "start_time": "2023-02-27T15:58:12.884Z"
   },
   {
    "duration": 4367,
    "start_time": "2023-02-27T15:58:12.896Z"
   },
   {
    "duration": 4,
    "start_time": "2023-02-27T15:58:17.265Z"
   },
   {
    "duration": 223,
    "start_time": "2023-02-27T15:58:17.271Z"
   },
   {
    "duration": 4,
    "start_time": "2023-02-27T15:58:17.496Z"
   },
   {
    "duration": 13,
    "start_time": "2023-02-27T15:58:17.501Z"
   },
   {
    "duration": 13,
    "start_time": "2023-02-27T15:58:17.517Z"
   },
   {
    "duration": 7,
    "start_time": "2023-02-27T15:58:17.533Z"
   },
   {
    "duration": 6,
    "start_time": "2023-02-27T15:58:17.543Z"
   },
   {
    "duration": 1076,
    "start_time": "2023-02-27T15:58:17.551Z"
   },
   {
    "duration": 6,
    "start_time": "2023-02-27T15:58:18.629Z"
   },
   {
    "duration": 14,
    "start_time": "2023-02-27T15:58:18.636Z"
   },
   {
    "duration": 14,
    "start_time": "2023-02-27T15:58:18.652Z"
   },
   {
    "duration": 88,
    "start_time": "2023-02-27T15:58:18.668Z"
   },
   {
    "duration": 6,
    "start_time": "2023-02-27T15:58:18.757Z"
   },
   {
    "duration": 9,
    "start_time": "2023-02-27T15:58:18.765Z"
   },
   {
    "duration": 241,
    "start_time": "2023-02-27T15:58:18.776Z"
   },
   {
    "duration": 77,
    "start_time": "2023-02-27T15:58:19.018Z"
   },
   {
    "duration": 90,
    "start_time": "2023-02-27T15:58:19.097Z"
   },
   {
    "duration": 6,
    "start_time": "2023-02-27T15:58:19.189Z"
   },
   {
    "duration": 1784,
    "start_time": "2023-02-27T15:58:19.197Z"
   },
   {
    "duration": 9,
    "start_time": "2023-02-27T15:58:20.983Z"
   },
   {
    "duration": 7312,
    "start_time": "2023-02-27T15:58:20.994Z"
   },
   {
    "duration": 1161,
    "start_time": "2023-02-27T15:58:28.308Z"
   },
   {
    "duration": 1211,
    "start_time": "2023-02-27T15:58:29.471Z"
   },
   {
    "duration": 5,
    "start_time": "2023-02-27T15:58:33.713Z"
   },
   {
    "duration": 4,
    "start_time": "2023-02-27T15:58:41.231Z"
   },
   {
    "duration": 168,
    "start_time": "2023-02-27T15:58:43.272Z"
   },
   {
    "duration": 409027,
    "start_time": "2023-02-27T15:59:10.828Z"
   },
   {
    "duration": 4,
    "start_time": "2023-02-27T16:05:59.857Z"
   },
   {
    "duration": 15,
    "start_time": "2023-02-27T16:05:59.862Z"
   },
   {
    "duration": 4,
    "start_time": "2023-02-27T16:05:59.879Z"
   },
   {
    "duration": 883,
    "start_time": "2023-02-27T16:05:59.884Z"
   },
   {
    "duration": 13,
    "start_time": "2023-02-27T16:06:00.769Z"
   },
   {
    "duration": 902,
    "start_time": "2023-02-27T16:06:00.783Z"
   },
   {
    "duration": 3,
    "start_time": "2023-02-27T16:06:01.687Z"
   },
   {
    "duration": 61,
    "start_time": "2023-02-27T16:06:01.691Z"
   },
   {
    "duration": 39957,
    "start_time": "2023-02-27T16:06:01.754Z"
   },
   {
    "duration": 36,
    "start_time": "2023-02-27T16:06:41.713Z"
   },
   {
    "duration": 974,
    "start_time": "2023-02-27T16:06:41.751Z"
   },
   {
    "duration": 35,
    "start_time": "2023-02-27T16:06:42.727Z"
   },
   {
    "duration": 977,
    "start_time": "2023-02-27T16:06:42.764Z"
   },
   {
    "duration": 14,
    "start_time": "2023-02-27T16:06:43.743Z"
   },
   {
    "duration": 0,
    "start_time": "2023-02-27T16:06:43.758Z"
   },
   {
    "duration": 0,
    "start_time": "2023-02-27T16:06:43.759Z"
   },
   {
    "duration": 0,
    "start_time": "2023-02-27T16:06:43.760Z"
   },
   {
    "duration": 0,
    "start_time": "2023-02-27T16:06:43.762Z"
   },
   {
    "duration": 0,
    "start_time": "2023-02-27T16:06:43.763Z"
   },
   {
    "duration": 82,
    "start_time": "2023-02-27T16:29:17.363Z"
   },
   {
    "duration": 4,
    "start_time": "2023-02-27T16:29:26.022Z"
   },
   {
    "duration": 22498,
    "start_time": "2023-02-27T16:29:28.557Z"
   },
   {
    "duration": 4,
    "start_time": "2023-02-27T16:29:53.974Z"
   },
   {
    "duration": 12,
    "start_time": "2023-02-27T16:29:58.021Z"
   },
   {
    "duration": 12,
    "start_time": "2023-02-27T16:30:02.826Z"
   },
   {
    "duration": 12,
    "start_time": "2023-02-27T16:30:15.327Z"
   },
   {
    "duration": 11,
    "start_time": "2023-02-27T16:30:26.390Z"
   },
   {
    "duration": 1667,
    "start_time": "2023-02-27T16:34:07.967Z"
   },
   {
    "duration": 809,
    "start_time": "2023-02-27T16:34:09.637Z"
   },
   {
    "duration": 15,
    "start_time": "2023-02-27T16:34:10.448Z"
   },
   {
    "duration": 3,
    "start_time": "2023-02-27T16:34:10.465Z"
   },
   {
    "duration": 29,
    "start_time": "2023-02-27T16:34:10.469Z"
   },
   {
    "duration": 256,
    "start_time": "2023-02-27T16:34:10.500Z"
   },
   {
    "duration": 8,
    "start_time": "2023-02-27T16:34:10.758Z"
   },
   {
    "duration": 121,
    "start_time": "2023-02-27T16:34:10.768Z"
   },
   {
    "duration": 12,
    "start_time": "2023-02-27T16:34:10.891Z"
   },
   {
    "duration": 10,
    "start_time": "2023-02-27T16:34:10.906Z"
   },
   {
    "duration": 49,
    "start_time": "2023-02-27T16:34:10.917Z"
   },
   {
    "duration": 5,
    "start_time": "2023-02-27T16:34:10.968Z"
   },
   {
    "duration": 4093,
    "start_time": "2023-02-27T16:34:10.975Z"
   },
   {
    "duration": 5,
    "start_time": "2023-02-27T16:34:15.071Z"
   },
   {
    "duration": 204,
    "start_time": "2023-02-27T16:34:15.078Z"
   },
   {
    "duration": 4,
    "start_time": "2023-02-27T16:34:15.285Z"
   },
   {
    "duration": 9,
    "start_time": "2023-02-27T16:34:15.290Z"
   },
   {
    "duration": 7,
    "start_time": "2023-02-27T16:34:15.301Z"
   },
   {
    "duration": 21,
    "start_time": "2023-02-27T16:34:15.310Z"
   },
   {
    "duration": 8,
    "start_time": "2023-02-27T16:34:15.333Z"
   },
   {
    "duration": 1121,
    "start_time": "2023-02-27T16:34:15.343Z"
   },
   {
    "duration": 6,
    "start_time": "2023-02-27T16:34:16.466Z"
   },
   {
    "duration": 22,
    "start_time": "2023-02-27T16:34:16.474Z"
   },
   {
    "duration": 42,
    "start_time": "2023-02-27T16:34:16.499Z"
   },
   {
    "duration": 86,
    "start_time": "2023-02-27T16:34:16.544Z"
   },
   {
    "duration": 5,
    "start_time": "2023-02-27T16:34:16.632Z"
   },
   {
    "duration": 19,
    "start_time": "2023-02-27T16:34:16.638Z"
   },
   {
    "duration": 254,
    "start_time": "2023-02-27T16:34:16.661Z"
   },
   {
    "duration": 2,
    "start_time": "2023-02-27T16:34:16.917Z"
   },
   {
    "duration": 30,
    "start_time": "2023-02-27T16:34:16.921Z"
   },
   {
    "duration": 25,
    "start_time": "2023-02-27T16:34:16.952Z"
   },
   {
    "duration": 1640,
    "start_time": "2023-02-27T16:34:16.978Z"
   },
   {
    "duration": 10,
    "start_time": "2023-02-27T16:34:18.620Z"
   },
   {
    "duration": 7181,
    "start_time": "2023-02-27T16:34:18.632Z"
   },
   {
    "duration": 1148,
    "start_time": "2023-02-27T16:34:25.814Z"
   },
   {
    "duration": 1119,
    "start_time": "2023-02-27T16:34:26.963Z"
   },
   {
    "duration": 4,
    "start_time": "2023-02-27T16:34:28.084Z"
   },
   {
    "duration": 4,
    "start_time": "2023-02-27T16:34:28.091Z"
   },
   {
    "duration": 57256,
    "start_time": "2023-02-27T16:34:28.097Z"
   },
   {
    "duration": 5,
    "start_time": "2023-02-27T16:35:25.356Z"
   },
   {
    "duration": 11,
    "start_time": "2023-02-27T16:35:32.771Z"
   },
   {
    "duration": 5,
    "start_time": "2023-02-27T16:35:35.339Z"
   },
   {
    "duration": 873,
    "start_time": "2023-02-27T16:35:38.486Z"
   },
   {
    "duration": 11,
    "start_time": "2023-02-27T16:35:42.878Z"
   },
   {
    "duration": 959,
    "start_time": "2023-02-27T16:35:45.421Z"
   },
   {
    "duration": 4,
    "start_time": "2023-02-27T16:35:52.958Z"
   },
   {
    "duration": 3,
    "start_time": "2023-02-27T16:36:03.775Z"
   },
   {
    "duration": 28404,
    "start_time": "2023-02-27T16:36:12.408Z"
   },
   {
    "duration": 39,
    "start_time": "2023-02-27T16:36:40.815Z"
   },
   {
    "duration": 878,
    "start_time": "2023-02-27T16:36:58.431Z"
   },
   {
    "duration": 28,
    "start_time": "2023-02-27T16:37:03.173Z"
   },
   {
    "duration": 901,
    "start_time": "2023-02-27T16:37:06.553Z"
   },
   {
    "duration": 55,
    "start_time": "2023-02-27T16:37:32.850Z"
   },
   {
    "duration": 0,
    "start_time": "2023-02-27T16:37:32.907Z"
   },
   {
    "duration": 0,
    "start_time": "2023-02-27T16:37:32.908Z"
   },
   {
    "duration": 0,
    "start_time": "2023-02-27T16:37:32.909Z"
   },
   {
    "duration": 0,
    "start_time": "2023-02-27T16:37:32.910Z"
   },
   {
    "duration": 0,
    "start_time": "2023-02-27T16:37:32.911Z"
   },
   {
    "duration": 0,
    "start_time": "2023-02-27T16:37:32.912Z"
   },
   {
    "duration": 0,
    "start_time": "2023-02-27T16:37:32.914Z"
   },
   {
    "duration": 0,
    "start_time": "2023-02-27T16:37:32.914Z"
   },
   {
    "duration": 0,
    "start_time": "2023-02-27T16:37:32.916Z"
   },
   {
    "duration": 0,
    "start_time": "2023-02-27T16:37:32.916Z"
   },
   {
    "duration": 0,
    "start_time": "2023-02-27T16:37:32.917Z"
   },
   {
    "duration": 0,
    "start_time": "2023-02-27T16:37:32.918Z"
   },
   {
    "duration": 0,
    "start_time": "2023-02-27T16:37:32.919Z"
   },
   {
    "duration": 0,
    "start_time": "2023-02-27T16:37:32.951Z"
   },
   {
    "duration": 0,
    "start_time": "2023-02-27T16:37:32.960Z"
   },
   {
    "duration": 0,
    "start_time": "2023-02-27T16:37:32.963Z"
   },
   {
    "duration": 0,
    "start_time": "2023-02-27T16:37:32.964Z"
   },
   {
    "duration": 0,
    "start_time": "2023-02-27T16:37:32.965Z"
   },
   {
    "duration": 0,
    "start_time": "2023-02-27T16:37:32.966Z"
   },
   {
    "duration": 0,
    "start_time": "2023-02-27T16:37:32.967Z"
   },
   {
    "duration": 1734,
    "start_time": "2023-02-27T16:37:42.105Z"
   },
   {
    "duration": 894,
    "start_time": "2023-02-27T16:37:43.842Z"
   },
   {
    "duration": 33,
    "start_time": "2023-02-27T16:37:44.737Z"
   },
   {
    "duration": 4,
    "start_time": "2023-02-27T16:37:44.771Z"
   },
   {
    "duration": 32,
    "start_time": "2023-02-27T16:37:44.777Z"
   },
   {
    "duration": 254,
    "start_time": "2023-02-27T16:37:44.811Z"
   },
   {
    "duration": 11,
    "start_time": "2023-02-27T16:37:45.066Z"
   },
   {
    "duration": 126,
    "start_time": "2023-02-27T16:37:45.079Z"
   },
   {
    "duration": 14,
    "start_time": "2023-02-27T16:37:45.207Z"
   },
   {
    "duration": 9,
    "start_time": "2023-02-27T16:37:45.223Z"
   },
   {
    "duration": 60,
    "start_time": "2023-02-27T16:37:45.234Z"
   },
   {
    "duration": 29,
    "start_time": "2023-02-27T16:37:45.295Z"
   },
   {
    "duration": 4474,
    "start_time": "2023-02-27T16:37:45.325Z"
   },
   {
    "duration": 4,
    "start_time": "2023-02-27T16:37:49.802Z"
   },
   {
    "duration": 210,
    "start_time": "2023-02-27T16:37:49.807Z"
   },
   {
    "duration": 4,
    "start_time": "2023-02-27T16:37:50.018Z"
   },
   {
    "duration": 9,
    "start_time": "2023-02-27T16:37:50.023Z"
   },
   {
    "duration": 10,
    "start_time": "2023-02-27T16:37:50.034Z"
   },
   {
    "duration": 25,
    "start_time": "2023-02-27T16:37:50.046Z"
   },
   {
    "duration": 13,
    "start_time": "2023-02-27T16:37:50.072Z"
   },
   {
    "duration": 1102,
    "start_time": "2023-02-27T16:37:50.087Z"
   },
   {
    "duration": 4,
    "start_time": "2023-02-27T16:37:51.191Z"
   },
   {
    "duration": 7,
    "start_time": "2023-02-27T16:37:51.197Z"
   },
   {
    "duration": 11,
    "start_time": "2023-02-27T16:37:51.206Z"
   },
   {
    "duration": 105,
    "start_time": "2023-02-27T16:37:51.219Z"
   },
   {
    "duration": 5,
    "start_time": "2023-02-27T16:37:51.325Z"
   },
   {
    "duration": 30,
    "start_time": "2023-02-27T16:37:51.331Z"
   },
   {
    "duration": 233,
    "start_time": "2023-02-27T16:37:51.363Z"
   },
   {
    "duration": 2,
    "start_time": "2023-02-27T16:37:51.598Z"
   },
   {
    "duration": 25,
    "start_time": "2023-02-27T16:37:51.602Z"
   },
   {
    "duration": 8,
    "start_time": "2023-02-27T16:37:51.629Z"
   },
   {
    "duration": 1288,
    "start_time": "2023-02-27T16:37:51.638Z"
   },
   {
    "duration": 16,
    "start_time": "2023-02-27T16:37:52.928Z"
   },
   {
    "duration": 5955,
    "start_time": "2023-02-27T16:37:52.945Z"
   },
   {
    "duration": 2271,
    "start_time": "2023-02-27T16:37:58.903Z"
   },
   {
    "duration": 2257,
    "start_time": "2023-02-27T16:38:01.175Z"
   },
   {
    "duration": 5,
    "start_time": "2023-02-27T16:38:03.434Z"
   },
   {
    "duration": 19,
    "start_time": "2023-02-27T16:38:03.449Z"
   },
   {
    "duration": 42206,
    "start_time": "2023-02-27T16:38:03.470Z"
   },
   {
    "duration": 4,
    "start_time": "2023-02-27T16:38:45.677Z"
   },
   {
    "duration": 18,
    "start_time": "2023-02-27T16:38:56.806Z"
   },
   {
    "duration": 4,
    "start_time": "2023-02-27T16:39:01.454Z"
   },
   {
    "duration": 1421,
    "start_time": "2023-02-27T16:39:04.118Z"
   },
   {
    "duration": 18,
    "start_time": "2023-02-27T16:39:08.225Z"
   },
   {
    "duration": 1357,
    "start_time": "2023-02-27T16:39:11.402Z"
   },
   {
    "duration": 3,
    "start_time": "2023-02-27T16:39:18.456Z"
   },
   {
    "duration": 4,
    "start_time": "2023-02-27T16:39:20.752Z"
   },
   {
    "duration": 21960,
    "start_time": "2023-02-27T16:39:23.682Z"
   },
   {
    "duration": 52,
    "start_time": "2023-02-27T16:39:59.293Z"
   },
   {
    "duration": 1429,
    "start_time": "2023-02-27T16:40:02.224Z"
   },
   {
    "duration": 50,
    "start_time": "2023-02-27T16:40:06.022Z"
   },
   {
    "duration": 1458,
    "start_time": "2023-02-27T16:40:08.983Z"
   },
   {
    "duration": 97,
    "start_time": "2023-02-27T16:40:20.828Z"
   },
   {
    "duration": 42,
    "start_time": "2023-02-27T16:46:46.961Z"
   },
   {
    "duration": 1169,
    "start_time": "2023-02-27T16:46:58.522Z"
   },
   {
    "duration": 490,
    "start_time": "2023-02-27T16:47:10.429Z"
   },
   {
    "duration": 40,
    "start_time": "2023-02-27T16:51:45.832Z"
   },
   {
    "duration": 15,
    "start_time": "2023-02-27T16:53:50.674Z"
   },
   {
    "duration": 47,
    "start_time": "2023-02-27T16:58:19.807Z"
   },
   {
    "duration": 262,
    "start_time": "2023-02-27T16:58:36.616Z"
   },
   {
    "duration": 15,
    "start_time": "2023-02-27T16:58:38.729Z"
   },
   {
    "duration": 2181,
    "start_time": "2023-02-27T16:58:52.664Z"
   },
   {
    "duration": 2277,
    "start_time": "2023-02-27T16:58:54.847Z"
   },
   {
    "duration": 18,
    "start_time": "2023-02-27T16:58:57.126Z"
   },
   {
    "duration": 10,
    "start_time": "2023-02-27T16:58:57.146Z"
   },
   {
    "duration": 31,
    "start_time": "2023-02-27T16:58:57.158Z"
   },
   {
    "duration": 235,
    "start_time": "2023-02-27T16:58:57.191Z"
   },
   {
    "duration": 9,
    "start_time": "2023-02-27T16:58:57.428Z"
   },
   {
    "duration": 118,
    "start_time": "2023-02-27T16:58:57.438Z"
   },
   {
    "duration": 13,
    "start_time": "2023-02-27T16:58:57.558Z"
   },
   {
    "duration": 22,
    "start_time": "2023-02-27T16:58:57.574Z"
   },
   {
    "duration": 61,
    "start_time": "2023-02-27T16:58:57.598Z"
   },
   {
    "duration": 17,
    "start_time": "2023-02-27T16:58:57.661Z"
   },
   {
    "duration": 4184,
    "start_time": "2023-02-27T16:58:57.680Z"
   },
   {
    "duration": 4,
    "start_time": "2023-02-27T16:59:01.866Z"
   },
   {
    "duration": 386,
    "start_time": "2023-02-27T16:59:01.871Z"
   },
   {
    "duration": 3,
    "start_time": "2023-02-27T16:59:02.259Z"
   },
   {
    "duration": 48,
    "start_time": "2023-02-27T16:59:02.264Z"
   },
   {
    "duration": 27,
    "start_time": "2023-02-27T16:59:02.314Z"
   },
   {
    "duration": 31,
    "start_time": "2023-02-27T16:59:02.343Z"
   },
   {
    "duration": 35,
    "start_time": "2023-02-27T16:59:02.376Z"
   },
   {
    "duration": 1113,
    "start_time": "2023-02-27T16:59:02.412Z"
   },
   {
    "duration": 5,
    "start_time": "2023-02-27T16:59:03.526Z"
   },
   {
    "duration": 15,
    "start_time": "2023-02-27T16:59:03.533Z"
   },
   {
    "duration": 13,
    "start_time": "2023-02-27T16:59:03.549Z"
   },
   {
    "duration": 92,
    "start_time": "2023-02-27T16:59:03.564Z"
   },
   {
    "duration": 5,
    "start_time": "2023-02-27T16:59:03.658Z"
   },
   {
    "duration": 10,
    "start_time": "2023-02-27T16:59:03.665Z"
   },
   {
    "duration": 238,
    "start_time": "2023-02-27T16:59:03.678Z"
   },
   {
    "duration": 3,
    "start_time": "2023-02-27T16:59:03.917Z"
   },
   {
    "duration": 10,
    "start_time": "2023-02-27T16:59:03.921Z"
   },
   {
    "duration": 9,
    "start_time": "2023-02-27T16:59:03.932Z"
   },
   {
    "duration": 1213,
    "start_time": "2023-02-27T16:59:03.949Z"
   },
   {
    "duration": 25,
    "start_time": "2023-02-27T16:59:05.164Z"
   },
   {
    "duration": 5626,
    "start_time": "2023-02-27T16:59:05.190Z"
   },
   {
    "duration": 2138,
    "start_time": "2023-02-27T16:59:10.818Z"
   },
   {
    "duration": 2247,
    "start_time": "2023-02-27T16:59:12.958Z"
   },
   {
    "duration": 5,
    "start_time": "2023-02-27T16:59:15.207Z"
   },
   {
    "duration": 10,
    "start_time": "2023-02-27T16:59:15.214Z"
   },
   {
    "duration": 41872,
    "start_time": "2023-02-27T16:59:15.226Z"
   },
   {
    "duration": 4,
    "start_time": "2023-02-27T16:59:57.099Z"
   },
   {
    "duration": 29,
    "start_time": "2023-02-27T16:59:57.104Z"
   },
   {
    "duration": 4,
    "start_time": "2023-02-27T16:59:57.135Z"
   },
   {
    "duration": 1399,
    "start_time": "2023-02-27T16:59:57.148Z"
   },
   {
    "duration": 16,
    "start_time": "2023-02-27T16:59:58.549Z"
   },
   {
    "duration": 1300,
    "start_time": "2023-02-27T16:59:58.566Z"
   },
   {
    "duration": 3,
    "start_time": "2023-02-27T16:59:59.868Z"
   },
   {
    "duration": 14,
    "start_time": "2023-02-27T16:59:59.872Z"
   },
   {
    "duration": 21326,
    "start_time": "2023-02-27T16:59:59.887Z"
   },
   {
    "duration": 56,
    "start_time": "2023-02-27T17:00:21.215Z"
   },
   {
    "duration": 1376,
    "start_time": "2023-02-27T17:00:21.272Z"
   },
   {
    "duration": 49,
    "start_time": "2023-02-27T17:00:22.650Z"
   },
   {
    "duration": 1462,
    "start_time": "2023-02-27T17:00:22.700Z"
   },
   {
    "duration": 3,
    "start_time": "2023-02-27T17:00:24.165Z"
   },
   {
    "duration": 138,
    "start_time": "2023-02-27T17:00:32.997Z"
   },
   {
    "duration": 3,
    "start_time": "2023-02-27T17:00:48.720Z"
   },
   {
    "duration": 15,
    "start_time": "2023-02-27T17:00:53.385Z"
   },
   {
    "duration": 51,
    "start_time": "2023-02-27T17:01:56.427Z"
   },
   {
    "duration": 2270,
    "start_time": "2023-02-27T17:04:34.033Z"
   },
   {
    "duration": 2534,
    "start_time": "2023-02-27T17:04:36.305Z"
   },
   {
    "duration": 19,
    "start_time": "2023-02-27T17:04:38.841Z"
   },
   {
    "duration": 5,
    "start_time": "2023-02-27T17:04:38.862Z"
   },
   {
    "duration": 38,
    "start_time": "2023-02-27T17:04:38.869Z"
   },
   {
    "duration": 250,
    "start_time": "2023-02-27T17:04:38.909Z"
   },
   {
    "duration": 9,
    "start_time": "2023-02-27T17:04:39.161Z"
   },
   {
    "duration": 126,
    "start_time": "2023-02-27T17:04:39.172Z"
   },
   {
    "duration": 18,
    "start_time": "2023-02-27T17:04:39.300Z"
   },
   {
    "duration": 10,
    "start_time": "2023-02-27T17:04:39.321Z"
   },
   {
    "duration": 56,
    "start_time": "2023-02-27T17:04:39.333Z"
   },
   {
    "duration": 31,
    "start_time": "2023-02-27T17:04:39.391Z"
   },
   {
    "duration": 4297,
    "start_time": "2023-02-27T17:04:39.424Z"
   },
   {
    "duration": 5,
    "start_time": "2023-02-27T17:04:43.723Z"
   },
   {
    "duration": 233,
    "start_time": "2023-02-27T17:04:43.730Z"
   },
   {
    "duration": 4,
    "start_time": "2023-02-27T17:04:43.965Z"
   },
   {
    "duration": 10,
    "start_time": "2023-02-27T17:04:43.971Z"
   },
   {
    "duration": 6,
    "start_time": "2023-02-27T17:04:43.983Z"
   },
   {
    "duration": 9,
    "start_time": "2023-02-27T17:04:43.991Z"
   },
   {
    "duration": 6,
    "start_time": "2023-02-27T17:04:44.001Z"
   },
   {
    "duration": 1186,
    "start_time": "2023-02-27T17:04:44.009Z"
   },
   {
    "duration": 4,
    "start_time": "2023-02-27T17:04:45.197Z"
   },
   {
    "duration": 19,
    "start_time": "2023-02-27T17:04:45.204Z"
   },
   {
    "duration": 19,
    "start_time": "2023-02-27T17:04:45.224Z"
   },
   {
    "duration": 104,
    "start_time": "2023-02-27T17:04:45.245Z"
   },
   {
    "duration": 6,
    "start_time": "2023-02-27T17:04:45.350Z"
   },
   {
    "duration": 11,
    "start_time": "2023-02-27T17:04:45.357Z"
   },
   {
    "duration": 271,
    "start_time": "2023-02-27T17:04:45.372Z"
   },
   {
    "duration": 3,
    "start_time": "2023-02-27T17:04:45.648Z"
   },
   {
    "duration": 29,
    "start_time": "2023-02-27T17:04:45.653Z"
   },
   {
    "duration": 21,
    "start_time": "2023-02-27T17:04:45.683Z"
   },
   {
    "duration": 1414,
    "start_time": "2023-02-27T17:04:45.705Z"
   },
   {
    "duration": 14,
    "start_time": "2023-02-27T17:04:47.122Z"
   },
   {
    "duration": 6045,
    "start_time": "2023-02-27T17:04:47.138Z"
   },
   {
    "duration": 2471,
    "start_time": "2023-02-27T17:04:53.185Z"
   },
   {
    "duration": 2332,
    "start_time": "2023-02-27T17:04:55.658Z"
   },
   {
    "duration": 6,
    "start_time": "2023-02-27T17:04:57.991Z"
   },
   {
    "duration": 6,
    "start_time": "2023-02-27T17:04:57.999Z"
   },
   {
    "duration": 45725,
    "start_time": "2023-02-27T17:04:58.007Z"
   },
   {
    "duration": 5,
    "start_time": "2023-02-27T17:05:43.734Z"
   },
   {
    "duration": 51,
    "start_time": "2023-02-27T17:05:43.751Z"
   },
   {
    "duration": 4,
    "start_time": "2023-02-27T17:05:43.804Z"
   },
   {
    "duration": 1583,
    "start_time": "2023-02-27T17:05:43.810Z"
   },
   {
    "duration": 18,
    "start_time": "2023-02-27T17:05:45.395Z"
   },
   {
    "duration": 1479,
    "start_time": "2023-02-27T17:05:45.415Z"
   },
   {
    "duration": 3,
    "start_time": "2023-02-27T17:05:46.896Z"
   },
   {
    "duration": 22,
    "start_time": "2023-02-27T17:05:46.901Z"
   },
   {
    "duration": 23602,
    "start_time": "2023-02-27T17:05:46.925Z"
   },
   {
    "duration": 56,
    "start_time": "2023-02-27T17:06:10.529Z"
   },
   {
    "duration": 1383,
    "start_time": "2023-02-27T17:06:10.586Z"
   },
   {
    "duration": 49,
    "start_time": "2023-02-27T17:06:11.971Z"
   },
   {
    "duration": 1562,
    "start_time": "2023-02-27T17:06:12.022Z"
   },
   {
    "duration": 2,
    "start_time": "2023-02-27T17:06:13.586Z"
   },
   {
    "duration": 18,
    "start_time": "2023-02-27T17:06:13.590Z"
   },
   {
    "duration": 4,
    "start_time": "2023-02-27T17:08:14.183Z"
   },
   {
    "duration": 60,
    "start_time": "2023-02-27T17:11:13.464Z"
   },
   {
    "duration": 3,
    "start_time": "2023-02-27T17:11:16.477Z"
   },
   {
    "duration": 11,
    "start_time": "2023-02-27T17:11:17.158Z"
   },
   {
    "duration": 2459,
    "start_time": "2023-02-27T17:13:03.609Z"
   },
   {
    "duration": 2923,
    "start_time": "2023-02-27T17:13:06.072Z"
   },
   {
    "duration": 19,
    "start_time": "2023-02-27T17:13:08.998Z"
   },
   {
    "duration": 4,
    "start_time": "2023-02-27T17:13:09.019Z"
   },
   {
    "duration": 45,
    "start_time": "2023-02-27T17:13:09.024Z"
   },
   {
    "duration": 319,
    "start_time": "2023-02-27T17:13:09.075Z"
   },
   {
    "duration": 11,
    "start_time": "2023-02-27T17:13:09.396Z"
   },
   {
    "duration": 131,
    "start_time": "2023-02-27T17:13:09.409Z"
   },
   {
    "duration": 25,
    "start_time": "2023-02-27T17:13:09.542Z"
   },
   {
    "duration": 11,
    "start_time": "2023-02-27T17:13:09.570Z"
   },
   {
    "duration": 32,
    "start_time": "2023-02-27T17:13:09.583Z"
   },
   {
    "duration": 6,
    "start_time": "2023-02-27T17:13:09.617Z"
   },
   {
    "duration": 4872,
    "start_time": "2023-02-27T17:13:09.625Z"
   },
   {
    "duration": 5,
    "start_time": "2023-02-27T17:13:14.498Z"
   },
   {
    "duration": 292,
    "start_time": "2023-02-27T17:13:14.505Z"
   },
   {
    "duration": 4,
    "start_time": "2023-02-27T17:13:14.798Z"
   },
   {
    "duration": 8,
    "start_time": "2023-02-27T17:13:14.803Z"
   },
   {
    "duration": 9,
    "start_time": "2023-02-27T17:13:14.813Z"
   },
   {
    "duration": 10,
    "start_time": "2023-02-27T17:13:14.823Z"
   },
   {
    "duration": 8,
    "start_time": "2023-02-27T17:13:14.834Z"
   },
   {
    "duration": 1235,
    "start_time": "2023-02-27T17:13:14.844Z"
   },
   {
    "duration": 8,
    "start_time": "2023-02-27T17:13:16.080Z"
   },
   {
    "duration": 22,
    "start_time": "2023-02-27T17:13:16.089Z"
   },
   {
    "duration": 15,
    "start_time": "2023-02-27T17:13:16.113Z"
   },
   {
    "duration": 116,
    "start_time": "2023-02-27T17:13:16.130Z"
   },
   {
    "duration": 7,
    "start_time": "2023-02-27T17:13:16.250Z"
   },
   {
    "duration": 33,
    "start_time": "2023-02-27T17:13:16.259Z"
   },
   {
    "duration": 284,
    "start_time": "2023-02-27T17:13:16.297Z"
   },
   {
    "duration": 6,
    "start_time": "2023-02-27T17:13:16.583Z"
   },
   {
    "duration": 14,
    "start_time": "2023-02-27T17:13:16.590Z"
   },
   {
    "duration": 15,
    "start_time": "2023-02-27T17:13:16.607Z"
   },
   {
    "duration": 1401,
    "start_time": "2023-02-27T17:13:16.625Z"
   },
   {
    "duration": 4,
    "start_time": "2023-02-27T17:13:18.028Z"
   },
   {
    "duration": 6322,
    "start_time": "2023-02-27T17:13:18.034Z"
   },
   {
    "duration": 2550,
    "start_time": "2023-02-27T17:13:24.359Z"
   },
   {
    "duration": 2439,
    "start_time": "2023-02-27T17:13:26.912Z"
   },
   {
    "duration": 17,
    "start_time": "2023-02-27T17:13:29.357Z"
   },
   {
    "duration": 12,
    "start_time": "2023-02-27T17:13:29.378Z"
   },
   {
    "duration": 30,
    "start_time": "2023-02-27T17:13:29.392Z"
   },
   {
    "duration": 3,
    "start_time": "2023-02-27T17:13:29.424Z"
   },
   {
    "duration": 2797,
    "start_time": "2023-02-27T17:14:59.705Z"
   },
   {
    "duration": 2691,
    "start_time": "2023-02-27T17:15:02.504Z"
   },
   {
    "duration": 16,
    "start_time": "2023-02-27T17:15:05.197Z"
   },
   {
    "duration": 3,
    "start_time": "2023-02-27T17:15:05.216Z"
   },
   {
    "duration": 46,
    "start_time": "2023-02-27T17:15:05.221Z"
   },
   {
    "duration": 257,
    "start_time": "2023-02-27T17:15:05.269Z"
   },
   {
    "duration": 8,
    "start_time": "2023-02-27T17:15:05.528Z"
   },
   {
    "duration": 129,
    "start_time": "2023-02-27T17:15:05.548Z"
   },
   {
    "duration": 14,
    "start_time": "2023-02-27T17:15:05.679Z"
   },
   {
    "duration": 11,
    "start_time": "2023-02-27T17:15:05.696Z"
   },
   {
    "duration": 50,
    "start_time": "2023-02-27T17:15:05.709Z"
   },
   {
    "duration": 15,
    "start_time": "2023-02-27T17:15:05.762Z"
   },
   {
    "duration": 4700,
    "start_time": "2023-02-27T17:15:05.779Z"
   },
   {
    "duration": 4,
    "start_time": "2023-02-27T17:15:10.481Z"
   },
   {
    "duration": 264,
    "start_time": "2023-02-27T17:15:10.487Z"
   },
   {
    "duration": 6,
    "start_time": "2023-02-27T17:15:10.753Z"
   },
   {
    "duration": 17,
    "start_time": "2023-02-27T17:15:10.761Z"
   },
   {
    "duration": 5,
    "start_time": "2023-02-27T17:15:10.780Z"
   },
   {
    "duration": 5,
    "start_time": "2023-02-27T17:15:10.787Z"
   },
   {
    "duration": 9,
    "start_time": "2023-02-27T17:15:10.793Z"
   },
   {
    "duration": 1090,
    "start_time": "2023-02-27T17:15:10.803Z"
   },
   {
    "duration": 5,
    "start_time": "2023-02-27T17:15:11.895Z"
   },
   {
    "duration": 11,
    "start_time": "2023-02-27T17:15:11.901Z"
   },
   {
    "duration": 14,
    "start_time": "2023-02-27T17:15:11.913Z"
   },
   {
    "duration": 108,
    "start_time": "2023-02-27T17:15:11.929Z"
   },
   {
    "duration": 10,
    "start_time": "2023-02-27T17:15:12.039Z"
   },
   {
    "duration": 9,
    "start_time": "2023-02-27T17:15:12.051Z"
   },
   {
    "duration": 243,
    "start_time": "2023-02-27T17:15:12.064Z"
   },
   {
    "duration": 4,
    "start_time": "2023-02-27T17:15:12.309Z"
   },
   {
    "duration": 5,
    "start_time": "2023-02-27T17:15:12.315Z"
   },
   {
    "duration": 12,
    "start_time": "2023-02-27T17:15:12.321Z"
   },
   {
    "duration": 1375,
    "start_time": "2023-02-27T17:15:12.349Z"
   },
   {
    "duration": 7,
    "start_time": "2023-02-27T17:15:13.726Z"
   },
   {
    "duration": 6354,
    "start_time": "2023-02-27T17:15:13.734Z"
   },
   {
    "duration": 2396,
    "start_time": "2023-02-27T17:15:20.089Z"
   },
   {
    "duration": 2505,
    "start_time": "2023-02-27T17:15:22.487Z"
   },
   {
    "duration": 4,
    "start_time": "2023-02-27T17:15:24.994Z"
   },
   {
    "duration": 9,
    "start_time": "2023-02-27T17:15:25.000Z"
   },
   {
    "duration": 20,
    "start_time": "2023-02-27T17:15:25.011Z"
   },
   {
    "duration": 2349,
    "start_time": "2023-02-27T17:23:43.710Z"
   },
   {
    "duration": 2464,
    "start_time": "2023-02-27T17:23:46.061Z"
   },
   {
    "duration": 19,
    "start_time": "2023-02-27T17:23:48.527Z"
   },
   {
    "duration": 17,
    "start_time": "2023-02-27T17:23:48.548Z"
   },
   {
    "duration": 54,
    "start_time": "2023-02-27T17:23:48.566Z"
   },
   {
    "duration": 250,
    "start_time": "2023-02-27T17:23:48.622Z"
   },
   {
    "duration": 12,
    "start_time": "2023-02-27T17:23:48.874Z"
   },
   {
    "duration": 135,
    "start_time": "2023-02-27T17:23:48.888Z"
   },
   {
    "duration": 25,
    "start_time": "2023-02-27T17:23:49.025Z"
   },
   {
    "duration": 17,
    "start_time": "2023-02-27T17:23:49.053Z"
   },
   {
    "duration": 73,
    "start_time": "2023-02-27T17:23:49.071Z"
   },
   {
    "duration": 22,
    "start_time": "2023-02-27T17:23:49.146Z"
   },
   {
    "duration": 4818,
    "start_time": "2023-02-27T17:23:49.170Z"
   },
   {
    "duration": 5,
    "start_time": "2023-02-27T17:23:53.989Z"
   },
   {
    "duration": 281,
    "start_time": "2023-02-27T17:23:53.996Z"
   },
   {
    "duration": 4,
    "start_time": "2023-02-27T17:23:54.279Z"
   },
   {
    "duration": 15,
    "start_time": "2023-02-27T17:23:54.285Z"
   },
   {
    "duration": 9,
    "start_time": "2023-02-27T17:23:54.302Z"
   },
   {
    "duration": 78,
    "start_time": "2023-02-27T17:23:54.312Z"
   },
   {
    "duration": 0,
    "start_time": "2023-02-27T17:23:54.392Z"
   },
   {
    "duration": 0,
    "start_time": "2023-02-27T17:23:54.394Z"
   },
   {
    "duration": 0,
    "start_time": "2023-02-27T17:23:54.395Z"
   },
   {
    "duration": 0,
    "start_time": "2023-02-27T17:23:54.397Z"
   },
   {
    "duration": 0,
    "start_time": "2023-02-27T17:23:54.398Z"
   },
   {
    "duration": 0,
    "start_time": "2023-02-27T17:23:54.400Z"
   },
   {
    "duration": 0,
    "start_time": "2023-02-27T17:23:54.401Z"
   },
   {
    "duration": 0,
    "start_time": "2023-02-27T17:23:54.402Z"
   },
   {
    "duration": 0,
    "start_time": "2023-02-27T17:23:54.404Z"
   },
   {
    "duration": 1,
    "start_time": "2023-02-27T17:23:54.405Z"
   },
   {
    "duration": 0,
    "start_time": "2023-02-27T17:23:54.407Z"
   },
   {
    "duration": 0,
    "start_time": "2023-02-27T17:23:54.408Z"
   },
   {
    "duration": 0,
    "start_time": "2023-02-27T17:23:54.409Z"
   },
   {
    "duration": 0,
    "start_time": "2023-02-27T17:23:54.410Z"
   },
   {
    "duration": 0,
    "start_time": "2023-02-27T17:23:54.411Z"
   },
   {
    "duration": 0,
    "start_time": "2023-02-27T17:23:54.412Z"
   },
   {
    "duration": 0,
    "start_time": "2023-02-27T17:23:54.413Z"
   },
   {
    "duration": 0,
    "start_time": "2023-02-27T17:23:54.414Z"
   },
   {
    "duration": 1522,
    "start_time": "2023-02-27T17:24:26.159Z"
   },
   {
    "duration": 5,
    "start_time": "2023-02-27T17:24:28.624Z"
   },
   {
    "duration": 7,
    "start_time": "2023-02-27T17:24:29.774Z"
   },
   {
    "duration": 18,
    "start_time": "2023-02-27T17:24:31.919Z"
   },
   {
    "duration": 139,
    "start_time": "2023-02-27T17:24:32.760Z"
   },
   {
    "duration": 5,
    "start_time": "2023-02-27T17:24:34.247Z"
   },
   {
    "duration": 5,
    "start_time": "2023-02-27T17:24:35.319Z"
   },
   {
    "duration": 232,
    "start_time": "2023-02-27T17:24:37.455Z"
   },
   {
    "duration": 8,
    "start_time": "2023-02-27T17:24:42.098Z"
   },
   {
    "duration": 1290,
    "start_time": "2023-02-27T17:24:43.296Z"
   },
   {
    "duration": 6,
    "start_time": "2023-02-27T17:24:44.589Z"
   },
   {
    "duration": 5989,
    "start_time": "2023-02-27T17:24:45.425Z"
   },
   {
    "duration": 2364,
    "start_time": "2023-02-27T17:24:51.416Z"
   },
   {
    "duration": 2204,
    "start_time": "2023-02-27T17:24:53.782Z"
   },
   {
    "duration": 4,
    "start_time": "2023-02-27T17:24:55.989Z"
   },
   {
    "duration": 33,
    "start_time": "2023-02-27T17:24:55.995Z"
   },
   {
    "duration": 35,
    "start_time": "2023-02-27T17:24:56.030Z"
   }
  ],
  "kernelspec": {
   "display_name": "Python 3 (ipykernel)",
   "language": "python",
   "name": "python3"
  },
  "language_info": {
   "codemirror_mode": {
    "name": "ipython",
    "version": 3
   },
   "file_extension": ".py",
   "mimetype": "text/x-python",
   "name": "python",
   "nbconvert_exporter": "python",
   "pygments_lexer": "ipython3",
   "version": "3.9.12"
  },
  "toc": {
   "base_numbering": "1",
   "nav_menu": {},
   "number_sections": true,
   "sideBar": true,
   "skip_h1_title": true,
   "title_cell": "Содержание",
   "title_sidebar": "Содержание",
   "toc_cell": false,
   "toc_position": {
    "height": "calc(100% - 180px)",
    "left": "10px",
    "top": "150px",
    "width": "302.391px"
   },
   "toc_section_display": true,
   "toc_window_display": false
  }
 },
 "nbformat": 4,
 "nbformat_minor": 2
}
